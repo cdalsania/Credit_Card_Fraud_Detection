{
 "cells": [
  {
   "cell_type": "markdown",
   "metadata": {},
   "source": [
    "# Import Dependencies"
   ]
  },
  {
   "cell_type": "code",
   "execution_count": 1,
   "metadata": {},
   "outputs": [],
   "source": [
    "import pandas as pd\n",
    "import numpy as np\n",
    "\n",
    "from config import CSV_FILE_URL\n",
    "import joblib\n",
    "\n",
    "from sklearn.model_selection import train_test_split\n",
    "from sklearn.preprocessing import MinMaxScaler\n",
    "from sklearn.model_selection import GridSearchCV\n",
    "\n",
    "from sklearn.metrics import classification_report, accuracy_score, precision_score, recall_score, f1_score\n",
    "from sklearn.metrics import precision_recall_curve, roc_auc_score, confusion_matrix\n",
    "import seaborn as sns\n",
    "import matplotlib.pyplot as plt\n",
    "%matplotlib inline\n",
    "\n",
    "from sklearn.tree import DecisionTreeClassifier"
   ]
  },
  {
   "cell_type": "markdown",
   "metadata": {},
   "source": [
    "# Read the CSV"
   ]
  },
  {
   "cell_type": "code",
   "execution_count": 2,
   "metadata": {},
   "outputs": [
    {
     "data": {
      "text/plain": [
       "(284807, 31)"
      ]
     },
     "execution_count": 2,
     "metadata": {},
     "output_type": "execute_result"
    }
   ],
   "source": [
    "# Read the CSV file into a dataframe\n",
    "df = pd.read_csv(CSV_FILE_URL)\n",
    "df.shape"
   ]
  },
  {
   "cell_type": "markdown",
   "metadata": {},
   "source": [
    "# Data Cleaning\n",
    "\n",
    "Checking to see if there are any null values in the dataset. "
   ]
  },
  {
   "cell_type": "code",
   "execution_count": 3,
   "metadata": {},
   "outputs": [
    {
     "data": {
      "text/plain": [
       "(284807, 31)"
      ]
     },
     "execution_count": 3,
     "metadata": {},
     "output_type": "execute_result"
    }
   ],
   "source": [
    "# Drop the null columns where all values are null\n",
    "df = df.dropna(axis='columns', how='all')\n",
    "\n",
    "# Drop the null rows\n",
    "df = df.dropna()\n",
    "df.shape"
   ]
  },
  {
   "cell_type": "markdown",
   "metadata": {},
   "source": [
    "It could be seen that there are **no null values** in the dataset."
   ]
  },
  {
   "cell_type": "markdown",
   "metadata": {},
   "source": [
    "# Data Exploration\n",
    "\n",
    "Checking Data distribution w.r.t Target feature"
   ]
  },
  {
   "cell_type": "code",
   "execution_count": 4,
   "metadata": {},
   "outputs": [
    {
     "data": {
      "text/html": [
       "<div>\n",
       "<style scoped>\n",
       "    .dataframe tbody tr th:only-of-type {\n",
       "        vertical-align: middle;\n",
       "    }\n",
       "\n",
       "    .dataframe tbody tr th {\n",
       "        vertical-align: top;\n",
       "    }\n",
       "\n",
       "    .dataframe thead th {\n",
       "        text-align: right;\n",
       "    }\n",
       "</style>\n",
       "<table border=\"1\" class=\"dataframe\">\n",
       "  <thead>\n",
       "    <tr style=\"text-align: right;\">\n",
       "      <th></th>\n",
       "      <th>Time</th>\n",
       "      <th>V1</th>\n",
       "      <th>V2</th>\n",
       "      <th>V3</th>\n",
       "      <th>V4</th>\n",
       "      <th>V5</th>\n",
       "      <th>V6</th>\n",
       "      <th>V7</th>\n",
       "      <th>V8</th>\n",
       "      <th>V9</th>\n",
       "      <th>...</th>\n",
       "      <th>V20</th>\n",
       "      <th>V21</th>\n",
       "      <th>V22</th>\n",
       "      <th>V23</th>\n",
       "      <th>V24</th>\n",
       "      <th>V25</th>\n",
       "      <th>V26</th>\n",
       "      <th>V27</th>\n",
       "      <th>V28</th>\n",
       "      <th>Amount</th>\n",
       "    </tr>\n",
       "    <tr>\n",
       "      <th>Class</th>\n",
       "      <th></th>\n",
       "      <th></th>\n",
       "      <th></th>\n",
       "      <th></th>\n",
       "      <th></th>\n",
       "      <th></th>\n",
       "      <th></th>\n",
       "      <th></th>\n",
       "      <th></th>\n",
       "      <th></th>\n",
       "      <th></th>\n",
       "      <th></th>\n",
       "      <th></th>\n",
       "      <th></th>\n",
       "      <th></th>\n",
       "      <th></th>\n",
       "      <th></th>\n",
       "      <th></th>\n",
       "      <th></th>\n",
       "      <th></th>\n",
       "      <th></th>\n",
       "    </tr>\n",
       "  </thead>\n",
       "  <tbody>\n",
       "    <tr>\n",
       "      <th>0</th>\n",
       "      <td>284315</td>\n",
       "      <td>284315</td>\n",
       "      <td>284315</td>\n",
       "      <td>284315</td>\n",
       "      <td>284315</td>\n",
       "      <td>284315</td>\n",
       "      <td>284315</td>\n",
       "      <td>284315</td>\n",
       "      <td>284315</td>\n",
       "      <td>284315</td>\n",
       "      <td>...</td>\n",
       "      <td>284315</td>\n",
       "      <td>284315</td>\n",
       "      <td>284315</td>\n",
       "      <td>284315</td>\n",
       "      <td>284315</td>\n",
       "      <td>284315</td>\n",
       "      <td>284315</td>\n",
       "      <td>284315</td>\n",
       "      <td>284315</td>\n",
       "      <td>284315</td>\n",
       "    </tr>\n",
       "    <tr>\n",
       "      <th>1</th>\n",
       "      <td>492</td>\n",
       "      <td>492</td>\n",
       "      <td>492</td>\n",
       "      <td>492</td>\n",
       "      <td>492</td>\n",
       "      <td>492</td>\n",
       "      <td>492</td>\n",
       "      <td>492</td>\n",
       "      <td>492</td>\n",
       "      <td>492</td>\n",
       "      <td>...</td>\n",
       "      <td>492</td>\n",
       "      <td>492</td>\n",
       "      <td>492</td>\n",
       "      <td>492</td>\n",
       "      <td>492</td>\n",
       "      <td>492</td>\n",
       "      <td>492</td>\n",
       "      <td>492</td>\n",
       "      <td>492</td>\n",
       "      <td>492</td>\n",
       "    </tr>\n",
       "  </tbody>\n",
       "</table>\n",
       "<p>2 rows × 30 columns</p>\n",
       "</div>"
      ],
      "text/plain": [
       "         Time      V1      V2      V3      V4      V5      V6      V7      V8  \\\n",
       "Class                                                                           \n",
       "0      284315  284315  284315  284315  284315  284315  284315  284315  284315   \n",
       "1         492     492     492     492     492     492     492     492     492   \n",
       "\n",
       "           V9  ...     V20     V21     V22     V23     V24     V25     V26  \\\n",
       "Class          ...                                                           \n",
       "0      284315  ...  284315  284315  284315  284315  284315  284315  284315   \n",
       "1         492  ...     492     492     492     492     492     492     492   \n",
       "\n",
       "          V27     V28  Amount  \n",
       "Class                          \n",
       "0      284315  284315  284315  \n",
       "1         492     492     492  \n",
       "\n",
       "[2 rows x 30 columns]"
      ]
     },
     "execution_count": 4,
     "metadata": {},
     "output_type": "execute_result"
    }
   ],
   "source": [
    "df.groupby('Class').count()"
   ]
  },
  {
   "cell_type": "code",
   "execution_count": 5,
   "metadata": {},
   "outputs": [
    {
     "data": {
      "text/plain": [
       "<matplotlib.axes._subplots.AxesSubplot at 0x1e8e79472b0>"
      ]
     },
     "execution_count": 5,
     "metadata": {},
     "output_type": "execute_result"
    },
    {
     "data": {
      "image/png": "[encoded data removed]",
      "text/plain": [
       "<Figure size 432x288 with 1 Axes>"
      ]
     },
     "metadata": {
      "needs_background": "light"
     },
     "output_type": "display_data"
    }
   ],
   "source": [
    "grouped_df = df[['Class','Time']].groupby('Class').count()\n",
    "grouped_df = grouped_df.rename(columns={\"Time\":\"Count\"})\n",
    "grouped_df.plot(kind=\"bar\")"
   ]
  },
  {
   "cell_type": "markdown",
   "metadata": {},
   "source": [
    "It is evident from the above plot that data is **highly imbalanced**. The dataset has only 492 fraudulent transactions out of a total of 284,807 transactions, which is a mere **0.17%**."
   ]
  },
  {
   "cell_type": "markdown",
   "metadata": {},
   "source": [
    "# Defining features\n",
    "\n",
    "Defining the predictor features and the target feature."
   ]
  },
  {
   "cell_type": "code",
   "execution_count": 6,
   "metadata": {},
   "outputs": [
    {
     "data": {
      "text/plain": [
       "Index(['Time', 'V1', 'V2', 'V3', 'V4', 'V5', 'V6', 'V7', 'V8', 'V9', 'V10',\n",
       "       'V11', 'V12', 'V13', 'V14', 'V15', 'V16', 'V17', 'V18', 'V19', 'V20',\n",
       "       'V21', 'V22', 'V23', 'V24', 'V25', 'V26', 'V27', 'V28', 'Amount',\n",
       "       'Class'],\n",
       "      dtype='object')"
      ]
     },
     "execution_count": 6,
     "metadata": {},
     "output_type": "execute_result"
    }
   ],
   "source": [
    "df.columns"
   ]
  },
  {
   "cell_type": "code",
   "execution_count": 7,
   "metadata": {},
   "outputs": [
    {
     "data": {
      "text/plain": [
       "(284807, 30)"
      ]
     },
     "execution_count": 7,
     "metadata": {},
     "output_type": "execute_result"
    }
   ],
   "source": [
    "# Selecting predictor features. This will be used as x values.\n",
    "selected_features = df[['Time', 'V1', 'V2', 'V3', 'V4', 'V5', 'V6', 'V7', 'V8', 'V9', 'V10',\n",
    "       'V11', 'V12', 'V13', 'V14', 'V15', 'V16', 'V17', 'V18', 'V19', 'V20',\n",
    "       'V21', 'V22', 'V23', 'V24', 'V25', 'V26', 'V27', 'V28', 'Amount']]\n",
    "selected_features.shape"
   ]
  },
  {
   "cell_type": "code",
   "execution_count": 8,
   "metadata": {},
   "outputs": [
    {
     "name": "stdout",
     "output_type": "stream",
     "text": [
      "Shape:  (284807, 30) (284807, 1)\n"
     ]
    }
   ],
   "source": [
    "# Defining predictor and target features to X and y respectively.\n",
    "# Note: Sklearn requires a two-dimensional array of values\n",
    "# so we use reshape to create this\n",
    "\n",
    "X = selected_features\n",
    "y = df[['Class']].values.reshape(-1, 1)\n",
    "\n",
    "print(\"Shape: \", X.shape, y.shape)"
   ]
  },
  {
   "cell_type": "markdown",
   "metadata": {},
   "source": [
    "# Create a Train Test Split\n",
    "\n",
    "Using `Class` for the y values (target feature)"
   ]
  },
  {
   "cell_type": "code",
   "execution_count": 9,
   "metadata": {},
   "outputs": [],
   "source": [
    "# Using sklearn's `train_test_split` to split the data into training and testing datasets\n",
    "\n",
    "X_train, X_test, y_train, y_test = train_test_split(X, y, random_state=42)"
   ]
  },
  {
   "cell_type": "code",
   "execution_count": 10,
   "metadata": {},
   "outputs": [
    {
     "name": "stdout",
     "output_type": "stream",
     "text": [
      "Shape:  (213605, 30) (213605, 1) (71202, 30) (71202, 1)\n"
     ]
    }
   ],
   "source": [
    "print(\"Shape: \", X_train.shape, y_train.shape, X_test.shape, y_test.shape)"
   ]
  },
  {
   "cell_type": "markdown",
   "metadata": {},
   "source": [
    "# Data Pre-processing\n",
    "\n",
    "Scale the data using the MinMaxScaler"
   ]
  },
  {
   "cell_type": "code",
   "execution_count": 11,
   "metadata": {},
   "outputs": [],
   "source": [
    "X_minmax = MinMaxScaler().fit(X_train)\n",
    "\n",
    "X_train_scaled = X_minmax.transform(X_train)\n",
    "X_test_scaled = X_minmax.transform(X_test)"
   ]
  },
  {
   "cell_type": "markdown",
   "metadata": {},
   "source": [
    "# Decision Tree Classifier Model\n",
    "\n",
    "### Train the Model"
   ]
  },
  {
   "cell_type": "code",
   "execution_count": 12,
   "metadata": {},
   "outputs": [
    {
     "data": {
      "text/plain": [
       "DecisionTreeClassifier()"
      ]
     },
     "execution_count": 12,
     "metadata": {},
     "output_type": "execute_result"
    }
   ],
   "source": [
    "decisionTreeModel = DecisionTreeClassifier()\n",
    "decisionTreeModel"
   ]
  },
  {
   "cell_type": "code",
   "execution_count": 13,
   "metadata": {},
   "outputs": [
    {
     "data": {
      "text/plain": [
       "DecisionTreeClassifier()"
      ]
     },
     "execution_count": 13,
     "metadata": {},
     "output_type": "execute_result"
    }
   ],
   "source": [
    "decisionTreeModel.fit(X_train_scaled, y_train.flatten())"
   ]
  },
  {
   "cell_type": "code",
   "execution_count": 14,
   "metadata": {},
   "outputs": [
    {
     "name": "stdout",
     "output_type": "stream",
     "text": [
      "Training Data Score: 1.0\n",
      "Testing Data Score: 0.9990871042948232\n"
     ]
    }
   ],
   "source": [
    "print(f\"Training Data Score: {decisionTreeModel.score(X_train_scaled, y_train)}\")\n",
    "print(f\"Testing Data Score: {decisionTreeModel.score(X_test_scaled, y_test)}\")"
   ]
  },
  {
   "cell_type": "code",
   "execution_count": 15,
   "metadata": {},
   "outputs": [],
   "source": [
    "# Make predictions with the model\n",
    "decisionTreePredictions = decisionTreeModel.predict(X_test_scaled)"
   ]
  },
  {
   "cell_type": "code",
   "execution_count": 16,
   "metadata": {},
   "outputs": [],
   "source": [
    "decisionTreePredictProba = decisionTreeModel.predict_proba(X_test_scaled)[:,1]"
   ]
  },
  {
   "cell_type": "code",
   "execution_count": 17,
   "metadata": {},
   "outputs": [
    {
     "name": "stdout",
     "output_type": "stream",
     "text": [
      "                precision    recall  f1-score   support\n",
      "\n",
      "Non Fraudulent       1.00      1.00      1.00     71089\n",
      "    Fraudulent       0.70      0.73      0.72       113\n",
      "\n",
      "      accuracy                           1.00     71202\n",
      "     macro avg       0.85      0.87      0.86     71202\n",
      "  weighted avg       1.00      1.00      1.00     71202\n",
      "\n",
      "Accuracy: 0.9990871042948232\n"
     ]
    }
   ],
   "source": [
    "# Print classification report\n",
    "print(classification_report(y_test.flatten(), decisionTreePredictions,\n",
    "                            target_names=[\"Non Fraudulent\", \"Fraudulent\"]))\n",
    "print(\"Accuracy:\", accuracy_score(y_test.flatten(), decisionTreePredictions))"
   ]
  },
  {
   "cell_type": "code",
   "execution_count": 18,
   "metadata": {},
   "outputs": [
    {
     "name": "stdout",
     "output_type": "stream",
     "text": [
      "Decision Tree Classifier\n",
      "========================\n",
      "Accuracy:  0.9990871042948232\n",
      "Precision:  0.7033898305084746\n",
      "Recall:  0.7345132743362832\n",
      "F1-Score:  0.7186147186147187\n",
      "AUC score:  0.867010466874566\n",
      "                precision    recall  f1-score   support\n",
      "\n",
      "Non Fraudulent       1.00      1.00      1.00     71089\n",
      "    Fraudulent       0.70      0.73      0.72       113\n",
      "\n",
      "      accuracy                           1.00     71202\n",
      "     macro avg       0.85      0.87      0.86     71202\n",
      "  weighted avg       1.00      1.00      1.00     71202\n",
      "\n"
     ]
    },
    {
     "data": {
      "image/png": "[encoded data removed]",
      "text/plain": [
       "<Figure size 432x288 with 1 Axes>"
      ]
     },
     "metadata": {
      "needs_background": "light"
     },
     "output_type": "display_data"
    },
    {
     "data": {
      "image/png": "[encoded data removed]",
      "text/plain": [
       "<Figure size 432x432 with 2 Axes>"
      ]
     },
     "metadata": {
      "needs_background": "light"
     },
     "output_type": "display_data"
    }
   ],
   "source": [
    "print(\"Decision Tree Classifier\")\n",
    "print(\"========================\")\n",
    "print(\"Accuracy: \",accuracy_score(y_test.flatten(), decisionTreePredictions)) \n",
    "print(\"Precision: \",precision_score(y_test.flatten(), decisionTreePredictions))\n",
    "print(\"Recall: \",recall_score(y_test.flatten(), decisionTreePredictions))\n",
    "print(\"F1-Score: \",f1_score(y_test.flatten(), decisionTreePredictions))\n",
    "print(\"AUC score: \",roc_auc_score(y_test.flatten(), decisionTreePredictions))\n",
    "print(classification_report(y_test.flatten(), decisionTreePredictions,\n",
    "                            target_names=[\"Non Fraudulent\", \"Fraudulent\"]))\n",
    "\n",
    "p, r, t = precision_recall_curve(y_test.flatten(), decisionTreePredictProba)\n",
    "plt.plot(p, r)\n",
    "plt.xlabel('Recall')\n",
    "plt.ylabel('Precision')\n",
    "plt.title('Precision Recall Curve - Decision Tree Classifier')\n",
    "\n",
    "confusionMatrix = confusion_matrix(y_test.flatten(), decisionTreePredictions) \n",
    "plt.figure(figsize =(6, 6)) \n",
    "sns.heatmap(confusionMatrix, xticklabels = ['Non Fraudulent', 'Fraudulent'],  \n",
    "            yticklabels = ['Non Fraudulent', 'Fraudulent'], annot = True, fmt =\"d\"); \n",
    "plt.title(\"Confusion matrix - Decision Tree Classifier\") \n",
    "plt.ylabel('Actual Class') \n",
    "plt.xlabel('Predicted class') \n",
    "plt.show() "
   ]
  },
  {
   "cell_type": "markdown",
   "metadata": {},
   "source": [
    "### Hyperparameter Tuning\n",
    "\n",
    "Use `GridSearchCV` to tune the model's parameters"
   ]
  },
  {
   "cell_type": "code",
   "execution_count": 19,
   "metadata": {},
   "outputs": [
    {
     "data": {
      "text/plain": [
       "dict_keys(['ccp_alpha', 'class_weight', 'criterion', 'max_depth', 'max_features', 'max_leaf_nodes', 'min_impurity_decrease', 'min_impurity_split', 'min_samples_leaf', 'min_samples_split', 'min_weight_fraction_leaf', 'presort', 'random_state', 'splitter'])"
      ]
     },
     "execution_count": 19,
     "metadata": {},
     "output_type": "execute_result"
    }
   ],
   "source": [
    "decisionTreeModel.get_params().keys()"
   ]
  },
  {
   "cell_type": "code",
   "execution_count": 20,
   "metadata": {},
   "outputs": [],
   "source": [
    "# Create the GridSearchCV model\n",
    "# Create the GridSearch estimator along with a parameter object containing the values to adjust\n",
    "decisionTreeParamGrid = {'criterion':['gini', 'entropy'],\n",
    "                         'splitter': ['best','random'],\n",
    "                         'max_depth': [None, 1, 2, 3, 4, 5, 6, 7, 8, 9, 10]}\n",
    "decisionTreeGrid = GridSearchCV(decisionTreeModel, decisionTreeParamGrid, verbose=3)"
   ]
  },
  {
   "cell_type": "code",
   "execution_count": 21,
   "metadata": {},
   "outputs": [
    {
     "name": "stdout",
     "output_type": "stream",
     "text": [
      "Fitting 5 folds for each of 44 candidates, totalling 220 fits\n",
      "[CV] criterion=gini, max_depth=None, splitter=best ...................\n"
     ]
    },
    {
     "name": "stderr",
     "output_type": "stream",
     "text": [
      "[Parallel(n_jobs=1)]: Using backend SequentialBackend with 1 concurrent workers.\n"
     ]
    },
    {
     "name": "stdout",
     "output_type": "stream",
     "text": [
      "[CV]  criterion=gini, max_depth=None, splitter=best, score=0.999, total=  13.0s\n",
      "[CV] criterion=gini, max_depth=None, splitter=best ...................\n"
     ]
    },
    {
     "name": "stderr",
     "output_type": "stream",
     "text": [
      "[Parallel(n_jobs=1)]: Done   1 out of   1 | elapsed:   12.9s remaining:    0.0s\n"
     ]
    },
    {
     "name": "stdout",
     "output_type": "stream",
     "text": [
      "[CV]  criterion=gini, max_depth=None, splitter=best, score=0.999, total=  10.1s\n",
      "[CV] criterion=gini, max_depth=None, splitter=best ...................\n"
     ]
    },
    {
     "name": "stderr",
     "output_type": "stream",
     "text": [
      "[Parallel(n_jobs=1)]: Done   2 out of   2 | elapsed:   23.0s remaining:    0.0s\n"
     ]
    },
    {
     "name": "stdout",
     "output_type": "stream",
     "text": [
      "[CV]  criterion=gini, max_depth=None, splitter=best, score=0.999, total=   9.5s\n",
      "[CV] criterion=gini, max_depth=None, splitter=best ...................\n",
      "[CV]  criterion=gini, max_depth=None, splitter=best, score=0.999, total=  12.5s\n",
      "[CV] criterion=gini, max_depth=None, splitter=best ...................\n",
      "[CV]  criterion=gini, max_depth=None, splitter=best, score=0.999, total=  10.8s\n",
      "[CV] criterion=gini, max_depth=None, splitter=random .................\n",
      "[CV]  criterion=gini, max_depth=None, splitter=random, score=0.999, total=   1.5s\n",
      "[CV] criterion=gini, max_depth=None, splitter=random .................\n",
      "[CV]  criterion=gini, max_depth=None, splitter=random, score=0.999, total=   1.3s\n",
      "[CV] criterion=gini, max_depth=None, splitter=random .................\n",
      "[CV]  criterion=gini, max_depth=None, splitter=random, score=0.999, total=   1.6s\n",
      "[CV] criterion=gini, max_depth=None, splitter=random .................\n",
      "[CV]  criterion=gini, max_depth=None, splitter=random, score=0.999, total=   1.2s\n",
      "[CV] criterion=gini, max_depth=None, splitter=random .................\n",
      "[CV]  criterion=gini, max_depth=None, splitter=random, score=0.999, total=   1.4s\n",
      "[CV] criterion=gini, max_depth=1, splitter=best ......................\n",
      "[CV]  criterion=gini, max_depth=1, splitter=best, score=0.999, total=   0.7s\n",
      "[CV] criterion=gini, max_depth=1, splitter=best ......................\n",
      "[CV]  criterion=gini, max_depth=1, splitter=best, score=0.999, total=   0.7s\n",
      "[CV] criterion=gini, max_depth=1, splitter=best ......................\n",
      "[CV]  criterion=gini, max_depth=1, splitter=best, score=0.999, total=   0.7s\n",
      "[CV] criterion=gini, max_depth=1, splitter=best ......................\n",
      "[CV]  criterion=gini, max_depth=1, splitter=best, score=0.999, total=   0.7s\n",
      "[CV] criterion=gini, max_depth=1, splitter=best ......................\n",
      "[CV]  criterion=gini, max_depth=1, splitter=best, score=0.999, total=   0.7s\n",
      "[CV] criterion=gini, max_depth=1, splitter=random ....................\n",
      "[CV]  criterion=gini, max_depth=1, splitter=random, score=0.998, total=   0.1s\n",
      "[CV] criterion=gini, max_depth=1, splitter=random ....................\n",
      "[CV]  criterion=gini, max_depth=1, splitter=random, score=0.998, total=   0.1s\n",
      "[CV] criterion=gini, max_depth=1, splitter=random ....................\n",
      "[CV]  criterion=gini, max_depth=1, splitter=random, score=0.998, total=   0.1s\n",
      "[CV] criterion=gini, max_depth=1, splitter=random ....................\n",
      "[CV]  criterion=gini, max_depth=1, splitter=random, score=0.998, total=   0.1s\n",
      "[CV] criterion=gini, max_depth=1, splitter=random ....................\n",
      "[CV]  criterion=gini, max_depth=1, splitter=random, score=0.998, total=   0.1s\n",
      "[CV] criterion=gini, max_depth=2, splitter=best ......................\n",
      "[CV]  criterion=gini, max_depth=2, splitter=best, score=0.999, total=   1.3s\n",
      "[CV] criterion=gini, max_depth=2, splitter=best ......................\n",
      "[CV]  criterion=gini, max_depth=2, splitter=best, score=0.999, total=   1.4s\n",
      "[CV] criterion=gini, max_depth=2, splitter=best ......................\n",
      "[CV]  criterion=gini, max_depth=2, splitter=best, score=0.999, total=   1.3s\n",
      "[CV] criterion=gini, max_depth=2, splitter=best ......................\n",
      "[CV]  criterion=gini, max_depth=2, splitter=best, score=0.999, total=   1.3s\n",
      "[CV] criterion=gini, max_depth=2, splitter=best ......................\n",
      "[CV]  criterion=gini, max_depth=2, splitter=best, score=0.999, total=   1.4s\n",
      "[CV] criterion=gini, max_depth=2, splitter=random ....................\n",
      "[CV]  criterion=gini, max_depth=2, splitter=random, score=0.999, total=   0.2s\n",
      "[CV] criterion=gini, max_depth=2, splitter=random ....................\n",
      "[CV]  criterion=gini, max_depth=2, splitter=random, score=0.999, total=   0.2s\n",
      "[CV] criterion=gini, max_depth=2, splitter=random ....................\n",
      "[CV]  criterion=gini, max_depth=2, splitter=random, score=0.999, total=   0.2s\n",
      "[CV] criterion=gini, max_depth=2, splitter=random ....................\n",
      "[CV]  criterion=gini, max_depth=2, splitter=random, score=0.999, total=   0.2s\n",
      "[CV] criterion=gini, max_depth=2, splitter=random ....................\n",
      "[CV]  criterion=gini, max_depth=2, splitter=random, score=0.998, total=   0.2s\n",
      "[CV] criterion=gini, max_depth=3, splitter=best ......................\n",
      "[CV]  criterion=gini, max_depth=3, splitter=best, score=0.999, total=   1.9s\n",
      "[CV] criterion=gini, max_depth=3, splitter=best ......................\n",
      "[CV]  criterion=gini, max_depth=3, splitter=best, score=0.999, total=   2.1s\n",
      "[CV] criterion=gini, max_depth=3, splitter=best ......................\n",
      "[CV]  criterion=gini, max_depth=3, splitter=best, score=0.999, total=   2.0s\n",
      "[CV] criterion=gini, max_depth=3, splitter=best ......................\n",
      "[CV]  criterion=gini, max_depth=3, splitter=best, score=0.999, total=   1.9s\n",
      "[CV] criterion=gini, max_depth=3, splitter=best ......................\n",
      "[CV]  criterion=gini, max_depth=3, splitter=best, score=0.999, total=   2.0s\n",
      "[CV] criterion=gini, max_depth=3, splitter=random ....................\n",
      "[CV]  criterion=gini, max_depth=3, splitter=random, score=0.999, total=   0.3s\n",
      "[CV] criterion=gini, max_depth=3, splitter=random ....................\n",
      "[CV]  criterion=gini, max_depth=3, splitter=random, score=0.999, total=   0.3s\n",
      "[CV] criterion=gini, max_depth=3, splitter=random ....................\n",
      "[CV]  criterion=gini, max_depth=3, splitter=random, score=0.999, total=   0.3s\n",
      "[CV] criterion=gini, max_depth=3, splitter=random ....................\n",
      "[CV]  criterion=gini, max_depth=3, splitter=random, score=0.999, total=   0.3s\n",
      "[CV] criterion=gini, max_depth=3, splitter=random ....................\n",
      "[CV]  criterion=gini, max_depth=3, splitter=random, score=0.999, total=   0.3s\n",
      "[CV] criterion=gini, max_depth=4, splitter=best ......................\n",
      "[CV]  criterion=gini, max_depth=4, splitter=best, score=0.999, total=   2.6s\n",
      "[CV] criterion=gini, max_depth=4, splitter=best ......................\n",
      "[CV]  criterion=gini, max_depth=4, splitter=best, score=0.999, total=   2.6s\n",
      "[CV] criterion=gini, max_depth=4, splitter=best ......................\n",
      "[CV]  criterion=gini, max_depth=4, splitter=best, score=0.999, total=   2.7s\n",
      "[CV] criterion=gini, max_depth=4, splitter=best ......................\n",
      "[CV]  criterion=gini, max_depth=4, splitter=best, score=0.999, total=   2.6s\n",
      "[CV] criterion=gini, max_depth=4, splitter=best ......................\n",
      "[CV]  criterion=gini, max_depth=4, splitter=best, score=0.999, total=   2.6s\n",
      "[CV] criterion=gini, max_depth=4, splitter=random ....................\n",
      "[CV]  criterion=gini, max_depth=4, splitter=random, score=0.999, total=   0.4s\n",
      "[CV] criterion=gini, max_depth=4, splitter=random ....................\n",
      "[CV]  criterion=gini, max_depth=4, splitter=random, score=0.999, total=   0.4s\n",
      "[CV] criterion=gini, max_depth=4, splitter=random ....................\n",
      "[CV]  criterion=gini, max_depth=4, splitter=random, score=0.999, total=   0.4s\n",
      "[CV] criterion=gini, max_depth=4, splitter=random ....................\n",
      "[CV]  criterion=gini, max_depth=4, splitter=random, score=0.999, total=   0.4s\n",
      "[CV] criterion=gini, max_depth=4, splitter=random ....................\n",
      "[CV]  criterion=gini, max_depth=4, splitter=random, score=0.999, total=   0.4s\n",
      "[CV] criterion=gini, max_depth=5, splitter=best ......................\n",
      "[CV]  criterion=gini, max_depth=5, splitter=best, score=0.999, total=   3.3s\n",
      "[CV] criterion=gini, max_depth=5, splitter=best ......................\n",
      "[CV]  criterion=gini, max_depth=5, splitter=best, score=1.000, total=   3.2s\n",
      "[CV] criterion=gini, max_depth=5, splitter=best ......................\n",
      "[CV]  criterion=gini, max_depth=5, splitter=best, score=0.999, total=   3.4s\n",
      "[CV] criterion=gini, max_depth=5, splitter=best ......................\n",
      "[CV]  criterion=gini, max_depth=5, splitter=best, score=0.999, total=   3.4s\n",
      "[CV] criterion=gini, max_depth=5, splitter=best ......................\n",
      "[CV]  criterion=gini, max_depth=5, splitter=best, score=0.999, total=   3.3s\n",
      "[CV] criterion=gini, max_depth=5, splitter=random ....................\n",
      "[CV]  criterion=gini, max_depth=5, splitter=random, score=1.000, total=   0.5s\n",
      "[CV] criterion=gini, max_depth=5, splitter=random ....................\n",
      "[CV]  criterion=gini, max_depth=5, splitter=random, score=0.999, total=   0.5s\n",
      "[CV] criterion=gini, max_depth=5, splitter=random ....................\n"
     ]
    },
    {
     "name": "stdout",
     "output_type": "stream",
     "text": [
      "[CV]  criterion=gini, max_depth=5, splitter=random, score=0.999, total=   0.6s\n",
      "[CV] criterion=gini, max_depth=5, splitter=random ....................\n",
      "[CV]  criterion=gini, max_depth=5, splitter=random, score=0.999, total=   0.5s\n",
      "[CV] criterion=gini, max_depth=5, splitter=random ....................\n",
      "[CV]  criterion=gini, max_depth=5, splitter=random, score=0.999, total=   0.4s\n",
      "[CV] criterion=gini, max_depth=6, splitter=best ......................\n",
      "[CV]  criterion=gini, max_depth=6, splitter=best, score=1.000, total=   3.8s\n",
      "[CV] criterion=gini, max_depth=6, splitter=best ......................\n",
      "[CV]  criterion=gini, max_depth=6, splitter=best, score=0.999, total=   3.9s\n",
      "[CV] criterion=gini, max_depth=6, splitter=best ......................\n",
      "[CV]  criterion=gini, max_depth=6, splitter=best, score=0.999, total=   4.0s\n",
      "[CV] criterion=gini, max_depth=6, splitter=best ......................\n",
      "[CV]  criterion=gini, max_depth=6, splitter=best, score=0.999, total=   4.0s\n",
      "[CV] criterion=gini, max_depth=6, splitter=best ......................\n",
      "[CV]  criterion=gini, max_depth=6, splitter=best, score=0.999, total=   3.9s\n",
      "[CV] criterion=gini, max_depth=6, splitter=random ....................\n",
      "[CV]  criterion=gini, max_depth=6, splitter=random, score=0.999, total=   0.5s\n",
      "[CV] criterion=gini, max_depth=6, splitter=random ....................\n",
      "[CV]  criterion=gini, max_depth=6, splitter=random, score=0.999, total=   0.5s\n",
      "[CV] criterion=gini, max_depth=6, splitter=random ....................\n",
      "[CV]  criterion=gini, max_depth=6, splitter=random, score=0.999, total=   0.5s\n",
      "[CV] criterion=gini, max_depth=6, splitter=random ....................\n",
      "[CV]  criterion=gini, max_depth=6, splitter=random, score=0.999, total=   0.5s\n",
      "[CV] criterion=gini, max_depth=6, splitter=random ....................\n",
      "[CV]  criterion=gini, max_depth=6, splitter=random, score=0.999, total=   0.5s\n",
      "[CV] criterion=gini, max_depth=7, splitter=best ......................\n",
      "[CV]  criterion=gini, max_depth=7, splitter=best, score=1.000, total=   4.4s\n",
      "[CV] criterion=gini, max_depth=7, splitter=best ......................\n",
      "[CV]  criterion=gini, max_depth=7, splitter=best, score=0.999, total=   4.6s\n",
      "[CV] criterion=gini, max_depth=7, splitter=best ......................\n",
      "[CV]  criterion=gini, max_depth=7, splitter=best, score=0.999, total=   4.5s\n",
      "[CV] criterion=gini, max_depth=7, splitter=best ......................\n",
      "[CV]  criterion=gini, max_depth=7, splitter=best, score=0.999, total=   4.6s\n",
      "[CV] criterion=gini, max_depth=7, splitter=best ......................\n",
      "[CV]  criterion=gini, max_depth=7, splitter=best, score=0.999, total=   4.5s\n",
      "[CV] criterion=gini, max_depth=7, splitter=random ....................\n",
      "[CV]  criterion=gini, max_depth=7, splitter=random, score=0.999, total=   0.6s\n",
      "[CV] criterion=gini, max_depth=7, splitter=random ....................\n",
      "[CV]  criterion=gini, max_depth=7, splitter=random, score=0.999, total=   0.6s\n",
      "[CV] criterion=gini, max_depth=7, splitter=random ....................\n",
      "[CV]  criterion=gini, max_depth=7, splitter=random, score=0.999, total=   0.6s\n",
      "[CV] criterion=gini, max_depth=7, splitter=random ....................\n",
      "[CV]  criterion=gini, max_depth=7, splitter=random, score=0.999, total=   0.7s\n",
      "[CV] criterion=gini, max_depth=7, splitter=random ....................\n",
      "[CV]  criterion=gini, max_depth=7, splitter=random, score=1.000, total=   0.7s\n",
      "[CV] criterion=gini, max_depth=8, splitter=best ......................\n",
      "[CV]  criterion=gini, max_depth=8, splitter=best, score=1.000, total=   5.1s\n",
      "[CV] criterion=gini, max_depth=8, splitter=best ......................\n",
      "[CV]  criterion=gini, max_depth=8, splitter=best, score=0.999, total=   5.2s\n",
      "[CV] criterion=gini, max_depth=8, splitter=best ......................\n",
      "[CV]  criterion=gini, max_depth=8, splitter=best, score=0.999, total=   5.3s\n",
      "[CV] criterion=gini, max_depth=8, splitter=best ......................\n",
      "[CV]  criterion=gini, max_depth=8, splitter=best, score=1.000, total=   5.3s\n",
      "[CV] criterion=gini, max_depth=8, splitter=best ......................\n",
      "[CV]  criterion=gini, max_depth=8, splitter=best, score=0.999, total=   5.4s\n",
      "[CV] criterion=gini, max_depth=8, splitter=random ....................\n",
      "[CV]  criterion=gini, max_depth=8, splitter=random, score=0.999, total=   0.7s\n",
      "[CV] criterion=gini, max_depth=8, splitter=random ....................\n",
      "[CV]  criterion=gini, max_depth=8, splitter=random, score=0.999, total=   0.7s\n",
      "[CV] criterion=gini, max_depth=8, splitter=random ....................\n",
      "[CV]  criterion=gini, max_depth=8, splitter=random, score=0.999, total=   0.7s\n",
      "[CV] criterion=gini, max_depth=8, splitter=random ....................\n",
      "[CV]  criterion=gini, max_depth=8, splitter=random, score=0.999, total=   0.7s\n",
      "[CV] criterion=gini, max_depth=8, splitter=random ....................\n",
      "[CV]  criterion=gini, max_depth=8, splitter=random, score=0.999, total=   0.7s\n",
      "[CV] criterion=gini, max_depth=9, splitter=best ......................\n",
      "[CV]  criterion=gini, max_depth=9, splitter=best, score=1.000, total=   5.9s\n",
      "[CV] criterion=gini, max_depth=9, splitter=best ......................\n",
      "[CV]  criterion=gini, max_depth=9, splitter=best, score=0.999, total=   5.8s\n",
      "[CV] criterion=gini, max_depth=9, splitter=best ......................\n",
      "[CV]  criterion=gini, max_depth=9, splitter=best, score=0.999, total=   5.8s\n",
      "[CV] criterion=gini, max_depth=9, splitter=best ......................\n",
      "[CV]  criterion=gini, max_depth=9, splitter=best, score=0.999, total=   6.0s\n",
      "[CV] criterion=gini, max_depth=9, splitter=best ......................\n",
      "[CV]  criterion=gini, max_depth=9, splitter=best, score=0.999, total=   5.7s\n",
      "[CV] criterion=gini, max_depth=9, splitter=random ....................\n",
      "[CV]  criterion=gini, max_depth=9, splitter=random, score=0.999, total=   0.8s\n",
      "[CV] criterion=gini, max_depth=9, splitter=random ....................\n",
      "[CV]  criterion=gini, max_depth=9, splitter=random, score=0.999, total=   0.8s\n",
      "[CV] criterion=gini, max_depth=9, splitter=random ....................\n",
      "[CV]  criterion=gini, max_depth=9, splitter=random, score=0.999, total=   0.8s\n",
      "[CV] criterion=gini, max_depth=9, splitter=random ....................\n",
      "[CV]  criterion=gini, max_depth=9, splitter=random, score=0.999, total=   0.8s\n",
      "[CV] criterion=gini, max_depth=9, splitter=random ....................\n",
      "[CV]  criterion=gini, max_depth=9, splitter=random, score=0.999, total=   0.7s\n",
      "[CV] criterion=gini, max_depth=10, splitter=best .....................\n",
      "[CV]  criterion=gini, max_depth=10, splitter=best, score=0.999, total=   6.3s\n",
      "[CV] criterion=gini, max_depth=10, splitter=best .....................\n",
      "[CV]  criterion=gini, max_depth=10, splitter=best, score=0.999, total=   6.2s\n",
      "[CV] criterion=gini, max_depth=10, splitter=best .....................\n",
      "[CV]  criterion=gini, max_depth=10, splitter=best, score=0.999, total=   6.2s\n",
      "[CV] criterion=gini, max_depth=10, splitter=best .....................\n",
      "[CV]  criterion=gini, max_depth=10, splitter=best, score=0.999, total=   6.2s\n",
      "[CV] criterion=gini, max_depth=10, splitter=best .....................\n",
      "[CV]  criterion=gini, max_depth=10, splitter=best, score=0.999, total=   6.2s\n",
      "[CV] criterion=gini, max_depth=10, splitter=random ...................\n",
      "[CV]  criterion=gini, max_depth=10, splitter=random, score=0.999, total=   0.8s\n",
      "[CV] criterion=gini, max_depth=10, splitter=random ...................\n",
      "[CV]  criterion=gini, max_depth=10, splitter=random, score=0.999, total=   0.9s\n",
      "[CV] criterion=gini, max_depth=10, splitter=random ...................\n",
      "[CV]  criterion=gini, max_depth=10, splitter=random, score=0.999, total=   0.9s\n",
      "[CV] criterion=gini, max_depth=10, splitter=random ...................\n",
      "[CV]  criterion=gini, max_depth=10, splitter=random, score=0.999, total=   0.9s\n",
      "[CV] criterion=gini, max_depth=10, splitter=random ...................\n",
      "[CV]  criterion=gini, max_depth=10, splitter=random, score=1.000, total=   0.8s\n",
      "[CV] criterion=entropy, max_depth=None, splitter=best ................\n",
      "[CV]  criterion=entropy, max_depth=None, splitter=best, score=0.999, total=   7.0s\n",
      "[CV] criterion=entropy, max_depth=None, splitter=best ................\n",
      "[CV]  criterion=entropy, max_depth=None, splitter=best, score=0.999, total=   5.7s\n",
      "[CV] criterion=entropy, max_depth=None, splitter=best ................\n"
     ]
    },
    {
     "name": "stdout",
     "output_type": "stream",
     "text": [
      "[CV]  criterion=entropy, max_depth=None, splitter=best, score=0.999, total=   5.9s\n",
      "[CV] criterion=entropy, max_depth=None, splitter=best ................\n",
      "[CV]  criterion=entropy, max_depth=None, splitter=best, score=0.999, total=   5.1s\n",
      "[CV] criterion=entropy, max_depth=None, splitter=best ................\n",
      "[CV]  criterion=entropy, max_depth=None, splitter=best, score=0.999, total=   6.4s\n",
      "[CV] criterion=entropy, max_depth=None, splitter=random ..............\n",
      "[CV]  criterion=entropy, max_depth=None, splitter=random, score=0.999, total=   0.8s\n",
      "[CV] criterion=entropy, max_depth=None, splitter=random ..............\n",
      "[CV]  criterion=entropy, max_depth=None, splitter=random, score=0.999, total=   1.0s\n",
      "[CV] criterion=entropy, max_depth=None, splitter=random ..............\n",
      "[CV]  criterion=entropy, max_depth=None, splitter=random, score=0.999, total=   0.6s\n",
      "[CV] criterion=entropy, max_depth=None, splitter=random ..............\n",
      "[CV]  criterion=entropy, max_depth=None, splitter=random, score=0.999, total=   0.8s\n",
      "[CV] criterion=entropy, max_depth=None, splitter=random ..............\n",
      "[CV]  criterion=entropy, max_depth=None, splitter=random, score=0.999, total=   1.0s\n",
      "[CV] criterion=entropy, max_depth=1, splitter=best ...................\n",
      "[CV]  criterion=entropy, max_depth=1, splitter=best, score=0.999, total=   0.8s\n",
      "[CV] criterion=entropy, max_depth=1, splitter=best ...................\n",
      "[CV]  criterion=entropy, max_depth=1, splitter=best, score=0.998, total=   0.8s\n",
      "[CV] criterion=entropy, max_depth=1, splitter=best ...................\n",
      "[CV]  criterion=entropy, max_depth=1, splitter=best, score=0.999, total=   0.9s\n",
      "[CV] criterion=entropy, max_depth=1, splitter=best ...................\n",
      "[CV]  criterion=entropy, max_depth=1, splitter=best, score=0.998, total=   0.9s\n",
      "[CV] criterion=entropy, max_depth=1, splitter=best ...................\n",
      "[CV]  criterion=entropy, max_depth=1, splitter=best, score=0.998, total=   0.8s\n",
      "[CV] criterion=entropy, max_depth=1, splitter=random .................\n",
      "[CV]  criterion=entropy, max_depth=1, splitter=random, score=0.998, total=   0.1s\n",
      "[CV] criterion=entropy, max_depth=1, splitter=random .................\n",
      "[CV]  criterion=entropy, max_depth=1, splitter=random, score=0.998, total=   0.1s\n",
      "[CV] criterion=entropy, max_depth=1, splitter=random .................\n",
      "[CV]  criterion=entropy, max_depth=1, splitter=random, score=0.998, total=   0.1s\n",
      "[CV] criterion=entropy, max_depth=1, splitter=random .................\n",
      "[CV]  criterion=entropy, max_depth=1, splitter=random, score=0.999, total=   0.1s\n",
      "[CV] criterion=entropy, max_depth=1, splitter=random .................\n",
      "[CV]  criterion=entropy, max_depth=1, splitter=random, score=0.999, total=   0.1s\n",
      "[CV] criterion=entropy, max_depth=2, splitter=best ...................\n",
      "[CV]  criterion=entropy, max_depth=2, splitter=best, score=0.999, total=   1.7s\n",
      "[CV] criterion=entropy, max_depth=2, splitter=best ...................\n",
      "[CV]  criterion=entropy, max_depth=2, splitter=best, score=0.999, total=   1.7s\n",
      "[CV] criterion=entropy, max_depth=2, splitter=best ...................\n",
      "[CV]  criterion=entropy, max_depth=2, splitter=best, score=0.999, total=   1.7s\n",
      "[CV] criterion=entropy, max_depth=2, splitter=best ...................\n",
      "[CV]  criterion=entropy, max_depth=2, splitter=best, score=0.999, total=   1.6s\n",
      "[CV] criterion=entropy, max_depth=2, splitter=best ...................\n",
      "[CV]  criterion=entropy, max_depth=2, splitter=best, score=0.999, total=   1.7s\n",
      "[CV] criterion=entropy, max_depth=2, splitter=random .................\n",
      "[CV]  criterion=entropy, max_depth=2, splitter=random, score=0.999, total=   0.2s\n",
      "[CV] criterion=entropy, max_depth=2, splitter=random .................\n",
      "[CV]  criterion=entropy, max_depth=2, splitter=random, score=0.999, total=   0.2s\n",
      "[CV] criterion=entropy, max_depth=2, splitter=random .................\n",
      "[CV]  criterion=entropy, max_depth=2, splitter=random, score=0.999, total=   0.2s\n",
      "[CV] criterion=entropy, max_depth=2, splitter=random .................\n",
      "[CV]  criterion=entropy, max_depth=2, splitter=random, score=0.999, total=   0.2s\n",
      "[CV] criterion=entropy, max_depth=2, splitter=random .................\n",
      "[CV]  criterion=entropy, max_depth=2, splitter=random, score=0.999, total=   0.2s\n",
      "[CV] criterion=entropy, max_depth=3, splitter=best ...................\n",
      "[CV]  criterion=entropy, max_depth=3, splitter=best, score=0.999, total=   2.5s\n",
      "[CV] criterion=entropy, max_depth=3, splitter=best ...................\n",
      "[CV]  criterion=entropy, max_depth=3, splitter=best, score=0.999, total=   2.6s\n",
      "[CV] criterion=entropy, max_depth=3, splitter=best ...................\n",
      "[CV]  criterion=entropy, max_depth=3, splitter=best, score=0.999, total=   2.5s\n",
      "[CV] criterion=entropy, max_depth=3, splitter=best ...................\n",
      "[CV]  criterion=entropy, max_depth=3, splitter=best, score=0.999, total=   2.6s\n",
      "[CV] criterion=entropy, max_depth=3, splitter=best ...................\n",
      "[CV]  criterion=entropy, max_depth=3, splitter=best, score=0.999, total=   2.5s\n",
      "[CV] criterion=entropy, max_depth=3, splitter=random .................\n",
      "[CV]  criterion=entropy, max_depth=3, splitter=random, score=0.999, total=   0.3s\n",
      "[CV] criterion=entropy, max_depth=3, splitter=random .................\n",
      "[CV]  criterion=entropy, max_depth=3, splitter=random, score=0.999, total=   0.3s\n",
      "[CV] criterion=entropy, max_depth=3, splitter=random .................\n",
      "[CV]  criterion=entropy, max_depth=3, splitter=random, score=0.999, total=   0.3s\n",
      "[CV] criterion=entropy, max_depth=3, splitter=random .................\n",
      "[CV]  criterion=entropy, max_depth=3, splitter=random, score=0.999, total=   0.3s\n",
      "[CV] criterion=entropy, max_depth=3, splitter=random .................\n",
      "[CV]  criterion=entropy, max_depth=3, splitter=random, score=0.999, total=   0.3s\n",
      "[CV] criterion=entropy, max_depth=4, splitter=best ...................\n",
      "[CV]  criterion=entropy, max_depth=4, splitter=best, score=0.999, total=   3.3s\n",
      "[CV] criterion=entropy, max_depth=4, splitter=best ...................\n",
      "[CV]  criterion=entropy, max_depth=4, splitter=best, score=0.999, total=   3.5s\n",
      "[CV] criterion=entropy, max_depth=4, splitter=best ...................\n",
      "[CV]  criterion=entropy, max_depth=4, splitter=best, score=0.999, total=   3.6s\n",
      "[CV] criterion=entropy, max_depth=4, splitter=best ...................\n",
      "[CV]  criterion=entropy, max_depth=4, splitter=best, score=0.999, total=   3.7s\n",
      "[CV] criterion=entropy, max_depth=4, splitter=best ...................\n",
      "[CV]  criterion=entropy, max_depth=4, splitter=best, score=0.999, total=   3.8s\n",
      "[CV] criterion=entropy, max_depth=4, splitter=random .................\n",
      "[CV]  criterion=entropy, max_depth=4, splitter=random, score=0.999, total=   0.4s\n",
      "[CV] criterion=entropy, max_depth=4, splitter=random .................\n",
      "[CV]  criterion=entropy, max_depth=4, splitter=random, score=0.999, total=   0.4s\n",
      "[CV] criterion=entropy, max_depth=4, splitter=random .................\n",
      "[CV]  criterion=entropy, max_depth=4, splitter=random, score=0.999, total=   0.4s\n",
      "[CV] criterion=entropy, max_depth=4, splitter=random .................\n",
      "[CV]  criterion=entropy, max_depth=4, splitter=random, score=0.999, total=   0.4s\n",
      "[CV] criterion=entropy, max_depth=4, splitter=random .................\n",
      "[CV]  criterion=entropy, max_depth=4, splitter=random, score=0.999, total=   0.4s\n",
      "[CV] criterion=entropy, max_depth=5, splitter=best ...................\n",
      "[CV]  criterion=entropy, max_depth=5, splitter=best, score=1.000, total=   4.9s\n",
      "[CV] criterion=entropy, max_depth=5, splitter=best ...................\n",
      "[CV]  criterion=entropy, max_depth=5, splitter=best, score=0.999, total=   4.3s\n",
      "[CV] criterion=entropy, max_depth=5, splitter=best ...................\n",
      "[CV]  criterion=entropy, max_depth=5, splitter=best, score=0.999, total=   4.2s\n",
      "[CV] criterion=entropy, max_depth=5, splitter=best ...................\n",
      "[CV]  criterion=entropy, max_depth=5, splitter=best, score=0.999, total=   4.3s\n",
      "[CV] criterion=entropy, max_depth=5, splitter=best ...................\n",
      "[CV]  criterion=entropy, max_depth=5, splitter=best, score=1.000, total=   4.3s\n",
      "[CV] criterion=entropy, max_depth=5, splitter=random .................\n",
      "[CV]  criterion=entropy, max_depth=5, splitter=random, score=0.999, total=   0.4s\n",
      "[CV] criterion=entropy, max_depth=5, splitter=random .................\n"
     ]
    },
    {
     "name": "stdout",
     "output_type": "stream",
     "text": [
      "[CV]  criterion=entropy, max_depth=5, splitter=random, score=0.999, total=   0.4s\n",
      "[CV] criterion=entropy, max_depth=5, splitter=random .................\n",
      "[CV]  criterion=entropy, max_depth=5, splitter=random, score=0.999, total=   0.4s\n",
      "[CV] criterion=entropy, max_depth=5, splitter=random .................\n",
      "[CV]  criterion=entropy, max_depth=5, splitter=random, score=0.999, total=   0.4s\n",
      "[CV] criterion=entropy, max_depth=5, splitter=random .................\n",
      "[CV]  criterion=entropy, max_depth=5, splitter=random, score=0.999, total=   0.4s\n",
      "[CV] criterion=entropy, max_depth=6, splitter=best ...................\n",
      "[CV]  criterion=entropy, max_depth=6, splitter=best, score=0.999, total=   4.9s\n",
      "[CV] criterion=entropy, max_depth=6, splitter=best ...................\n",
      "[CV]  criterion=entropy, max_depth=6, splitter=best, score=0.999, total=   4.9s\n",
      "[CV] criterion=entropy, max_depth=6, splitter=best ...................\n",
      "[CV]  criterion=entropy, max_depth=6, splitter=best, score=0.999, total=   4.9s\n",
      "[CV] criterion=entropy, max_depth=6, splitter=best ...................\n",
      "[CV]  criterion=entropy, max_depth=6, splitter=best, score=1.000, total=   4.7s\n",
      "[CV] criterion=entropy, max_depth=6, splitter=best ...................\n",
      "[CV]  criterion=entropy, max_depth=6, splitter=best, score=0.999, total=   5.1s\n",
      "[CV] criterion=entropy, max_depth=6, splitter=random .................\n",
      "[CV]  criterion=entropy, max_depth=6, splitter=random, score=0.999, total=   0.5s\n",
      "[CV] criterion=entropy, max_depth=6, splitter=random .................\n",
      "[CV]  criterion=entropy, max_depth=6, splitter=random, score=0.999, total=   0.6s\n",
      "[CV] criterion=entropy, max_depth=6, splitter=random .................\n",
      "[CV]  criterion=entropy, max_depth=6, splitter=random, score=0.999, total=   0.6s\n",
      "[CV] criterion=entropy, max_depth=6, splitter=random .................\n",
      "[CV]  criterion=entropy, max_depth=6, splitter=random, score=0.999, total=   0.6s\n",
      "[CV] criterion=entropy, max_depth=6, splitter=random .................\n",
      "[CV]  criterion=entropy, max_depth=6, splitter=random, score=0.999, total=   0.5s\n",
      "[CV] criterion=entropy, max_depth=7, splitter=best ...................\n",
      "[CV]  criterion=entropy, max_depth=7, splitter=best, score=1.000, total=   6.3s\n",
      "[CV] criterion=entropy, max_depth=7, splitter=best ...................\n",
      "[CV]  criterion=entropy, max_depth=7, splitter=best, score=0.999, total=   6.1s\n",
      "[CV] criterion=entropy, max_depth=7, splitter=best ...................\n",
      "[CV]  criterion=entropy, max_depth=7, splitter=best, score=0.999, total=   6.5s\n",
      "[CV] criterion=entropy, max_depth=7, splitter=best ...................\n",
      "[CV]  criterion=entropy, max_depth=7, splitter=best, score=1.000, total=   4.8s\n",
      "[CV] criterion=entropy, max_depth=7, splitter=best ...................\n",
      "[CV]  criterion=entropy, max_depth=7, splitter=best, score=1.000, total=   6.1s\n",
      "[CV] criterion=entropy, max_depth=7, splitter=random .................\n",
      "[CV]  criterion=entropy, max_depth=7, splitter=random, score=0.999, total=   0.6s\n",
      "[CV] criterion=entropy, max_depth=7, splitter=random .................\n",
      "[CV]  criterion=entropy, max_depth=7, splitter=random, score=0.999, total=   0.6s\n",
      "[CV] criterion=entropy, max_depth=7, splitter=random .................\n",
      "[CV]  criterion=entropy, max_depth=7, splitter=random, score=0.999, total=   0.6s\n",
      "[CV] criterion=entropy, max_depth=7, splitter=random .................\n",
      "[CV]  criterion=entropy, max_depth=7, splitter=random, score=0.999, total=   0.6s\n",
      "[CV] criterion=entropy, max_depth=7, splitter=random .................\n",
      "[CV]  criterion=entropy, max_depth=7, splitter=random, score=0.999, total=   0.6s\n",
      "[CV] criterion=entropy, max_depth=8, splitter=best ...................\n",
      "[CV]  criterion=entropy, max_depth=8, splitter=best, score=0.999, total=   8.1s\n",
      "[CV] criterion=entropy, max_depth=8, splitter=best ...................\n",
      "[CV]  criterion=entropy, max_depth=8, splitter=best, score=0.999, total=   7.1s\n",
      "[CV] criterion=entropy, max_depth=8, splitter=best ...................\n",
      "[CV]  criterion=entropy, max_depth=8, splitter=best, score=0.999, total=   6.8s\n",
      "[CV] criterion=entropy, max_depth=8, splitter=best ...................\n",
      "[CV]  criterion=entropy, max_depth=8, splitter=best, score=1.000, total=   6.3s\n",
      "[CV] criterion=entropy, max_depth=8, splitter=best ...................\n",
      "[CV]  criterion=entropy, max_depth=8, splitter=best, score=0.999, total=   8.2s\n",
      "[CV] criterion=entropy, max_depth=8, splitter=random .................\n",
      "[CV]  criterion=entropy, max_depth=8, splitter=random, score=0.999, total=   0.9s\n",
      "[CV] criterion=entropy, max_depth=8, splitter=random .................\n",
      "[CV]  criterion=entropy, max_depth=8, splitter=random, score=0.999, total=   0.8s\n",
      "[CV] criterion=entropy, max_depth=8, splitter=random .................\n",
      "[CV]  criterion=entropy, max_depth=8, splitter=random, score=0.999, total=   0.8s\n",
      "[CV] criterion=entropy, max_depth=8, splitter=random .................\n",
      "[CV]  criterion=entropy, max_depth=8, splitter=random, score=0.999, total=   1.0s\n",
      "[CV] criterion=entropy, max_depth=8, splitter=random .................\n",
      "[CV]  criterion=entropy, max_depth=8, splitter=random, score=0.999, total=   1.0s\n",
      "[CV] criterion=entropy, max_depth=9, splitter=best ...................\n",
      "[CV]  criterion=entropy, max_depth=9, splitter=best, score=0.999, total=  10.2s\n",
      "[CV] criterion=entropy, max_depth=9, splitter=best ...................\n",
      "[CV]  criterion=entropy, max_depth=9, splitter=best, score=0.999, total=   6.8s\n",
      "[CV] criterion=entropy, max_depth=9, splitter=best ...................\n",
      "[CV]  criterion=entropy, max_depth=9, splitter=best, score=0.999, total=   7.7s\n",
      "[CV] criterion=entropy, max_depth=9, splitter=best ...................\n",
      "[CV]  criterion=entropy, max_depth=9, splitter=best, score=1.000, total=   6.1s\n",
      "[CV] criterion=entropy, max_depth=9, splitter=best ...................\n",
      "[CV]  criterion=entropy, max_depth=9, splitter=best, score=0.999, total=   7.1s\n",
      "[CV] criterion=entropy, max_depth=9, splitter=random .................\n",
      "[CV]  criterion=entropy, max_depth=9, splitter=random, score=0.999, total=   0.7s\n",
      "[CV] criterion=entropy, max_depth=9, splitter=random .................\n",
      "[CV]  criterion=entropy, max_depth=9, splitter=random, score=0.999, total=   0.8s\n",
      "[CV] criterion=entropy, max_depth=9, splitter=random .................\n",
      "[CV]  criterion=entropy, max_depth=9, splitter=random, score=0.999, total=   0.8s\n",
      "[CV] criterion=entropy, max_depth=9, splitter=random .................\n",
      "[CV]  criterion=entropy, max_depth=9, splitter=random, score=0.999, total=   0.7s\n",
      "[CV] criterion=entropy, max_depth=9, splitter=random .................\n",
      "[CV]  criterion=entropy, max_depth=9, splitter=random, score=0.999, total=   0.7s\n",
      "[CV] criterion=entropy, max_depth=10, splitter=best ..................\n",
      "[CV]  criterion=entropy, max_depth=10, splitter=best, score=0.999, total=   7.0s\n",
      "[CV] criterion=entropy, max_depth=10, splitter=best ..................\n",
      "[CV]  criterion=entropy, max_depth=10, splitter=best, score=0.999, total=   6.1s\n",
      "[CV] criterion=entropy, max_depth=10, splitter=best ..................\n",
      "[CV]  criterion=entropy, max_depth=10, splitter=best, score=0.999, total=   6.4s\n",
      "[CV] criterion=entropy, max_depth=10, splitter=best ..................\n",
      "[CV]  criterion=entropy, max_depth=10, splitter=best, score=1.000, total=   5.6s\n",
      "[CV] criterion=entropy, max_depth=10, splitter=best ..................\n",
      "[CV]  criterion=entropy, max_depth=10, splitter=best, score=0.999, total=   6.9s\n",
      "[CV] criterion=entropy, max_depth=10, splitter=random ................\n",
      "[CV]  criterion=entropy, max_depth=10, splitter=random, score=0.999, total=   0.8s\n",
      "[CV] criterion=entropy, max_depth=10, splitter=random ................\n",
      "[CV]  criterion=entropy, max_depth=10, splitter=random, score=0.999, total=   0.9s\n",
      "[CV] criterion=entropy, max_depth=10, splitter=random ................\n",
      "[CV]  criterion=entropy, max_depth=10, splitter=random, score=0.999, total=   0.8s\n",
      "[CV] criterion=entropy, max_depth=10, splitter=random ................\n",
      "[CV]  criterion=entropy, max_depth=10, splitter=random, score=0.999, total=   0.8s\n",
      "[CV] criterion=entropy, max_depth=10, splitter=random ................\n",
      "[CV]  criterion=entropy, max_depth=10, splitter=random, score=1.000, total=   0.8s\n"
     ]
    },
    {
     "name": "stderr",
     "output_type": "stream",
     "text": [
      "[Parallel(n_jobs=1)]: Done 220 out of 220 | elapsed:  9.2min finished\n"
     ]
    },
    {
     "data": {
      "text/plain": [
       "GridSearchCV(estimator=DecisionTreeClassifier(),\n",
       "             param_grid={'criterion': ['gini', 'entropy'],\n",
       "                         'max_depth': [None, 1, 2, 3, 4, 5, 6, 7, 8, 9, 10],\n",
       "                         'splitter': ['best', 'random']},\n",
       "             verbose=3)"
      ]
     },
     "execution_count": 21,
     "metadata": {},
     "output_type": "execute_result"
    }
   ],
   "source": [
    "# Train the model with GridSearch\n",
    "decisionTreeGrid.fit(X_train_scaled, y_train.flatten())"
   ]
  },
  {
   "cell_type": "code",
   "execution_count": 22,
   "metadata": {},
   "outputs": [
    {
     "name": "stdout",
     "output_type": "stream",
     "text": [
      "{'criterion': 'gini', 'max_depth': 8, 'splitter': 'best'}\n",
      "0.9994709861660542\n"
     ]
    }
   ],
   "source": [
    "print(decisionTreeGrid.best_params_)\n",
    "print(decisionTreeGrid.best_score_)"
   ]
  },
  {
   "cell_type": "code",
   "execution_count": 23,
   "metadata": {},
   "outputs": [],
   "source": [
    "# Make predictions with the hyperparameter tuned model\n",
    "decisionTreeGridPredictions = decisionTreeGrid.predict(X_test_scaled)"
   ]
  },
  {
   "cell_type": "code",
   "execution_count": 24,
   "metadata": {},
   "outputs": [
    {
     "name": "stdout",
     "output_type": "stream",
     "text": [
      "                precision    recall  f1-score   support\n",
      "\n",
      "Non Fraudulent       1.00      1.00      1.00     71089\n",
      "    Fraudulent       0.88      0.78      0.83       113\n",
      "\n",
      "      accuracy                           1.00     71202\n",
      "     macro avg       0.94      0.89      0.91     71202\n",
      "  weighted avg       1.00      1.00      1.00     71202\n",
      "\n"
     ]
    }
   ],
   "source": [
    "# Print classification report\n",
    "print(classification_report(y_test.flatten(), decisionTreeGridPredictions,\n",
    "                            target_names=[\"Non Fraudulent\", \"Fraudulent\"]))"
   ]
  },
  {
   "cell_type": "code",
   "execution_count": 32,
   "metadata": {},
   "outputs": [
    {
     "data": {
      "text/plain": [
       "DecisionTreeClassifier(max_depth=8)"
      ]
     },
     "execution_count": 32,
     "metadata": {},
     "output_type": "execute_result"
    }
   ],
   "source": [
    "hypertunedDecisionTreeModel = DecisionTreeClassifier(criterion = 'gini', max_depth = 8, splitter = 'best')\n",
    "hypertunedDecisionTreeModel"
   ]
  },
  {
   "cell_type": "code",
   "execution_count": 33,
   "metadata": {},
   "outputs": [
    {
     "data": {
      "text/plain": [
       "DecisionTreeClassifier(max_depth=8)"
      ]
     },
     "execution_count": 33,
     "metadata": {},
     "output_type": "execute_result"
    }
   ],
   "source": [
    "hypertunedDecisionTreeModel.fit(X_train_scaled, y_train.flatten())"
   ]
  },
  {
   "cell_type": "code",
   "execution_count": 34,
   "metadata": {},
   "outputs": [
    {
     "name": "stdout",
     "output_type": "stream",
     "text": [
      "Training Data Score: 0.9996769738536083\n",
      "Testing Data Score: 0.9994943962248252\n"
     ]
    }
   ],
   "source": [
    "print(f\"Training Data Score: {hypertunedDecisionTreeModel.score(X_train_scaled, y_train)}\")\n",
    "print(f\"Testing Data Score: {hypertunedDecisionTreeModel.score(X_test_scaled, y_test)}\")"
   ]
  },
  {
   "cell_type": "code",
   "execution_count": 35,
   "metadata": {},
   "outputs": [],
   "source": [
    "hypertunedDecisionTreeModelPredictions = hypertunedDecisionTreeModel.predict(X_test_scaled)"
   ]
  },
  {
   "cell_type": "code",
   "execution_count": 36,
   "metadata": {},
   "outputs": [],
   "source": [
    "hypertunedDecisionTreeModelPredictProba = hypertunedDecisionTreeModel.predict_proba(X_test_scaled)[:,1]"
   ]
  },
  {
   "cell_type": "code",
   "execution_count": 37,
   "metadata": {},
   "outputs": [
    {
     "name": "stdout",
     "output_type": "stream",
     "text": [
      "                precision    recall  f1-score   support\n",
      "\n",
      "Non Fraudulent       1.00      1.00      1.00     71089\n",
      "    Fraudulent       0.88      0.79      0.83       113\n",
      "\n",
      "      accuracy                           1.00     71202\n",
      "     macro avg       0.94      0.89      0.92     71202\n",
      "  weighted avg       1.00      1.00      1.00     71202\n",
      "\n"
     ]
    }
   ],
   "source": [
    "# Calculate classification report\n",
    "print(classification_report(y_test.flatten(), hypertunedDecisionTreeModelPredictions,\n",
    "                            target_names=[\"Non Fraudulent\", \"Fraudulent\"]))"
   ]
  },
  {
   "cell_type": "code",
   "execution_count": 38,
   "metadata": {},
   "outputs": [
    {
     "name": "stdout",
     "output_type": "stream",
     "text": [
      "Decision Tree Classifier\n",
      "========================\n",
      "Accuracy:  0.9994943962248252\n",
      "Precision:  0.8811881188118812\n",
      "Recall:  0.7876106194690266\n",
      "F1-Score:  0.8317757009345794\n",
      "AUC score:  0.8937209084910016\n",
      "                precision    recall  f1-score   support\n",
      "\n",
      "Non Fraudulent       1.00      1.00      1.00     71089\n",
      "    Fraudulent       0.88      0.79      0.83       113\n",
      "\n",
      "      accuracy                           1.00     71202\n",
      "     macro avg       0.94      0.89      0.92     71202\n",
      "  weighted avg       1.00      1.00      1.00     71202\n",
      "\n"
     ]
    },
    {
     "data": {
      "image/png": "[encoded data removed]",
      "text/plain": [
       "<Figure size 432x288 with 1 Axes>"
      ]
     },
     "metadata": {
      "needs_background": "light"
     },
     "output_type": "display_data"
    },
    {
     "data": {
      "image/png": "[encoded data removed]",
      "text/plain": [
       "<Figure size 432x432 with 2 Axes>"
      ]
     },
     "metadata": {
      "needs_background": "light"
     },
     "output_type": "display_data"
    }
   ],
   "source": [
    "print(\"Decision Tree Classifier\")\n",
    "print(\"========================\")\n",
    "print(\"Accuracy: \",accuracy_score(y_test.flatten(), hypertunedDecisionTreeModelPredictions)) \n",
    "print(\"Precision: \",precision_score(y_test.flatten(), hypertunedDecisionTreeModelPredictions))\n",
    "print(\"Recall: \",recall_score(y_test.flatten(), hypertunedDecisionTreeModelPredictions))\n",
    "print(\"F1-Score: \",f1_score(y_test.flatten(), hypertunedDecisionTreeModelPredictions))\n",
    "print(\"AUC score: \",roc_auc_score(y_test.flatten(), hypertunedDecisionTreeModelPredictions))\n",
    "print(classification_report(y_test.flatten(), hypertunedDecisionTreeModelPredictions,\n",
    "                            target_names=[\"Non Fraudulent\", \"Fraudulent\"]))\n",
    "\n",
    "p, r, t = precision_recall_curve(y_test.flatten(), hypertunedDecisionTreeModelPredictProba)\n",
    "plt.plot(p, r)\n",
    "plt.xlabel('Recall')\n",
    "plt.ylabel('Precision')\n",
    "plt.title('Precision Recall Curve - Decision Tree Classifier')\n",
    "\n",
    "confusionMatrix = confusion_matrix(y_test.flatten(), hypertunedDecisionTreeModelPredictions) \n",
    "plt.figure(figsize =(6, 6)) \n",
    "sns.heatmap(confusionMatrix, xticklabels = ['Non Fraudulent', 'Fraudulent'],  \n",
    "            yticklabels = ['Non Fraudulent', 'Fraudulent'], annot = True, fmt =\"d\"); \n",
    "plt.title(\"Confusion matrix - Decision Tree Classifier\") \n",
    "plt.ylabel('Actual Class') \n",
    "plt.xlabel('Predicted class') \n",
    "plt.show() "
   ]
  },
  {
   "cell_type": "markdown",
   "metadata": {},
   "source": [
    "# Feature Selection"
   ]
  },
  {
   "cell_type": "code",
   "execution_count": 39,
   "metadata": {},
   "outputs": [
    {
     "data": {
      "text/plain": [
       "[(0.6497273477261745, 'V17'),\n",
       " (0.12640320722892687, 'V14'),\n",
       " (0.04161488156066856, 'V10'),\n",
       " (0.037145054007352005, 'V12'),\n",
       " (0.024923242988512007, 'V15'),\n",
       " (0.024206575794096335, 'V27'),\n",
       " (0.01950950488981318, 'V3'),\n",
       " (0.016688804090562462, 'V16'),\n",
       " (0.010213996398528002, 'V18'),\n",
       " (0.009789492731872691, 'V7'),\n",
       " (0.008390250408167392, 'V1'),\n",
       " (0.008035350117678227, 'V24'),\n",
       " (0.0038512624824374913, 'V8'),\n",
       " (0.003329889788900365, 'V4'),\n",
       " (0.0030905192760300845, 'V6'),\n",
       " (0.0030489161319296795, 'V26'),\n",
       " (0.0030295147538507185, 'V20'),\n",
       " (0.0027014652775358863, 'V5'),\n",
       " (0.002398202541775494, 'V21'),\n",
       " (0.001582710609220884, 'V19'),\n",
       " (0.0003198111959673224, 'V23'),\n",
       " (0.0, 'V9'),\n",
       " (0.0, 'V28'),\n",
       " (0.0, 'V25'),\n",
       " (0.0, 'V22'),\n",
       " (0.0, 'V2'),\n",
       " (0.0, 'V13'),\n",
       " (0.0, 'V11'),\n",
       " (0.0, 'Time'),\n",
       " (0.0, 'Amount')]"
      ]
     },
     "execution_count": 39,
     "metadata": {},
     "output_type": "execute_result"
    }
   ],
   "source": [
    "feature_names = selected_features.columns\n",
    "sorted(zip(hypertunedDecisionTreeModel.feature_importances_, feature_names), reverse=True)"
   ]
  },
  {
   "cell_type": "markdown",
   "metadata": {},
   "source": [
    "## Choosing Top features"
   ]
  },
  {
   "cell_type": "code",
   "execution_count": 40,
   "metadata": {},
   "outputs": [
    {
     "data": {
      "text/html": [
       "<div>\n",
       "<style scoped>\n",
       "    .dataframe tbody tr th:only-of-type {\n",
       "        vertical-align: middle;\n",
       "    }\n",
       "\n",
       "    .dataframe tbody tr th {\n",
       "        vertical-align: top;\n",
       "    }\n",
       "\n",
       "    .dataframe thead th {\n",
       "        text-align: right;\n",
       "    }\n",
       "</style>\n",
       "<table border=\"1\" class=\"dataframe\">\n",
       "  <thead>\n",
       "    <tr style=\"text-align: right;\">\n",
       "      <th></th>\n",
       "      <th>V17</th>\n",
       "      <th>V14</th>\n",
       "      <th>V10</th>\n",
       "      <th>V12</th>\n",
       "      <th>V15</th>\n",
       "      <th>V27</th>\n",
       "      <th>V3</th>\n",
       "      <th>V16</th>\n",
       "      <th>V18</th>\n",
       "      <th>V7</th>\n",
       "      <th>...</th>\n",
       "      <th>V24</th>\n",
       "      <th>V8</th>\n",
       "      <th>V4</th>\n",
       "      <th>V6</th>\n",
       "      <th>V26</th>\n",
       "      <th>V20</th>\n",
       "      <th>V5</th>\n",
       "      <th>V21</th>\n",
       "      <th>V19</th>\n",
       "      <th>V23</th>\n",
       "    </tr>\n",
       "  </thead>\n",
       "  <tbody>\n",
       "    <tr>\n",
       "      <th>0</th>\n",
       "      <td>0.207971</td>\n",
       "      <td>-0.311169</td>\n",
       "      <td>0.090794</td>\n",
       "      <td>-0.617801</td>\n",
       "      <td>1.468177</td>\n",
       "      <td>0.133558</td>\n",
       "      <td>2.536347</td>\n",
       "      <td>-0.470401</td>\n",
       "      <td>0.025791</td>\n",
       "      <td>0.239599</td>\n",
       "      <td>...</td>\n",
       "      <td>0.066928</td>\n",
       "      <td>0.098698</td>\n",
       "      <td>1.378155</td>\n",
       "      <td>0.462388</td>\n",
       "      <td>-0.189115</td>\n",
       "      <td>0.251412</td>\n",
       "      <td>-0.338321</td>\n",
       "      <td>-0.018307</td>\n",
       "      <td>0.403993</td>\n",
       "      <td>-0.110474</td>\n",
       "    </tr>\n",
       "  </tbody>\n",
       "</table>\n",
       "<p>1 rows × 21 columns</p>\n",
       "</div>"
      ],
      "text/plain": [
       "        V17       V14       V10       V12       V15       V27        V3  \\\n",
       "0  0.207971 -0.311169  0.090794 -0.617801  1.468177  0.133558  2.536347   \n",
       "\n",
       "        V16       V18        V7  ...       V24        V8        V4        V6  \\\n",
       "0 -0.470401  0.025791  0.239599  ...  0.066928  0.098698  1.378155  0.462388   \n",
       "\n",
       "        V26       V20        V5       V21       V19       V23  \n",
       "0 -0.189115  0.251412 -0.338321 -0.018307  0.403993 -0.110474  \n",
       "\n",
       "[1 rows x 21 columns]"
      ]
     },
     "execution_count": 40,
     "metadata": {},
     "output_type": "execute_result"
    }
   ],
   "source": [
    "# Set top features. This will be used as x values.\n",
    "top_features = df[[ \n",
    "'V17',\n",
    "'V14',\n",
    "'V10',\n",
    "'V12',\n",
    "'V15',\n",
    "'V27',\n",
    "'V3',\n",
    "'V16',\n",
    "'V18',\n",
    "'V7',\n",
    "'V1',\n",
    "'V24',\n",
    "'V8',\n",
    "'V4',\n",
    "'V6',\n",
    "'V26',\n",
    "'V20',\n",
    "'V5',\n",
    "'V21',\n",
    "'V19',\n",
    "'V23',\n",
    "]]\n",
    "\n",
    "top_features.head(1)"
   ]
  },
  {
   "cell_type": "markdown",
   "metadata": {},
   "source": [
    "### Create a Train Test Split\n",
    "\n",
    "Use `Class` for the y values"
   ]
  },
  {
   "cell_type": "code",
   "execution_count": 41,
   "metadata": {},
   "outputs": [
    {
     "name": "stdout",
     "output_type": "stream",
     "text": [
      "Shape:  (284807, 21) (284807, 1)\n"
     ]
    }
   ],
   "source": [
    "# Assign the data to X and y\n",
    "# Note: Sklearn requires a two-dimensional array of values\n",
    "# so we use reshape to create this\n",
    "\n",
    "top_X = top_features\n",
    "top_y = df[['Class']].values.reshape(-1, 1)\n",
    "\n",
    "print(\"Shape: \", top_X.shape, top_y.shape)"
   ]
  },
  {
   "cell_type": "code",
   "execution_count": 42,
   "metadata": {},
   "outputs": [],
   "source": [
    "top_X_train, top_X_test, top_y_train, top_y_test = train_test_split(top_X, top_y, random_state=42)"
   ]
  },
  {
   "cell_type": "code",
   "execution_count": 44,
   "metadata": {},
   "outputs": [
    {
     "name": "stdout",
     "output_type": "stream",
     "text": [
      "(213605, 21) (71202, 21) (213605, 1) (71202, 1)\n"
     ]
    }
   ],
   "source": [
    "print(top_X_train.shape,top_X_test.shape,top_y_train.shape, top_y_test.shape)"
   ]
  },
  {
   "cell_type": "markdown",
   "metadata": {},
   "source": [
    "### Pre-processing\n",
    "\n",
    "Scale the data using the MinMaxScaler"
   ]
  },
  {
   "cell_type": "code",
   "execution_count": 45,
   "metadata": {},
   "outputs": [],
   "source": [
    "top_X_minmax = MinMaxScaler().fit(top_X_train)\n",
    "\n",
    "top_X_train_scaled = top_X_minmax.transform(top_X_train)\n",
    "top_X_test_scaled = top_X_minmax.transform(top_X_test)"
   ]
  },
  {
   "cell_type": "markdown",
   "metadata": {},
   "source": [
    "# Decision Tree Model with Top features\n",
    "\n",
    "### Train the Model"
   ]
  },
  {
   "cell_type": "code",
   "execution_count": 46,
   "metadata": {},
   "outputs": [
    {
     "data": {
      "text/plain": [
       "DecisionTreeClassifier()"
      ]
     },
     "execution_count": 46,
     "metadata": {},
     "output_type": "execute_result"
    }
   ],
   "source": [
    "top_decisionTreeModel = DecisionTreeClassifier()\n",
    "top_decisionTreeModel"
   ]
  },
  {
   "cell_type": "code",
   "execution_count": 47,
   "metadata": {},
   "outputs": [
    {
     "data": {
      "text/plain": [
       "DecisionTreeClassifier()"
      ]
     },
     "execution_count": 47,
     "metadata": {},
     "output_type": "execute_result"
    }
   ],
   "source": [
    "top_decisionTreeModel.fit(top_X_train_scaled, top_y_train.flatten())"
   ]
  },
  {
   "cell_type": "code",
   "execution_count": 48,
   "metadata": {},
   "outputs": [
    {
     "name": "stdout",
     "output_type": "stream",
     "text": [
      "Training Data Score: 1.0\n",
      "Testing Data Score: 0.9991432824920649\n"
     ]
    }
   ],
   "source": [
    "print(f\"Training Data Score: {top_decisionTreeModel.score(top_X_train_scaled, top_y_train)}\")\n",
    "print(f\"Testing Data Score: {top_decisionTreeModel.score(top_X_test_scaled, top_y_test)}\")"
   ]
  },
  {
   "cell_type": "code",
   "execution_count": 49,
   "metadata": {},
   "outputs": [],
   "source": [
    "# Make predictions\n",
    "top_decisionTreePredictions = top_decisionTreeModel.predict(top_X_test_scaled)"
   ]
  },
  {
   "cell_type": "code",
   "execution_count": 50,
   "metadata": {},
   "outputs": [],
   "source": [
    "top_decisionTreePredictProba = top_decisionTreeModel.predict_proba(top_X_test_scaled)[:,1]"
   ]
  },
  {
   "cell_type": "code",
   "execution_count": 51,
   "metadata": {},
   "outputs": [
    {
     "name": "stdout",
     "output_type": "stream",
     "text": [
      "                precision    recall  f1-score   support\n",
      "\n",
      "Non Fraudulent       1.00      1.00      1.00     71089\n",
      "    Fraudulent       0.71      0.78      0.74       113\n",
      "\n",
      "      accuracy                           1.00     71202\n",
      "     macro avg       0.85      0.89      0.87     71202\n",
      "  weighted avg       1.00      1.00      1.00     71202\n",
      "\n",
      "Accuracy: 0.9991432824920649\n"
     ]
    }
   ],
   "source": [
    "print(classification_report(top_y_test.flatten(), top_decisionTreePredictions,\n",
    "                            target_names=[\"Non Fraudulent\", \"Fraudulent\"]))\n",
    "print(\"Accuracy:\", accuracy_score(top_y_test.flatten(), top_decisionTreePredictions))"
   ]
  },
  {
   "cell_type": "code",
   "execution_count": 52,
   "metadata": {},
   "outputs": [
    {
     "name": "stdout",
     "output_type": "stream",
     "text": [
      "Decision Tree Classifier\n",
      "========================\n",
      "Accuracy:  0.9991432824920649\n",
      "Precision:  0.7096774193548387\n",
      "Recall:  0.7787610619469026\n",
      "F1-Score:  0.7426160337552743\n",
      "AUC score:  0.8891273272429163\n",
      "                precision    recall  f1-score   support\n",
      "\n",
      "Non Fraudulent       1.00      1.00      1.00     71089\n",
      "    Fraudulent       0.71      0.78      0.74       113\n",
      "\n",
      "      accuracy                           1.00     71202\n",
      "     macro avg       0.85      0.89      0.87     71202\n",
      "  weighted avg       1.00      1.00      1.00     71202\n",
      "\n"
     ]
    },
    {
     "data": {
      "image/png": "[encoded data removed]",
      "text/plain": [
       "<Figure size 432x288 with 1 Axes>"
      ]
     },
     "metadata": {
      "needs_background": "light"
     },
     "output_type": "display_data"
    },
    {
     "data": {
      "image/png": "[encoded data removed]",
      "text/plain": [
       "<Figure size 432x432 with 2 Axes>"
      ]
     },
     "metadata": {
      "needs_background": "light"
     },
     "output_type": "display_data"
    }
   ],
   "source": [
    "print(\"Decision Tree Classifier\")\n",
    "print(\"========================\")\n",
    "print(\"Accuracy: \",accuracy_score(top_y_test.flatten(), top_decisionTreePredictions)) \n",
    "print(\"Precision: \",precision_score(top_y_test.flatten(), top_decisionTreePredictions))\n",
    "print(\"Recall: \",recall_score(top_y_test.flatten(), top_decisionTreePredictions))\n",
    "print(\"F1-Score: \",f1_score(top_y_test.flatten(), top_decisionTreePredictions))\n",
    "print(\"AUC score: \",roc_auc_score(top_y_test.flatten(), top_decisionTreePredictions))\n",
    "print(classification_report(top_y_test.flatten(), top_decisionTreePredictions,\n",
    "                            target_names=[\"Non Fraudulent\", \"Fraudulent\"]))\n",
    "\n",
    "p, r, t = precision_recall_curve(top_y_test.flatten(), top_decisionTreePredictProba)\n",
    "plt.plot(p, r)\n",
    "plt.xlabel('Recall')\n",
    "plt.ylabel('Precision')\n",
    "plt.title('Precision Recall Curve - Decision Tree Classifier')\n",
    "\n",
    "top_14confusionMatrix = confusion_matrix(top_y_test.flatten(), top_decisionTreePredictions) \n",
    "plt.figure(figsize =(6, 6)) \n",
    "sns.heatmap(top_14confusionMatrix, xticklabels = ['Non Fraudulent', 'Fraudulent'],  \n",
    "            yticklabels = ['Non Fraudulent', 'Fraudulent'], annot = True, fmt =\"d\"); \n",
    "plt.title(\"Confusion matrix - Decision Tree Classifier\") \n",
    "plt.ylabel('Actual Class') \n",
    "plt.xlabel('Predicted class') \n",
    "plt.show() "
   ]
  },
  {
   "cell_type": "markdown",
   "metadata": {},
   "source": [
    "### Hyperparameter Tuning\n",
    "\n",
    "Use `GridSearchCV` to tune the model's parameters"
   ]
  },
  {
   "cell_type": "code",
   "execution_count": 53,
   "metadata": {},
   "outputs": [
    {
     "data": {
      "text/plain": [
       "dict_keys(['ccp_alpha', 'class_weight', 'criterion', 'max_depth', 'max_features', 'max_leaf_nodes', 'min_impurity_decrease', 'min_impurity_split', 'min_samples_leaf', 'min_samples_split', 'min_weight_fraction_leaf', 'presort', 'random_state', 'splitter'])"
      ]
     },
     "execution_count": 53,
     "metadata": {},
     "output_type": "execute_result"
    }
   ],
   "source": [
    "top_decisionTreeModel.get_params().keys()"
   ]
  },
  {
   "cell_type": "code",
   "execution_count": 54,
   "metadata": {},
   "outputs": [],
   "source": [
    "# Create the GridSearchCV model\n",
    "# Create the GridSearch estimator along with a parameter object containing the values to adjust\n",
    "top_decisionTreeParamGrid = {'criterion':['gini', 'entropy'],\n",
    "                             'splitter': ['best','random'],\n",
    "                             'max_depth': [None, 1, 2, 3, 4, 5, 6, 7, 8, 9, 10]}\n",
    "top_decisionTreeGrid = GridSearchCV(top_decisionTreeModel, top_decisionTreeParamGrid, verbose=3)"
   ]
  },
  {
   "cell_type": "code",
   "execution_count": 55,
   "metadata": {},
   "outputs": [
    {
     "name": "stdout",
     "output_type": "stream",
     "text": [
      "Fitting 5 folds for each of 44 candidates, totalling 220 fits\n",
      "[CV] criterion=gini, max_depth=None, splitter=best ...................\n"
     ]
    },
    {
     "name": "stderr",
     "output_type": "stream",
     "text": [
      "[Parallel(n_jobs=1)]: Using backend SequentialBackend with 1 concurrent workers.\n"
     ]
    },
    {
     "name": "stdout",
     "output_type": "stream",
     "text": [
      "[CV]  criterion=gini, max_depth=None, splitter=best, score=0.999, total=   9.2s\n",
      "[CV] criterion=gini, max_depth=None, splitter=best ...................\n"
     ]
    },
    {
     "name": "stderr",
     "output_type": "stream",
     "text": [
      "[Parallel(n_jobs=1)]: Done   1 out of   1 | elapsed:    9.2s remaining:    0.0s\n"
     ]
    },
    {
     "name": "stdout",
     "output_type": "stream",
     "text": [
      "[CV]  criterion=gini, max_depth=None, splitter=best, score=0.999, total=   7.2s\n",
      "[CV] criterion=gini, max_depth=None, splitter=best ...................\n"
     ]
    },
    {
     "name": "stderr",
     "output_type": "stream",
     "text": [
      "[Parallel(n_jobs=1)]: Done   2 out of   2 | elapsed:   16.4s remaining:    0.0s\n"
     ]
    },
    {
     "name": "stdout",
     "output_type": "stream",
     "text": [
      "[CV]  criterion=gini, max_depth=None, splitter=best, score=0.999, total=   6.8s\n",
      "[CV] criterion=gini, max_depth=None, splitter=best ...................\n",
      "[CV]  criterion=gini, max_depth=None, splitter=best, score=0.999, total=   8.7s\n",
      "[CV] criterion=gini, max_depth=None, splitter=best ...................\n",
      "[CV]  criterion=gini, max_depth=None, splitter=best, score=0.999, total=   8.3s\n",
      "[CV] criterion=gini, max_depth=None, splitter=random .................\n",
      "[CV]  criterion=gini, max_depth=None, splitter=random, score=0.999, total=   0.5s\n",
      "[CV] criterion=gini, max_depth=None, splitter=random .................\n",
      "[CV]  criterion=gini, max_depth=None, splitter=random, score=0.999, total=   0.8s\n",
      "[CV] criterion=gini, max_depth=None, splitter=random .................\n",
      "[CV]  criterion=gini, max_depth=None, splitter=random, score=0.999, total=   0.7s\n",
      "[CV] criterion=gini, max_depth=None, splitter=random .................\n",
      "[CV]  criterion=gini, max_depth=None, splitter=random, score=0.999, total=   0.9s\n",
      "[CV] criterion=gini, max_depth=None, splitter=random .................\n",
      "[CV]  criterion=gini, max_depth=None, splitter=random, score=0.999, total=   0.9s\n",
      "[CV] criterion=gini, max_depth=1, splitter=best ......................\n",
      "[CV]  criterion=gini, max_depth=1, splitter=best, score=0.999, total=   0.5s\n",
      "[CV] criterion=gini, max_depth=1, splitter=best ......................\n",
      "[CV]  criterion=gini, max_depth=1, splitter=best, score=0.999, total=   0.5s\n",
      "[CV] criterion=gini, max_depth=1, splitter=best ......................\n",
      "[CV]  criterion=gini, max_depth=1, splitter=best, score=0.999, total=   0.5s\n",
      "[CV] criterion=gini, max_depth=1, splitter=best ......................\n",
      "[CV]  criterion=gini, max_depth=1, splitter=best, score=0.999, total=   0.5s\n",
      "[CV] criterion=gini, max_depth=1, splitter=best ......................\n",
      "[CV]  criterion=gini, max_depth=1, splitter=best, score=0.999, total=   0.5s\n",
      "[CV] criterion=gini, max_depth=1, splitter=random ....................\n",
      "[CV]  criterion=gini, max_depth=1, splitter=random, score=0.998, total=   0.1s\n",
      "[CV] criterion=gini, max_depth=1, splitter=random ....................\n",
      "[CV]  criterion=gini, max_depth=1, splitter=random, score=0.998, total=   0.1s\n",
      "[CV] criterion=gini, max_depth=1, splitter=random ....................\n",
      "[CV]  criterion=gini, max_depth=1, splitter=random, score=0.998, total=   0.1s\n",
      "[CV] criterion=gini, max_depth=1, splitter=random ....................\n",
      "[CV]  criterion=gini, max_depth=1, splitter=random, score=0.999, total=   0.1s\n",
      "[CV] criterion=gini, max_depth=1, splitter=random ....................\n",
      "[CV]  criterion=gini, max_depth=1, splitter=random, score=0.999, total=   0.1s\n",
      "[CV] criterion=gini, max_depth=2, splitter=best ......................\n",
      "[CV]  criterion=gini, max_depth=2, splitter=best, score=0.999, total=   0.9s\n",
      "[CV] criterion=gini, max_depth=2, splitter=best ......................\n",
      "[CV]  criterion=gini, max_depth=2, splitter=best, score=0.999, total=   0.9s\n",
      "[CV] criterion=gini, max_depth=2, splitter=best ......................\n",
      "[CV]  criterion=gini, max_depth=2, splitter=best, score=0.999, total=   1.0s\n",
      "[CV] criterion=gini, max_depth=2, splitter=best ......................\n",
      "[CV]  criterion=gini, max_depth=2, splitter=best, score=0.999, total=   1.0s\n",
      "[CV] criterion=gini, max_depth=2, splitter=best ......................\n",
      "[CV]  criterion=gini, max_depth=2, splitter=best, score=0.999, total=   1.1s\n",
      "[CV] criterion=gini, max_depth=2, splitter=random ....................\n",
      "[CV]  criterion=gini, max_depth=2, splitter=random, score=0.999, total=   0.1s\n",
      "[CV] criterion=gini, max_depth=2, splitter=random ....................\n",
      "[CV]  criterion=gini, max_depth=2, splitter=random, score=0.999, total=   0.1s\n",
      "[CV] criterion=gini, max_depth=2, splitter=random ....................\n",
      "[CV]  criterion=gini, max_depth=2, splitter=random, score=0.999, total=   0.1s\n",
      "[CV] criterion=gini, max_depth=2, splitter=random ....................\n",
      "[CV]  criterion=gini, max_depth=2, splitter=random, score=0.998, total=   0.1s\n",
      "[CV] criterion=gini, max_depth=2, splitter=random ....................\n",
      "[CV]  criterion=gini, max_depth=2, splitter=random, score=0.999, total=   0.1s\n",
      "[CV] criterion=gini, max_depth=3, splitter=best ......................\n",
      "[CV]  criterion=gini, max_depth=3, splitter=best, score=0.999, total=   1.9s\n",
      "[CV] criterion=gini, max_depth=3, splitter=best ......................\n",
      "[CV]  criterion=gini, max_depth=3, splitter=best, score=0.999, total=   1.5s\n",
      "[CV] criterion=gini, max_depth=3, splitter=best ......................\n",
      "[CV]  criterion=gini, max_depth=3, splitter=best, score=0.999, total=   1.6s\n",
      "[CV] criterion=gini, max_depth=3, splitter=best ......................\n",
      "[CV]  criterion=gini, max_depth=3, splitter=best, score=0.999, total=   1.9s\n",
      "[CV] criterion=gini, max_depth=3, splitter=best ......................\n",
      "[CV]  criterion=gini, max_depth=3, splitter=best, score=0.999, total=   1.5s\n",
      "[CV] criterion=gini, max_depth=3, splitter=random ....................\n",
      "[CV]  criterion=gini, max_depth=3, splitter=random, score=0.999, total=   0.2s\n",
      "[CV] criterion=gini, max_depth=3, splitter=random ....................\n",
      "[CV]  criterion=gini, max_depth=3, splitter=random, score=0.999, total=   0.2s\n",
      "[CV] criterion=gini, max_depth=3, splitter=random ....................\n",
      "[CV]  criterion=gini, max_depth=3, splitter=random, score=0.999, total=   0.2s\n",
      "[CV] criterion=gini, max_depth=3, splitter=random ....................\n",
      "[CV]  criterion=gini, max_depth=3, splitter=random, score=0.999, total=   0.2s\n",
      "[CV] criterion=gini, max_depth=3, splitter=random ....................\n",
      "[CV]  criterion=gini, max_depth=3, splitter=random, score=0.999, total=   0.2s\n",
      "[CV] criterion=gini, max_depth=4, splitter=best ......................\n",
      "[CV]  criterion=gini, max_depth=4, splitter=best, score=0.999, total=   2.3s\n",
      "[CV] criterion=gini, max_depth=4, splitter=best ......................\n",
      "[CV]  criterion=gini, max_depth=4, splitter=best, score=0.999, total=   2.0s\n",
      "[CV] criterion=gini, max_depth=4, splitter=best ......................\n",
      "[CV]  criterion=gini, max_depth=4, splitter=best, score=0.999, total=   1.9s\n",
      "[CV] criterion=gini, max_depth=4, splitter=best ......................\n",
      "[CV]  criterion=gini, max_depth=4, splitter=best, score=0.999, total=   2.0s\n",
      "[CV] criterion=gini, max_depth=4, splitter=best ......................\n",
      "[CV]  criterion=gini, max_depth=4, splitter=best, score=0.999, total=   1.8s\n",
      "[CV] criterion=gini, max_depth=4, splitter=random ....................\n",
      "[CV]  criterion=gini, max_depth=4, splitter=random, score=0.999, total=   0.2s\n",
      "[CV] criterion=gini, max_depth=4, splitter=random ....................\n",
      "[CV]  criterion=gini, max_depth=4, splitter=random, score=0.999, total=   0.3s\n",
      "[CV] criterion=gini, max_depth=4, splitter=random ....................\n",
      "[CV]  criterion=gini, max_depth=4, splitter=random, score=0.999, total=   0.3s\n",
      "[CV] criterion=gini, max_depth=4, splitter=random ....................\n",
      "[CV]  criterion=gini, max_depth=4, splitter=random, score=0.999, total=   0.3s\n",
      "[CV] criterion=gini, max_depth=4, splitter=random ....................\n",
      "[CV]  criterion=gini, max_depth=4, splitter=random, score=0.999, total=   0.2s\n",
      "[CV] criterion=gini, max_depth=5, splitter=best ......................\n",
      "[CV]  criterion=gini, max_depth=5, splitter=best, score=0.999, total=   2.4s\n",
      "[CV] criterion=gini, max_depth=5, splitter=best ......................\n",
      "[CV]  criterion=gini, max_depth=5, splitter=best, score=1.000, total=   2.4s\n",
      "[CV] criterion=gini, max_depth=5, splitter=best ......................\n",
      "[CV]  criterion=gini, max_depth=5, splitter=best, score=0.999, total=   2.4s\n",
      "[CV] criterion=gini, max_depth=5, splitter=best ......................\n",
      "[CV]  criterion=gini, max_depth=5, splitter=best, score=0.999, total=   2.4s\n",
      "[CV] criterion=gini, max_depth=5, splitter=best ......................\n",
      "[CV]  criterion=gini, max_depth=5, splitter=best, score=0.999, total=   2.8s\n",
      "[CV] criterion=gini, max_depth=5, splitter=random ....................\n",
      "[CV]  criterion=gini, max_depth=5, splitter=random, score=0.999, total=   0.3s\n",
      "[CV] criterion=gini, max_depth=5, splitter=random ....................\n",
      "[CV]  criterion=gini, max_depth=5, splitter=random, score=0.999, total=   0.3s\n",
      "[CV] criterion=gini, max_depth=5, splitter=random ....................\n"
     ]
    },
    {
     "name": "stdout",
     "output_type": "stream",
     "text": [
      "[CV]  criterion=gini, max_depth=5, splitter=random, score=0.999, total=   0.3s\n",
      "[CV] criterion=gini, max_depth=5, splitter=random ....................\n",
      "[CV]  criterion=gini, max_depth=5, splitter=random, score=0.999, total=   0.3s\n",
      "[CV] criterion=gini, max_depth=5, splitter=random ....................\n",
      "[CV]  criterion=gini, max_depth=5, splitter=random, score=0.999, total=   0.5s\n",
      "[CV] criterion=gini, max_depth=6, splitter=best ......................\n",
      "[CV]  criterion=gini, max_depth=6, splitter=best, score=1.000, total=   3.3s\n",
      "[CV] criterion=gini, max_depth=6, splitter=best ......................\n",
      "[CV]  criterion=gini, max_depth=6, splitter=best, score=0.999, total=   3.3s\n",
      "[CV] criterion=gini, max_depth=6, splitter=best ......................\n",
      "[CV]  criterion=gini, max_depth=6, splitter=best, score=0.999, total=   3.1s\n",
      "[CV] criterion=gini, max_depth=6, splitter=best ......................\n",
      "[CV]  criterion=gini, max_depth=6, splitter=best, score=0.999, total=   3.3s\n",
      "[CV] criterion=gini, max_depth=6, splitter=best ......................\n",
      "[CV]  criterion=gini, max_depth=6, splitter=best, score=0.999, total=   2.9s\n",
      "[CV] criterion=gini, max_depth=6, splitter=random ....................\n",
      "[CV]  criterion=gini, max_depth=6, splitter=random, score=0.999, total=   0.4s\n",
      "[CV] criterion=gini, max_depth=6, splitter=random ....................\n",
      "[CV]  criterion=gini, max_depth=6, splitter=random, score=0.999, total=   0.4s\n",
      "[CV] criterion=gini, max_depth=6, splitter=random ....................\n",
      "[CV]  criterion=gini, max_depth=6, splitter=random, score=0.999, total=   0.4s\n",
      "[CV] criterion=gini, max_depth=6, splitter=random ....................\n",
      "[CV]  criterion=gini, max_depth=6, splitter=random, score=0.999, total=   0.3s\n",
      "[CV] criterion=gini, max_depth=6, splitter=random ....................\n",
      "[CV]  criterion=gini, max_depth=6, splitter=random, score=0.999, total=   0.4s\n",
      "[CV] criterion=gini, max_depth=7, splitter=best ......................\n",
      "[CV]  criterion=gini, max_depth=7, splitter=best, score=1.000, total=   3.6s\n",
      "[CV] criterion=gini, max_depth=7, splitter=best ......................\n",
      "[CV]  criterion=gini, max_depth=7, splitter=best, score=0.999, total=   3.5s\n",
      "[CV] criterion=gini, max_depth=7, splitter=best ......................\n",
      "[CV]  criterion=gini, max_depth=7, splitter=best, score=0.999, total=   3.3s\n",
      "[CV] criterion=gini, max_depth=7, splitter=best ......................\n",
      "[CV]  criterion=gini, max_depth=7, splitter=best, score=0.999, total=   3.1s\n",
      "[CV] criterion=gini, max_depth=7, splitter=best ......................\n",
      "[CV]  criterion=gini, max_depth=7, splitter=best, score=0.999, total=   3.3s\n",
      "[CV] criterion=gini, max_depth=7, splitter=random ....................\n",
      "[CV]  criterion=gini, max_depth=7, splitter=random, score=0.999, total=   0.4s\n",
      "[CV] criterion=gini, max_depth=7, splitter=random ....................\n",
      "[CV]  criterion=gini, max_depth=7, splitter=random, score=0.999, total=   0.4s\n",
      "[CV] criterion=gini, max_depth=7, splitter=random ....................\n",
      "[CV]  criterion=gini, max_depth=7, splitter=random, score=0.999, total=   0.4s\n",
      "[CV] criterion=gini, max_depth=7, splitter=random ....................\n",
      "[CV]  criterion=gini, max_depth=7, splitter=random, score=0.999, total=   0.4s\n",
      "[CV] criterion=gini, max_depth=7, splitter=random ....................\n",
      "[CV]  criterion=gini, max_depth=7, splitter=random, score=0.999, total=   0.4s\n",
      "[CV] criterion=gini, max_depth=8, splitter=best ......................\n",
      "[CV]  criterion=gini, max_depth=8, splitter=best, score=1.000, total=   3.9s\n",
      "[CV] criterion=gini, max_depth=8, splitter=best ......................\n",
      "[CV]  criterion=gini, max_depth=8, splitter=best, score=0.999, total=   3.9s\n",
      "[CV] criterion=gini, max_depth=8, splitter=best ......................\n",
      "[CV]  criterion=gini, max_depth=8, splitter=best, score=0.999, total=   3.8s\n",
      "[CV] criterion=gini, max_depth=8, splitter=best ......................\n",
      "[CV]  criterion=gini, max_depth=8, splitter=best, score=1.000, total=   3.8s\n",
      "[CV] criterion=gini, max_depth=8, splitter=best ......................\n",
      "[CV]  criterion=gini, max_depth=8, splitter=best, score=0.999, total=   3.8s\n",
      "[CV] criterion=gini, max_depth=8, splitter=random ....................\n",
      "[CV]  criterion=gini, max_depth=8, splitter=random, score=1.000, total=   0.4s\n",
      "[CV] criterion=gini, max_depth=8, splitter=random ....................\n",
      "[CV]  criterion=gini, max_depth=8, splitter=random, score=0.999, total=   0.5s\n",
      "[CV] criterion=gini, max_depth=8, splitter=random ....................\n",
      "[CV]  criterion=gini, max_depth=8, splitter=random, score=0.999, total=   0.5s\n",
      "[CV] criterion=gini, max_depth=8, splitter=random ....................\n",
      "[CV]  criterion=gini, max_depth=8, splitter=random, score=0.999, total=   0.4s\n",
      "[CV] criterion=gini, max_depth=8, splitter=random ....................\n",
      "[CV]  criterion=gini, max_depth=8, splitter=random, score=1.000, total=   0.5s\n",
      "[CV] criterion=gini, max_depth=9, splitter=best ......................\n",
      "[CV]  criterion=gini, max_depth=9, splitter=best, score=0.999, total=   4.4s\n",
      "[CV] criterion=gini, max_depth=9, splitter=best ......................\n",
      "[CV]  criterion=gini, max_depth=9, splitter=best, score=0.999, total=   4.4s\n",
      "[CV] criterion=gini, max_depth=9, splitter=best ......................\n",
      "[CV]  criterion=gini, max_depth=9, splitter=best, score=0.999, total=   4.2s\n",
      "[CV] criterion=gini, max_depth=9, splitter=best ......................\n",
      "[CV]  criterion=gini, max_depth=9, splitter=best, score=0.999, total=   4.4s\n",
      "[CV] criterion=gini, max_depth=9, splitter=best ......................\n",
      "[CV]  criterion=gini, max_depth=9, splitter=best, score=0.999, total=   4.4s\n",
      "[CV] criterion=gini, max_depth=9, splitter=random ....................\n",
      "[CV]  criterion=gini, max_depth=9, splitter=random, score=0.999, total=   0.6s\n",
      "[CV] criterion=gini, max_depth=9, splitter=random ....................\n",
      "[CV]  criterion=gini, max_depth=9, splitter=random, score=0.999, total=   0.7s\n",
      "[CV] criterion=gini, max_depth=9, splitter=random ....................\n",
      "[CV]  criterion=gini, max_depth=9, splitter=random, score=0.999, total=   0.6s\n",
      "[CV] criterion=gini, max_depth=9, splitter=random ....................\n",
      "[CV]  criterion=gini, max_depth=9, splitter=random, score=0.999, total=   0.6s\n",
      "[CV] criterion=gini, max_depth=9, splitter=random ....................\n",
      "[CV]  criterion=gini, max_depth=9, splitter=random, score=1.000, total=   0.5s\n",
      "[CV] criterion=gini, max_depth=10, splitter=best .....................\n",
      "[CV]  criterion=gini, max_depth=10, splitter=best, score=0.999, total=   4.8s\n",
      "[CV] criterion=gini, max_depth=10, splitter=best .....................\n",
      "[CV]  criterion=gini, max_depth=10, splitter=best, score=0.999, total=   4.6s\n",
      "[CV] criterion=gini, max_depth=10, splitter=best .....................\n",
      "[CV]  criterion=gini, max_depth=10, splitter=best, score=0.999, total=   5.2s\n",
      "[CV] criterion=gini, max_depth=10, splitter=best .....................\n",
      "[CV]  criterion=gini, max_depth=10, splitter=best, score=0.999, total=   4.6s\n",
      "[CV] criterion=gini, max_depth=10, splitter=best .....................\n",
      "[CV]  criterion=gini, max_depth=10, splitter=best, score=0.999, total=   4.5s\n",
      "[CV] criterion=gini, max_depth=10, splitter=random ...................\n",
      "[CV]  criterion=gini, max_depth=10, splitter=random, score=0.999, total=   0.6s\n",
      "[CV] criterion=gini, max_depth=10, splitter=random ...................\n",
      "[CV]  criterion=gini, max_depth=10, splitter=random, score=0.999, total=   0.6s\n",
      "[CV] criterion=gini, max_depth=10, splitter=random ...................\n",
      "[CV]  criterion=gini, max_depth=10, splitter=random, score=0.999, total=   0.5s\n",
      "[CV] criterion=gini, max_depth=10, splitter=random ...................\n",
      "[CV]  criterion=gini, max_depth=10, splitter=random, score=0.999, total=   0.6s\n",
      "[CV] criterion=gini, max_depth=10, splitter=random ...................\n",
      "[CV]  criterion=gini, max_depth=10, splitter=random, score=0.999, total=   0.6s\n",
      "[CV] criterion=entropy, max_depth=None, splitter=best ................\n",
      "[CV]  criterion=entropy, max_depth=None, splitter=best, score=0.999, total=   5.1s\n",
      "[CV] criterion=entropy, max_depth=None, splitter=best ................\n",
      "[CV]  criterion=entropy, max_depth=None, splitter=best, score=0.999, total=   4.2s\n",
      "[CV] criterion=entropy, max_depth=None, splitter=best ................\n"
     ]
    },
    {
     "name": "stdout",
     "output_type": "stream",
     "text": [
      "[CV]  criterion=entropy, max_depth=None, splitter=best, score=0.999, total=   4.3s\n",
      "[CV] criterion=entropy, max_depth=None, splitter=best ................\n",
      "[CV]  criterion=entropy, max_depth=None, splitter=best, score=0.999, total=   4.0s\n",
      "[CV] criterion=entropy, max_depth=None, splitter=best ................\n",
      "[CV]  criterion=entropy, max_depth=None, splitter=best, score=0.999, total=   4.6s\n",
      "[CV] criterion=entropy, max_depth=None, splitter=random ..............\n",
      "[CV]  criterion=entropy, max_depth=None, splitter=random, score=0.999, total=   0.8s\n",
      "[CV] criterion=entropy, max_depth=None, splitter=random ..............\n",
      "[CV]  criterion=entropy, max_depth=None, splitter=random, score=0.999, total=   0.5s\n",
      "[CV] criterion=entropy, max_depth=None, splitter=random ..............\n",
      "[CV]  criterion=entropy, max_depth=None, splitter=random, score=0.999, total=   0.6s\n",
      "[CV] criterion=entropy, max_depth=None, splitter=random ..............\n",
      "[CV]  criterion=entropy, max_depth=None, splitter=random, score=0.999, total=   0.5s\n",
      "[CV] criterion=entropy, max_depth=None, splitter=random ..............\n",
      "[CV]  criterion=entropy, max_depth=None, splitter=random, score=0.999, total=   0.6s\n",
      "[CV] criterion=entropy, max_depth=1, splitter=best ...................\n",
      "[CV]  criterion=entropy, max_depth=1, splitter=best, score=0.999, total=   0.6s\n",
      "[CV] criterion=entropy, max_depth=1, splitter=best ...................\n",
      "[CV]  criterion=entropy, max_depth=1, splitter=best, score=0.998, total=   0.6s\n",
      "[CV] criterion=entropy, max_depth=1, splitter=best ...................\n",
      "[CV]  criterion=entropy, max_depth=1, splitter=best, score=0.999, total=   0.6s\n",
      "[CV] criterion=entropy, max_depth=1, splitter=best ...................\n",
      "[CV]  criterion=entropy, max_depth=1, splitter=best, score=0.998, total=   0.6s\n",
      "[CV] criterion=entropy, max_depth=1, splitter=best ...................\n",
      "[CV]  criterion=entropy, max_depth=1, splitter=best, score=0.998, total=   0.6s\n",
      "[CV] criterion=entropy, max_depth=1, splitter=random .................\n",
      "[CV]  criterion=entropy, max_depth=1, splitter=random, score=0.999, total=   0.1s\n",
      "[CV] criterion=entropy, max_depth=1, splitter=random .................\n",
      "[CV]  criterion=entropy, max_depth=1, splitter=random, score=0.999, total=   0.1s\n",
      "[CV] criterion=entropy, max_depth=1, splitter=random .................\n",
      "[CV]  criterion=entropy, max_depth=1, splitter=random, score=0.998, total=   0.1s\n",
      "[CV] criterion=entropy, max_depth=1, splitter=random .................\n",
      "[CV]  criterion=entropy, max_depth=1, splitter=random, score=0.999, total=   0.1s\n",
      "[CV] criterion=entropy, max_depth=1, splitter=random .................\n",
      "[CV]  criterion=entropy, max_depth=1, splitter=random, score=0.999, total=   0.1s\n",
      "[CV] criterion=entropy, max_depth=2, splitter=best ...................\n",
      "[CV]  criterion=entropy, max_depth=2, splitter=best, score=0.999, total=   1.2s\n",
      "[CV] criterion=entropy, max_depth=2, splitter=best ...................\n",
      "[CV]  criterion=entropy, max_depth=2, splitter=best, score=0.999, total=   1.2s\n",
      "[CV] criterion=entropy, max_depth=2, splitter=best ...................\n",
      "[CV]  criterion=entropy, max_depth=2, splitter=best, score=0.999, total=   1.2s\n",
      "[CV] criterion=entropy, max_depth=2, splitter=best ...................\n",
      "[CV]  criterion=entropy, max_depth=2, splitter=best, score=0.999, total=   1.2s\n",
      "[CV] criterion=entropy, max_depth=2, splitter=best ...................\n",
      "[CV]  criterion=entropy, max_depth=2, splitter=best, score=0.999, total=   1.2s\n",
      "[CV] criterion=entropy, max_depth=2, splitter=random .................\n",
      "[CV]  criterion=entropy, max_depth=2, splitter=random, score=0.999, total=   0.1s\n",
      "[CV] criterion=entropy, max_depth=2, splitter=random .................\n",
      "[CV]  criterion=entropy, max_depth=2, splitter=random, score=0.999, total=   0.1s\n",
      "[CV] criterion=entropy, max_depth=2, splitter=random .................\n",
      "[CV]  criterion=entropy, max_depth=2, splitter=random, score=0.999, total=   0.1s\n",
      "[CV] criterion=entropy, max_depth=2, splitter=random .................\n",
      "[CV]  criterion=entropy, max_depth=2, splitter=random, score=0.999, total=   0.1s\n",
      "[CV] criterion=entropy, max_depth=2, splitter=random .................\n",
      "[CV]  criterion=entropy, max_depth=2, splitter=random, score=0.999, total=   0.1s\n",
      "[CV] criterion=entropy, max_depth=3, splitter=best ...................\n",
      "[CV]  criterion=entropy, max_depth=3, splitter=best, score=0.999, total=   1.8s\n",
      "[CV] criterion=entropy, max_depth=3, splitter=best ...................\n",
      "[CV]  criterion=entropy, max_depth=3, splitter=best, score=0.999, total=   1.8s\n",
      "[CV] criterion=entropy, max_depth=3, splitter=best ...................\n",
      "[CV]  criterion=entropy, max_depth=3, splitter=best, score=0.999, total=   1.7s\n",
      "[CV] criterion=entropy, max_depth=3, splitter=best ...................\n",
      "[CV]  criterion=entropy, max_depth=3, splitter=best, score=0.999, total=   1.8s\n",
      "[CV] criterion=entropy, max_depth=3, splitter=best ...................\n",
      "[CV]  criterion=entropy, max_depth=3, splitter=best, score=0.999, total=   1.8s\n",
      "[CV] criterion=entropy, max_depth=3, splitter=random .................\n",
      "[CV]  criterion=entropy, max_depth=3, splitter=random, score=0.999, total=   0.2s\n",
      "[CV] criterion=entropy, max_depth=3, splitter=random .................\n",
      "[CV]  criterion=entropy, max_depth=3, splitter=random, score=0.999, total=   0.2s\n",
      "[CV] criterion=entropy, max_depth=3, splitter=random .................\n",
      "[CV]  criterion=entropy, max_depth=3, splitter=random, score=0.999, total=   0.2s\n",
      "[CV] criterion=entropy, max_depth=3, splitter=random .................\n",
      "[CV]  criterion=entropy, max_depth=3, splitter=random, score=0.999, total=   0.2s\n",
      "[CV] criterion=entropy, max_depth=3, splitter=random .................\n",
      "[CV]  criterion=entropy, max_depth=3, splitter=random, score=0.999, total=   0.2s\n",
      "[CV] criterion=entropy, max_depth=4, splitter=best ...................\n",
      "[CV]  criterion=entropy, max_depth=4, splitter=best, score=1.000, total=   2.5s\n",
      "[CV] criterion=entropy, max_depth=4, splitter=best ...................\n",
      "[CV]  criterion=entropy, max_depth=4, splitter=best, score=0.999, total=   2.3s\n",
      "[CV] criterion=entropy, max_depth=4, splitter=best ...................\n",
      "[CV]  criterion=entropy, max_depth=4, splitter=best, score=0.999, total=   2.4s\n",
      "[CV] criterion=entropy, max_depth=4, splitter=best ...................\n",
      "[CV]  criterion=entropy, max_depth=4, splitter=best, score=0.999, total=   2.4s\n",
      "[CV] criterion=entropy, max_depth=4, splitter=best ...................\n",
      "[CV]  criterion=entropy, max_depth=4, splitter=best, score=0.999, total=   2.4s\n",
      "[CV] criterion=entropy, max_depth=4, splitter=random .................\n",
      "[CV]  criterion=entropy, max_depth=4, splitter=random, score=0.999, total=   0.2s\n",
      "[CV] criterion=entropy, max_depth=4, splitter=random .................\n",
      "[CV]  criterion=entropy, max_depth=4, splitter=random, score=0.999, total=   0.2s\n",
      "[CV] criterion=entropy, max_depth=4, splitter=random .................\n",
      "[CV]  criterion=entropy, max_depth=4, splitter=random, score=0.999, total=   0.2s\n",
      "[CV] criterion=entropy, max_depth=4, splitter=random .................\n",
      "[CV]  criterion=entropy, max_depth=4, splitter=random, score=0.999, total=   0.3s\n",
      "[CV] criterion=entropy, max_depth=4, splitter=random .................\n",
      "[CV]  criterion=entropy, max_depth=4, splitter=random, score=0.999, total=   0.2s\n",
      "[CV] criterion=entropy, max_depth=5, splitter=best ...................\n",
      "[CV]  criterion=entropy, max_depth=5, splitter=best, score=1.000, total=   3.0s\n",
      "[CV] criterion=entropy, max_depth=5, splitter=best ...................\n",
      "[CV]  criterion=entropy, max_depth=5, splitter=best, score=0.999, total=   3.0s\n",
      "[CV] criterion=entropy, max_depth=5, splitter=best ...................\n",
      "[CV]  criterion=entropy, max_depth=5, splitter=best, score=0.999, total=   3.0s\n",
      "[CV] criterion=entropy, max_depth=5, splitter=best ...................\n",
      "[CV]  criterion=entropy, max_depth=5, splitter=best, score=0.999, total=   3.0s\n",
      "[CV] criterion=entropy, max_depth=5, splitter=best ...................\n",
      "[CV]  criterion=entropy, max_depth=5, splitter=best, score=1.000, total=   3.1s\n",
      "[CV] criterion=entropy, max_depth=5, splitter=random .................\n",
      "[CV]  criterion=entropy, max_depth=5, splitter=random, score=0.999, total=   0.3s\n",
      "[CV] criterion=entropy, max_depth=5, splitter=random .................\n"
     ]
    },
    {
     "name": "stdout",
     "output_type": "stream",
     "text": [
      "[CV]  criterion=entropy, max_depth=5, splitter=random, score=0.999, total=   0.3s\n",
      "[CV] criterion=entropy, max_depth=5, splitter=random .................\n",
      "[CV]  criterion=entropy, max_depth=5, splitter=random, score=0.999, total=   0.3s\n",
      "[CV] criterion=entropy, max_depth=5, splitter=random .................\n",
      "[CV]  criterion=entropy, max_depth=5, splitter=random, score=0.999, total=   0.3s\n",
      "[CV] criterion=entropy, max_depth=5, splitter=random .................\n",
      "[CV]  criterion=entropy, max_depth=5, splitter=random, score=0.999, total=   0.3s\n",
      "[CV] criterion=entropy, max_depth=6, splitter=best ...................\n",
      "[CV]  criterion=entropy, max_depth=6, splitter=best, score=1.000, total=   3.6s\n",
      "[CV] criterion=entropy, max_depth=6, splitter=best ...................\n",
      "[CV]  criterion=entropy, max_depth=6, splitter=best, score=0.999, total=   3.5s\n",
      "[CV] criterion=entropy, max_depth=6, splitter=best ...................\n",
      "[CV]  criterion=entropy, max_depth=6, splitter=best, score=0.999, total=   3.5s\n",
      "[CV] criterion=entropy, max_depth=6, splitter=best ...................\n",
      "[CV]  criterion=entropy, max_depth=6, splitter=best, score=0.999, total=   3.3s\n",
      "[CV] criterion=entropy, max_depth=6, splitter=best ...................\n",
      "[CV]  criterion=entropy, max_depth=6, splitter=best, score=1.000, total=   3.6s\n",
      "[CV] criterion=entropy, max_depth=6, splitter=random .................\n",
      "[CV]  criterion=entropy, max_depth=6, splitter=random, score=0.999, total=   0.3s\n",
      "[CV] criterion=entropy, max_depth=6, splitter=random .................\n",
      "[CV]  criterion=entropy, max_depth=6, splitter=random, score=0.999, total=   0.4s\n",
      "[CV] criterion=entropy, max_depth=6, splitter=random .................\n",
      "[CV]  criterion=entropy, max_depth=6, splitter=random, score=0.999, total=   0.4s\n",
      "[CV] criterion=entropy, max_depth=6, splitter=random .................\n",
      "[CV]  criterion=entropy, max_depth=6, splitter=random, score=0.999, total=   0.3s\n",
      "[CV] criterion=entropy, max_depth=6, splitter=random .................\n",
      "[CV]  criterion=entropy, max_depth=6, splitter=random, score=0.999, total=   0.3s\n",
      "[CV] criterion=entropy, max_depth=7, splitter=best ...................\n",
      "[CV]  criterion=entropy, max_depth=7, splitter=best, score=1.000, total=   4.1s\n",
      "[CV] criterion=entropy, max_depth=7, splitter=best ...................\n",
      "[CV]  criterion=entropy, max_depth=7, splitter=best, score=0.999, total=   3.7s\n",
      "[CV] criterion=entropy, max_depth=7, splitter=best ...................\n",
      "[CV]  criterion=entropy, max_depth=7, splitter=best, score=0.999, total=   4.0s\n",
      "[CV] criterion=entropy, max_depth=7, splitter=best ...................\n",
      "[CV]  criterion=entropy, max_depth=7, splitter=best, score=0.999, total=   3.7s\n",
      "[CV] criterion=entropy, max_depth=7, splitter=best ...................\n",
      "[CV]  criterion=entropy, max_depth=7, splitter=best, score=1.000, total=   5.0s\n",
      "[CV] criterion=entropy, max_depth=7, splitter=random .................\n",
      "[CV]  criterion=entropy, max_depth=7, splitter=random, score=1.000, total=   0.4s\n",
      "[CV] criterion=entropy, max_depth=7, splitter=random .................\n",
      "[CV]  criterion=entropy, max_depth=7, splitter=random, score=0.999, total=   0.4s\n",
      "[CV] criterion=entropy, max_depth=7, splitter=random .................\n",
      "[CV]  criterion=entropy, max_depth=7, splitter=random, score=0.999, total=   0.4s\n",
      "[CV] criterion=entropy, max_depth=7, splitter=random .................\n",
      "[CV]  criterion=entropy, max_depth=7, splitter=random, score=0.999, total=   0.5s\n",
      "[CV] criterion=entropy, max_depth=7, splitter=random .................\n",
      "[CV]  criterion=entropy, max_depth=7, splitter=random, score=1.000, total=   0.4s\n",
      "[CV] criterion=entropy, max_depth=8, splitter=best ...................\n",
      "[CV]  criterion=entropy, max_depth=8, splitter=best, score=1.000, total=   5.6s\n",
      "[CV] criterion=entropy, max_depth=8, splitter=best ...................\n",
      "[CV]  criterion=entropy, max_depth=8, splitter=best, score=0.999, total=   4.7s\n",
      "[CV] criterion=entropy, max_depth=8, splitter=best ...................\n",
      "[CV]  criterion=entropy, max_depth=8, splitter=best, score=0.999, total=   4.3s\n",
      "[CV] criterion=entropy, max_depth=8, splitter=best ...................\n",
      "[CV]  criterion=entropy, max_depth=8, splitter=best, score=0.999, total=   3.9s\n",
      "[CV] criterion=entropy, max_depth=8, splitter=best ...................\n",
      "[CV]  criterion=entropy, max_depth=8, splitter=best, score=0.999, total=   4.6s\n",
      "[CV] criterion=entropy, max_depth=8, splitter=random .................\n",
      "[CV]  criterion=entropy, max_depth=8, splitter=random, score=0.999, total=   0.4s\n",
      "[CV] criterion=entropy, max_depth=8, splitter=random .................\n",
      "[CV]  criterion=entropy, max_depth=8, splitter=random, score=0.999, total=   0.5s\n",
      "[CV] criterion=entropy, max_depth=8, splitter=random .................\n",
      "[CV]  criterion=entropy, max_depth=8, splitter=random, score=0.999, total=   0.5s\n",
      "[CV] criterion=entropy, max_depth=8, splitter=random .................\n",
      "[CV]  criterion=entropy, max_depth=8, splitter=random, score=0.999, total=   0.5s\n",
      "[CV] criterion=entropy, max_depth=8, splitter=random .................\n",
      "[CV]  criterion=entropy, max_depth=8, splitter=random, score=0.999, total=   0.5s\n",
      "[CV] criterion=entropy, max_depth=9, splitter=best ...................\n",
      "[CV]  criterion=entropy, max_depth=9, splitter=best, score=0.999, total=   5.1s\n",
      "[CV] criterion=entropy, max_depth=9, splitter=best ...................\n",
      "[CV]  criterion=entropy, max_depth=9, splitter=best, score=0.999, total=   4.7s\n",
      "[CV] criterion=entropy, max_depth=9, splitter=best ...................\n",
      "[CV]  criterion=entropy, max_depth=9, splitter=best, score=0.999, total=   4.9s\n",
      "[CV] criterion=entropy, max_depth=9, splitter=best ...................\n",
      "[CV]  criterion=entropy, max_depth=9, splitter=best, score=0.999, total=   4.6s\n",
      "[CV] criterion=entropy, max_depth=9, splitter=best ...................\n",
      "[CV]  criterion=entropy, max_depth=9, splitter=best, score=1.000, total=   5.1s\n",
      "[CV] criterion=entropy, max_depth=9, splitter=random .................\n",
      "[CV]  criterion=entropy, max_depth=9, splitter=random, score=0.999, total=   0.6s\n",
      "[CV] criterion=entropy, max_depth=9, splitter=random .................\n",
      "[CV]  criterion=entropy, max_depth=9, splitter=random, score=0.999, total=   0.5s\n",
      "[CV] criterion=entropy, max_depth=9, splitter=random .................\n",
      "[CV]  criterion=entropy, max_depth=9, splitter=random, score=0.999, total=   0.5s\n",
      "[CV] criterion=entropy, max_depth=9, splitter=random .................\n",
      "[CV]  criterion=entropy, max_depth=9, splitter=random, score=0.999, total=   0.5s\n",
      "[CV] criterion=entropy, max_depth=9, splitter=random .................\n",
      "[CV]  criterion=entropy, max_depth=9, splitter=random, score=1.000, total=   0.5s\n",
      "[CV] criterion=entropy, max_depth=10, splitter=best ..................\n",
      "[CV]  criterion=entropy, max_depth=10, splitter=best, score=0.999, total=   5.4s\n",
      "[CV] criterion=entropy, max_depth=10, splitter=best ..................\n",
      "[CV]  criterion=entropy, max_depth=10, splitter=best, score=0.999, total=   4.3s\n",
      "[CV] criterion=entropy, max_depth=10, splitter=best ..................\n",
      "[CV]  criterion=entropy, max_depth=10, splitter=best, score=0.999, total=   4.3s\n",
      "[CV] criterion=entropy, max_depth=10, splitter=best ..................\n",
      "[CV]  criterion=entropy, max_depth=10, splitter=best, score=0.999, total=   4.2s\n",
      "[CV] criterion=entropy, max_depth=10, splitter=best ..................\n",
      "[CV]  criterion=entropy, max_depth=10, splitter=best, score=1.000, total=   4.7s\n",
      "[CV] criterion=entropy, max_depth=10, splitter=random ................\n",
      "[CV]  criterion=entropy, max_depth=10, splitter=random, score=1.000, total=   0.6s\n",
      "[CV] criterion=entropy, max_depth=10, splitter=random ................\n",
      "[CV]  criterion=entropy, max_depth=10, splitter=random, score=0.999, total=   0.4s\n",
      "[CV] criterion=entropy, max_depth=10, splitter=random ................\n",
      "[CV]  criterion=entropy, max_depth=10, splitter=random, score=0.999, total=   0.4s\n",
      "[CV] criterion=entropy, max_depth=10, splitter=random ................\n",
      "[CV]  criterion=entropy, max_depth=10, splitter=random, score=0.999, total=   0.5s\n",
      "[CV] criterion=entropy, max_depth=10, splitter=random ................\n",
      "[CV]  criterion=entropy, max_depth=10, splitter=random, score=0.999, total=   0.5s\n"
     ]
    },
    {
     "name": "stderr",
     "output_type": "stream",
     "text": [
      "[Parallel(n_jobs=1)]: Done 220 out of 220 | elapsed:  6.5min finished\n"
     ]
    },
    {
     "data": {
      "text/plain": [
       "GridSearchCV(estimator=DecisionTreeClassifier(),\n",
       "             param_grid={'criterion': ['gini', 'entropy'],\n",
       "                         'max_depth': [None, 1, 2, 3, 4, 5, 6, 7, 8, 9, 10],\n",
       "                         'splitter': ['best', 'random']},\n",
       "             verbose=3)"
      ]
     },
     "execution_count": 55,
     "metadata": {},
     "output_type": "execute_result"
    }
   ],
   "source": [
    "# Train the model with GridSearch\n",
    "top_decisionTreeGrid.fit(top_X_train_scaled, top_y_train.flatten())"
   ]
  },
  {
   "cell_type": "code",
   "execution_count": 56,
   "metadata": {},
   "outputs": [
    {
     "name": "stdout",
     "output_type": "stream",
     "text": [
      "{'criterion': 'entropy', 'max_depth': 7, 'splitter': 'random'}\n",
      "0.9994663046277006\n"
     ]
    }
   ],
   "source": [
    "print(top_decisionTreeGrid.best_params_)\n",
    "print(top_decisionTreeGrid.best_score_)"
   ]
  },
  {
   "cell_type": "code",
   "execution_count": 57,
   "metadata": {},
   "outputs": [],
   "source": [
    "# Make predictions with the hyperparameter tuned model\n",
    "top_decisionTreeGridPredictions = top_decisionTreeGrid.predict(top_X_test_scaled)"
   ]
  },
  {
   "cell_type": "code",
   "execution_count": 58,
   "metadata": {},
   "outputs": [
    {
     "name": "stdout",
     "output_type": "stream",
     "text": [
      "                precision    recall  f1-score   support\n",
      "\n",
      "Non Fraudulent       1.00      1.00      1.00     71089\n",
      "    Fraudulent       0.86      0.68      0.76       113\n",
      "\n",
      "      accuracy                           1.00     71202\n",
      "     macro avg       0.93      0.84      0.88     71202\n",
      "  weighted avg       1.00      1.00      1.00     71202\n",
      "\n"
     ]
    }
   ],
   "source": [
    "print(classification_report(top_y_test.flatten(), top_decisionTreeGridPredictions,\n",
    "                            target_names=[\"Non Fraudulent\", \"Fraudulent\"]))"
   ]
  },
  {
   "cell_type": "code",
   "execution_count": 59,
   "metadata": {},
   "outputs": [
    {
     "data": {
      "text/plain": [
       "DecisionTreeClassifier(criterion='entropy', max_depth=7, splitter='random')"
      ]
     },
     "execution_count": 59,
     "metadata": {},
     "output_type": "execute_result"
    }
   ],
   "source": [
    "top_hypertunedDecisionTreeModel = DecisionTreeClassifier(criterion = 'entropy', max_depth = 7, splitter = 'random')\n",
    "top_hypertunedDecisionTreeModel"
   ]
  },
  {
   "cell_type": "code",
   "execution_count": 60,
   "metadata": {},
   "outputs": [
    {
     "data": {
      "text/plain": [
       "DecisionTreeClassifier(criterion='entropy', max_depth=7, splitter='random')"
      ]
     },
     "execution_count": 60,
     "metadata": {},
     "output_type": "execute_result"
    }
   ],
   "source": [
    "top_hypertunedDecisionTreeModel.fit(top_X_train_scaled, top_y_train.flatten())"
   ]
  },
  {
   "cell_type": "code",
   "execution_count": 61,
   "metadata": {},
   "outputs": [
    {
     "name": "stdout",
     "output_type": "stream",
     "text": [
      "Training Data Score: 0.9995646169331243\n",
      "Testing Data Score: 0.9993960843796522\n"
     ]
    }
   ],
   "source": [
    "print(f\"Training Data Score: {top_hypertunedDecisionTreeModel.score(top_X_train_scaled, top_y_train)}\")\n",
    "print(f\"Testing Data Score: {top_hypertunedDecisionTreeModel.score(top_X_test_scaled, top_y_test)}\")"
   ]
  },
  {
   "cell_type": "code",
   "execution_count": 62,
   "metadata": {},
   "outputs": [],
   "source": [
    "top_hypertunedDecisionTreeModelPredictions = top_hypertunedDecisionTreeModel.predict(top_X_test_scaled)"
   ]
  },
  {
   "cell_type": "code",
   "execution_count": 63,
   "metadata": {},
   "outputs": [],
   "source": [
    "top_hypertunedDecisionTreeModelPredictProba = top_hypertunedDecisionTreeModel.predict_proba(top_X_test_scaled)[:,1]"
   ]
  },
  {
   "cell_type": "code",
   "execution_count": 64,
   "metadata": {},
   "outputs": [
    {
     "name": "stdout",
     "output_type": "stream",
     "text": [
      "                precision    recall  f1-score   support\n",
      "\n",
      "Non Fraudulent       1.00      1.00      1.00     71089\n",
      "    Fraudulent       0.91      0.69      0.78       113\n",
      "\n",
      "      accuracy                           1.00     71202\n",
      "     macro avg       0.95      0.85      0.89     71202\n",
      "  weighted avg       1.00      1.00      1.00     71202\n",
      "\n"
     ]
    }
   ],
   "source": [
    "print(classification_report(top_y_test.flatten(), top_hypertunedDecisionTreeModelPredictions,\n",
    "                            target_names=[\"Non Fraudulent\", \"Fraudulent\"]))"
   ]
  },
  {
   "cell_type": "code",
   "execution_count": 65,
   "metadata": {},
   "outputs": [
    {
     "name": "stdout",
     "output_type": "stream",
     "text": [
      "Decision Tree Classifier\n",
      "========================\n",
      "Accuracy:  0.9993960843796522\n",
      "Precision:  0.9069767441860465\n",
      "Recall:  0.6902654867256637\n",
      "F1-Score:  0.7839195979899497\n",
      "AUC score:  0.8450764758671574\n",
      "                precision    recall  f1-score   support\n",
      "\n",
      "Non Fraudulent       1.00      1.00      1.00     71089\n",
      "    Fraudulent       0.91      0.69      0.78       113\n",
      "\n",
      "      accuracy                           1.00     71202\n",
      "     macro avg       0.95      0.85      0.89     71202\n",
      "  weighted avg       1.00      1.00      1.00     71202\n",
      "\n"
     ]
    },
    {
     "data": {
      "image/png": "[encoded data removed]",
      "text/plain": [
       "<Figure size 432x288 with 1 Axes>"
      ]
     },
     "metadata": {
      "needs_background": "light"
     },
     "output_type": "display_data"
    },
    {
     "data": {
      "image/png": "[encoded data removed]",
      "text/plain": [
       "<Figure size 432x432 with 2 Axes>"
      ]
     },
     "metadata": {
      "needs_background": "light"
     },
     "output_type": "display_data"
    }
   ],
   "source": [
    "print(\"Decision Tree Classifier\")\n",
    "print(\"========================\")\n",
    "print(\"Accuracy: \",accuracy_score(top_y_test.flatten(), top_hypertunedDecisionTreeModelPredictions)) \n",
    "print(\"Precision: \",precision_score(top_y_test.flatten(), top_hypertunedDecisionTreeModelPredictions))\n",
    "print(\"Recall: \",recall_score(top_y_test.flatten(), top_hypertunedDecisionTreeModelPredictions))\n",
    "print(\"F1-Score: \",f1_score(top_y_test.flatten(), top_hypertunedDecisionTreeModelPredictions))\n",
    "print(\"AUC score: \",roc_auc_score(top_y_test.flatten(), top_hypertunedDecisionTreeModelPredictions))\n",
    "print(classification_report(top_y_test.flatten(), top_hypertunedDecisionTreeModelPredictions,\n",
    "                            target_names=[\"Non Fraudulent\", \"Fraudulent\"]))\n",
    "\n",
    "p, r, t = precision_recall_curve(top_y_test.flatten(), top_hypertunedDecisionTreeModelPredictProba)\n",
    "plt.plot(p, r)\n",
    "plt.xlabel('Recall')\n",
    "plt.ylabel('Precision')\n",
    "plt.title('Precision Recall Curve - Decision Tree Classifier')\n",
    "\n",
    "top_14confusionMatrix = confusion_matrix(top_y_test.flatten(), top_hypertunedDecisionTreeModelPredictions) \n",
    "plt.figure(figsize =(6, 6)) \n",
    "sns.heatmap(top_14confusionMatrix, xticklabels = ['Non Fraudulent', 'Fraudulent'],  \n",
    "            yticklabels = ['Non Fraudulent', 'Fraudulent'], annot = True, fmt =\"d\"); \n",
    "plt.title(\"Confusion matrix - Decision Tree Classifier\") \n",
    "plt.ylabel('Actual Class') \n",
    "plt.xlabel('Predicted class') \n",
    "plt.show() "
   ]
  },
  {
   "cell_type": "markdown",
   "metadata": {},
   "source": [
    "# Save the Model"
   ]
  },
  {
   "cell_type": "code",
   "execution_count": 66,
   "metadata": {},
   "outputs": [
    {
     "data": {
      "text/plain": [
       "['DecisionTreeClassifierModel.sav']"
      ]
     },
     "execution_count": 66,
     "metadata": {},
     "output_type": "execute_result"
    }
   ],
   "source": [
    "filename = 'DecisionTreeClassifierModel.sav'\n",
    "joblib.dump(hypertunedDecisionTreeModel, filename)"
   ]
  },
  {
   "cell_type": "code",
   "execution_count": null,
   "metadata": {},
   "outputs": [],
   "source": []
  }
 ],
 "metadata": {
  "kernelspec": {
   "display_name": "Python [conda env:PythonData]",
   "language": "python",
   "name": "conda-env-PythonData-py"
  },
  "language_info": {
   "codemirror_mode": {
    "name": "ipython",
    "version": 3
   },
   "file_extension": ".py",
   "mimetype": "text/x-python",
   "name": "python",
   "nbconvert_exporter": "python",
   "pygments_lexer": "ipython3",
   "version": "3.6.12"
  }
 },
 "nbformat": 4,
 "nbformat_minor": 5
}
