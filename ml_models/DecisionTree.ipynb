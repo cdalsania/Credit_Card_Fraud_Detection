{
 "cells": [
  {
   "cell_type": "markdown",
   "id": "dependent-prisoner",
   "metadata": {},
   "source": [
    "# Import Dependencies"
   ]
  },
  {
   "cell_type": "code",
   "execution_count": 1,
   "id": "fiscal-walker",
   "metadata": {},
   "outputs": [],
   "source": [
    "import pandas as pd\n",
    "import numpy as np\n",
    "\n",
    "from config import CSV_FILE_URL\n",
    "import joblib\n",
    "\n",
    "from sklearn.model_selection import train_test_split\n",
    "from sklearn.preprocessing import MinMaxScaler\n",
    "from sklearn.model_selection import GridSearchCV\n",
    "\n",
    "from sklearn.metrics import classification_report, accuracy_score, precision_score, recall_score, f1_score\n",
    "from sklearn.metrics import precision_recall_curve, roc_auc_score, confusion_matrix\n",
    "import seaborn as sns\n",
    "import matplotlib.pyplot as plt\n",
    "%matplotlib inline\n",
    "\n",
    "from sklearn.tree import DecisionTreeClassifier"
   ]
  },
  {
   "cell_type": "markdown",
   "id": "sought-nicholas",
   "metadata": {},
   "source": [
    "# Read the CSV"
   ]
  },
  {
   "cell_type": "code",
   "execution_count": 2,
   "id": "developed-energy",
   "metadata": {},
   "outputs": [
    {
     "data": {
      "text/plain": [
       "(284807, 31)"
      ]
     },
     "execution_count": 2,
     "metadata": {},
     "output_type": "execute_result"
    }
   ],
   "source": [
    "# Read the CSV file into a dataframe\n",
    "df = pd.read_csv(CSV_FILE_URL)\n",
    "df.shape"
   ]
  },
  {
   "cell_type": "markdown",
   "id": "centered-gathering",
   "metadata": {},
   "source": [
    "# Data Cleaning\n",
    "\n",
    "Checking to see if there are any null values in the dataset. "
   ]
  },
  {
   "cell_type": "code",
   "execution_count": 3,
   "id": "selected-parliament",
   "metadata": {},
   "outputs": [
    {
     "data": {
      "text/plain": [
       "(284807, 31)"
      ]
     },
     "execution_count": 3,
     "metadata": {},
     "output_type": "execute_result"
    }
   ],
   "source": [
    "# Drop the null columns where all values are null\n",
    "df = df.dropna(axis='columns', how='all')\n",
    "\n",
    "# Drop the null rows\n",
    "df = df.dropna()\n",
    "df.shape"
   ]
  },
  {
   "cell_type": "markdown",
   "id": "blessed-toner",
   "metadata": {},
   "source": [
    "It could be seen that there are **no null values** in the dataset."
   ]
  },
  {
   "cell_type": "markdown",
   "id": "loved-technique",
   "metadata": {},
   "source": [
    "# Data Exploration\n",
    "\n",
    "Checking Data distribution w.r.t Target feature"
   ]
  },
  {
   "cell_type": "code",
   "execution_count": 4,
   "id": "motivated-hierarchy",
   "metadata": {},
   "outputs": [
    {
     "data": {
      "text/html": [
       "<div>\n",
       "<style scoped>\n",
       "    .dataframe tbody tr th:only-of-type {\n",
       "        vertical-align: middle;\n",
       "    }\n",
       "\n",
       "    .dataframe tbody tr th {\n",
       "        vertical-align: top;\n",
       "    }\n",
       "\n",
       "    .dataframe thead th {\n",
       "        text-align: right;\n",
       "    }\n",
       "</style>\n",
       "<table border=\"1\" class=\"dataframe\">\n",
       "  <thead>\n",
       "    <tr style=\"text-align: right;\">\n",
       "      <th></th>\n",
       "      <th>Time</th>\n",
       "      <th>V1</th>\n",
       "      <th>V2</th>\n",
       "      <th>V3</th>\n",
       "      <th>V4</th>\n",
       "      <th>V5</th>\n",
       "      <th>V6</th>\n",
       "      <th>V7</th>\n",
       "      <th>V8</th>\n",
       "      <th>V9</th>\n",
       "      <th>...</th>\n",
       "      <th>V20</th>\n",
       "      <th>V21</th>\n",
       "      <th>V22</th>\n",
       "      <th>V23</th>\n",
       "      <th>V24</th>\n",
       "      <th>V25</th>\n",
       "      <th>V26</th>\n",
       "      <th>V27</th>\n",
       "      <th>V28</th>\n",
       "      <th>Amount</th>\n",
       "    </tr>\n",
       "    <tr>\n",
       "      <th>Class</th>\n",
       "      <th></th>\n",
       "      <th></th>\n",
       "      <th></th>\n",
       "      <th></th>\n",
       "      <th></th>\n",
       "      <th></th>\n",
       "      <th></th>\n",
       "      <th></th>\n",
       "      <th></th>\n",
       "      <th></th>\n",
       "      <th></th>\n",
       "      <th></th>\n",
       "      <th></th>\n",
       "      <th></th>\n",
       "      <th></th>\n",
       "      <th></th>\n",
       "      <th></th>\n",
       "      <th></th>\n",
       "      <th></th>\n",
       "      <th></th>\n",
       "      <th></th>\n",
       "    </tr>\n",
       "  </thead>\n",
       "  <tbody>\n",
       "    <tr>\n",
       "      <th>0</th>\n",
       "      <td>284315</td>\n",
       "      <td>284315</td>\n",
       "      <td>284315</td>\n",
       "      <td>284315</td>\n",
       "      <td>284315</td>\n",
       "      <td>284315</td>\n",
       "      <td>284315</td>\n",
       "      <td>284315</td>\n",
       "      <td>284315</td>\n",
       "      <td>284315</td>\n",
       "      <td>...</td>\n",
       "      <td>284315</td>\n",
       "      <td>284315</td>\n",
       "      <td>284315</td>\n",
       "      <td>284315</td>\n",
       "      <td>284315</td>\n",
       "      <td>284315</td>\n",
       "      <td>284315</td>\n",
       "      <td>284315</td>\n",
       "      <td>284315</td>\n",
       "      <td>284315</td>\n",
       "    </tr>\n",
       "    <tr>\n",
       "      <th>1</th>\n",
       "      <td>492</td>\n",
       "      <td>492</td>\n",
       "      <td>492</td>\n",
       "      <td>492</td>\n",
       "      <td>492</td>\n",
       "      <td>492</td>\n",
       "      <td>492</td>\n",
       "      <td>492</td>\n",
       "      <td>492</td>\n",
       "      <td>492</td>\n",
       "      <td>...</td>\n",
       "      <td>492</td>\n",
       "      <td>492</td>\n",
       "      <td>492</td>\n",
       "      <td>492</td>\n",
       "      <td>492</td>\n",
       "      <td>492</td>\n",
       "      <td>492</td>\n",
       "      <td>492</td>\n",
       "      <td>492</td>\n",
       "      <td>492</td>\n",
       "    </tr>\n",
       "  </tbody>\n",
       "</table>\n",
       "<p>2 rows × 30 columns</p>\n",
       "</div>"
      ],
      "text/plain": [
       "         Time      V1      V2      V3      V4      V5      V6      V7      V8  \\\n",
       "Class                                                                           \n",
       "0      284315  284315  284315  284315  284315  284315  284315  284315  284315   \n",
       "1         492     492     492     492     492     492     492     492     492   \n",
       "\n",
       "           V9  ...     V20     V21     V22     V23     V24     V25     V26  \\\n",
       "Class          ...                                                           \n",
       "0      284315  ...  284315  284315  284315  284315  284315  284315  284315   \n",
       "1         492  ...     492     492     492     492     492     492     492   \n",
       "\n",
       "          V27     V28  Amount  \n",
       "Class                          \n",
       "0      284315  284315  284315  \n",
       "1         492     492     492  \n",
       "\n",
       "[2 rows x 30 columns]"
      ]
     },
     "execution_count": 4,
     "metadata": {},
     "output_type": "execute_result"
    }
   ],
   "source": [
    "df.groupby('Class').count()"
   ]
  },
  {
   "cell_type": "code",
   "execution_count": 5,
   "id": "loaded-hello",
   "metadata": {},
   "outputs": [
    {
     "data": {
      "text/plain": [
       "<matplotlib.axes._subplots.AxesSubplot at 0x1e8e79472b0>"
      ]
     },
     "execution_count": 5,
     "metadata": {},
     "output_type": "execute_result"
    },
    {
     "data": {
      "image/png": "[encoded data removed]",
      "text/plain": [
       "<Figure size 432x288 with 1 Axes>"
      ]
     },
     "metadata": {
      "needs_background": "light"
     },
     "output_type": "display_data"
    }
   ],
   "source": [
    "grouped_df = df[['Class','Time']].groupby('Class').count()\n",
    "grouped_df = grouped_df.rename(columns={\"Time\":\"Count\"})\n",
    "grouped_df.plot(kind=\"bar\")"
   ]
  },
  {
   "cell_type": "markdown",
   "id": "likely-mirror",
   "metadata": {},
   "source": [
    "It is evident from the above plot that data is **highly imbalanced**. The dataset has only 492 fraudulent transactions out of a total of 284,807 transactions, which is a mere **0.17%**."
   ]
  },
  {
   "cell_type": "markdown",
   "id": "chief-devil",
   "metadata": {},
   "source": [
    "# Defining features\n",
    "\n",
    "Defining the predictor features and the target feature."
   ]
  },
  {
   "cell_type": "code",
   "execution_count": 6,
   "id": "arabic-onion",
   "metadata": {},
   "outputs": [
    {
     "data": {
      "text/plain": [
       "Index(['Time', 'V1', 'V2', 'V3', 'V4', 'V5', 'V6', 'V7', 'V8', 'V9', 'V10',\n",
       "       'V11', 'V12', 'V13', 'V14', 'V15', 'V16', 'V17', 'V18', 'V19', 'V20',\n",
       "       'V21', 'V22', 'V23', 'V24', 'V25', 'V26', 'V27', 'V28', 'Amount',\n",
       "       'Class'],\n",
       "      dtype='object')"
      ]
     },
     "execution_count": 6,
     "metadata": {},
     "output_type": "execute_result"
    }
   ],
   "source": [
    "df.columns"
   ]
  },
  {
   "cell_type": "code",
   "execution_count": 7,
   "id": "asian-cyprus",
   "metadata": {},
   "outputs": [
    {
     "data": {
      "text/plain": [
       "(284807, 30)"
      ]
     },
     "execution_count": 7,
     "metadata": {},
     "output_type": "execute_result"
    }
   ],
   "source": [
    "# Selecting predictor features. This will be used as x values.\n",
    "selected_features = df[['Time', 'V1', 'V2', 'V3', 'V4', 'V5', 'V6', 'V7', 'V8', 'V9', 'V10',\n",
    "       'V11', 'V12', 'V13', 'V14', 'V15', 'V16', 'V17', 'V18', 'V19', 'V20',\n",
    "       'V21', 'V22', 'V23', 'V24', 'V25', 'V26', 'V27', 'V28', 'Amount']]\n",
    "selected_features.shape"
   ]
  },
  {
   "cell_type": "code",
   "execution_count": 8,
   "id": "reasonable-smell",
   "metadata": {},
   "outputs": [
    {
     "name": "stdout",
     "output_type": "stream",
     "text": [
      "Shape:  (284807, 30) (284807, 1)\n"
     ]
    }
   ],
   "source": [
    "# Defining predictor and target features to X and y respectively.\n",
    "# Note: Sklearn requires a two-dimensional array of values\n",
    "# so we use reshape to create this\n",
    "\n",
    "X = selected_features\n",
    "y = df[['Class']].values.reshape(-1, 1)\n",
    "\n",
    "print(\"Shape: \", X.shape, y.shape)"
   ]
  },
  {
   "cell_type": "markdown",
   "id": "fossil-rabbit",
   "metadata": {},
   "source": [
    "# Create a Train Test Split\n",
    "\n",
    "Using `Class` for the y values (target feature)"
   ]
  },
  {
   "cell_type": "code",
   "execution_count": 9,
   "id": "exact-diabetes",
   "metadata": {},
   "outputs": [],
   "source": [
    "# Using sklearn's `train_test_split` to split the data into training and testing datasets\n",
    "\n",
    "X_train, X_test, y_train, y_test = train_test_split(X, y, random_state=42)"
   ]
  },
  {
   "cell_type": "code",
   "execution_count": 10,
   "id": "together-quest",
   "metadata": {},
   "outputs": [
    {
     "name": "stdout",
     "output_type": "stream",
     "text": [
      "Shape:  (213605, 30) (213605, 1) (71202, 30) (71202, 1)\n"
     ]
    }
   ],
   "source": [
    "print(\"Shape: \", X_train.shape, y_train.shape, X_test.shape, y_test.shape)"
   ]
  },
  {
   "cell_type": "markdown",
   "id": "rotary-champagne",
   "metadata": {},
   "source": [
    "# Data Pre-processing\n",
    "\n",
    "Scale the data using the MinMaxScaler"
   ]
  },
  {
   "cell_type": "code",
   "execution_count": 11,
   "id": "eleven-knight",
   "metadata": {},
   "outputs": [],
   "source": [
    "X_minmax = MinMaxScaler().fit(X_train)\n",
    "\n",
    "X_train_scaled = X_minmax.transform(X_train)\n",
    "X_test_scaled = X_minmax.transform(X_test)"
   ]
  },
  {
   "cell_type": "markdown",
   "id": "liquid-numbers",
   "metadata": {},
   "source": [
    "# Decision Tree Model\n",
    "\n",
    "### Train the Model"
   ]
  },
  {
   "cell_type": "code",
   "execution_count": 12,
   "id": "fatal-eight",
   "metadata": {},
   "outputs": [
    {
     "data": {
      "text/plain": [
       "DecisionTreeClassifier()"
      ]
     },
     "execution_count": 12,
     "metadata": {},
     "output_type": "execute_result"
    }
   ],
   "source": [
    "decisionTreeModel = DecisionTreeClassifier()\n",
    "decisionTreeModel"
   ]
  },
  {
   "cell_type": "code",
   "execution_count": 13,
   "id": "classified-sessions",
   "metadata": {},
   "outputs": [
    {
     "data": {
      "text/plain": [
       "DecisionTreeClassifier()"
      ]
     },
     "execution_count": 13,
     "metadata": {},
     "output_type": "execute_result"
    }
   ],
   "source": [
    "decisionTreeModel.fit(X_train_scaled, y_train.flatten())"
   ]
  },
  {
   "cell_type": "code",
   "execution_count": 14,
   "id": "developing-mouse",
   "metadata": {},
   "outputs": [
    {
     "name": "stdout",
     "output_type": "stream",
     "text": [
      "Training Data Score: 1.0\n",
      "Testing Data Score: 0.9990871042948232\n"
     ]
    }
   ],
   "source": [
    "print(f\"Training Data Score: {decisionTreeModel.score(X_train_scaled, y_train)}\")\n",
    "print(f\"Testing Data Score: {decisionTreeModel.score(X_test_scaled, y_test)}\")"
   ]
  },
  {
   "cell_type": "code",
   "execution_count": 15,
   "id": "usual-quality",
   "metadata": {},
   "outputs": [],
   "source": [
    "# Make predictions with the model\n",
    "decisionTreePredictions = decisionTreeModel.predict(X_test_scaled)"
   ]
  },
  {
   "cell_type": "code",
   "execution_count": 16,
   "id": "august-static",
   "metadata": {},
   "outputs": [],
   "source": [
    "decisionTreePredictProba = decisionTreeModel.predict_proba(X_test_scaled)[:,1]"
   ]
  },
  {
   "cell_type": "code",
   "execution_count": 17,
   "id": "thrown-lesson",
   "metadata": {},
   "outputs": [
    {
     "name": "stdout",
     "output_type": "stream",
     "text": [
      "                precision    recall  f1-score   support\n",
      "\n",
      "Non Fraudulent       1.00      1.00      1.00     71089\n",
      "    Fraudulent       0.70      0.73      0.72       113\n",
      "\n",
      "      accuracy                           1.00     71202\n",
      "     macro avg       0.85      0.87      0.86     71202\n",
      "  weighted avg       1.00      1.00      1.00     71202\n",
      "\n",
      "Accuracy: 0.9990871042948232\n"
     ]
    }
   ],
   "source": [
    "# Print classification report\n",
    "print(classification_report(y_test.flatten(), decisionTreePredictions,\n",
    "                            target_names=[\"Non Fraudulent\", \"Fraudulent\"]))\n",
    "print(\"Accuracy:\", accuracy_score(y_test.flatten(), decisionTreePredictions))"
   ]
  },
  {
   "cell_type": "code",
   "execution_count": 18,
   "id": "compound-division",
   "metadata": {},
   "outputs": [
    {
     "name": "stdout",
     "output_type": "stream",
     "text": [
      "Decision Tree Classifier\n",
      "========================\n",
      "Accuracy:  0.9990871042948232\n",
      "Precision:  0.7033898305084746\n",
      "Recall:  0.7345132743362832\n",
      "F1-Score:  0.7186147186147187\n",
      "AUC score:  0.867010466874566\n",
      "                precision    recall  f1-score   support\n",
      "\n",
      "Non Fraudulent       1.00      1.00      1.00     71089\n",
      "    Fraudulent       0.70      0.73      0.72       113\n",
      "\n",
      "      accuracy                           1.00     71202\n",
      "     macro avg       0.85      0.87      0.86     71202\n",
      "  weighted avg       1.00      1.00      1.00     71202\n",
      "\n"
     ]
    },
    {
     "data": {
      "image/png": "[encoded data removed]",
      "text/plain": [
       "<Figure size 432x288 with 1 Axes>"
      ]
     },
     "metadata": {
      "needs_background": "light"
     },
     "output_type": "display_data"
    },
    {
     "data": {
      "image/png": "[encoded data removed]",
      "text/plain": [
       "<Figure size 432x432 with 2 Axes>"
      ]
     },
     "metadata": {
      "needs_background": "light"
     },
     "output_type": "display_data"
    }
   ],
   "source": [
    "print(\"Decision Tree Classifier\")\n",
    "print(\"========================\")\n",
    "print(\"Accuracy: \",accuracy_score(y_test.flatten(), decisionTreePredictions)) \n",
    "print(\"Precision: \",precision_score(y_test.flatten(), decisionTreePredictions))\n",
    "print(\"Recall: \",recall_score(y_test.flatten(), decisionTreePredictions))\n",
    "print(\"F1-Score: \",f1_score(y_test.flatten(), decisionTreePredictions))\n",
    "print(\"AUC score: \",roc_auc_score(y_test.flatten(), decisionTreePredictions))\n",
    "print(classification_report(y_test.flatten(), decisionTreePredictions,\n",
    "                            target_names=[\"Non Fraudulent\", \"Fraudulent\"]))\n",
    "\n",
    "p, r, t = precision_recall_curve(y_test.flatten(), decisionTreePredictProba)\n",
    "plt.plot(p, r)\n",
    "plt.xlabel('Recall')\n",
    "plt.ylabel('Precision')\n",
    "plt.title('Precision Recall Curve - Decision Tree Classifier')\n",
    "\n",
    "confusionMatrix = confusion_matrix(y_test.flatten(), decisionTreePredictions) \n",
    "plt.figure(figsize =(6, 6)) \n",
    "sns.heatmap(confusionMatrix, xticklabels = ['Non Fraudulent', 'Fraudulent'],  \n",
    "            yticklabels = ['Non Fraudulent', 'Fraudulent'], annot = True, fmt =\"d\"); \n",
    "plt.title(\"Confusion matrix - Decision Tree Classifier\") \n",
    "plt.ylabel('Actual Class') \n",
    "plt.xlabel('Predicted class') \n",
    "plt.show() "
   ]
  },
  {
   "cell_type": "code",
   "execution_count": null,
   "id": "imposed-expert",
   "metadata": {},
   "outputs": [],
   "source": []
  }
 ],
 "metadata": {
  "kernelspec": {
   "display_name": "Python [conda env:PythonData] *",
   "language": "python",
   "name": "conda-env-PythonData-py"
  },
  "language_info": {
   "codemirror_mode": {
    "name": "ipython",
    "version": 3
   },
   "file_extension": ".py",
   "mimetype": "text/x-python",
   "name": "python",
   "nbconvert_exporter": "python",
   "pygments_lexer": "ipython3",
   "version": "3.6.12"
  }
 },
 "nbformat": 4,
 "nbformat_minor": 5
}
