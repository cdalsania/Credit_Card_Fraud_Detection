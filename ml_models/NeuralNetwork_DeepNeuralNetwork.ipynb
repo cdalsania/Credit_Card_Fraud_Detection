{
 "cells": [
  {
   "cell_type": "markdown",
   "metadata": {},
   "source": [
    "# Import Dependencies"
   ]
  },
  {
   "cell_type": "code",
   "execution_count": 4,
   "metadata": {},
   "outputs": [],
   "source": [
    "import pandas as pd\n",
    "import numpy as np\n",
    "\n",
    "from config import CSV_FILE_URL\n",
    "import joblib\n",
    "\n",
    "from sklearn.model_selection import train_test_split\n",
    "from sklearn.preprocessing import MinMaxScaler\n",
    "from sklearn.model_selection import GridSearchCV\n",
    "\n",
    "from sklearn.metrics import classification_report, accuracy_score, precision_score, recall_score, f1_score\n",
    "from sklearn.metrics import precision_recall_curve, roc_auc_score, confusion_matrix\n",
    "import seaborn as sns\n",
    "import matplotlib.pyplot as plt\n",
    "%matplotlib inline\n",
    "\n",
    "from tensorflow.keras.models import Sequential\n",
    "from tensorflow.keras.utils import to_categorical\n",
    "from tensorflow.keras.layers import Dense"
   ]
  },
  {
   "cell_type": "markdown",
   "metadata": {},
   "source": [
    "# Read the CSV"
   ]
  },
  {
   "cell_type": "code",
   "execution_count": 5,
   "metadata": {},
   "outputs": [
    {
     "data": {
      "text/plain": [
       "(284807, 31)"
      ]
     },
     "execution_count": 5,
     "metadata": {},
     "output_type": "execute_result"
    }
   ],
   "source": [
    "# Read the CSV file into a dataframe\n",
    "df = pd.read_csv(CSV_FILE_URL)\n",
    "df.shape"
   ]
  },
  {
   "cell_type": "markdown",
   "metadata": {},
   "source": [
    "# Data Cleaning\n",
    "\n",
    "Checking to see if there are any null values in the dataset."
   ]
  },
  {
   "cell_type": "code",
   "execution_count": 6,
   "metadata": {},
   "outputs": [
    {
     "data": {
      "text/plain": [
       "(284807, 31)"
      ]
     },
     "execution_count": 6,
     "metadata": {},
     "output_type": "execute_result"
    }
   ],
   "source": [
    "# Drop the null columns where all values are null\n",
    "df = df.dropna(axis='columns', how='all')\n",
    "\n",
    "# Drop the null rows\n",
    "df = df.dropna()\n",
    "df.shape"
   ]
  },
  {
   "cell_type": "markdown",
   "metadata": {},
   "source": [
    "It could be seen that there are **no null values** in the dataset."
   ]
  },
  {
   "cell_type": "markdown",
   "metadata": {},
   "source": [
    "# Data Exploration\n",
    "\n",
    "Checking Data distribution w.r.t Target feature"
   ]
  },
  {
   "cell_type": "code",
   "execution_count": 7,
   "metadata": {},
   "outputs": [
    {
     "data": {
      "text/html": [
       "<div>\n",
       "<style scoped>\n",
       "    .dataframe tbody tr th:only-of-type {\n",
       "        vertical-align: middle;\n",
       "    }\n",
       "\n",
       "    .dataframe tbody tr th {\n",
       "        vertical-align: top;\n",
       "    }\n",
       "\n",
       "    .dataframe thead th {\n",
       "        text-align: right;\n",
       "    }\n",
       "</style>\n",
       "<table border=\"1\" class=\"dataframe\">\n",
       "  <thead>\n",
       "    <tr style=\"text-align: right;\">\n",
       "      <th></th>\n",
       "      <th>Time</th>\n",
       "      <th>V1</th>\n",
       "      <th>V2</th>\n",
       "      <th>V3</th>\n",
       "      <th>V4</th>\n",
       "      <th>V5</th>\n",
       "      <th>V6</th>\n",
       "      <th>V7</th>\n",
       "      <th>V8</th>\n",
       "      <th>V9</th>\n",
       "      <th>...</th>\n",
       "      <th>V20</th>\n",
       "      <th>V21</th>\n",
       "      <th>V22</th>\n",
       "      <th>V23</th>\n",
       "      <th>V24</th>\n",
       "      <th>V25</th>\n",
       "      <th>V26</th>\n",
       "      <th>V27</th>\n",
       "      <th>V28</th>\n",
       "      <th>Amount</th>\n",
       "    </tr>\n",
       "    <tr>\n",
       "      <th>Class</th>\n",
       "      <th></th>\n",
       "      <th></th>\n",
       "      <th></th>\n",
       "      <th></th>\n",
       "      <th></th>\n",
       "      <th></th>\n",
       "      <th></th>\n",
       "      <th></th>\n",
       "      <th></th>\n",
       "      <th></th>\n",
       "      <th></th>\n",
       "      <th></th>\n",
       "      <th></th>\n",
       "      <th></th>\n",
       "      <th></th>\n",
       "      <th></th>\n",
       "      <th></th>\n",
       "      <th></th>\n",
       "      <th></th>\n",
       "      <th></th>\n",
       "      <th></th>\n",
       "    </tr>\n",
       "  </thead>\n",
       "  <tbody>\n",
       "    <tr>\n",
       "      <th>0</th>\n",
       "      <td>284315</td>\n",
       "      <td>284315</td>\n",
       "      <td>284315</td>\n",
       "      <td>284315</td>\n",
       "      <td>284315</td>\n",
       "      <td>284315</td>\n",
       "      <td>284315</td>\n",
       "      <td>284315</td>\n",
       "      <td>284315</td>\n",
       "      <td>284315</td>\n",
       "      <td>...</td>\n",
       "      <td>284315</td>\n",
       "      <td>284315</td>\n",
       "      <td>284315</td>\n",
       "      <td>284315</td>\n",
       "      <td>284315</td>\n",
       "      <td>284315</td>\n",
       "      <td>284315</td>\n",
       "      <td>284315</td>\n",
       "      <td>284315</td>\n",
       "      <td>284315</td>\n",
       "    </tr>\n",
       "    <tr>\n",
       "      <th>1</th>\n",
       "      <td>492</td>\n",
       "      <td>492</td>\n",
       "      <td>492</td>\n",
       "      <td>492</td>\n",
       "      <td>492</td>\n",
       "      <td>492</td>\n",
       "      <td>492</td>\n",
       "      <td>492</td>\n",
       "      <td>492</td>\n",
       "      <td>492</td>\n",
       "      <td>...</td>\n",
       "      <td>492</td>\n",
       "      <td>492</td>\n",
       "      <td>492</td>\n",
       "      <td>492</td>\n",
       "      <td>492</td>\n",
       "      <td>492</td>\n",
       "      <td>492</td>\n",
       "      <td>492</td>\n",
       "      <td>492</td>\n",
       "      <td>492</td>\n",
       "    </tr>\n",
       "  </tbody>\n",
       "</table>\n",
       "<p>2 rows × 30 columns</p>\n",
       "</div>"
      ],
      "text/plain": [
       "         Time      V1      V2      V3      V4      V5      V6      V7      V8  \\\n",
       "Class                                                                           \n",
       "0      284315  284315  284315  284315  284315  284315  284315  284315  284315   \n",
       "1         492     492     492     492     492     492     492     492     492   \n",
       "\n",
       "           V9  ...     V20     V21     V22     V23     V24     V25     V26  \\\n",
       "Class          ...                                                           \n",
       "0      284315  ...  284315  284315  284315  284315  284315  284315  284315   \n",
       "1         492  ...     492     492     492     492     492     492     492   \n",
       "\n",
       "          V27     V28  Amount  \n",
       "Class                          \n",
       "0      284315  284315  284315  \n",
       "1         492     492     492  \n",
       "\n",
       "[2 rows x 30 columns]"
      ]
     },
     "execution_count": 7,
     "metadata": {},
     "output_type": "execute_result"
    }
   ],
   "source": [
    "df.groupby('Class').count()"
   ]
  },
  {
   "cell_type": "code",
   "execution_count": 8,
   "metadata": {},
   "outputs": [
    {
     "data": {
      "text/plain": [
       "<matplotlib.axes._subplots.AxesSubplot at 0x1e6d9872eb8>"
      ]
     },
     "execution_count": 8,
     "metadata": {},
     "output_type": "execute_result"
    },
    {
     "data": {
      "image/png": "[encoded data removed]",
      "text/plain": [
       "<Figure size 432x288 with 1 Axes>"
      ]
     },
     "metadata": {
      "needs_background": "light"
     },
     "output_type": "display_data"
    }
   ],
   "source": [
    "grouped_df = df[['Class','Time']].groupby('Class').count()\n",
    "grouped_df = grouped_df.rename(columns={\"Time\":\"Count\"})\n",
    "grouped_df.plot(kind=\"bar\")"
   ]
  },
  {
   "cell_type": "markdown",
   "metadata": {},
   "source": [
    "It is evident from the above plot that data is **highly imbalanced**. The dataset has only 492 fraudulent transactions out of a total of 284,807 transactions, which is a mere **0.17%**."
   ]
  },
  {
   "cell_type": "markdown",
   "metadata": {},
   "source": [
    "# Defining features\n",
    "\n",
    "Defining the predictor features and the target feature."
   ]
  },
  {
   "cell_type": "code",
   "execution_count": 9,
   "metadata": {},
   "outputs": [
    {
     "data": {
      "text/plain": [
       "Index(['Time', 'V1', 'V2', 'V3', 'V4', 'V5', 'V6', 'V7', 'V8', 'V9', 'V10',\n",
       "       'V11', 'V12', 'V13', 'V14', 'V15', 'V16', 'V17', 'V18', 'V19', 'V20',\n",
       "       'V21', 'V22', 'V23', 'V24', 'V25', 'V26', 'V27', 'V28', 'Amount',\n",
       "       'Class'],\n",
       "      dtype='object')"
      ]
     },
     "execution_count": 9,
     "metadata": {},
     "output_type": "execute_result"
    }
   ],
   "source": [
    "df.columns"
   ]
  },
  {
   "cell_type": "code",
   "execution_count": 10,
   "metadata": {},
   "outputs": [
    {
     "data": {
      "text/plain": [
       "(284807, 30)"
      ]
     },
     "execution_count": 10,
     "metadata": {},
     "output_type": "execute_result"
    }
   ],
   "source": [
    "# Selecting predictor features. This will be used as x values.\n",
    "selected_features = df[['Time', 'V1', 'V2', 'V3', 'V4', 'V5', 'V6', 'V7', 'V8', 'V9', 'V10',\n",
    "       'V11', 'V12', 'V13', 'V14', 'V15', 'V16', 'V17', 'V18', 'V19', 'V20',\n",
    "       'V21', 'V22', 'V23', 'V24', 'V25', 'V26', 'V27', 'V28', 'Amount']]\n",
    "selected_features.shape"
   ]
  },
  {
   "cell_type": "code",
   "execution_count": 11,
   "metadata": {},
   "outputs": [
    {
     "name": "stdout",
     "output_type": "stream",
     "text": [
      "Shape:  (284807, 30) (284807, 1)\n"
     ]
    }
   ],
   "source": [
    "# Defining predictor and target features to X and y respectively.\n",
    "# Note: Sklearn requires a two-dimensional array of values\n",
    "# so we use reshape to create this\n",
    "\n",
    "X = selected_features\n",
    "y = df[['Class']].values.reshape(-1, 1)\n",
    "\n",
    "print(\"Shape: \", X.shape, y.shape)"
   ]
  },
  {
   "cell_type": "markdown",
   "metadata": {},
   "source": [
    "# Create a Train Test Split\n",
    "\n",
    "Using `Class` for the y values (target feature)"
   ]
  },
  {
   "cell_type": "code",
   "execution_count": 12,
   "metadata": {},
   "outputs": [],
   "source": [
    "# Using sklearn's `train_test_split` to split the data into training and testing datasets\n",
    "\n",
    "X_train, X_test, y_train, y_test = train_test_split(X, y, random_state=42)"
   ]
  },
  {
   "cell_type": "code",
   "execution_count": 13,
   "metadata": {},
   "outputs": [
    {
     "name": "stdout",
     "output_type": "stream",
     "text": [
      "Shape:  (213605, 30) (213605, 1) (71202, 30) (71202, 1)\n"
     ]
    }
   ],
   "source": [
    "print(\"Shape: \", X_train.shape, y_train.shape, X_test.shape, y_test.shape)"
   ]
  },
  {
   "cell_type": "markdown",
   "metadata": {},
   "source": [
    "# Data Pre-processing\n",
    "\n",
    "Scale the data using the MinMaxScaler"
   ]
  },
  {
   "cell_type": "code",
   "execution_count": 15,
   "metadata": {},
   "outputs": [],
   "source": [
    "X_minmax = MinMaxScaler().fit(X_train)\n",
    "\n",
    "X_train_scaled = X_minmax.transform(X_train)\n",
    "X_test_scaled = X_minmax.transform(X_test)"
   ]
  },
  {
   "cell_type": "code",
   "execution_count": 16,
   "metadata": {},
   "outputs": [
    {
     "data": {
      "text/plain": [
       "array([[1., 0.],\n",
       "       [1., 0.],\n",
       "       [1., 0.],\n",
       "       ...,\n",
       "       [1., 0.],\n",
       "       [1., 0.],\n",
       "       [1., 0.]], dtype=float32)"
      ]
     },
     "execution_count": 16,
     "metadata": {},
     "output_type": "execute_result"
    }
   ],
   "source": [
    "# One-hot encoding\n",
    "y_train_categorical = to_categorical(y_train)\n",
    "y_test_categorical = to_categorical(y_test)\n",
    "y_train_categorical"
   ]
  },
  {
   "cell_type": "markdown",
   "metadata": {},
   "source": [
    "# Neural Network Classifier Model\n",
    "\n",
    "### Train the Model"
   ]
  },
  {
   "cell_type": "code",
   "execution_count": 17,
   "metadata": {},
   "outputs": [
    {
     "data": {
      "text/plain": [
       "<tensorflow.python.keras.engine.sequential.Sequential at 0x1e68d54c278>"
      ]
     },
     "execution_count": 17,
     "metadata": {},
     "output_type": "execute_result"
    }
   ],
   "source": [
    "neuralNetworkModel = Sequential()\n",
    "neuralNetworkModel"
   ]
  },
  {
   "cell_type": "code",
   "execution_count": 18,
   "metadata": {},
   "outputs": [],
   "source": [
    "number_inputs = 30\n",
    "number_hidden_nodes = 200\n",
    "neuralNetworkModel.add(Dense(units=number_hidden_nodes,\n",
    "                activation='relu', input_dim=number_inputs))"
   ]
  },
  {
   "cell_type": "code",
   "execution_count": 19,
   "metadata": {},
   "outputs": [],
   "source": [
    "number_classes = 2\n",
    "neuralNetworkModel.add(Dense(units=number_classes, activation='softmax'))"
   ]
  },
  {
   "cell_type": "markdown",
   "metadata": {},
   "source": [
    "## Model Summary"
   ]
  },
  {
   "cell_type": "code",
   "execution_count": 20,
   "metadata": {},
   "outputs": [
    {
     "name": "stdout",
     "output_type": "stream",
     "text": [
      "Model: \"sequential\"\n",
      "_________________________________________________________________\n",
      "Layer (type)                 Output Shape              Param #   \n",
      "=================================================================\n",
      "dense (Dense)                (None, 200)               6200      \n",
      "_________________________________________________________________\n",
      "dense_1 (Dense)              (None, 2)                 402       \n",
      "=================================================================\n",
      "Total params: 6,602\n",
      "Trainable params: 6,602\n",
      "Non-trainable params: 0\n",
      "_________________________________________________________________\n"
     ]
    }
   ],
   "source": [
    "neuralNetworkModel.summary()"
   ]
  },
  {
   "cell_type": "markdown",
   "metadata": {},
   "source": [
    "## Compile the Model\n",
    "\n",
    "Now that we have our model architecture defined, we must compile the model using a loss function and optimizer. We can also specify additional training metrics such as accuracy."
   ]
  },
  {
   "cell_type": "code",
   "execution_count": 21,
   "metadata": {},
   "outputs": [],
   "source": [
    "neuralNetworkModel.compile(optimizer='adam',\n",
    "              loss='binary_crossentropy',\n",
    "              metrics=['accuracy'])"
   ]
  },
  {
   "cell_type": "markdown",
   "metadata": {},
   "source": [
    "## Training the Model\n",
    "Finally, we train our model using our training data"
   ]
  },
  {
   "cell_type": "code",
   "execution_count": 22,
   "metadata": {},
   "outputs": [
    {
     "name": "stdout",
     "output_type": "stream",
     "text": [
      "Epoch 1/100\n",
      "Epoch 2/100\n",
      "Epoch 3/100\n",
      "Epoch 4/100\n",
      "Epoch 5/100\n",
      "Epoch 6/100\n",
      "Epoch 7/100\n",
      "Epoch 8/100\n",
      "Epoch 9/100\n",
      "Epoch 10/100\n",
      "Epoch 11/100\n",
      "Epoch 12/100\n",
      "Epoch 13/100\n",
      "Epoch 14/100\n",
      "Epoch 15/100\n",
      "Epoch 16/100\n",
      "Epoch 17/100\n",
      "Epoch 18/100\n",
      "Epoch 19/100\n",
      "Epoch 20/100\n",
      "Epoch 21/100\n",
      "Epoch 22/100\n",
      "Epoch 23/100\n",
      "Epoch 24/100\n",
      "Epoch 25/100\n",
      "Epoch 26/100\n",
      "Epoch 27/100\n",
      "Epoch 28/100\n",
      "Epoch 29/100\n",
      "Epoch 30/100\n",
      "Epoch 31/100\n",
      "Epoch 32/100\n",
      "Epoch 33/100\n",
      "Epoch 34/100\n",
      "Epoch 35/100\n",
      "Epoch 36/100\n",
      "Epoch 37/100\n",
      "Epoch 38/100\n",
      "Epoch 39/100\n",
      "Epoch 40/100\n",
      "Epoch 41/100\n",
      "Epoch 42/100\n",
      "Epoch 43/100\n",
      "Epoch 44/100\n",
      "Epoch 45/100\n",
      "Epoch 46/100\n",
      "Epoch 47/100\n",
      "Epoch 48/100\n",
      "Epoch 49/100\n",
      "Epoch 50/100\n",
      "Epoch 51/100\n",
      "Epoch 52/100\n",
      "Epoch 53/100\n",
      "Epoch 54/100\n",
      "Epoch 55/100\n",
      "Epoch 56/100\n",
      "Epoch 57/100\n",
      "Epoch 58/100\n",
      "Epoch 59/100\n",
      "Epoch 60/100\n",
      "Epoch 61/100\n",
      "Epoch 62/100\n",
      "Epoch 63/100\n",
      "Epoch 64/100\n",
      "Epoch 65/100\n",
      "Epoch 66/100\n",
      "Epoch 67/100\n",
      "Epoch 68/100\n",
      "Epoch 69/100\n",
      "Epoch 70/100\n",
      "Epoch 71/100\n",
      "Epoch 72/100\n",
      "Epoch 73/100\n",
      "Epoch 74/100\n",
      "Epoch 75/100\n",
      "Epoch 76/100\n",
      "Epoch 77/100\n",
      "Epoch 78/100\n",
      "Epoch 79/100\n",
      "Epoch 80/100\n",
      "Epoch 81/100\n",
      "Epoch 82/100\n",
      "Epoch 83/100\n",
      "Epoch 84/100\n",
      "Epoch 85/100\n",
      "Epoch 86/100\n",
      "Epoch 87/100\n",
      "Epoch 88/100\n",
      "Epoch 89/100\n",
      "Epoch 90/100\n",
      "Epoch 91/100\n",
      "Epoch 92/100\n",
      "Epoch 93/100\n",
      "Epoch 94/100\n",
      "Epoch 95/100\n",
      "Epoch 96/100\n",
      "Epoch 97/100\n",
      "Epoch 98/100\n",
      "Epoch 99/100\n",
      "Epoch 100/100\n"
     ]
    },
    {
     "data": {
      "text/plain": [
       "<tensorflow.python.keras.callbacks.History at 0x1e6d9f289b0>"
      ]
     },
     "execution_count": 22,
     "metadata": {},
     "output_type": "execute_result"
    }
   ],
   "source": [
    "# Fit (train) the model\n",
    "neuralNetworkModel.fit(\n",
    "    X_train_scaled,\n",
    "    y_train_categorical,\n",
    "    validation_data=(X_test_scaled,  y_test_categorical),\n",
    "    epochs=100,\n",
    "    verbose= 3\n",
    ")"
   ]
  },
  {
   "cell_type": "markdown",
   "metadata": {},
   "source": [
    "## Quantifying the Model"
   ]
  },
  {
   "cell_type": "code",
   "execution_count": 23,
   "metadata": {},
   "outputs": [
    {
     "name": "stdout",
     "output_type": "stream",
     "text": [
      "2226/2226 - 3s - loss: 0.0040 - accuracy: 0.9993\n",
      "Loss: 0.003969603218138218, Accuracy: 0.9993118047714233\n"
     ]
    }
   ],
   "source": [
    "model_loss, model_accuracy = neuralNetworkModel.evaluate(\n",
    "    X_test_scaled, y_test_categorical, verbose=2)\n",
    "print(f\"Loss: {model_loss}, Accuracy: {model_accuracy}\")"
   ]
  },
  {
   "cell_type": "code",
   "execution_count": 24,
   "metadata": {},
   "outputs": [
    {
     "name": "stderr",
     "output_type": "stream",
     "text": [
      "C:\\Users\\dalsa\\anaconda3\\envs\\PythonData\\lib\\site-packages\\tensorflow\\python\\keras\\engine\\sequential.py:450: UserWarning: `model.predict_classes()` is deprecated and will be removed after 2021-01-01. Please use instead:* `np.argmax(model.predict(x), axis=-1)`,   if your model does multi-class classification   (e.g. if it uses a `softmax` last-layer activation).* `(model.predict(x) > 0.5).astype(\"int32\")`,   if your model does binary classification   (e.g. if it uses a `sigmoid` last-layer activation).\n",
      "  warnings.warn('`model.predict_classes()` is deprecated and '\n"
     ]
    }
   ],
   "source": [
    "# predict probabilities for test set\n",
    "neuralNetworkModel_probs = neuralNetworkModel.predict(X_test_scaled, verbose=0)\n",
    "# predict crisp classes for test set\n",
    "neuralNetworkModel_classes = neuralNetworkModel.predict_classes(X_test_scaled, verbose=0)"
   ]
  },
  {
   "cell_type": "code",
   "execution_count": 25,
   "metadata": {},
   "outputs": [],
   "source": [
    "# reduce to 1d array\n",
    "neuralNetworkModel_probs = neuralNetworkModel_probs.flatten()\n",
    "neuralNetworkModel_classes = neuralNetworkModel_classes.flatten()"
   ]
  },
  {
   "cell_type": "code",
   "execution_count": 26,
   "metadata": {},
   "outputs": [
    {
     "data": {
      "text/plain": [
       "array([1, 0, 0, ..., 0, 0, 0], dtype=int64)"
      ]
     },
     "execution_count": 26,
     "metadata": {},
     "output_type": "execute_result"
    }
   ],
   "source": [
    "y_test.flatten()"
   ]
  },
  {
   "cell_type": "code",
   "execution_count": 27,
   "metadata": {},
   "outputs": [
    {
     "name": "stdout",
     "output_type": "stream",
     "text": [
      "Accuracy: 0.999312\n",
      "Precision: 0.762295\n",
      "Recall: 0.823009\n",
      "F1 score: 0.791489\n"
     ]
    }
   ],
   "source": [
    "# accuracy: (tp + tn) / (p + n)\n",
    "accuracy = accuracy_score(y_test.flatten(), neuralNetworkModel_classes)\n",
    "print('Accuracy: %f' % accuracy)\n",
    "# precision tp / (tp + fp)\n",
    "precision = precision_score(y_test.flatten(), neuralNetworkModel_classes)\n",
    "print('Precision: %f' % precision)\n",
    "# recall: tp / (tp + fn)\n",
    "recall = recall_score(y_test.flatten(), neuralNetworkModel_classes)\n",
    "print('Recall: %f' % recall)\n",
    "# f1: 2 tp / (2 tp + fp + fn)\n",
    "f1 = f1_score(y_test.flatten(), neuralNetworkModel_classes)\n",
    "print('F1 score: %f' % f1)"
   ]
  },
  {
   "cell_type": "code",
   "execution_count": 28,
   "metadata": {},
   "outputs": [
    {
     "name": "stdout",
     "output_type": "stream",
     "text": [
      "[[71060    29]\n",
      " [   20    93]]\n"
     ]
    }
   ],
   "source": [
    "matrix = confusion_matrix(y_test.flatten(), neuralNetworkModel_classes)\n",
    "print(matrix)"
   ]
  },
  {
   "cell_type": "code",
   "execution_count": 29,
   "metadata": {},
   "outputs": [
    {
     "data": {
      "image/png": "[encoded data removed]",
      "text/plain": [
       "<Figure size 432x432 with 2 Axes>"
      ]
     },
     "metadata": {
      "needs_background": "light"
     },
     "output_type": "display_data"
    }
   ],
   "source": [
    "plt.figure(figsize =(6, 6)) \n",
    "sns.heatmap(matrix, xticklabels = ['Non Fraudulent', 'Fraudulent'],  \n",
    "            yticklabels = ['Non Fraudulent', 'Fraudulent'], annot = True, fmt =\"d\"); \n",
    "plt.title(\"Confusion matrix - Neural Network\") \n",
    "plt.ylabel('Actual Class') \n",
    "plt.xlabel('Predicted class') \n",
    "plt.show() "
   ]
  },
  {
   "cell_type": "code",
   "execution_count": 30,
   "metadata": {},
   "outputs": [
    {
     "data": {
      "text/plain": [
       "Text(0.5, 1.0, 'Precision Recall Curve - Neural Network')"
      ]
     },
     "execution_count": 30,
     "metadata": {},
     "output_type": "execute_result"
    },
    {
     "data": {
      "image/png": "[encoded data removed]",
      "text/plain": [
       "<Figure size 432x288 with 1 Axes>"
      ]
     },
     "metadata": {
      "needs_background": "light"
     },
     "output_type": "display_data"
    }
   ],
   "source": [
    "p, r, t = precision_recall_curve(y_test.flatten(), neuralNetworkModel_classes)\n",
    "plt.plot(p, r)\n",
    "plt.xlabel('Recall')\n",
    "plt.ylabel('Precision')\n",
    "plt.title('Precision Recall Curve - Neural Network')"
   ]
  },
  {
   "cell_type": "markdown",
   "metadata": {},
   "source": [
    "# Deep Neural Network Model\n",
    "\n",
    "### Train the Model"
   ]
  },
  {
   "cell_type": "code",
   "execution_count": 31,
   "metadata": {},
   "outputs": [
    {
     "data": {
      "text/plain": [
       "<tensorflow.python.keras.engine.sequential.Sequential at 0x1e6dafa5160>"
      ]
     },
     "execution_count": 31,
     "metadata": {},
     "output_type": "execute_result"
    }
   ],
   "source": [
    "deepNeuralNetworkModel = Sequential()\n",
    "deepNeuralNetworkModel"
   ]
  },
  {
   "cell_type": "code",
   "execution_count": 32,
   "metadata": {},
   "outputs": [],
   "source": [
    "number_inputs = 30\n",
    "number_hidden_nodes = 200\n",
    "deepNeuralNetworkModel.add(Dense(units=number_hidden_nodes,\n",
    "                activation='relu', input_dim=number_inputs))\n",
    "deepNeuralNetworkModel.add(Dense(units=number_hidden_nodes,\n",
    "                activation='relu'))\n",
    "deepNeuralNetworkModel.add(Dense(units=number_hidden_nodes,\n",
    "                activation='relu'))\n",
    "deepNeuralNetworkModel.add(Dense(units=number_hidden_nodes,\n",
    "                activation='relu'))"
   ]
  },
  {
   "cell_type": "code",
   "execution_count": 33,
   "metadata": {},
   "outputs": [],
   "source": [
    "number_classes = 2\n",
    "deepNeuralNetworkModel.add(Dense(units=number_classes, activation='softmax'))"
   ]
  },
  {
   "cell_type": "markdown",
   "metadata": {},
   "source": [
    "## Model Summary"
   ]
  },
  {
   "cell_type": "code",
   "execution_count": 34,
   "metadata": {},
   "outputs": [
    {
     "name": "stdout",
     "output_type": "stream",
     "text": [
      "Model: \"sequential_1\"\n",
      "_________________________________________________________________\n",
      "Layer (type)                 Output Shape              Param #   \n",
      "=================================================================\n",
      "dense_2 (Dense)              (None, 200)               6200      \n",
      "_________________________________________________________________\n",
      "dense_3 (Dense)              (None, 200)               40200     \n",
      "_________________________________________________________________\n",
      "dense_4 (Dense)              (None, 200)               40200     \n",
      "_________________________________________________________________\n",
      "dense_5 (Dense)              (None, 200)               40200     \n",
      "_________________________________________________________________\n",
      "dense_6 (Dense)              (None, 2)                 402       \n",
      "=================================================================\n",
      "Total params: 127,202\n",
      "Trainable params: 127,202\n",
      "Non-trainable params: 0\n",
      "_________________________________________________________________\n"
     ]
    }
   ],
   "source": [
    "deepNeuralNetworkModel.summary()"
   ]
  },
  {
   "cell_type": "markdown",
   "metadata": {},
   "source": [
    "## Compile the Model\n",
    "\n",
    "Now that we have our model architecture defined, we must compile the model using a loss function and optimizer. We can also specify additional training metrics such as accuracy."
   ]
  },
  {
   "cell_type": "code",
   "execution_count": 35,
   "metadata": {},
   "outputs": [],
   "source": [
    "deepNeuralNetworkModel.compile(optimizer='adam',\n",
    "              loss='binary_crossentropy',\n",
    "              metrics=['accuracy'])"
   ]
  },
  {
   "cell_type": "markdown",
   "metadata": {},
   "source": [
    "## Training the Model\n",
    "Finally, we train our model using our training data"
   ]
  },
  {
   "cell_type": "code",
   "execution_count": 36,
   "metadata": {},
   "outputs": [
    {
     "name": "stdout",
     "output_type": "stream",
     "text": [
      "Epoch 1/100\n",
      "6676/6676 - 24s - loss: 0.0068 - accuracy: 0.9990 - val_loss: 0.0036 - val_accuracy: 0.9993\n",
      "Epoch 2/100\n",
      "6676/6676 - 22s - loss: 0.0048 - accuracy: 0.9993 - val_loss: 0.0045 - val_accuracy: 0.9993\n",
      "Epoch 3/100\n",
      "6676/6676 - 22s - loss: 0.0047 - accuracy: 0.9992 - val_loss: 0.0035 - val_accuracy: 0.9993\n",
      "Epoch 4/100\n",
      "6676/6676 - 22s - loss: 0.0044 - accuracy: 0.9993 - val_loss: 0.0061 - val_accuracy: 0.9992\n",
      "Epoch 5/100\n",
      "6676/6676 - 22s - loss: 0.0042 - accuracy: 0.9993 - val_loss: 0.0052 - val_accuracy: 0.9993\n",
      "Epoch 6/100\n",
      "6676/6676 - 22s - loss: 0.0043 - accuracy: 0.9993 - val_loss: 0.0056 - val_accuracy: 0.9990\n",
      "Epoch 7/100\n",
      "6676/6676 - 22s - loss: 0.0043 - accuracy: 0.9993 - val_loss: 0.0041 - val_accuracy: 0.9993\n",
      "Epoch 8/100\n",
      "6676/6676 - 23s - loss: 0.0041 - accuracy: 0.9993 - val_loss: 0.0036 - val_accuracy: 0.9993\n",
      "Epoch 9/100\n",
      "6676/6676 - 23s - loss: 0.0042 - accuracy: 0.9994 - val_loss: 0.0052 - val_accuracy: 0.9992\n",
      "Epoch 10/100\n",
      "6676/6676 - 22s - loss: 0.0040 - accuracy: 0.9994 - val_loss: 0.0034 - val_accuracy: 0.9993\n",
      "Epoch 11/100\n",
      "6676/6676 - 22s - loss: 0.0040 - accuracy: 0.9993 - val_loss: 0.0052 - val_accuracy: 0.9992\n",
      "Epoch 12/100\n",
      "6676/6676 - 22s - loss: 0.0039 - accuracy: 0.9994 - val_loss: 0.0038 - val_accuracy: 0.9992\n",
      "Epoch 13/100\n",
      "6676/6676 - 22s - loss: 0.0039 - accuracy: 0.9994 - val_loss: 0.0030 - val_accuracy: 0.9993\n",
      "Epoch 14/100\n",
      "6676/6676 - 22s - loss: 0.0039 - accuracy: 0.9993 - val_loss: 0.0031 - val_accuracy: 0.9993\n",
      "Epoch 15/100\n",
      "6676/6676 - 22s - loss: 0.0038 - accuracy: 0.9994 - val_loss: 0.0037 - val_accuracy: 0.9993\n",
      "Epoch 16/100\n",
      "6676/6676 - 22s - loss: 0.0038 - accuracy: 0.9994 - val_loss: 0.0030 - val_accuracy: 0.9993\n",
      "Epoch 17/100\n",
      "6676/6676 - 22s - loss: 0.0038 - accuracy: 0.9994 - val_loss: 0.0031 - val_accuracy: 0.9993\n",
      "Epoch 18/100\n",
      "6676/6676 - 22s - loss: 0.0038 - accuracy: 0.9994 - val_loss: 0.0030 - val_accuracy: 0.9993\n",
      "Epoch 19/100\n",
      "6676/6676 - 23s - loss: 0.0039 - accuracy: 0.9994 - val_loss: 0.0031 - val_accuracy: 0.9994\n",
      "Epoch 20/100\n",
      "6676/6676 - 22s - loss: 0.0039 - accuracy: 0.9994 - val_loss: 0.0029 - val_accuracy: 0.9993\n",
      "Epoch 21/100\n",
      "6676/6676 - 22s - loss: 0.0038 - accuracy: 0.9994 - val_loss: 0.0039 - val_accuracy: 0.9994\n",
      "Epoch 22/100\n",
      "6676/6676 - 22s - loss: 0.0037 - accuracy: 0.9994 - val_loss: 0.0031 - val_accuracy: 0.9993\n",
      "Epoch 23/100\n",
      "6676/6676 - 22s - loss: 0.0036 - accuracy: 0.9994 - val_loss: 0.0028 - val_accuracy: 0.9994\n",
      "Epoch 24/100\n",
      "6676/6676 - 23s - loss: 0.0036 - accuracy: 0.9994 - val_loss: 0.0041 - val_accuracy: 0.9992\n",
      "Epoch 25/100\n",
      "6676/6676 - 22s - loss: 0.0038 - accuracy: 0.9994 - val_loss: 0.0032 - val_accuracy: 0.9994\n",
      "Epoch 26/100\n",
      "6676/6676 - 22s - loss: 0.0037 - accuracy: 0.9994 - val_loss: 0.0032 - val_accuracy: 0.9993\n",
      "Epoch 27/100\n",
      "6676/6676 - 23s - loss: 0.0037 - accuracy: 0.9994 - val_loss: 0.0032 - val_accuracy: 0.9994\n",
      "Epoch 28/100\n",
      "6676/6676 - 22s - loss: 0.0036 - accuracy: 0.9994 - val_loss: 0.0030 - val_accuracy: 0.9993\n",
      "Epoch 29/100\n",
      "6676/6676 - 23s - loss: 0.0035 - accuracy: 0.9994 - val_loss: 0.0051 - val_accuracy: 0.9994\n",
      "Epoch 30/100\n",
      "6676/6676 - 22s - loss: 0.0036 - accuracy: 0.9994 - val_loss: 0.0041 - val_accuracy: 0.9992\n",
      "Epoch 31/100\n",
      "6676/6676 - 19s - loss: 0.0036 - accuracy: 0.9994 - val_loss: 0.0037 - val_accuracy: 0.9993\n",
      "Epoch 32/100\n",
      "6676/6676 - 14s - loss: 0.0035 - accuracy: 0.9994 - val_loss: 0.0030 - val_accuracy: 0.9993\n",
      "Epoch 33/100\n",
      "6676/6676 - 15s - loss: 0.0035 - accuracy: 0.9994 - val_loss: 0.0034 - val_accuracy: 0.9994\n",
      "Epoch 34/100\n",
      "6676/6676 - 14s - loss: 0.0035 - accuracy: 0.9994 - val_loss: 0.0029 - val_accuracy: 0.9994\n",
      "Epoch 35/100\n",
      "6676/6676 - 14s - loss: 0.0036 - accuracy: 0.9994 - val_loss: 0.0034 - val_accuracy: 0.9993\n",
      "Epoch 36/100\n",
      "6676/6676 - 14s - loss: 0.0037 - accuracy: 0.9994 - val_loss: 0.0030 - val_accuracy: 0.9994\n",
      "Epoch 37/100\n",
      "6676/6676 - 16s - loss: 0.0037 - accuracy: 0.9994 - val_loss: 0.0029 - val_accuracy: 0.9993\n",
      "Epoch 38/100\n",
      "6676/6676 - 16s - loss: 0.0036 - accuracy: 0.9994 - val_loss: 0.0030 - val_accuracy: 0.9994\n",
      "Epoch 39/100\n",
      "6676/6676 - 16s - loss: 0.0036 - accuracy: 0.9994 - val_loss: 0.0029 - val_accuracy: 0.9994\n",
      "Epoch 40/100\n",
      "6676/6676 - 16s - loss: 0.0036 - accuracy: 0.9994 - val_loss: 0.0031 - val_accuracy: 0.9994\n",
      "Epoch 41/100\n",
      "6676/6676 - 17s - loss: 0.0035 - accuracy: 0.9994 - val_loss: 0.0034 - val_accuracy: 0.9991\n",
      "Epoch 42/100\n",
      "6676/6676 - 17s - loss: 0.0035 - accuracy: 0.9994 - val_loss: 0.0029 - val_accuracy: 0.9994\n",
      "Epoch 43/100\n",
      "6676/6676 - 14s - loss: 0.0035 - accuracy: 0.9994 - val_loss: 0.0059 - val_accuracy: 0.9993\n",
      "Epoch 44/100\n",
      "6676/6676 - 15s - loss: 0.0035 - accuracy: 0.9994 - val_loss: 0.0031 - val_accuracy: 0.9994\n",
      "Epoch 45/100\n",
      "6676/6676 - 16s - loss: 0.0035 - accuracy: 0.9994 - val_loss: 0.0027 - val_accuracy: 0.9995\n",
      "Epoch 46/100\n",
      "6676/6676 - 16s - loss: 0.0034 - accuracy: 0.9994 - val_loss: 0.0032 - val_accuracy: 0.9993\n",
      "Epoch 47/100\n",
      "6676/6676 - 16s - loss: 0.0034 - accuracy: 0.9994 - val_loss: 0.0034 - val_accuracy: 0.9993\n",
      "Epoch 48/100\n",
      "6676/6676 - 16s - loss: 0.0033 - accuracy: 0.9995 - val_loss: 0.0034 - val_accuracy: 0.9994\n",
      "Epoch 49/100\n",
      "6676/6676 - 15s - loss: 0.0036 - accuracy: 0.9995 - val_loss: 0.0029 - val_accuracy: 0.9993\n",
      "Epoch 50/100\n",
      "6676/6676 - 15s - loss: 0.0033 - accuracy: 0.9994 - val_loss: 0.0031 - val_accuracy: 0.9993\n",
      "Epoch 51/100\n",
      "6676/6676 - 14s - loss: 0.0037 - accuracy: 0.9995 - val_loss: 0.0031 - val_accuracy: 0.9994\n",
      "Epoch 52/100\n",
      "6676/6676 - 16s - loss: 0.0035 - accuracy: 0.9994 - val_loss: 0.0032 - val_accuracy: 0.9993\n",
      "Epoch 53/100\n",
      "6676/6676 - 16s - loss: 0.0034 - accuracy: 0.9995 - val_loss: 0.0029 - val_accuracy: 0.9994\n",
      "Epoch 54/100\n",
      "6676/6676 - 16s - loss: 0.0033 - accuracy: 0.9994 - val_loss: 0.0030 - val_accuracy: 0.9994\n",
      "Epoch 55/100\n",
      "6676/6676 - 16s - loss: 0.0034 - accuracy: 0.9995 - val_loss: 0.0031 - val_accuracy: 0.9994\n",
      "Epoch 56/100\n",
      "6676/6676 - 15s - loss: 0.0035 - accuracy: 0.9994 - val_loss: 0.0029 - val_accuracy: 0.9994\n",
      "Epoch 57/100\n",
      "6676/6676 - 14s - loss: 0.0034 - accuracy: 0.9994 - val_loss: 0.0031 - val_accuracy: 0.9994\n",
      "Epoch 58/100\n",
      "6676/6676 - 14s - loss: 0.0035 - accuracy: 0.9994 - val_loss: 0.0036 - val_accuracy: 0.9993\n",
      "Epoch 59/100\n",
      "6676/6676 - 14s - loss: 0.0038 - accuracy: 0.9994 - val_loss: 0.0029 - val_accuracy: 0.9994\n",
      "Epoch 60/100\n",
      "6676/6676 - 16s - loss: 0.0033 - accuracy: 0.9994 - val_loss: 0.0028 - val_accuracy: 0.9994\n",
      "Epoch 61/100\n",
      "6676/6676 - 16s - loss: 0.0034 - accuracy: 0.9995 - val_loss: 0.0030 - val_accuracy: 0.9995\n",
      "Epoch 62/100\n",
      "6676/6676 - 16s - loss: 0.0033 - accuracy: 0.9994 - val_loss: 0.0027 - val_accuracy: 0.9994\n",
      "Epoch 63/100\n",
      "6676/6676 - 16s - loss: 0.0036 - accuracy: 0.9995 - val_loss: 0.0036 - val_accuracy: 0.9994\n",
      "Epoch 64/100\n",
      "6676/6676 - 16s - loss: 0.0035 - accuracy: 0.9995 - val_loss: 0.0028 - val_accuracy: 0.9994\n",
      "Epoch 65/100\n",
      "6676/6676 - 14s - loss: 0.0037 - accuracy: 0.9995 - val_loss: 0.0032 - val_accuracy: 0.9994\n",
      "Epoch 66/100\n",
      "6676/6676 - 14s - loss: 0.0036 - accuracy: 0.9994 - val_loss: 0.0034 - val_accuracy: 0.9994\n",
      "Epoch 67/100\n",
      "6676/6676 - 14s - loss: 0.0034 - accuracy: 0.9994 - val_loss: 0.0031 - val_accuracy: 0.9994\n",
      "Epoch 68/100\n",
      "6676/6676 - 16s - loss: 0.0036 - accuracy: 0.9994 - val_loss: 0.0031 - val_accuracy: 0.9994\n",
      "Epoch 69/100\n",
      "6676/6676 - 16s - loss: 0.0035 - accuracy: 0.9994 - val_loss: 0.0035 - val_accuracy: 0.9994\n",
      "Epoch 70/100\n",
      "6676/6676 - 16s - loss: 0.0036 - accuracy: 0.9994 - val_loss: 0.0030 - val_accuracy: 0.9994\n",
      "Epoch 71/100\n",
      "6676/6676 - 16s - loss: 0.0034 - accuracy: 0.9994 - val_loss: 0.0033 - val_accuracy: 0.9993\n",
      "Epoch 72/100\n",
      "6676/6676 - 15s - loss: 0.0036 - accuracy: 0.9994 - val_loss: 0.0027 - val_accuracy: 0.9994\n",
      "Epoch 73/100\n",
      "6676/6676 - 14s - loss: 0.0033 - accuracy: 0.9995 - val_loss: 0.0034 - val_accuracy: 0.9993\n",
      "Epoch 74/100\n",
      "6676/6676 - 14s - loss: 0.0039 - accuracy: 0.9994 - val_loss: 0.0030 - val_accuracy: 0.9994\n",
      "Epoch 75/100\n",
      "6676/6676 - 14s - loss: 0.0035 - accuracy: 0.9995 - val_loss: 0.0037 - val_accuracy: 0.9994\n",
      "Epoch 76/100\n",
      "6676/6676 - 16s - loss: 0.0034 - accuracy: 0.9995 - val_loss: 0.0036 - val_accuracy: 0.9994\n",
      "Epoch 77/100\n",
      "6676/6676 - 16s - loss: 0.0033 - accuracy: 0.9995 - val_loss: 0.0035 - val_accuracy: 0.9994\n",
      "Epoch 78/100\n",
      "6676/6676 - 16s - loss: 0.0035 - accuracy: 0.9994 - val_loss: 0.0036 - val_accuracy: 0.9992\n",
      "Epoch 79/100\n"
     ]
    },
    {
     "name": "stdout",
     "output_type": "stream",
     "text": [
      "6676/6676 - 17s - loss: 0.0035 - accuracy: 0.9994 - val_loss: 0.0029 - val_accuracy: 0.9994\n",
      "Epoch 80/100\n",
      "6676/6676 - 18s - loss: 0.0037 - accuracy: 0.9995 - val_loss: 0.0029 - val_accuracy: 0.9994\n",
      "Epoch 81/100\n",
      "6676/6676 - 16s - loss: 0.0033 - accuracy: 0.9995 - val_loss: 0.0028 - val_accuracy: 0.9994\n",
      "Epoch 82/100\n",
      "6676/6676 - 14s - loss: 0.0037 - accuracy: 0.9995 - val_loss: 0.0030 - val_accuracy: 0.9994\n",
      "Epoch 83/100\n",
      "6676/6676 - 15s - loss: 0.0035 - accuracy: 0.9994 - val_loss: 0.0036 - val_accuracy: 0.9993\n",
      "Epoch 84/100\n",
      "6676/6676 - 16s - loss: 0.0034 - accuracy: 0.9995 - val_loss: 0.0030 - val_accuracy: 0.9994\n",
      "Epoch 85/100\n",
      "6676/6676 - 16s - loss: 0.0034 - accuracy: 0.9995 - val_loss: 0.0030 - val_accuracy: 0.9994\n",
      "Epoch 86/100\n",
      "6676/6676 - 16s - loss: 0.0034 - accuracy: 0.9994 - val_loss: 0.0043 - val_accuracy: 0.9994\n",
      "Epoch 87/100\n",
      "6676/6676 - 16s - loss: 0.0037 - accuracy: 0.9994 - val_loss: 0.0028 - val_accuracy: 0.9994\n",
      "Epoch 88/100\n",
      "6676/6676 - 14s - loss: 0.0035 - accuracy: 0.9995 - val_loss: 0.0030 - val_accuracy: 0.9994\n",
      "Epoch 89/100\n",
      "6676/6676 - 14s - loss: 0.0034 - accuracy: 0.9995 - val_loss: 0.0028 - val_accuracy: 0.9994\n",
      "Epoch 90/100\n",
      "6676/6676 - 14s - loss: 0.0033 - accuracy: 0.9995 - val_loss: 0.0027 - val_accuracy: 0.9994\n",
      "Epoch 91/100\n",
      "6676/6676 - 16s - loss: 0.0034 - accuracy: 0.9994 - val_loss: 0.0027 - val_accuracy: 0.9994\n",
      "Epoch 92/100\n",
      "6676/6676 - 16s - loss: 0.0032 - accuracy: 0.9995 - val_loss: 0.0031 - val_accuracy: 0.9994\n",
      "Epoch 93/100\n",
      "6676/6676 - 16s - loss: 0.0033 - accuracy: 0.9995 - val_loss: 0.0038 - val_accuracy: 0.9994\n",
      "Epoch 94/100\n",
      "6676/6676 - 16s - loss: 0.0034 - accuracy: 0.9995 - val_loss: 0.0046 - val_accuracy: 0.9993\n",
      "Epoch 95/100\n",
      "6676/6676 - 16s - loss: 0.0033 - accuracy: 0.9995 - val_loss: 0.0031 - val_accuracy: 0.9994\n",
      "Epoch 96/100\n",
      "6676/6676 - 14s - loss: 0.0035 - accuracy: 0.9994 - val_loss: 0.0028 - val_accuracy: 0.9994\n",
      "Epoch 97/100\n",
      "6676/6676 - 14s - loss: 0.0037 - accuracy: 0.9994 - val_loss: 0.0029 - val_accuracy: 0.9994\n",
      "Epoch 98/100\n",
      "6676/6676 - 14s - loss: 0.0034 - accuracy: 0.9995 - val_loss: 0.0029 - val_accuracy: 0.9994\n",
      "Epoch 99/100\n",
      "6676/6676 - 16s - loss: 0.0035 - accuracy: 0.9995 - val_loss: 0.0035 - val_accuracy: 0.9993\n",
      "Epoch 100/100\n",
      "6676/6676 - 16s - loss: 0.0035 - accuracy: 0.9995 - val_loss: 0.0032 - val_accuracy: 0.9994\n"
     ]
    },
    {
     "data": {
      "text/plain": [
       "<tensorflow.python.keras.callbacks.History at 0x1e6db033ac8>"
      ]
     },
     "execution_count": 36,
     "metadata": {},
     "output_type": "execute_result"
    }
   ],
   "source": [
    "# Fit (train) the model\n",
    "deepNeuralNetworkModel.fit(\n",
    "    X_train_scaled,\n",
    "    y_train_categorical,\n",
    "    validation_data=(X_test_scaled,  y_test_categorical),\n",
    "    epochs=100,\n",
    "    verbose=2\n",
    ")"
   ]
  },
  {
   "cell_type": "markdown",
   "metadata": {},
   "source": [
    "## Quantifying the Model"
   ]
  },
  {
   "cell_type": "code",
   "execution_count": 37,
   "metadata": {},
   "outputs": [
    {
     "name": "stdout",
     "output_type": "stream",
     "text": [
      "2226/2226 - 4s - loss: 0.0032 - accuracy: 0.9994\n",
      "Loss: 0.003171726129949093, Accuracy: 0.9994101524353027\n"
     ]
    }
   ],
   "source": [
    "model_loss, model_accuracy = deepNeuralNetworkModel.evaluate(\n",
    "    X_test_scaled, y_test_categorical, verbose=2)\n",
    "print(f\"Loss: {model_loss}, Accuracy: {model_accuracy}\")"
   ]
  },
  {
   "cell_type": "code",
   "execution_count": 38,
   "metadata": {},
   "outputs": [
    {
     "name": "stderr",
     "output_type": "stream",
     "text": [
      "C:\\Users\\dalsa\\anaconda3\\envs\\PythonData\\lib\\site-packages\\tensorflow\\python\\keras\\engine\\sequential.py:450: UserWarning: `model.predict_classes()` is deprecated and will be removed after 2021-01-01. Please use instead:* `np.argmax(model.predict(x), axis=-1)`,   if your model does multi-class classification   (e.g. if it uses a `softmax` last-layer activation).* `(model.predict(x) > 0.5).astype(\"int32\")`,   if your model does binary classification   (e.g. if it uses a `sigmoid` last-layer activation).\n",
      "  warnings.warn('`model.predict_classes()` is deprecated and '\n"
     ]
    }
   ],
   "source": [
    "# predict probabilities for test set\n",
    "deepNeuralNetworkModel_probs = deepNeuralNetworkModel.predict(X_test_scaled, verbose=0)\n",
    "# predict crisp classes for test set\n",
    "deepNeuralNetworkModel_classes = deepNeuralNetworkModel.predict_classes(X_test_scaled, verbose=0)"
   ]
  },
  {
   "cell_type": "code",
   "execution_count": 39,
   "metadata": {},
   "outputs": [],
   "source": [
    "# reduce to 1d array\n",
    "deepNeuralNetworkModel_probs = deepNeuralNetworkModel_probs.flatten()\n",
    "deepNeuralNetworkModel_classes = deepNeuralNetworkModel_classes.flatten()"
   ]
  },
  {
   "cell_type": "code",
   "execution_count": 40,
   "metadata": {},
   "outputs": [
    {
     "data": {
      "text/plain": [
       "array([1, 0, 0, ..., 0, 0, 0], dtype=int64)"
      ]
     },
     "execution_count": 40,
     "metadata": {},
     "output_type": "execute_result"
    }
   ],
   "source": [
    "y_test.flatten()"
   ]
  },
  {
   "cell_type": "code",
   "execution_count": 41,
   "metadata": {},
   "outputs": [
    {
     "name": "stdout",
     "output_type": "stream",
     "text": [
      "Accuracy: 0.999410\n",
      "Precision: 0.851485\n",
      "Recall: 0.761062\n",
      "F1 score: 0.803738\n"
     ]
    }
   ],
   "source": [
    "# accuracy: (tp + tn) / (p + n)\n",
    "accuracy = accuracy_score(y_test.flatten(), deepNeuralNetworkModel_classes)\n",
    "print('Accuracy: %f' % accuracy)\n",
    "# precision tp / (tp + fp)\n",
    "precision = precision_score(y_test.flatten(), deepNeuralNetworkModel_classes)\n",
    "print('Precision: %f' % precision)\n",
    "# recall: tp / (tp + fn)\n",
    "recall = recall_score(y_test.flatten(), deepNeuralNetworkModel_classes)\n",
    "print('Recall: %f' % recall)\n",
    "# f1: 2 tp / (2 tp + fp + fn)\n",
    "f1 = f1_score(y_test.flatten(), deepNeuralNetworkModel_classes)\n",
    "print('F1 score: %f' % f1)"
   ]
  },
  {
   "cell_type": "code",
   "execution_count": 42,
   "metadata": {},
   "outputs": [
    {
     "name": "stdout",
     "output_type": "stream",
     "text": [
      "[[71074    15]\n",
      " [   27    86]]\n"
     ]
    }
   ],
   "source": [
    "matrix = confusion_matrix(y_test.flatten(), deepNeuralNetworkModel_classes)\n",
    "print(matrix)"
   ]
  },
  {
   "cell_type": "code",
   "execution_count": 43,
   "metadata": {},
   "outputs": [
    {
     "data": {
      "image/png": "[encoded data removed]",
      "text/plain": [
       "<Figure size 432x432 with 2 Axes>"
      ]
     },
     "metadata": {
      "needs_background": "light"
     },
     "output_type": "display_data"
    }
   ],
   "source": [
    "plt.figure(figsize =(6, 6)) \n",
    "sns.heatmap(matrix, xticklabels = ['Non Fraudulent', 'Fraudulent'],  \n",
    "            yticklabels = ['Non Fraudulent', 'Fraudulent'], annot = True, fmt =\"d\"); \n",
    "plt.title(\"Confusion matrix - Deep Neural Network\") \n",
    "plt.ylabel('Actual Class') \n",
    "plt.xlabel('Predicted class') \n",
    "plt.show() "
   ]
  },
  {
   "cell_type": "code",
   "execution_count": 44,
   "metadata": {},
   "outputs": [
    {
     "data": {
      "text/plain": [
       "Text(0.5, 1.0, 'Precision Recall Curve - Deep Neural Network')"
      ]
     },
     "execution_count": 44,
     "metadata": {},
     "output_type": "execute_result"
    },
    {
     "data": {
      "image/png": "[encoded data removed]",
      "text/plain": [
       "<Figure size 432x288 with 1 Axes>"
      ]
     },
     "metadata": {
      "needs_background": "light"
     },
     "output_type": "display_data"
    }
   ],
   "source": [
    "p, r, t = precision_recall_curve(y_test.flatten(), deepNeuralNetworkModel_classes)\n",
    "plt.plot(p, r)\n",
    "plt.xlabel('Recall')\n",
    "plt.ylabel('Precision')\n",
    "plt.title('Precision Recall Curve - Deep Neural Network')"
   ]
  },
  {
   "cell_type": "code",
   "execution_count": null,
   "metadata": {},
   "outputs": [],
   "source": []
  }
 ],
 "metadata": {
  "kernelspec": {
   "display_name": "Python [conda env:PythonData] *",
   "language": "python",
   "name": "conda-env-PythonData-py"
  },
  "language_info": {
   "codemirror_mode": {
    "name": "ipython",
    "version": 3
   },
   "file_extension": ".py",
   "mimetype": "text/x-python",
   "name": "python",
   "nbconvert_exporter": "python",
   "pygments_lexer": "ipython3",
   "version": "3.6.10"
  }
 },
 "nbformat": 4,
 "nbformat_minor": 4
}
