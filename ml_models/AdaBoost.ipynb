{
 "cells": [
  {
   "cell_type": "code",
   "execution_count": 1,
   "metadata": {},
   "outputs": [],
   "source": [
    "#Import Dependencies\n",
    "\n",
    "import pandas as pd\n",
    "import numpy as np\n",
    "\n",
    "from config import CSV_FILE_URL\n",
    "import joblib\n",
    "\n",
    "from sklearn.model_selection import train_test_split\n",
    "from sklearn.preprocessing import MinMaxScaler\n",
    "from sklearn.model_selection import GridSearchCV\n",
    "\n",
    "from sklearn.metrics import classification_report, accuracy_score, precision_score, recall_score, f1_score\n",
    "from sklearn.metrics import precision_recall_curve, roc_auc_score, confusion_matrix\n",
    "import seaborn as sns\n",
    "import matplotlib.pyplot as plt\n",
    "%matplotlib inline\n",
    "\n",
    "from sklearn.ensemble import AdaBoostClassifier"
   ]
  },
  {
   "cell_type": "markdown",
   "metadata": {},
   "source": [
    "# Read in the CSV"
   ]
  },
  {
   "cell_type": "code",
   "execution_count": 4,
   "metadata": {},
   "outputs": [
    {
     "data": {
      "text/html": [
       "<div>\n",
       "<style scoped>\n",
       "    .dataframe tbody tr th:only-of-type {\n",
       "        vertical-align: middle;\n",
       "    }\n",
       "\n",
       "    .dataframe tbody tr th {\n",
       "        vertical-align: top;\n",
       "    }\n",
       "\n",
       "    .dataframe thead th {\n",
       "        text-align: right;\n",
       "    }\n",
       "</style>\n",
       "<table border=\"1\" class=\"dataframe\">\n",
       "  <thead>\n",
       "    <tr style=\"text-align: right;\">\n",
       "      <th></th>\n",
       "      <th>Time</th>\n",
       "      <th>V1</th>\n",
       "      <th>V2</th>\n",
       "      <th>V3</th>\n",
       "      <th>V4</th>\n",
       "      <th>V5</th>\n",
       "      <th>V6</th>\n",
       "      <th>V7</th>\n",
       "      <th>V8</th>\n",
       "      <th>V9</th>\n",
       "      <th>...</th>\n",
       "      <th>V21</th>\n",
       "      <th>V22</th>\n",
       "      <th>V23</th>\n",
       "      <th>V24</th>\n",
       "      <th>V25</th>\n",
       "      <th>V26</th>\n",
       "      <th>V27</th>\n",
       "      <th>V28</th>\n",
       "      <th>Amount</th>\n",
       "      <th>Class</th>\n",
       "    </tr>\n",
       "  </thead>\n",
       "  <tbody>\n",
       "    <tr>\n",
       "      <th>0</th>\n",
       "      <td>0.0</td>\n",
       "      <td>-1.359807</td>\n",
       "      <td>-0.072781</td>\n",
       "      <td>2.536347</td>\n",
       "      <td>1.378155</td>\n",
       "      <td>-0.338321</td>\n",
       "      <td>0.462388</td>\n",
       "      <td>0.239599</td>\n",
       "      <td>0.098698</td>\n",
       "      <td>0.363787</td>\n",
       "      <td>...</td>\n",
       "      <td>-0.018307</td>\n",
       "      <td>0.277838</td>\n",
       "      <td>-0.110474</td>\n",
       "      <td>0.066928</td>\n",
       "      <td>0.128539</td>\n",
       "      <td>-0.189115</td>\n",
       "      <td>0.133558</td>\n",
       "      <td>-0.021053</td>\n",
       "      <td>149.62</td>\n",
       "      <td>0</td>\n",
       "    </tr>\n",
       "    <tr>\n",
       "      <th>1</th>\n",
       "      <td>0.0</td>\n",
       "      <td>1.191857</td>\n",
       "      <td>0.266151</td>\n",
       "      <td>0.166480</td>\n",
       "      <td>0.448154</td>\n",
       "      <td>0.060018</td>\n",
       "      <td>-0.082361</td>\n",
       "      <td>-0.078803</td>\n",
       "      <td>0.085102</td>\n",
       "      <td>-0.255425</td>\n",
       "      <td>...</td>\n",
       "      <td>-0.225775</td>\n",
       "      <td>-0.638672</td>\n",
       "      <td>0.101288</td>\n",
       "      <td>-0.339846</td>\n",
       "      <td>0.167170</td>\n",
       "      <td>0.125895</td>\n",
       "      <td>-0.008983</td>\n",
       "      <td>0.014724</td>\n",
       "      <td>2.69</td>\n",
       "      <td>0</td>\n",
       "    </tr>\n",
       "    <tr>\n",
       "      <th>2</th>\n",
       "      <td>1.0</td>\n",
       "      <td>-1.358354</td>\n",
       "      <td>-1.340163</td>\n",
       "      <td>1.773209</td>\n",
       "      <td>0.379780</td>\n",
       "      <td>-0.503198</td>\n",
       "      <td>1.800499</td>\n",
       "      <td>0.791461</td>\n",
       "      <td>0.247676</td>\n",
       "      <td>-1.514654</td>\n",
       "      <td>...</td>\n",
       "      <td>0.247998</td>\n",
       "      <td>0.771679</td>\n",
       "      <td>0.909412</td>\n",
       "      <td>-0.689281</td>\n",
       "      <td>-0.327642</td>\n",
       "      <td>-0.139097</td>\n",
       "      <td>-0.055353</td>\n",
       "      <td>-0.059752</td>\n",
       "      <td>378.66</td>\n",
       "      <td>0</td>\n",
       "    </tr>\n",
       "    <tr>\n",
       "      <th>3</th>\n",
       "      <td>1.0</td>\n",
       "      <td>-0.966272</td>\n",
       "      <td>-0.185226</td>\n",
       "      <td>1.792993</td>\n",
       "      <td>-0.863291</td>\n",
       "      <td>-0.010309</td>\n",
       "      <td>1.247203</td>\n",
       "      <td>0.237609</td>\n",
       "      <td>0.377436</td>\n",
       "      <td>-1.387024</td>\n",
       "      <td>...</td>\n",
       "      <td>-0.108300</td>\n",
       "      <td>0.005274</td>\n",
       "      <td>-0.190321</td>\n",
       "      <td>-1.175575</td>\n",
       "      <td>0.647376</td>\n",
       "      <td>-0.221929</td>\n",
       "      <td>0.062723</td>\n",
       "      <td>0.061458</td>\n",
       "      <td>123.50</td>\n",
       "      <td>0</td>\n",
       "    </tr>\n",
       "    <tr>\n",
       "      <th>4</th>\n",
       "      <td>2.0</td>\n",
       "      <td>-1.158233</td>\n",
       "      <td>0.877737</td>\n",
       "      <td>1.548718</td>\n",
       "      <td>0.403034</td>\n",
       "      <td>-0.407193</td>\n",
       "      <td>0.095921</td>\n",
       "      <td>0.592941</td>\n",
       "      <td>-0.270533</td>\n",
       "      <td>0.817739</td>\n",
       "      <td>...</td>\n",
       "      <td>-0.009431</td>\n",
       "      <td>0.798278</td>\n",
       "      <td>-0.137458</td>\n",
       "      <td>0.141267</td>\n",
       "      <td>-0.206010</td>\n",
       "      <td>0.502292</td>\n",
       "      <td>0.219422</td>\n",
       "      <td>0.215153</td>\n",
       "      <td>69.99</td>\n",
       "      <td>0</td>\n",
       "    </tr>\n",
       "  </tbody>\n",
       "</table>\n",
       "<p>5 rows × 31 columns</p>\n",
       "</div>"
      ],
      "text/plain": [
       "   Time        V1        V2        V3        V4        V5        V6        V7  \\\n",
       "0   0.0 -1.359807 -0.072781  2.536347  1.378155 -0.338321  0.462388  0.239599   \n",
       "1   0.0  1.191857  0.266151  0.166480  0.448154  0.060018 -0.082361 -0.078803   \n",
       "2   1.0 -1.358354 -1.340163  1.773209  0.379780 -0.503198  1.800499  0.791461   \n",
       "3   1.0 -0.966272 -0.185226  1.792993 -0.863291 -0.010309  1.247203  0.237609   \n",
       "4   2.0 -1.158233  0.877737  1.548718  0.403034 -0.407193  0.095921  0.592941   \n",
       "\n",
       "         V8        V9  ...       V21       V22       V23       V24       V25  \\\n",
       "0  0.098698  0.363787  ... -0.018307  0.277838 -0.110474  0.066928  0.128539   \n",
       "1  0.085102 -0.255425  ... -0.225775 -0.638672  0.101288 -0.339846  0.167170   \n",
       "2  0.247676 -1.514654  ...  0.247998  0.771679  0.909412 -0.689281 -0.327642   \n",
       "3  0.377436 -1.387024  ... -0.108300  0.005274 -0.190321 -1.175575  0.647376   \n",
       "4 -0.270533  0.817739  ... -0.009431  0.798278 -0.137458  0.141267 -0.206010   \n",
       "\n",
       "        V26       V27       V28  Amount  Class  \n",
       "0 -0.189115  0.133558 -0.021053  149.62      0  \n",
       "1  0.125895 -0.008983  0.014724    2.69      0  \n",
       "2 -0.139097 -0.055353 -0.059752  378.66      0  \n",
       "3 -0.221929  0.062723  0.061458  123.50      0  \n",
       "4  0.502292  0.219422  0.215153   69.99      0  \n",
       "\n",
       "[5 rows x 31 columns]"
      ]
     },
     "execution_count": 4,
     "metadata": {},
     "output_type": "execute_result"
    }
   ],
   "source": [
    "df = pd.read_csv(CSV_FILE_URL)\n",
    "df.head()"
   ]
  },
  {
   "cell_type": "markdown",
   "metadata": {},
   "source": [
    "# Data Cleaning"
   ]
  },
  {
   "cell_type": "code",
   "execution_count": 8,
   "metadata": {},
   "outputs": [
    {
     "data": {
      "text/plain": [
       "(284807, 31)"
      ]
     },
     "execution_count": 8,
     "metadata": {},
     "output_type": "execute_result"
    }
   ],
   "source": [
    "# Drop the null columns \n",
    "df = df.dropna(axis='columns', how='all')\n",
    "\n",
    "# Drop the null rows\n",
    "df = df.dropna()\n",
    "df.shape"
   ]
  },
  {
   "cell_type": "markdown",
   "metadata": {},
   "source": [
    "There are no null values"
   ]
  },
  {
   "cell_type": "markdown",
   "metadata": {},
   "source": [
    "# Data Exploration"
   ]
  },
  {
   "cell_type": "code",
   "execution_count": 13,
   "metadata": {},
   "outputs": [
    {
     "data": {
      "text/html": [
       "<div>\n",
       "<style scoped>\n",
       "    .dataframe tbody tr th:only-of-type {\n",
       "        vertical-align: middle;\n",
       "    }\n",
       "\n",
       "    .dataframe tbody tr th {\n",
       "        vertical-align: top;\n",
       "    }\n",
       "\n",
       "    .dataframe thead th {\n",
       "        text-align: right;\n",
       "    }\n",
       "</style>\n",
       "<table border=\"1\" class=\"dataframe\">\n",
       "  <thead>\n",
       "    <tr style=\"text-align: right;\">\n",
       "      <th></th>\n",
       "      <th>Time</th>\n",
       "      <th>V1</th>\n",
       "      <th>V2</th>\n",
       "      <th>V3</th>\n",
       "      <th>V4</th>\n",
       "      <th>V5</th>\n",
       "      <th>V6</th>\n",
       "      <th>V7</th>\n",
       "      <th>V8</th>\n",
       "      <th>V9</th>\n",
       "      <th>...</th>\n",
       "      <th>V20</th>\n",
       "      <th>V21</th>\n",
       "      <th>V22</th>\n",
       "      <th>V23</th>\n",
       "      <th>V24</th>\n",
       "      <th>V25</th>\n",
       "      <th>V26</th>\n",
       "      <th>V27</th>\n",
       "      <th>V28</th>\n",
       "      <th>Amount</th>\n",
       "    </tr>\n",
       "    <tr>\n",
       "      <th>Class</th>\n",
       "      <th></th>\n",
       "      <th></th>\n",
       "      <th></th>\n",
       "      <th></th>\n",
       "      <th></th>\n",
       "      <th></th>\n",
       "      <th></th>\n",
       "      <th></th>\n",
       "      <th></th>\n",
       "      <th></th>\n",
       "      <th></th>\n",
       "      <th></th>\n",
       "      <th></th>\n",
       "      <th></th>\n",
       "      <th></th>\n",
       "      <th></th>\n",
       "      <th></th>\n",
       "      <th></th>\n",
       "      <th></th>\n",
       "      <th></th>\n",
       "      <th></th>\n",
       "    </tr>\n",
       "  </thead>\n",
       "  <tbody>\n",
       "    <tr>\n",
       "      <th>0</th>\n",
       "      <td>284315</td>\n",
       "      <td>284315</td>\n",
       "      <td>284315</td>\n",
       "      <td>284315</td>\n",
       "      <td>284315</td>\n",
       "      <td>284315</td>\n",
       "      <td>284315</td>\n",
       "      <td>284315</td>\n",
       "      <td>284315</td>\n",
       "      <td>284315</td>\n",
       "      <td>...</td>\n",
       "      <td>284315</td>\n",
       "      <td>284315</td>\n",
       "      <td>284315</td>\n",
       "      <td>284315</td>\n",
       "      <td>284315</td>\n",
       "      <td>284315</td>\n",
       "      <td>284315</td>\n",
       "      <td>284315</td>\n",
       "      <td>284315</td>\n",
       "      <td>284315</td>\n",
       "    </tr>\n",
       "    <tr>\n",
       "      <th>1</th>\n",
       "      <td>492</td>\n",
       "      <td>492</td>\n",
       "      <td>492</td>\n",
       "      <td>492</td>\n",
       "      <td>492</td>\n",
       "      <td>492</td>\n",
       "      <td>492</td>\n",
       "      <td>492</td>\n",
       "      <td>492</td>\n",
       "      <td>492</td>\n",
       "      <td>...</td>\n",
       "      <td>492</td>\n",
       "      <td>492</td>\n",
       "      <td>492</td>\n",
       "      <td>492</td>\n",
       "      <td>492</td>\n",
       "      <td>492</td>\n",
       "      <td>492</td>\n",
       "      <td>492</td>\n",
       "      <td>492</td>\n",
       "      <td>492</td>\n",
       "    </tr>\n",
       "  </tbody>\n",
       "</table>\n",
       "<p>2 rows × 30 columns</p>\n",
       "</div>"
      ],
      "text/plain": [
       "         Time      V1      V2      V3      V4      V5      V6      V7      V8  \\\n",
       "Class                                                                           \n",
       "0      284315  284315  284315  284315  284315  284315  284315  284315  284315   \n",
       "1         492     492     492     492     492     492     492     492     492   \n",
       "\n",
       "           V9  ...     V20     V21     V22     V23     V24     V25     V26  \\\n",
       "Class          ...                                                           \n",
       "0      284315  ...  284315  284315  284315  284315  284315  284315  284315   \n",
       "1         492  ...     492     492     492     492     492     492     492   \n",
       "\n",
       "          V27     V28  Amount  \n",
       "Class                          \n",
       "0      284315  284315  284315  \n",
       "1         492     492     492  \n",
       "\n",
       "[2 rows x 30 columns]"
      ]
     },
     "execution_count": 13,
     "metadata": {},
     "output_type": "execute_result"
    }
   ],
   "source": [
    "df.groupby('Class').count()"
   ]
  },
  {
   "cell_type": "code",
   "execution_count": 12,
   "metadata": {},
   "outputs": [
    {
     "data": {
      "text/plain": [
       "<matplotlib.axes._subplots.AxesSubplot at 0x18fc9cfe910>"
      ]
     },
     "execution_count": 12,
     "metadata": {},
     "output_type": "execute_result"
    },
    {
     "data": {
      "image/png": "[encoded data removed]",
      "text/plain": [
       "<Figure size 432x288 with 1 Axes>"
      ]
     },
     "metadata": {
      "needs_background": "light"
     },
     "output_type": "display_data"
    }
   ],
   "source": [
    "grouped_df = df[['Class','Time']].groupby('Class').count()\n",
    "grouped_df = grouped_df.rename(columns={\"Time\":\"Count\"})\n",
    "grouped_df.plot(kind=\"bar\")"
   ]
  },
  {
   "cell_type": "markdown",
   "metadata": {},
   "source": [
    "We can see from the plot above that the data is highly imbalanced. There are only 492 fraudulent out of 284,315 transactions, or 0.17%."
   ]
  },
  {
   "cell_type": "markdown",
   "metadata": {},
   "source": [
    "# Defining Features"
   ]
  },
  {
   "cell_type": "code",
   "execution_count": 15,
   "metadata": {},
   "outputs": [
    {
     "data": {
      "text/plain": [
       "Index(['Time', 'V1', 'V2', 'V3', 'V4', 'V5', 'V6', 'V7', 'V8', 'V9', 'V10',\n",
       "       'V11', 'V12', 'V13', 'V14', 'V15', 'V16', 'V17', 'V18', 'V19', 'V20',\n",
       "       'V21', 'V22', 'V23', 'V24', 'V25', 'V26', 'V27', 'V28', 'Amount',\n",
       "       'Class'],\n",
       "      dtype='object')"
      ]
     },
     "execution_count": 15,
     "metadata": {},
     "output_type": "execute_result"
    }
   ],
   "source": [
    "df.columns"
   ]
  },
  {
   "cell_type": "code",
   "execution_count": 18,
   "metadata": {},
   "outputs": [
    {
     "data": {
      "text/plain": [
       "(284807, 30)"
      ]
     },
     "execution_count": 18,
     "metadata": {},
     "output_type": "execute_result"
    }
   ],
   "source": [
    "# Selecting predictor values\n",
    "selected_features = df[['Time', 'V1', 'V2', 'V3', 'V4', 'V5', 'V6', 'V7', 'V8', 'V9', 'V10',\n",
    "       'V11', 'V12', 'V13', 'V14', 'V15', 'V16', 'V17', 'V18', 'V19', 'V20',\n",
    "       'V21', 'V22', 'V23', 'V24', 'V25', 'V26', 'V27', 'V28', 'Amount']]\n",
    "selected_features.shape"
   ]
  },
  {
   "cell_type": "code",
   "execution_count": 19,
   "metadata": {},
   "outputs": [
    {
     "name": "stdout",
     "output_type": "stream",
     "text": [
      "Shape:  (284807, 30) (284807, 1)\n"
     ]
    }
   ],
   "source": [
    "# Defining predictor and target features to X and y respectively.\n",
    "# Note: Sklearn requires a two-dimensional array of values\n",
    "# so we use reshape to create this\n",
    "\n",
    "X = selected_features\n",
    "y = df[['Class']].values.reshape(-1, 1)\n",
    "\n",
    "print(\"Shape: \", X.shape, y.shape)"
   ]
  },
  {
   "cell_type": "markdown",
   "metadata": {},
   "source": [
    "# Create a Train Test Split"
   ]
  },
  {
   "cell_type": "code",
   "execution_count": 21,
   "metadata": {},
   "outputs": [
    {
     "name": "stdout",
     "output_type": "stream",
     "text": [
      "Shape:  (213605, 30) (213605, 1) (71202, 30) (71202, 1)\n"
     ]
    }
   ],
   "source": [
    "# Using sklearn's 'train_test_split' to split the data into training and testing datasets\n",
    "X_train, X_test, y_train, y_test = train_test_split(X,y, random_state=42)\n",
    "print('Shape: ', X_train.shape, y_train.shape, X_test.shape, y_test.shape)"
   ]
  },
  {
   "cell_type": "markdown",
   "metadata": {},
   "source": [
    "# Data Pre-processing\n"
   ]
  },
  {
   "cell_type": "code",
   "execution_count": 23,
   "metadata": {},
   "outputs": [],
   "source": [
    "# Scale the data\n",
    "X_minmax = MinMaxScaler().fit(X_train)\n",
    "\n",
    "X_train_scaled = X_minmax.transform(X_train)\n",
    "X_test_scaled = X_minmax.transform(X_test)"
   ]
  },
  {
   "cell_type": "markdown",
   "metadata": {},
   "source": [
    "# Train the model"
   ]
  },
  {
   "cell_type": "code",
   "execution_count": 25,
   "metadata": {},
   "outputs": [
    {
     "data": {
      "text/plain": [
       "AdaBoostClassifier()"
      ]
     },
     "execution_count": 25,
     "metadata": {},
     "output_type": "execute_result"
    }
   ],
   "source": [
    "AdaBoost = AdaBoostClassifier()\n",
    "AdaBoost"
   ]
  },
  {
   "cell_type": "code",
   "execution_count": 26,
   "metadata": {},
   "outputs": [
    {
     "data": {
      "text/plain": [
       "AdaBoostClassifier()"
      ]
     },
     "execution_count": 26,
     "metadata": {},
     "output_type": "execute_result"
    }
   ],
   "source": [
    "AdaBoost.fit(X_train_scaled, y_train.flatten())"
   ]
  },
  {
   "cell_type": "code",
   "execution_count": 27,
   "metadata": {},
   "outputs": [
    {
     "name": "stdout",
     "output_type": "stream",
     "text": [
      "Training Data Score: 0.999246272325086\n",
      "Testing Data Score: 0.999283727985169\n"
     ]
    }
   ],
   "source": [
    "print(f\"Training Data Score: {AdaBoost.score(X_train_scaled, y_train)}\")\n",
    "print(f\"Testing Data Score: {AdaBoost.score(X_test_scaled, y_test)}\")"
   ]
  },
  {
   "cell_type": "code",
   "execution_count": 28,
   "metadata": {},
   "outputs": [],
   "source": [
    "# Make predictions with the model\n",
    "AdaBoostPredictions = AdaBoost.predict(X_test_scaled)"
   ]
  },
  {
   "cell_type": "code",
   "execution_count": 29,
   "metadata": {},
   "outputs": [],
   "source": [
    "AdaBoostPredictProba = AdaBoost.predict_proba(X_test_scaled)[:,1]"
   ]
  },
  {
   "cell_type": "code",
   "execution_count": 30,
   "metadata": {},
   "outputs": [
    {
     "name": "stdout",
     "output_type": "stream",
     "text": [
      "                precision    recall  f1-score   support\n",
      "\n",
      "Non Fraudulent       1.00      1.00      1.00     71089\n",
      "    Fraudulent       0.81      0.72      0.76       113\n",
      "\n",
      "      accuracy                           1.00     71202\n",
      "     macro avg       0.90      0.86      0.88     71202\n",
      "  weighted avg       1.00      1.00      1.00     71202\n",
      "\n",
      "Accuracy: 0.999283727985169\n"
     ]
    }
   ],
   "source": [
    "# Print classification report\n",
    "print(classification_report(y_test.flatten(), AdaBoostPredictions,\n",
    "                            target_names=[\"Non Fraudulent\", \"Fraudulent\"]))\n",
    "print(\"Accuracy:\", accuracy_score(y_test.flatten(), AdaBoostPredictions))"
   ]
  },
  {
   "cell_type": "code",
   "execution_count": 34,
   "metadata": {},
   "outputs": [
    {
     "name": "stdout",
     "output_type": "stream",
     "text": [
      "Ada Boost Classifier\n",
      "========================\n",
      "Accuracy:  0.999283727985169\n",
      "Precision:  0.81\n",
      "Recall:  0.7168141592920354\n",
      "F1-Score:  0.7605633802816901\n",
      "AUC score:  0.8582734443437909\n",
      "                precision    recall  f1-score   support\n",
      "\n",
      "Non Fraudulent       1.00      1.00      1.00     71089\n",
      "    Fraudulent       0.81      0.72      0.76       113\n",
      "\n",
      "      accuracy                           1.00     71202\n",
      "     macro avg       0.90      0.86      0.88     71202\n",
      "  weighted avg       1.00      1.00      1.00     71202\n",
      "\n"
     ]
    },
    {
     "data": {
      "image/png": "[encoded data removed]",
      "text/plain": [
       "<Figure size 432x288 with 1 Axes>"
      ]
     },
     "metadata": {
      "needs_background": "light"
     },
     "output_type": "display_data"
    },
    {
     "data": {
      "image/png": "[encoded data removed]",
      "text/plain": [
       "<Figure size 432x432 with 2 Axes>"
      ]
     },
     "metadata": {
      "needs_background": "light"
     },
     "output_type": "display_data"
    }
   ],
   "source": [
    "print(\"Ada Boost Classifier\")\n",
    "print(\"========================\")\n",
    "print(\"Accuracy: \",accuracy_score(y_test.flatten(), AdaBoostPredictions)) \n",
    "print(\"Precision: \",precision_score(y_test.flatten(), AdaBoostPredictions))\n",
    "print(\"Recall: \",recall_score(y_test.flatten(), AdaBoostPredictions))\n",
    "print(\"F1-Score: \",f1_score(y_test.flatten(), AdaBoostPredictions))\n",
    "print(\"AUC score: \",roc_auc_score(y_test.flatten(), AdaBoostPredictions))\n",
    "print(classification_report(y_test.flatten(), AdaBoostPredictions,\n",
    "                            target_names=[\"Non Fraudulent\", \"Fraudulent\"]))\n",
    "\n",
    "p, r, t = precision_recall_curve(y_test.flatten(), AdaBoostPredictProba)\n",
    "plt.plot(p, r)\n",
    "plt.xlabel('Recall')\n",
    "plt.ylabel('Precision')\n",
    "plt.title('Precision Recall Curve - Ada Boost')\n",
    "\n",
    "confusionMatrix = confusion_matrix(y_test.flatten(), AdaBoostPredictions) \n",
    "plt.figure(figsize =(6, 6)) \n",
    "sns.heatmap(confusionMatrix, xticklabels = ['Non Fraudulent', 'Fraudulent'],  \n",
    "            yticklabels = ['Non Fraudulent', 'Fraudulent'], annot = True, fmt =\"d\"); \n",
    "plt.title(\"Confusion matrix - Ada Boost\") \n",
    "plt.ylabel('Actual Class') \n",
    "plt.xlabel('Predicted class') \n",
    "plt.show()"
   ]
  },
  {
   "cell_type": "markdown",
   "metadata": {},
   "source": [
    "# Hyperparameter Tuning"
   ]
  },
  {
   "cell_type": "code",
   "execution_count": 35,
   "metadata": {},
   "outputs": [
    {
     "data": {
      "text/plain": [
       "dict_keys(['algorithm', 'base_estimator', 'learning_rate', 'n_estimators', 'random_state'])"
      ]
     },
     "execution_count": 35,
     "metadata": {},
     "output_type": "execute_result"
    }
   ],
   "source": [
    "AdaBoost.get_params().keys()"
   ]
  },
  {
   "cell_type": "code",
   "execution_count": 37,
   "metadata": {},
   "outputs": [],
   "source": [
    "# Create GridsearchCV model\n",
    "AdaBoostParamGrid = {'algorithm': ['SAMME', 'SAMEE.R'],\n",
    "                    'n_estimators': [50,100,150,200]}\n",
    "AdaBoostGrid = GridSearchCV(AdaBoost, AdaBoostParamGrid, verbose=3)"
   ]
  },
  {
   "cell_type": "code",
   "execution_count": 38,
   "metadata": {},
   "outputs": [
    {
     "name": "stdout",
     "output_type": "stream",
     "text": [
      "Fitting 5 folds for each of 8 candidates, totalling 40 fits\n",
      "[CV] algorithm=SAMME, n_estimators=50 ................................\n"
     ]
    },
    {
     "name": "stderr",
     "output_type": "stream",
     "text": [
      "[Parallel(n_jobs=1)]: Using backend SequentialBackend with 1 concurrent workers.\n"
     ]
    },
    {
     "name": "stdout",
     "output_type": "stream",
     "text": [
      "[CV] .... algorithm=SAMME, n_estimators=50, score=0.999, total= 1.2min\n",
      "[CV] algorithm=SAMME, n_estimators=50 ................................\n"
     ]
    },
    {
     "name": "stderr",
     "output_type": "stream",
     "text": [
      "[Parallel(n_jobs=1)]: Done   1 out of   1 | elapsed:  1.2min remaining:    0.0s\n"
     ]
    },
    {
     "name": "stdout",
     "output_type": "stream",
     "text": [
      "[CV] .... algorithm=SAMME, n_estimators=50, score=0.999, total=  55.1s\n",
      "[CV] algorithm=SAMME, n_estimators=50 ................................\n"
     ]
    },
    {
     "name": "stderr",
     "output_type": "stream",
     "text": [
      "[Parallel(n_jobs=1)]: Done   2 out of   2 | elapsed:  2.1min remaining:    0.0s\n"
     ]
    },
    {
     "name": "stdout",
     "output_type": "stream",
     "text": [
      "[CV] .... algorithm=SAMME, n_estimators=50, score=0.999, total=  45.8s\n",
      "[CV] algorithm=SAMME, n_estimators=50 ................................\n",
      "[CV] .... algorithm=SAMME, n_estimators=50, score=0.999, total=  45.8s\n",
      "[CV] algorithm=SAMME, n_estimators=50 ................................\n",
      "[CV] .... algorithm=SAMME, n_estimators=50, score=0.999, total=  45.4s\n",
      "[CV] algorithm=SAMME, n_estimators=100 ...............................\n",
      "[CV] ... algorithm=SAMME, n_estimators=100, score=0.999, total= 1.6min\n",
      "[CV] algorithm=SAMME, n_estimators=100 ...............................\n",
      "[CV] ... algorithm=SAMME, n_estimators=100, score=0.999, total= 1.5min\n",
      "[CV] algorithm=SAMME, n_estimators=100 ...............................\n",
      "[CV] ... algorithm=SAMME, n_estimators=100, score=0.999, total= 1.5min\n",
      "[CV] algorithm=SAMME, n_estimators=100 ...............................\n",
      "[CV] ... algorithm=SAMME, n_estimators=100, score=0.999, total= 1.5min\n",
      "[CV] algorithm=SAMME, n_estimators=100 ...............................\n",
      "[CV] ... algorithm=SAMME, n_estimators=100, score=0.999, total= 1.5min\n",
      "[CV] algorithm=SAMME, n_estimators=150 ...............................\n",
      "[CV] ... algorithm=SAMME, n_estimators=150, score=0.999, total= 2.2min\n",
      "[CV] algorithm=SAMME, n_estimators=150 ...............................\n",
      "[CV] ... algorithm=SAMME, n_estimators=150, score=0.999, total= 2.3min\n",
      "[CV] algorithm=SAMME, n_estimators=150 ...............................\n",
      "[CV] ... algorithm=SAMME, n_estimators=150, score=0.999, total= 2.2min\n",
      "[CV] algorithm=SAMME, n_estimators=150 ...............................\n",
      "[CV] ... algorithm=SAMME, n_estimators=150, score=0.999, total= 2.2min\n",
      "[CV] algorithm=SAMME, n_estimators=150 ...............................\n",
      "[CV] ... algorithm=SAMME, n_estimators=150, score=0.999, total= 2.3min\n",
      "[CV] algorithm=SAMME, n_estimators=200 ...............................\n",
      "[CV] ... algorithm=SAMME, n_estimators=200, score=0.999, total= 3.0min\n",
      "[CV] algorithm=SAMME, n_estimators=200 ...............................\n",
      "[CV] ... algorithm=SAMME, n_estimators=200, score=0.999, total= 2.9min\n",
      "[CV] algorithm=SAMME, n_estimators=200 ...............................\n",
      "[CV] ... algorithm=SAMME, n_estimators=200, score=0.999, total= 3.0min\n",
      "[CV] algorithm=SAMME, n_estimators=200 ...............................\n",
      "[CV] ... algorithm=SAMME, n_estimators=200, score=0.999, total= 3.0min\n",
      "[CV] algorithm=SAMME, n_estimators=200 ...............................\n",
      "[CV] ... algorithm=SAMME, n_estimators=200, score=0.999, total= 2.9min\n",
      "[CV] algorithm=SAMEE.R, n_estimators=50 ..............................\n",
      "[CV] .... algorithm=SAMEE.R, n_estimators=50, score=nan, total=   0.0s\n",
      "[CV] algorithm=SAMEE.R, n_estimators=50 ..............................\n",
      "[CV] .... algorithm=SAMEE.R, n_estimators=50, score=nan, total=   0.0s\n",
      "[CV] algorithm=SAMEE.R, n_estimators=50 ..............................\n",
      "[CV] .... algorithm=SAMEE.R, n_estimators=50, score=nan, total=   0.0s\n",
      "[CV] algorithm=SAMEE.R, n_estimators=50 ..............................\n",
      "[CV] .... algorithm=SAMEE.R, n_estimators=50, score=nan, total=   0.0s\n",
      "[CV] algorithm=SAMEE.R, n_estimators=50 ..............................\n",
      "[CV] .... algorithm=SAMEE.R, n_estimators=50, score=nan, total=   0.0s\n",
      "[CV] algorithm=SAMEE.R, n_estimators=100 .............................\n",
      "[CV] ... algorithm=SAMEE.R, n_estimators=100, score=nan, total=   0.0s\n",
      "[CV] algorithm=SAMEE.R, n_estimators=100 .............................\n"
     ]
    },
    {
     "name": "stderr",
     "output_type": "stream",
     "text": [
      "C:\\Users\\nmbur\\anaconda3\\lib\\site-packages\\sklearn\\model_selection\\_validation.py:548: FitFailedWarning: Estimator fit failed. The score on this train-test partition for these parameters will be set to nan. Details: \n",
      "Traceback (most recent call last):\n",
      "  File \"C:\\Users\\nmbur\\anaconda3\\lib\\site-packages\\sklearn\\model_selection\\_validation.py\", line 531, in _fit_and_score\n",
      "    estimator.fit(X_train, y_train, **fit_params)\n",
      "  File \"C:\\Users\\nmbur\\anaconda3\\lib\\site-packages\\sklearn\\ensemble\\_weight_boosting.py\", line 440, in fit\n",
      "    raise ValueError(\"algorithm %s is not supported\" % self.algorithm)\n",
      "ValueError: algorithm SAMEE.R is not supported\n",
      "\n",
      "  warnings.warn(\"Estimator fit failed. The score on this train-test\"\n"
     ]
    },
    {
     "name": "stdout",
     "output_type": "stream",
     "text": [
      "[CV] ... algorithm=SAMEE.R, n_estimators=100, score=nan, total=   0.0s\n",
      "[CV] algorithm=SAMEE.R, n_estimators=100 .............................\n",
      "[CV] ... algorithm=SAMEE.R, n_estimators=100, score=nan, total=   0.0s\n",
      "[CV] algorithm=SAMEE.R, n_estimators=100 .............................\n",
      "[CV] ... algorithm=SAMEE.R, n_estimators=100, score=nan, total=   0.0s\n",
      "[CV] algorithm=SAMEE.R, n_estimators=100 .............................\n",
      "[CV] ... algorithm=SAMEE.R, n_estimators=100, score=nan, total=   0.0s\n",
      "[CV] algorithm=SAMEE.R, n_estimators=150 .............................\n",
      "[CV] ... algorithm=SAMEE.R, n_estimators=150, score=nan, total=   0.0s\n",
      "[CV] algorithm=SAMEE.R, n_estimators=150 .............................\n",
      "[CV] ... algorithm=SAMEE.R, n_estimators=150, score=nan, total=   0.0s\n",
      "[CV] algorithm=SAMEE.R, n_estimators=150 .............................\n",
      "[CV] ... algorithm=SAMEE.R, n_estimators=150, score=nan, total=   0.0s\n",
      "[CV] algorithm=SAMEE.R, n_estimators=150 .............................\n",
      "[CV] ... algorithm=SAMEE.R, n_estimators=150, score=nan, total=   0.0s\n",
      "[CV] algorithm=SAMEE.R, n_estimators=150 .............................\n",
      "[CV] ... algorithm=SAMEE.R, n_estimators=150, score=nan, total=   0.0s\n",
      "[CV] algorithm=SAMEE.R, n_estimators=200 .............................\n",
      "[CV] ... algorithm=SAMEE.R, n_estimators=200, score=nan, total=   0.0s\n",
      "[CV] algorithm=SAMEE.R, n_estimators=200 .............................\n",
      "[CV] ... algorithm=SAMEE.R, n_estimators=200, score=nan, total=   0.0s\n",
      "[CV] algorithm=SAMEE.R, n_estimators=200 .............................\n",
      "[CV] ... algorithm=SAMEE.R, n_estimators=200, score=nan, total=   0.0s\n",
      "[CV] algorithm=SAMEE.R, n_estimators=200 .............................\n",
      "[CV] ... algorithm=SAMEE.R, n_estimators=200, score=nan, total=   0.0s\n",
      "[CV] algorithm=SAMEE.R, n_estimators=200 .............................\n",
      "[CV] ... algorithm=SAMEE.R, n_estimators=200, score=nan, total=   0.0s\n"
     ]
    },
    {
     "name": "stderr",
     "output_type": "stream",
     "text": [
      "[Parallel(n_jobs=1)]: Done  40 out of  40 | elapsed: 37.9min finished\n"
     ]
    },
    {
     "data": {
      "text/plain": [
       "GridSearchCV(estimator=AdaBoostClassifier(),\n",
       "             param_grid={'algorithm': ['SAMME', 'SAMEE.R'],\n",
       "                         'n_estimators': [50, 100, 150, 200]},\n",
       "             verbose=3)"
      ]
     },
     "execution_count": 38,
     "metadata": {},
     "output_type": "execute_result"
    }
   ],
   "source": [
    "# Train the model with GridSearch\n",
    "AdaBoostGrid.fit(X_train_scaled, y_train.flatten())"
   ]
  },
  {
   "cell_type": "code",
   "execution_count": 39,
   "metadata": {},
   "outputs": [
    {
     "name": "stdout",
     "output_type": "stream",
     "text": [
      "{'algorithm': 'SAMME', 'n_estimators': 200}\n",
      "0.9992415907867326\n"
     ]
    }
   ],
   "source": [
    "print(AdaBoostGrid.best_params_)\n",
    "print(AdaBoostGrid.best_score_)"
   ]
  },
  {
   "cell_type": "code",
   "execution_count": 40,
   "metadata": {},
   "outputs": [],
   "source": [
    "# Make predictions with hyperparameter tuned model\n",
    "AdaBoostGridPredictions = AdaBoostGrid.predict(X_test_scaled)"
   ]
  },
  {
   "cell_type": "code",
   "execution_count": 41,
   "metadata": {},
   "outputs": [
    {
     "name": "stdout",
     "output_type": "stream",
     "text": [
      "                precision    recall  f1-score   support\n",
      "\n",
      "Non Fraudulent       1.00      1.00      1.00     71089\n",
      "    Fraudulent       0.80      0.74      0.77       113\n",
      "\n",
      "      accuracy                           1.00     71202\n",
      "     macro avg       0.90      0.87      0.89     71202\n",
      "  weighted avg       1.00      1.00      1.00     71202\n",
      "\n"
     ]
    }
   ],
   "source": [
    "# Print Classification Report\n",
    "print(classification_report(y_test.flatten(), AdaBoostGridPredictions,\n",
    "                           target_names=[\"Non Fraudulent\", \"Fraudulent\"]))"
   ]
  },
  {
   "cell_type": "code",
   "execution_count": 43,
   "metadata": {},
   "outputs": [
    {
     "data": {
      "text/plain": [
       "AdaBoostClassifier(algorithm='SAMME', n_estimators=100)"
      ]
     },
     "execution_count": 43,
     "metadata": {},
     "output_type": "execute_result"
    }
   ],
   "source": [
    "hypertunedAdaBoostModel = AdaBoostClassifier(algorithm = 'SAMME', n_estimators = 100)\n",
    "hypertunedAdaBoostModel"
   ]
  },
  {
   "cell_type": "code",
   "execution_count": 44,
   "metadata": {},
   "outputs": [
    {
     "data": {
      "text/plain": [
       "AdaBoostClassifier(algorithm='SAMME', n_estimators=100)"
      ]
     },
     "execution_count": 44,
     "metadata": {},
     "output_type": "execute_result"
    }
   ],
   "source": [
    "hypertunedAdaBoostModel.fit(X_train_scaled, y_train.flatten())"
   ]
  },
  {
   "cell_type": "code",
   "execution_count": 45,
   "metadata": {},
   "outputs": [
    {
     "name": "stdout",
     "output_type": "stream",
     "text": [
      "Training Data Score: 0.9991620046347229\n",
      "Testing Data Score: 0.9992135052386169\n"
     ]
    }
   ],
   "source": [
    "print(f\"Training Data Score: {hypertunedAdaBoostModel.score(X_train_scaled, y_train)}\")\n",
    "print(f\"Testing Data Score: {hypertunedAdaBoostModel.score(X_test_scaled, y_test)}\")"
   ]
  },
  {
   "cell_type": "code",
   "execution_count": 46,
   "metadata": {},
   "outputs": [],
   "source": [
    "hypertunedAdaBoostModelPredictions = hypertunedAdaBoostModel.predict(X_test_scaled)"
   ]
  },
  {
   "cell_type": "code",
   "execution_count": 47,
   "metadata": {},
   "outputs": [],
   "source": [
    "hypertunedAdaBoostPredictProba = hypertunedAdaBoostModel.predict_proba(X_test_scaled)[:,1]"
   ]
  },
  {
   "cell_type": "code",
   "execution_count": 48,
   "metadata": {},
   "outputs": [
    {
     "name": "stdout",
     "output_type": "stream",
     "text": [
      "                precision    recall  f1-score   support\n",
      "\n",
      "Non Fraudulent       1.00      1.00      1.00     71089\n",
      "    Fraudulent       0.77      0.72      0.74       113\n",
      "\n",
      "      accuracy                           1.00     71202\n",
      "     macro avg       0.89      0.86      0.87     71202\n",
      "  weighted avg       1.00      1.00      1.00     71202\n",
      "\n"
     ]
    }
   ],
   "source": [
    "# Calculate classification report\n",
    "print(classification_report(y_test.flatten(), hypertunedAdaBoostModelPredictions,\n",
    "                            target_names=[\"Non Fraudulent\", \"Fraudulent\"]))"
   ]
  },
  {
   "cell_type": "code",
   "execution_count": 49,
   "metadata": {},
   "outputs": [
    {
     "name": "stdout",
     "output_type": "stream",
     "text": [
      "Ada Boost Classifier\n",
      "========================\n",
      "Accuracy:  0.9992135052386169\n",
      "Precision:  0.7714285714285715\n",
      "Recall:  0.7168141592920354\n",
      "F1-Score:  0.743119266055046\n",
      "AUC score:  0.8582382771589944\n",
      "                precision    recall  f1-score   support\n",
      "\n",
      "Non Fraudulent       1.00      1.00      1.00     71089\n",
      "    Fraudulent       0.77      0.72      0.74       113\n",
      "\n",
      "      accuracy                           1.00     71202\n",
      "     macro avg       0.89      0.86      0.87     71202\n",
      "  weighted avg       1.00      1.00      1.00     71202\n",
      "\n"
     ]
    },
    {
     "data": {
      "image/png": "[encoded data removed]",
      "text/plain": [
       "<Figure size 432x288 with 1 Axes>"
      ]
     },
     "metadata": {
      "needs_background": "light"
     },
     "output_type": "display_data"
    },
    {
     "data": {
      "image/png": "[encoded data removed]",
      "text/plain": [
       "<Figure size 432x432 with 2 Axes>"
      ]
     },
     "metadata": {
      "needs_background": "light"
     },
     "output_type": "display_data"
    }
   ],
   "source": [
    "print(\"Ada Boost Classifier\")\n",
    "print(\"========================\")\n",
    "print(\"Accuracy: \",accuracy_score(y_test.flatten(), hypertunedAdaBoostModelPredictions)) \n",
    "print(\"Precision: \",precision_score(y_test.flatten(), hypertunedAdaBoostModelPredictions))\n",
    "print(\"Recall: \",recall_score(y_test.flatten(), hypertunedAdaBoostModelPredictions))\n",
    "print(\"F1-Score: \",f1_score(y_test.flatten(), hypertunedAdaBoostModelPredictions))\n",
    "print(\"AUC score: \",roc_auc_score(y_test.flatten(), hypertunedAdaBoostModelPredictions))\n",
    "print(classification_report(y_test.flatten(), hypertunedAdaBoostModelPredictions,\n",
    "                            target_names=[\"Non Fraudulent\", \"Fraudulent\"]))\n",
    "\n",
    "p, r, t = precision_recall_curve(y_test.flatten(), hypertunedAdaBoostPredictProba)\n",
    "plt.plot(p, r)\n",
    "plt.xlabel('Recall')\n",
    "plt.ylabel('Precision')\n",
    "plt.title('Precision Recall Curve - Ada Boost Classifier')\n",
    "\n",
    "confusionMatrix = confusion_matrix(y_test.flatten(), hypertunedAdaBoostModelPredictions) \n",
    "plt.figure(figsize =(6, 6)) \n",
    "sns.heatmap(confusionMatrix, xticklabels = ['Non Fraudulent', 'Fraudulent'],  \n",
    "            yticklabels = ['Non Fraudulent', 'Fraudulent'], annot = True, fmt =\"d\"); \n",
    "plt.title(\"Confusion matrix - Ada Boost Classifier\") \n",
    "plt.ylabel('Actual Class') \n",
    "plt.xlabel('Predicted class') \n",
    "plt.show()"
   ]
  },
  {
   "cell_type": "markdown",
   "metadata": {},
   "source": [
    "# Feature Selection"
   ]
  },
  {
   "cell_type": "code",
   "execution_count": 50,
   "metadata": {},
   "outputs": [
    {
     "data": {
      "text/plain": [
       "[(0.3353206977946447, 'V17'),\n",
       " (0.11850513622020407, 'V4'),\n",
       " (0.09282306481103904, 'V18'),\n",
       " (0.043913588284280027, 'V8'),\n",
       " (0.041869375814891, 'V14'),\n",
       " (0.03856563871642147, 'Amount'),\n",
       " (0.03750658208033562, 'V19'),\n",
       " (0.03729880866061062, 'V3'),\n",
       " (0.028088573948956974, 'V27'),\n",
       " (0.02754793585381966, 'V24'),\n",
       " (0.025320069522569245, 'V13'),\n",
       " (0.024338193391994632, 'V10'),\n",
       " (0.0206659451891884, 'V26'),\n",
       " (0.01451392539174671, 'V7'),\n",
       " (0.014288860220561325, 'V11'),\n",
       " (0.013433565406713468, 'Time'),\n",
       " (0.011846691601123609, 'V22'),\n",
       " (0.011631548986730748, 'V5'),\n",
       " (0.011426685904532222, 'V21'),\n",
       " (0.010547570559681578, 'V12'),\n",
       " (0.008788288517763254, 'V6'),\n",
       " (0.008535381309400162, 'V1'),\n",
       " (0.007910467475555969, 'V16'),\n",
       " (0.007258783211630815, 'V25'),\n",
       " (0.004306576551033649, 'V15'),\n",
       " (0.003748044574570988, 'V23'),\n",
       " (0.0, 'V9'),\n",
       " (0.0, 'V28'),\n",
       " (0.0, 'V20'),\n",
       " (0.0, 'V2')]"
      ]
     },
     "execution_count": 50,
     "metadata": {},
     "output_type": "execute_result"
    }
   ],
   "source": [
    "feature_names = selected_features.columns\n",
    "sorted(zip(hypertunedAdaBoostModel.feature_importances_, feature_names), reverse=True)"
   ]
  },
  {
   "cell_type": "code",
   "execution_count": 52,
   "metadata": {},
   "outputs": [],
   "source": [
    "top_features = df[['V17',\n",
    "  'V4',\n",
    "  'V18',\n",
    "  'V8',\n",
    "  'V14',\n",
    "  'Amount',\n",
    "  'V19',\n",
    "  'V3',\n",
    "  'V27',\n",
    "  'V24',\n",
    "  'V13',\n",
    "  'V10',\n",
    "  'V26',\n",
    "  'V7',\n",
    "  'V11',\n",
    "  'Time',\n",
    "  'V22',\n",
    "  'V5',\n",
    "  'V21',\n",
    "  'V12',\n",
    "  'V6',\n",
    "  'V1',\n",
    "  'V16',\n",
    "  'V25',\n",
    "  'V15',\n",
    "  'V23']]"
   ]
  },
  {
   "cell_type": "code",
   "execution_count": 53,
   "metadata": {},
   "outputs": [
    {
     "data": {
      "text/html": [
       "<div>\n",
       "<style scoped>\n",
       "    .dataframe tbody tr th:only-of-type {\n",
       "        vertical-align: middle;\n",
       "    }\n",
       "\n",
       "    .dataframe tbody tr th {\n",
       "        vertical-align: top;\n",
       "    }\n",
       "\n",
       "    .dataframe thead th {\n",
       "        text-align: right;\n",
       "    }\n",
       "</style>\n",
       "<table border=\"1\" class=\"dataframe\">\n",
       "  <thead>\n",
       "    <tr style=\"text-align: right;\">\n",
       "      <th></th>\n",
       "      <th>V17</th>\n",
       "      <th>V4</th>\n",
       "      <th>V18</th>\n",
       "      <th>V8</th>\n",
       "      <th>V14</th>\n",
       "      <th>Amount</th>\n",
       "      <th>V19</th>\n",
       "      <th>V3</th>\n",
       "      <th>V27</th>\n",
       "      <th>V24</th>\n",
       "      <th>...</th>\n",
       "      <th>V22</th>\n",
       "      <th>V5</th>\n",
       "      <th>V21</th>\n",
       "      <th>V12</th>\n",
       "      <th>V6</th>\n",
       "      <th>V1</th>\n",
       "      <th>V16</th>\n",
       "      <th>V25</th>\n",
       "      <th>V15</th>\n",
       "      <th>V23</th>\n",
       "    </tr>\n",
       "  </thead>\n",
       "  <tbody>\n",
       "    <tr>\n",
       "      <th>0</th>\n",
       "      <td>0.207971</td>\n",
       "      <td>1.378155</td>\n",
       "      <td>0.025791</td>\n",
       "      <td>0.098698</td>\n",
       "      <td>-0.311169</td>\n",
       "      <td>149.62</td>\n",
       "      <td>0.403993</td>\n",
       "      <td>2.536347</td>\n",
       "      <td>0.133558</td>\n",
       "      <td>0.066928</td>\n",
       "      <td>...</td>\n",
       "      <td>0.277838</td>\n",
       "      <td>-0.338321</td>\n",
       "      <td>-0.018307</td>\n",
       "      <td>-0.617801</td>\n",
       "      <td>0.462388</td>\n",
       "      <td>-1.359807</td>\n",
       "      <td>-0.470401</td>\n",
       "      <td>0.128539</td>\n",
       "      <td>1.468177</td>\n",
       "      <td>-0.110474</td>\n",
       "    </tr>\n",
       "  </tbody>\n",
       "</table>\n",
       "<p>1 rows × 26 columns</p>\n",
       "</div>"
      ],
      "text/plain": [
       "        V17        V4       V18        V8       V14  Amount       V19  \\\n",
       "0  0.207971  1.378155  0.025791  0.098698 -0.311169  149.62  0.403993   \n",
       "\n",
       "         V3       V27       V24  ...       V22        V5       V21       V12  \\\n",
       "0  2.536347  0.133558  0.066928  ...  0.277838 -0.338321 -0.018307 -0.617801   \n",
       "\n",
       "         V6        V1       V16       V25       V15       V23  \n",
       "0  0.462388 -1.359807 -0.470401  0.128539  1.468177 -0.110474  \n",
       "\n",
       "[1 rows x 26 columns]"
      ]
     },
     "execution_count": 53,
     "metadata": {},
     "output_type": "execute_result"
    }
   ],
   "source": [
    "top_features.head(1)"
   ]
  },
  {
   "cell_type": "code",
   "execution_count": 54,
   "metadata": {},
   "outputs": [
    {
     "name": "stdout",
     "output_type": "stream",
     "text": [
      "Shape:  (284807, 26) (284807, 1)\n"
     ]
    }
   ],
   "source": [
    "# Assign the data to X and y\n",
    "# Note: Sklearn requires a two-dimensional array of values\n",
    "# so we use reshape to create this\n",
    "\n",
    "top_X = top_features\n",
    "top_y = df[['Class']].values.reshape(-1, 1)\n",
    "\n",
    "print(\"Shape: \", top_X.shape, top_y.shape)"
   ]
  },
  {
   "cell_type": "code",
   "execution_count": 55,
   "metadata": {},
   "outputs": [],
   "source": [
    "top_X_train, top_X_test, top_y_train, top_y_test = train_test_split(top_X, top_y, random_state=42)"
   ]
  },
  {
   "cell_type": "code",
   "execution_count": 56,
   "metadata": {},
   "outputs": [
    {
     "name": "stdout",
     "output_type": "stream",
     "text": [
      "(213605, 26) (71202, 26) (213605, 1) (71202, 1)\n"
     ]
    }
   ],
   "source": [
    "print(top_X_train.shape,top_X_test.shape,top_y_train.shape, top_y_test.shape)"
   ]
  },
  {
   "cell_type": "code",
   "execution_count": 57,
   "metadata": {},
   "outputs": [],
   "source": [
    "top_X_minmax = MinMaxScaler().fit(top_X_train)\n",
    "\n",
    "top_X_train_scaled = top_X_minmax.transform(top_X_train)\n",
    "top_X_test_scaled = top_X_minmax.transform(top_X_test)"
   ]
  },
  {
   "cell_type": "code",
   "execution_count": 58,
   "metadata": {},
   "outputs": [
    {
     "data": {
      "text/plain": [
       "AdaBoostClassifier()"
      ]
     },
     "execution_count": 58,
     "metadata": {},
     "output_type": "execute_result"
    }
   ],
   "source": [
    "top_AdaBoostModel = AdaBoostClassifier()\n",
    "top_AdaBoostModel"
   ]
  },
  {
   "cell_type": "code",
   "execution_count": 59,
   "metadata": {},
   "outputs": [
    {
     "data": {
      "text/plain": [
       "AdaBoostClassifier()"
      ]
     },
     "execution_count": 59,
     "metadata": {},
     "output_type": "execute_result"
    }
   ],
   "source": [
    "top_AdaBoostModel.fit(top_X_train_scaled, top_y_train.flatten())"
   ]
  },
  {
   "cell_type": "code",
   "execution_count": 60,
   "metadata": {},
   "outputs": [
    {
     "name": "stdout",
     "output_type": "stream",
     "text": [
      "Training Data Score: 0.9993024507853281\n",
      "Testing Data Score: 0.9993118170837898\n"
     ]
    }
   ],
   "source": [
    "print(f\"Training Data Score: {top_AdaBoostModel.score(top_X_train_scaled, top_y_train)}\")\n",
    "print(f\"Testing Data Score: {top_AdaBoostModel.score(top_X_test_scaled, top_y_test)}\")"
   ]
  },
  {
   "cell_type": "code",
   "execution_count": 61,
   "metadata": {},
   "outputs": [],
   "source": [
    "# Make predictions\n",
    "top_AdaBoostPredictions = top_AdaBoostModel.predict(top_X_test_scaled)"
   ]
  },
  {
   "cell_type": "code",
   "execution_count": 62,
   "metadata": {},
   "outputs": [],
   "source": [
    "top_AdaBoostPredictProba = top_AdaBoostModel.predict_proba(top_X_test_scaled)[:,1]"
   ]
  },
  {
   "cell_type": "code",
   "execution_count": 63,
   "metadata": {},
   "outputs": [
    {
     "name": "stdout",
     "output_type": "stream",
     "text": [
      "                precision    recall  f1-score   support\n",
      "\n",
      "Non Fraudulent       1.00      1.00      1.00     71089\n",
      "    Fraudulent       0.82      0.73      0.77       113\n",
      "\n",
      "      accuracy                           1.00     71202\n",
      "     macro avg       0.91      0.86      0.88     71202\n",
      "  weighted avg       1.00      1.00      1.00     71202\n",
      "\n",
      "Accuracy: 0.9993118170837898\n"
     ]
    }
   ],
   "source": [
    "print(classification_report(top_y_test.flatten(), top_AdaBoostPredictions,\n",
    "                            target_names=[\"Non Fraudulent\", \"Fraudulent\"]))\n",
    "print(\"Accuracy:\", accuracy_score(top_y_test.flatten(), top_AdaBoostPredictions))"
   ]
  },
  {
   "cell_type": "code",
   "execution_count": 64,
   "metadata": {},
   "outputs": [
    {
     "name": "stdout",
     "output_type": "stream",
     "text": [
      "Ada Boost Classifier\n",
      "========================\n",
      "Accuracy:  0.9993118170837898\n",
      "Precision:  0.82\n",
      "Recall:  0.7256637168141593\n",
      "F1-Score:  0.7699530516431924\n",
      "AUC score:  0.8627052565418122\n",
      "                precision    recall  f1-score   support\n",
      "\n",
      "Non Fraudulent       1.00      1.00      1.00     71089\n",
      "    Fraudulent       0.82      0.73      0.77       113\n",
      "\n",
      "      accuracy                           1.00     71202\n",
      "     macro avg       0.91      0.86      0.88     71202\n",
      "  weighted avg       1.00      1.00      1.00     71202\n",
      "\n"
     ]
    },
    {
     "data": {
      "image/png": "[encoded data removed]",
      "text/plain": [
       "<Figure size 432x288 with 1 Axes>"
      ]
     },
     "metadata": {
      "needs_background": "light"
     },
     "output_type": "display_data"
    },
    {
     "data": {
      "image/png": "[encoded data removed]",
      "text/plain": [
       "<Figure size 432x432 with 2 Axes>"
      ]
     },
     "metadata": {
      "needs_background": "light"
     },
     "output_type": "display_data"
    }
   ],
   "source": [
    "print(\"Ada Boost Classifier\")\n",
    "print(\"========================\")\n",
    "print(\"Accuracy: \",accuracy_score(top_y_test.flatten(), top_AdaBoostPredictions)) \n",
    "print(\"Precision: \",precision_score(top_y_test.flatten(), top_AdaBoostPredictions))\n",
    "print(\"Recall: \",recall_score(top_y_test.flatten(), top_AdaBoostPredictions))\n",
    "print(\"F1-Score: \",f1_score(top_y_test.flatten(), top_AdaBoostPredictions))\n",
    "print(\"AUC score: \",roc_auc_score(top_y_test.flatten(), top_AdaBoostPredictions))\n",
    "print(classification_report(top_y_test.flatten(), top_AdaBoostPredictions,\n",
    "                            target_names=[\"Non Fraudulent\", \"Fraudulent\"]))\n",
    "\n",
    "p, r, t = precision_recall_curve(top_y_test.flatten(), top_AdaBoostPredictProba)\n",
    "plt.plot(p, r)\n",
    "plt.xlabel('Recall')\n",
    "plt.ylabel('Precision')\n",
    "plt.title('Precision Recall Curve - Ada Boost Classifier')\n",
    "\n",
    "top_14confusionMatrix = confusion_matrix(top_y_test.flatten(), top_AdaBoostPredictions) \n",
    "plt.figure(figsize =(6, 6)) \n",
    "sns.heatmap(top_14confusionMatrix, xticklabels = ['Non Fraudulent', 'Fraudulent'],  \n",
    "            yticklabels = ['Non Fraudulent', 'Fraudulent'], annot = True, fmt =\"d\"); \n",
    "plt.title(\"Confusion matrix - Ada Boost Classifier\") \n",
    "plt.ylabel('Actual Class') \n",
    "plt.xlabel('Predicted class') \n",
    "plt.show()"
   ]
  },
  {
   "cell_type": "code",
   "execution_count": 65,
   "metadata": {},
   "outputs": [
    {
     "data": {
      "text/plain": [
       "dict_keys(['algorithm', 'base_estimator', 'learning_rate', 'n_estimators', 'random_state'])"
      ]
     },
     "execution_count": 65,
     "metadata": {},
     "output_type": "execute_result"
    }
   ],
   "source": [
    "top_AdaBoostModel.get_params().keys()"
   ]
  },
  {
   "cell_type": "code",
   "execution_count": 66,
   "metadata": {},
   "outputs": [],
   "source": [
    "top_AdaBoostParamGrid = {'algorithm':['SAMME', 'SAMME.R'],\n",
    "                    'n_estimators': [50,100,150,200]}\n",
    "top_AdaBoostGrid = GridSearchCV(top_AdaBoostModel, top_AdaBoostParamGrid, verbose=3)"
   ]
  },
  {
   "cell_type": "code",
   "execution_count": 67,
   "metadata": {},
   "outputs": [
    {
     "name": "stdout",
     "output_type": "stream",
     "text": [
      "Fitting 5 folds for each of 8 candidates, totalling 40 fits\n",
      "[CV] algorithm=SAMME, n_estimators=50 ................................\n"
     ]
    },
    {
     "name": "stderr",
     "output_type": "stream",
     "text": [
      "[Parallel(n_jobs=1)]: Using backend SequentialBackend with 1 concurrent workers.\n"
     ]
    },
    {
     "name": "stdout",
     "output_type": "stream",
     "text": [
      "[CV] .... algorithm=SAMME, n_estimators=50, score=0.999, total=  38.7s\n",
      "[CV] algorithm=SAMME, n_estimators=50 ................................\n"
     ]
    },
    {
     "name": "stderr",
     "output_type": "stream",
     "text": [
      "[Parallel(n_jobs=1)]: Done   1 out of   1 | elapsed:   38.6s remaining:    0.0s\n"
     ]
    },
    {
     "name": "stdout",
     "output_type": "stream",
     "text": [
      "[CV] .... algorithm=SAMME, n_estimators=50, score=0.999, total=  37.7s\n",
      "[CV] algorithm=SAMME, n_estimators=50 ................................\n"
     ]
    },
    {
     "name": "stderr",
     "output_type": "stream",
     "text": [
      "[Parallel(n_jobs=1)]: Done   2 out of   2 | elapsed:  1.3min remaining:    0.0s\n"
     ]
    },
    {
     "name": "stdout",
     "output_type": "stream",
     "text": [
      "[CV] .... algorithm=SAMME, n_estimators=50, score=0.999, total=  38.8s\n",
      "[CV] algorithm=SAMME, n_estimators=50 ................................\n",
      "[CV] .... algorithm=SAMME, n_estimators=50, score=0.999, total=  39.1s\n",
      "[CV] algorithm=SAMME, n_estimators=50 ................................\n",
      "[CV] .... algorithm=SAMME, n_estimators=50, score=0.999, total=  40.0s\n",
      "[CV] algorithm=SAMME, n_estimators=100 ...............................\n",
      "[CV] ... algorithm=SAMME, n_estimators=100, score=0.999, total= 1.4min\n",
      "[CV] algorithm=SAMME, n_estimators=100 ...............................\n",
      "[CV] ... algorithm=SAMME, n_estimators=100, score=0.999, total= 1.8min\n",
      "[CV] algorithm=SAMME, n_estimators=100 ...............................\n",
      "[CV] ... algorithm=SAMME, n_estimators=100, score=0.999, total= 1.7min\n",
      "[CV] algorithm=SAMME, n_estimators=100 ...............................\n",
      "[CV] ... algorithm=SAMME, n_estimators=100, score=0.999, total= 1.4min\n",
      "[CV] algorithm=SAMME, n_estimators=100 ...............................\n",
      "[CV] ... algorithm=SAMME, n_estimators=100, score=0.999, total= 1.4min\n",
      "[CV] algorithm=SAMME, n_estimators=150 ...............................\n",
      "[CV] ... algorithm=SAMME, n_estimators=150, score=0.999, total= 2.0min\n",
      "[CV] algorithm=SAMME, n_estimators=150 ...............................\n",
      "[CV] ... algorithm=SAMME, n_estimators=150, score=0.999, total= 2.0min\n",
      "[CV] algorithm=SAMME, n_estimators=150 ...............................\n",
      "[CV] ... algorithm=SAMME, n_estimators=150, score=0.999, total= 2.1min\n",
      "[CV] algorithm=SAMME, n_estimators=150 ...............................\n",
      "[CV] ... algorithm=SAMME, n_estimators=150, score=0.999, total= 2.2min\n",
      "[CV] algorithm=SAMME, n_estimators=150 ...............................\n",
      "[CV] ... algorithm=SAMME, n_estimators=150, score=0.999, total= 2.4min\n",
      "[CV] algorithm=SAMME, n_estimators=200 ...............................\n",
      "[CV] ... algorithm=SAMME, n_estimators=200, score=0.999, total= 2.9min\n",
      "[CV] algorithm=SAMME, n_estimators=200 ...............................\n",
      "[CV] ... algorithm=SAMME, n_estimators=200, score=0.999, total= 2.8min\n",
      "[CV] algorithm=SAMME, n_estimators=200 ...............................\n",
      "[CV] ... algorithm=SAMME, n_estimators=200, score=0.999, total= 3.0min\n",
      "[CV] algorithm=SAMME, n_estimators=200 ...............................\n",
      "[CV] ... algorithm=SAMME, n_estimators=200, score=0.999, total= 2.9min\n",
      "[CV] algorithm=SAMME, n_estimators=200 ...............................\n",
      "[CV] ... algorithm=SAMME, n_estimators=200, score=0.999, total= 2.9min\n",
      "[CV] algorithm=SAMME.R, n_estimators=50 ..............................\n",
      "[CV] .. algorithm=SAMME.R, n_estimators=50, score=0.999, total=  44.4s\n",
      "[CV] algorithm=SAMME.R, n_estimators=50 ..............................\n",
      "[CV] .. algorithm=SAMME.R, n_estimators=50, score=0.999, total=  41.5s\n",
      "[CV] algorithm=SAMME.R, n_estimators=50 ..............................\n",
      "[CV] .. algorithm=SAMME.R, n_estimators=50, score=0.999, total=  45.5s\n",
      "[CV] algorithm=SAMME.R, n_estimators=50 ..............................\n",
      "[CV] .. algorithm=SAMME.R, n_estimators=50, score=0.999, total=  46.8s\n",
      "[CV] algorithm=SAMME.R, n_estimators=50 ..............................\n",
      "[CV] .. algorithm=SAMME.R, n_estimators=50, score=0.999, total=  43.6s\n",
      "[CV] algorithm=SAMME.R, n_estimators=100 .............................\n",
      "[CV] . algorithm=SAMME.R, n_estimators=100, score=0.999, total= 1.6min\n",
      "[CV] algorithm=SAMME.R, n_estimators=100 .............................\n",
      "[CV] . algorithm=SAMME.R, n_estimators=100, score=0.999, total= 1.4min\n",
      "[CV] algorithm=SAMME.R, n_estimators=100 .............................\n",
      "[CV] . algorithm=SAMME.R, n_estimators=100, score=0.999, total= 1.5min\n",
      "[CV] algorithm=SAMME.R, n_estimators=100 .............................\n",
      "[CV] . algorithm=SAMME.R, n_estimators=100, score=0.999, total= 1.4min\n",
      "[CV] algorithm=SAMME.R, n_estimators=100 .............................\n",
      "[CV] . algorithm=SAMME.R, n_estimators=100, score=0.999, total= 1.5min\n",
      "[CV] algorithm=SAMME.R, n_estimators=150 .............................\n",
      "[CV] . algorithm=SAMME.R, n_estimators=150, score=0.999, total= 2.3min\n",
      "[CV] algorithm=SAMME.R, n_estimators=150 .............................\n",
      "[CV] . algorithm=SAMME.R, n_estimators=150, score=0.999, total= 2.3min\n",
      "[CV] algorithm=SAMME.R, n_estimators=150 .............................\n",
      "[CV] . algorithm=SAMME.R, n_estimators=150, score=0.999, total= 2.3min\n",
      "[CV] algorithm=SAMME.R, n_estimators=150 .............................\n",
      "[CV] . algorithm=SAMME.R, n_estimators=150, score=0.999, total= 2.2min\n",
      "[CV] algorithm=SAMME.R, n_estimators=150 .............................\n",
      "[CV] . algorithm=SAMME.R, n_estimators=150, score=0.999, total= 2.3min\n",
      "[CV] algorithm=SAMME.R, n_estimators=200 .............................\n",
      "[CV] . algorithm=SAMME.R, n_estimators=200, score=1.000, total= 3.6min\n",
      "[CV] algorithm=SAMME.R, n_estimators=200 .............................\n",
      "[CV] . algorithm=SAMME.R, n_estimators=200, score=0.999, total= 3.4min\n",
      "[CV] algorithm=SAMME.R, n_estimators=200 .............................\n",
      "[CV] . algorithm=SAMME.R, n_estimators=200, score=0.999, total= 3.6min\n",
      "[CV] algorithm=SAMME.R, n_estimators=200 .............................\n",
      "[CV] . algorithm=SAMME.R, n_estimators=200, score=0.999, total= 3.5min\n",
      "[CV] algorithm=SAMME.R, n_estimators=200 .............................\n",
      "[CV] . algorithm=SAMME.R, n_estimators=200, score=0.999, total= 3.4min\n"
     ]
    },
    {
     "name": "stderr",
     "output_type": "stream",
     "text": [
      "[Parallel(n_jobs=1)]: Done  40 out of  40 | elapsed: 76.3min finished\n"
     ]
    },
    {
     "data": {
      "text/plain": [
       "GridSearchCV(estimator=AdaBoostClassifier(),\n",
       "             param_grid={'algorithm': ['SAMME', 'SAMME.R'],\n",
       "                         'n_estimators': [50, 100, 150, 200]},\n",
       "             verbose=3)"
      ]
     },
     "execution_count": 67,
     "metadata": {},
     "output_type": "execute_result"
    }
   ],
   "source": [
    "# Train the model with GridSearch\n",
    "top_AdaBoostGrid.fit(top_X_train_scaled, top_y_train.flatten())"
   ]
  },
  {
   "cell_type": "code",
   "execution_count": 68,
   "metadata": {},
   "outputs": [
    {
     "name": "stdout",
     "output_type": "stream",
     "text": [
      "{'algorithm': 'SAMME.R', 'n_estimators': 200}\n",
      "0.9993867184756912\n"
     ]
    }
   ],
   "source": [
    "print(top_AdaBoostGrid.best_params_)\n",
    "print(top_AdaBoostGrid.best_score_)"
   ]
  },
  {
   "cell_type": "code",
   "execution_count": 69,
   "metadata": {},
   "outputs": [],
   "source": [
    "# Make predictions with the hyperparameter tuned model\n",
    "top_AdaBoostGridPredictions = top_AdaBoostGrid.predict(top_X_test_scaled)"
   ]
  },
  {
   "cell_type": "code",
   "execution_count": 70,
   "metadata": {},
   "outputs": [
    {
     "name": "stdout",
     "output_type": "stream",
     "text": [
      "                precision    recall  f1-score   support\n",
      "\n",
      "Non Fraudulent       1.00      1.00      1.00     71089\n",
      "    Fraudulent       0.82      0.73      0.77       113\n",
      "\n",
      "      accuracy                           1.00     71202\n",
      "     macro avg       0.91      0.86      0.88     71202\n",
      "  weighted avg       1.00      1.00      1.00     71202\n",
      "\n"
     ]
    }
   ],
   "source": [
    "print(classification_report(top_y_test.flatten(), top_AdaBoostPredictions,\n",
    "                            target_names=[\"Non Fraudulent\", \"Fraudulent\"]))"
   ]
  },
  {
   "cell_type": "code",
   "execution_count": 71,
   "metadata": {},
   "outputs": [
    {
     "data": {
      "text/plain": [
       "AdaBoostClassifier(n_estimators=200)"
      ]
     },
     "execution_count": 71,
     "metadata": {},
     "output_type": "execute_result"
    }
   ],
   "source": [
    "top_hypertunedAdaBoostModel = AdaBoostClassifier(algorithm='SAMME.R', n_estimators=200)\n",
    "top_hypertunedAdaBoostModel"
   ]
  },
  {
   "cell_type": "code",
   "execution_count": 72,
   "metadata": {},
   "outputs": [
    {
     "data": {
      "text/plain": [
       "AdaBoostClassifier(n_estimators=200)"
      ]
     },
     "execution_count": 72,
     "metadata": {},
     "output_type": "execute_result"
    }
   ],
   "source": [
    "top_hypertunedAdaBoostModel.fit(top_X_train_scaled, top_y_train.flatten())"
   ]
  },
  {
   "cell_type": "code",
   "execution_count": 73,
   "metadata": {},
   "outputs": [
    {
     "name": "stdout",
     "output_type": "stream",
     "text": [
      "Training Data Score: 0.9995505723180638\n",
      "Testing Data Score: 0.9994522625768939\n"
     ]
    }
   ],
   "source": [
    "print(f\"Training Data Score: {top_hypertunedAdaBoostModel.score(top_X_train_scaled, top_y_train)}\")\n",
    "print(f\"Testing Data Score: {top_hypertunedAdaBoostModel.score(top_X_test_scaled, top_y_test)}\")"
   ]
  },
  {
   "cell_type": "code",
   "execution_count": 74,
   "metadata": {},
   "outputs": [],
   "source": [
    "top_hypertunedAdaBoostModelPredictions = top_hypertunedAdaBoostModel.predict(top_X_test_scaled)"
   ]
  },
  {
   "cell_type": "code",
   "execution_count": 75,
   "metadata": {},
   "outputs": [],
   "source": [
    "top_hypertunedAdaBoostPredictProba = top_hypertunedAdaBoostModel.predict_proba(top_X_test_scaled)[:,1]"
   ]
  },
  {
   "cell_type": "code",
   "execution_count": 76,
   "metadata": {},
   "outputs": [
    {
     "name": "stdout",
     "output_type": "stream",
     "text": [
      "                precision    recall  f1-score   support\n",
      "\n",
      "Non Fraudulent       1.00      1.00      1.00     71089\n",
      "    Fraudulent       0.86      0.78      0.82       113\n",
      "\n",
      "      accuracy                           1.00     71202\n",
      "     macro avg       0.93      0.89      0.91     71202\n",
      "  weighted avg       1.00      1.00      1.00     71202\n",
      "\n"
     ]
    }
   ],
   "source": [
    "print(classification_report(top_y_test.flatten(), top_hypertunedAdaBoostModelPredictions,\n",
    "                            target_names=[\"Non Fraudulent\", \"Fraudulent\"]))"
   ]
  },
  {
   "cell_type": "code",
   "execution_count": 77,
   "metadata": {},
   "outputs": [
    {
     "name": "stdout",
     "output_type": "stream",
     "text": [
      "Ada Boost Classifier\n",
      "========================\n",
      "Accuracy:  0.9994522625768939\n",
      "Precision:  0.8627450980392157\n",
      "Recall:  0.7787610619469026\n",
      "F1-Score:  0.8186046511627907\n",
      "AUC score:  0.889282062856021\n",
      "                precision    recall  f1-score   support\n",
      "\n",
      "Non Fraudulent       1.00      1.00      1.00     71089\n",
      "    Fraudulent       0.86      0.78      0.82       113\n",
      "\n",
      "      accuracy                           1.00     71202\n",
      "     macro avg       0.93      0.89      0.91     71202\n",
      "  weighted avg       1.00      1.00      1.00     71202\n",
      "\n"
     ]
    },
    {
     "data": {
      "image/png": "[encoded data removed]",
      "text/plain": [
       "<Figure size 432x288 with 1 Axes>"
      ]
     },
     "metadata": {
      "needs_background": "light"
     },
     "output_type": "display_data"
    },
    {
     "data": {
      "image/png": "[encoded data removed]",
      "text/plain": [
       "<Figure size 432x432 with 2 Axes>"
      ]
     },
     "metadata": {
      "needs_background": "light"
     },
     "output_type": "display_data"
    }
   ],
   "source": [
    "print(\"Ada Boost Classifier\")\n",
    "print(\"========================\")\n",
    "print(\"Accuracy: \",accuracy_score(top_y_test.flatten(), top_hypertunedAdaBoostModelPredictions)) \n",
    "print(\"Precision: \",precision_score(top_y_test.flatten(), top_hypertunedAdaBoostModelPredictions))\n",
    "print(\"Recall: \",recall_score(top_y_test.flatten(), top_hypertunedAdaBoostModelPredictions))\n",
    "print(\"F1-Score: \",f1_score(top_y_test.flatten(), top_hypertunedAdaBoostModelPredictions))\n",
    "print(\"AUC score: \",roc_auc_score(top_y_test.flatten(), top_hypertunedAdaBoostModelPredictions))\n",
    "print(classification_report(top_y_test.flatten(),top_hypertunedAdaBoostModelPredictions,\n",
    "                            target_names=[\"Non Fraudulent\", \"Fraudulent\"]))\n",
    "\n",
    "p, r, t = precision_recall_curve(top_y_test.flatten(), top_hypertunedAdaBoostPredictProba)\n",
    "plt.plot(p, r)\n",
    "plt.xlabel('Recall')\n",
    "plt.ylabel('Precision')\n",
    "plt.title('Precision Recall Curve - Ada Boost Classifier')\n",
    "\n",
    "top_14confusionMatrix = confusion_matrix(top_y_test.flatten(), top_hypertunedAdaBoostModelPredictions) \n",
    "plt.figure(figsize =(6, 6)) \n",
    "sns.heatmap(top_14confusionMatrix, xticklabels = ['Non Fraudulent', 'Fraudulent'],  \n",
    "            yticklabels = ['Non Fraudulent', 'Fraudulent'], annot = True, fmt =\"d\"); \n",
    "plt.title(\"Confusion matrix - Ada Boost Classifier\")\n",
    "plt.ylabel('Actual Class') \n",
    "plt.xlabel('Predicted class') \n",
    "plt.show()"
   ]
  },
  {
   "cell_type": "markdown",
   "metadata": {},
   "source": [
    "# Save the Model "
   ]
  },
  {
   "cell_type": "code",
   "execution_count": null,
   "metadata": {},
   "outputs": [],
   "source": [
    "filename = 'AdaBoostClassifierModel.sav'\n",
    "joblib.dump(top_hypertunedAdaBoostModel, filename)"
   ]
  }
 ],
 "metadata": {
  "kernelspec": {
   "display_name": "Python 3",
   "language": "python",
   "name": "python3"
  },
  "language_info": {
   "codemirror_mode": {
    "name": "ipython",
    "version": 3
   },
   "file_extension": ".py",
   "mimetype": "text/x-python",
   "name": "python",
   "nbconvert_exporter": "python",
   "pygments_lexer": "ipython3",
   "version": "3.8.3"
  }
 },
 "nbformat": 4,
 "nbformat_minor": 4
}
