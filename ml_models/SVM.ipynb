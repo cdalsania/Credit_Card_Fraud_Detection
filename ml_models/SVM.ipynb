{
 "cells": [
  {
   "cell_type": "markdown",
   "metadata": {},
   "source": [
    "# Import Dependencies"
   ]
  },
  {
   "cell_type": "code",
   "execution_count": 1,
   "metadata": {},
   "outputs": [],
   "source": [
    "import pandas as pd\n",
    "import numpy as np\n",
    "\n",
    "from config import CSV_FILE_URL\n",
    "import joblib\n",
    "\n",
    "from sklearn.model_selection import train_test_split\n",
    "from sklearn.preprocessing import MinMaxScaler\n",
    "from sklearn.model_selection import GridSearchCV\n",
    "\n",
    "from sklearn.metrics import classification_report, accuracy_score, precision_score, recall_score, f1_score\n",
    "from sklearn.metrics import precision_recall_curve, roc_auc_score, confusion_matrix\n",
    "import seaborn as sns\n",
    "import matplotlib.pyplot as plt\n",
    "%matplotlib inline\n",
    "\n",
    "from sklearn.svm import SVC "
   ]
  },
  {
   "cell_type": "markdown",
   "metadata": {},
   "source": [
    "# Read the CSV"
   ]
  },
  {
   "cell_type": "code",
   "execution_count": 2,
   "metadata": {},
   "outputs": [
    {
     "data": {
      "text/plain": [
       "(284807, 31)"
      ]
     },
     "execution_count": 2,
     "metadata": {},
     "output_type": "execute_result"
    }
   ],
   "source": [
    "# Read the CSV file into a dataframe\n",
    "df = pd.read_csv(CSV_FILE_URL)\n",
    "df.shape"
   ]
  },
  {
   "cell_type": "markdown",
   "metadata": {},
   "source": [
    "# Data Cleaning\n",
    "\n",
    "Checking to see if there are any null values in the dataset. "
   ]
  },
  {
   "cell_type": "code",
   "execution_count": 3,
   "metadata": {},
   "outputs": [
    {
     "data": {
      "text/plain": [
       "(284807, 31)"
      ]
     },
     "execution_count": 3,
     "metadata": {},
     "output_type": "execute_result"
    }
   ],
   "source": [
    "# Drop the null columns where all values are null\n",
    "df = df.dropna(axis='columns', how='all')\n",
    "\n",
    "# Drop the null rows\n",
    "df = df.dropna()\n",
    "df.shape"
   ]
  },
  {
   "cell_type": "markdown",
   "metadata": {},
   "source": [
    "It could be seen that there are **no null values** in the dataset."
   ]
  },
  {
   "cell_type": "markdown",
   "metadata": {},
   "source": [
    "# Data Exploration\n",
    "\n",
    "Checking Data distribution w.r.t Target feature"
   ]
  },
  {
   "cell_type": "code",
   "execution_count": 4,
   "metadata": {},
   "outputs": [
    {
     "data": {
      "text/html": [
       "<div>\n",
       "<style scoped>\n",
       "    .dataframe tbody tr th:only-of-type {\n",
       "        vertical-align: middle;\n",
       "    }\n",
       "\n",
       "    .dataframe tbody tr th {\n",
       "        vertical-align: top;\n",
       "    }\n",
       "\n",
       "    .dataframe thead th {\n",
       "        text-align: right;\n",
       "    }\n",
       "</style>\n",
       "<table border=\"1\" class=\"dataframe\">\n",
       "  <thead>\n",
       "    <tr style=\"text-align: right;\">\n",
       "      <th></th>\n",
       "      <th>Time</th>\n",
       "      <th>V1</th>\n",
       "      <th>V2</th>\n",
       "      <th>V3</th>\n",
       "      <th>V4</th>\n",
       "      <th>V5</th>\n",
       "      <th>V6</th>\n",
       "      <th>V7</th>\n",
       "      <th>V8</th>\n",
       "      <th>V9</th>\n",
       "      <th>...</th>\n",
       "      <th>V20</th>\n",
       "      <th>V21</th>\n",
       "      <th>V22</th>\n",
       "      <th>V23</th>\n",
       "      <th>V24</th>\n",
       "      <th>V25</th>\n",
       "      <th>V26</th>\n",
       "      <th>V27</th>\n",
       "      <th>V28</th>\n",
       "      <th>Amount</th>\n",
       "    </tr>\n",
       "    <tr>\n",
       "      <th>Class</th>\n",
       "      <th></th>\n",
       "      <th></th>\n",
       "      <th></th>\n",
       "      <th></th>\n",
       "      <th></th>\n",
       "      <th></th>\n",
       "      <th></th>\n",
       "      <th></th>\n",
       "      <th></th>\n",
       "      <th></th>\n",
       "      <th></th>\n",
       "      <th></th>\n",
       "      <th></th>\n",
       "      <th></th>\n",
       "      <th></th>\n",
       "      <th></th>\n",
       "      <th></th>\n",
       "      <th></th>\n",
       "      <th></th>\n",
       "      <th></th>\n",
       "      <th></th>\n",
       "    </tr>\n",
       "  </thead>\n",
       "  <tbody>\n",
       "    <tr>\n",
       "      <th>0</th>\n",
       "      <td>284315</td>\n",
       "      <td>284315</td>\n",
       "      <td>284315</td>\n",
       "      <td>284315</td>\n",
       "      <td>284315</td>\n",
       "      <td>284315</td>\n",
       "      <td>284315</td>\n",
       "      <td>284315</td>\n",
       "      <td>284315</td>\n",
       "      <td>284315</td>\n",
       "      <td>...</td>\n",
       "      <td>284315</td>\n",
       "      <td>284315</td>\n",
       "      <td>284315</td>\n",
       "      <td>284315</td>\n",
       "      <td>284315</td>\n",
       "      <td>284315</td>\n",
       "      <td>284315</td>\n",
       "      <td>284315</td>\n",
       "      <td>284315</td>\n",
       "      <td>284315</td>\n",
       "    </tr>\n",
       "    <tr>\n",
       "      <th>1</th>\n",
       "      <td>492</td>\n",
       "      <td>492</td>\n",
       "      <td>492</td>\n",
       "      <td>492</td>\n",
       "      <td>492</td>\n",
       "      <td>492</td>\n",
       "      <td>492</td>\n",
       "      <td>492</td>\n",
       "      <td>492</td>\n",
       "      <td>492</td>\n",
       "      <td>...</td>\n",
       "      <td>492</td>\n",
       "      <td>492</td>\n",
       "      <td>492</td>\n",
       "      <td>492</td>\n",
       "      <td>492</td>\n",
       "      <td>492</td>\n",
       "      <td>492</td>\n",
       "      <td>492</td>\n",
       "      <td>492</td>\n",
       "      <td>492</td>\n",
       "    </tr>\n",
       "  </tbody>\n",
       "</table>\n",
       "<p>2 rows × 30 columns</p>\n",
       "</div>"
      ],
      "text/plain": [
       "         Time      V1      V2      V3      V4      V5      V6      V7      V8  \\\n",
       "Class                                                                           \n",
       "0      284315  284315  284315  284315  284315  284315  284315  284315  284315   \n",
       "1         492     492     492     492     492     492     492     492     492   \n",
       "\n",
       "           V9  ...     V20     V21     V22     V23     V24     V25     V26  \\\n",
       "Class          ...                                                           \n",
       "0      284315  ...  284315  284315  284315  284315  284315  284315  284315   \n",
       "1         492  ...     492     492     492     492     492     492     492   \n",
       "\n",
       "          V27     V28  Amount  \n",
       "Class                          \n",
       "0      284315  284315  284315  \n",
       "1         492     492     492  \n",
       "\n",
       "[2 rows x 30 columns]"
      ]
     },
     "execution_count": 4,
     "metadata": {},
     "output_type": "execute_result"
    }
   ],
   "source": [
    "df.groupby('Class').count()"
   ]
  },
  {
   "cell_type": "code",
   "execution_count": 5,
   "metadata": {},
   "outputs": [
    {
     "data": {
      "text/plain": [
       "<matplotlib.axes._subplots.AxesSubplot at 0x1562441bd68>"
      ]
     },
     "execution_count": 5,
     "metadata": {},
     "output_type": "execute_result"
    },
    {
     "data": {
      "image/png": "[encoded data removed]",
      "text/plain": [
       "<Figure size 432x288 with 1 Axes>"
      ]
     },
     "metadata": {
      "needs_background": "light"
     },
     "output_type": "display_data"
    }
   ],
   "source": [
    "grouped_df = df[['Class','Time']].groupby('Class').count()\n",
    "grouped_df = grouped_df.rename(columns={\"Time\":\"Count\"})\n",
    "grouped_df.plot(kind=\"bar\")"
   ]
  },
  {
   "cell_type": "markdown",
   "metadata": {},
   "source": [
    "It is evident from the above plot that data is **highly imbalanced**. The dataset has only 492 fraudulent transactions out of a total of 284,807 transactions, which is a mere **0.17%**."
   ]
  },
  {
   "cell_type": "markdown",
   "metadata": {},
   "source": [
    "# Defining features\n",
    "\n",
    "Defining the predictor features and the target feature."
   ]
  },
  {
   "cell_type": "code",
   "execution_count": 6,
   "metadata": {},
   "outputs": [
    {
     "data": {
      "text/plain": [
       "Index(['Time', 'V1', 'V2', 'V3', 'V4', 'V5', 'V6', 'V7', 'V8', 'V9', 'V10',\n",
       "       'V11', 'V12', 'V13', 'V14', 'V15', 'V16', 'V17', 'V18', 'V19', 'V20',\n",
       "       'V21', 'V22', 'V23', 'V24', 'V25', 'V26', 'V27', 'V28', 'Amount',\n",
       "       'Class'],\n",
       "      dtype='object')"
      ]
     },
     "execution_count": 6,
     "metadata": {},
     "output_type": "execute_result"
    }
   ],
   "source": [
    "df.columns"
   ]
  },
  {
   "cell_type": "code",
   "execution_count": 7,
   "metadata": {},
   "outputs": [
    {
     "data": {
      "text/plain": [
       "(284807, 30)"
      ]
     },
     "execution_count": 7,
     "metadata": {},
     "output_type": "execute_result"
    }
   ],
   "source": [
    "# Selecting predictor features. This will be used as x values.\n",
    "selected_features = df[['Time', 'V1', 'V2', 'V3', 'V4', 'V5', 'V6', 'V7', 'V8', 'V9', 'V10',\n",
    "       'V11', 'V12', 'V13', 'V14', 'V15', 'V16', 'V17', 'V18', 'V19', 'V20',\n",
    "       'V21', 'V22', 'V23', 'V24', 'V25', 'V26', 'V27', 'V28', 'Amount']]\n",
    "selected_features.shape"
   ]
  },
  {
   "cell_type": "code",
   "execution_count": 8,
   "metadata": {},
   "outputs": [
    {
     "name": "stdout",
     "output_type": "stream",
     "text": [
      "Shape:  (284807, 30) (284807, 1)\n"
     ]
    }
   ],
   "source": [
    "# Defining predictor and target features to X and y respectively.\n",
    "# Note: Sklearn requires a two-dimensional array of values\n",
    "# so we use reshape to create this\n",
    "\n",
    "X = selected_features\n",
    "y = df[['Class']].values.reshape(-1, 1)\n",
    "\n",
    "print(\"Shape: \", X.shape, y.shape)"
   ]
  },
  {
   "cell_type": "markdown",
   "metadata": {},
   "source": [
    "# Create a Train Test Split\n",
    "\n",
    "Using `Class` for the y values (target feature)"
   ]
  },
  {
   "cell_type": "code",
   "execution_count": 9,
   "metadata": {},
   "outputs": [],
   "source": [
    "# Using sklearn's `train_test_split` to split the data into training and testing datasets\n",
    "\n",
    "X_train, X_test, y_train, y_test = train_test_split(X, y, random_state=42)"
   ]
  },
  {
   "cell_type": "code",
   "execution_count": 10,
   "metadata": {},
   "outputs": [
    {
     "name": "stdout",
     "output_type": "stream",
     "text": [
      "Shape:  (213605, 30) (213605, 1) (71202, 30) (71202, 1)\n"
     ]
    }
   ],
   "source": [
    "print(\"Shape: \", X_train.shape, y_train.shape, X_test.shape, y_test.shape)"
   ]
  },
  {
   "cell_type": "markdown",
   "metadata": {},
   "source": [
    "# Data Pre-processing\n",
    "\n",
    "Scale the data using the MinMaxScaler"
   ]
  },
  {
   "cell_type": "code",
   "execution_count": 11,
   "metadata": {},
   "outputs": [],
   "source": [
    "X_minmax = MinMaxScaler().fit(X_train)\n",
    "\n",
    "X_train_scaled = X_minmax.transform(X_train)\n",
    "X_test_scaled = X_minmax.transform(X_test)"
   ]
  },
  {
   "cell_type": "markdown",
   "metadata": {},
   "source": [
    "# Support Vector Machine Classifier Model\n",
    "\n",
    "### Train the Model"
   ]
  },
  {
   "cell_type": "code",
   "execution_count": 12,
   "metadata": {},
   "outputs": [
    {
     "data": {
      "text/plain": [
       "SVC(kernel='linear', probability=True)"
      ]
     },
     "execution_count": 12,
     "metadata": {},
     "output_type": "execute_result"
    }
   ],
   "source": [
    "svmModel = SVC(kernel='linear',probability=True)\n",
    "svmModel"
   ]
  },
  {
   "cell_type": "code",
   "execution_count": 13,
   "metadata": {},
   "outputs": [
    {
     "data": {
      "text/plain": [
       "SVC(kernel='linear', probability=True)"
      ]
     },
     "execution_count": 13,
     "metadata": {},
     "output_type": "execute_result"
    }
   ],
   "source": [
    "svmModel.fit(X_train_scaled, y_train.flatten())"
   ]
  },
  {
   "cell_type": "code",
   "execution_count": 14,
   "metadata": {},
   "outputs": [
    {
     "name": "stdout",
     "output_type": "stream",
     "text": [
      "Training Data Score: 0.9993960815523981\n",
      "Testing Data Score: 0.9993539507317211\n"
     ]
    }
   ],
   "source": [
    "print(f\"Training Data Score: {svmModel.score(X_train_scaled, y_train)}\")\n",
    "print(f\"Testing Data Score: {svmModel.score(X_test_scaled, y_test)}\")"
   ]
  },
  {
   "cell_type": "code",
   "execution_count": 15,
   "metadata": {},
   "outputs": [],
   "source": [
    "# Make predictions with the model\n",
    "svmModelPredictions = svmModel.predict(X_test_scaled)"
   ]
  },
  {
   "cell_type": "code",
   "execution_count": 16,
   "metadata": {},
   "outputs": [],
   "source": [
    "svmModelPredictProba = svmModel.predict_proba(X_test_scaled)[:,1]"
   ]
  },
  {
   "cell_type": "code",
   "execution_count": 17,
   "metadata": {},
   "outputs": [
    {
     "name": "stdout",
     "output_type": "stream",
     "text": [
      "                precision    recall  f1-score   support\n",
      "\n",
      "Non Fraudulent       1.00      1.00      1.00     71089\n",
      "    Fraudulent       0.80      0.79      0.79       113\n",
      "\n",
      "      accuracy                           1.00     71202\n",
      "     macro avg       0.90      0.89      0.90     71202\n",
      "  weighted avg       1.00      1.00      1.00     71202\n",
      "\n",
      "Accuracy: 0.9993539507317211\n"
     ]
    }
   ],
   "source": [
    "# Print classification report\n",
    "print(classification_report(y_test.flatten(), svmModelPredictions,\n",
    "                            target_names=[\"Non Fraudulent\", \"Fraudulent\"]))\n",
    "print(\"Accuracy:\", accuracy_score(y_test.flatten(), svmModelPredictions))"
   ]
  },
  {
   "cell_type": "code",
   "execution_count": 18,
   "metadata": {},
   "outputs": [
    {
     "name": "stdout",
     "output_type": "stream",
     "text": [
      "Support Vector Machine Classifier\n",
      "=================================\n",
      "Accuracy:  0.9993539507317211\n",
      "Precision:  0.8018018018018018\n",
      "Recall:  0.7876106194690266\n",
      "F1-Score:  0.7946428571428571\n",
      "AUC score:  0.8936505741214086\n",
      "                precision    recall  f1-score   support\n",
      "\n",
      "Non Fraudulent       1.00      1.00      1.00     71089\n",
      "    Fraudulent       0.80      0.79      0.79       113\n",
      "\n",
      "      accuracy                           1.00     71202\n",
      "     macro avg       0.90      0.89      0.90     71202\n",
      "  weighted avg       1.00      1.00      1.00     71202\n",
      "\n"
     ]
    },
    {
     "data": {
      "image/png": "[encoded data removed]",
      "text/plain": [
       "<Figure size 432x288 with 1 Axes>"
      ]
     },
     "metadata": {
      "needs_background": "light"
     },
     "output_type": "display_data"
    },
    {
     "data": {
      "image/png": "[encoded data removed]",
      "text/plain": [
       "<Figure size 432x432 with 2 Axes>"
      ]
     },
     "metadata": {
      "needs_background": "light"
     },
     "output_type": "display_data"
    }
   ],
   "source": [
    "print(\"Support Vector Machine Classifier\")\n",
    "print(\"=================================\")\n",
    "print(\"Accuracy: \",accuracy_score(y_test.flatten(), svmModelPredictions)) \n",
    "print(\"Precision: \",precision_score(y_test.flatten(), svmModelPredictions))\n",
    "print(\"Recall: \",recall_score(y_test.flatten(), svmModelPredictions))\n",
    "print(\"F1-Score: \",f1_score(y_test.flatten(), svmModelPredictions))\n",
    "print(\"AUC score: \",roc_auc_score(y_test.flatten(), svmModelPredictions))\n",
    "print(classification_report(y_test.flatten(), svmModelPredictions,\n",
    "                            target_names=[\"Non Fraudulent\", \"Fraudulent\"]))\n",
    "\n",
    "p, r, t = precision_recall_curve(y_test.flatten(), svmModelPredictProba)\n",
    "plt.plot(p, r)\n",
    "plt.xlabel('Recall')\n",
    "plt.ylabel('Precision')\n",
    "plt.title('Precision Recall Curve - Support Vector Machine Classifier')\n",
    "\n",
    "confusionMatrix = confusion_matrix(y_test.flatten(), svmModelPredictions) \n",
    "plt.figure(figsize =(6, 6)) \n",
    "sns.heatmap(confusionMatrix, xticklabels = ['Non Fraudulent', 'Fraudulent'],  \n",
    "            yticklabels = ['Non Fraudulent', 'Fraudulent'], annot = True, fmt =\"d\"); \n",
    "plt.title(\"Confusion matrix - Support Vector Machine Classifier\") \n",
    "plt.ylabel('Actual Class') \n",
    "plt.xlabel('Predicted class') \n",
    "plt.show() "
   ]
  },
  {
   "cell_type": "markdown",
   "metadata": {},
   "source": [
    "### Hyperparameter Tuning\n",
    "\n",
    "Use `GridSearchCV` to tune the model's parameters"
   ]
  },
  {
   "cell_type": "code",
   "execution_count": 19,
   "metadata": {},
   "outputs": [
    {
     "data": {
      "text/plain": [
       "dict_keys(['C', 'break_ties', 'cache_size', 'class_weight', 'coef0', 'decision_function_shape', 'degree', 'gamma', 'kernel', 'max_iter', 'probability', 'random_state', 'shrinking', 'tol', 'verbose'])"
      ]
     },
     "execution_count": 19,
     "metadata": {},
     "output_type": "execute_result"
    }
   ],
   "source": [
    "svmModel.get_params().keys()"
   ]
  },
  {
   "cell_type": "code",
   "execution_count": 21,
   "metadata": {},
   "outputs": [],
   "source": [
    "# Create the GridSearchCV model\n",
    "# Create the GridSearch estimator along with a parameter object containing the values to adjust\n",
    "svmModelParamGrid = {\n",
    "#                         'kernel':['linear', 'poly', 'rbf', 'sigmoid'],\n",
    "                        'gamma': ['scale','auto'],\n",
    "                     'shrinking':[True, False],\n",
    "                     'probability': [True, False],\n",
    "#                      'class_weight': [{0:99, 1:1}, 'balanced', None],\n",
    "                         'decision_function_shape': ['ovo', 'ovr']\n",
    "                         }\n",
    "svmModelGrid = GridSearchCV(svmModel, svmModelParamGrid, verbose=3)"
   ]
  },
  {
   "cell_type": "code",
   "execution_count": 22,
   "metadata": {},
   "outputs": [
    {
     "name": "stdout",
     "output_type": "stream",
     "text": [
      "Fitting 5 folds for each of 16 candidates, totalling 80 fits\n",
      "[CV] decision_function_shape=ovo, gamma=scale, probability=True, shrinking=True \n"
     ]
    },
    {
     "name": "stderr",
     "output_type": "stream",
     "text": [
      "[Parallel(n_jobs=1)]: Using backend SequentialBackend with 1 concurrent workers.\n"
     ]
    },
    {
     "name": "stdout",
     "output_type": "stream",
     "text": [
      "[CV]  decision_function_shape=ovo, gamma=scale, probability=True, shrinking=True, score=0.999, total=  37.7s\n",
      "[CV] decision_function_shape=ovo, gamma=scale, probability=True, shrinking=True \n"
     ]
    },
    {
     "name": "stderr",
     "output_type": "stream",
     "text": [
      "[Parallel(n_jobs=1)]: Done   1 out of   1 | elapsed:   37.6s remaining:    0.0s\n"
     ]
    },
    {
     "name": "stdout",
     "output_type": "stream",
     "text": [
      "[CV]  decision_function_shape=ovo, gamma=scale, probability=True, shrinking=True, score=0.999, total=  34.6s\n",
      "[CV] decision_function_shape=ovo, gamma=scale, probability=True, shrinking=True \n"
     ]
    },
    {
     "name": "stderr",
     "output_type": "stream",
     "text": [
      "[Parallel(n_jobs=1)]: Done   2 out of   2 | elapsed:  1.2min remaining:    0.0s\n"
     ]
    },
    {
     "name": "stdout",
     "output_type": "stream",
     "text": [
      "[CV]  decision_function_shape=ovo, gamma=scale, probability=True, shrinking=True, score=0.999, total=  34.8s\n",
      "[CV] decision_function_shape=ovo, gamma=scale, probability=True, shrinking=True \n",
      "[CV]  decision_function_shape=ovo, gamma=scale, probability=True, shrinking=True, score=0.999, total=  36.0s\n",
      "[CV] decision_function_shape=ovo, gamma=scale, probability=True, shrinking=True \n",
      "[CV]  decision_function_shape=ovo, gamma=scale, probability=True, shrinking=True, score=0.999, total=  36.6s\n",
      "[CV] decision_function_shape=ovo, gamma=scale, probability=True, shrinking=False \n",
      "[CV]  decision_function_shape=ovo, gamma=scale, probability=True, shrinking=False, score=0.999, total=  39.7s\n",
      "[CV] decision_function_shape=ovo, gamma=scale, probability=True, shrinking=False \n",
      "[CV]  decision_function_shape=ovo, gamma=scale, probability=True, shrinking=False, score=0.999, total=  30.6s\n",
      "[CV] decision_function_shape=ovo, gamma=scale, probability=True, shrinking=False \n",
      "[CV]  decision_function_shape=ovo, gamma=scale, probability=True, shrinking=False, score=0.999, total=  31.3s\n",
      "[CV] decision_function_shape=ovo, gamma=scale, probability=True, shrinking=False \n",
      "[CV]  decision_function_shape=ovo, gamma=scale, probability=True, shrinking=False, score=0.999, total=  31.6s\n",
      "[CV] decision_function_shape=ovo, gamma=scale, probability=True, shrinking=False \n",
      "[CV]  decision_function_shape=ovo, gamma=scale, probability=True, shrinking=False, score=0.999, total=  31.7s\n",
      "[CV] decision_function_shape=ovo, gamma=scale, probability=False, shrinking=True \n",
      "[CV]  decision_function_shape=ovo, gamma=scale, probability=False, shrinking=True, score=0.999, total=   3.7s\n",
      "[CV] decision_function_shape=ovo, gamma=scale, probability=False, shrinking=True \n",
      "[CV]  decision_function_shape=ovo, gamma=scale, probability=False, shrinking=True, score=0.999, total=   3.1s\n",
      "[CV] decision_function_shape=ovo, gamma=scale, probability=False, shrinking=True \n",
      "[CV]  decision_function_shape=ovo, gamma=scale, probability=False, shrinking=True, score=0.999, total=   3.2s\n",
      "[CV] decision_function_shape=ovo, gamma=scale, probability=False, shrinking=True \n",
      "[CV]  decision_function_shape=ovo, gamma=scale, probability=False, shrinking=True, score=0.999, total=   3.1s\n",
      "[CV] decision_function_shape=ovo, gamma=scale, probability=False, shrinking=True \n",
      "[CV]  decision_function_shape=ovo, gamma=scale, probability=False, shrinking=True, score=0.999, total=   3.1s\n",
      "[CV] decision_function_shape=ovo, gamma=scale, probability=False, shrinking=False \n",
      "[CV]  decision_function_shape=ovo, gamma=scale, probability=False, shrinking=False, score=0.999, total=   4.3s\n",
      "[CV] decision_function_shape=ovo, gamma=scale, probability=False, shrinking=False \n",
      "[CV]  decision_function_shape=ovo, gamma=scale, probability=False, shrinking=False, score=0.999, total=   3.5s\n",
      "[CV] decision_function_shape=ovo, gamma=scale, probability=False, shrinking=False \n",
      "[CV]  decision_function_shape=ovo, gamma=scale, probability=False, shrinking=False, score=0.999, total=   4.0s\n",
      "[CV] decision_function_shape=ovo, gamma=scale, probability=False, shrinking=False \n",
      "[CV]  decision_function_shape=ovo, gamma=scale, probability=False, shrinking=False, score=0.999, total=   3.7s\n",
      "[CV] decision_function_shape=ovo, gamma=scale, probability=False, shrinking=False \n",
      "[CV]  decision_function_shape=ovo, gamma=scale, probability=False, shrinking=False, score=0.999, total=   3.8s\n",
      "[CV] decision_function_shape=ovo, gamma=auto, probability=True, shrinking=True \n",
      "[CV]  decision_function_shape=ovo, gamma=auto, probability=True, shrinking=True, score=0.999, total=  31.3s\n",
      "[CV] decision_function_shape=ovo, gamma=auto, probability=True, shrinking=True \n",
      "[CV]  decision_function_shape=ovo, gamma=auto, probability=True, shrinking=True, score=0.999, total=  28.0s\n",
      "[CV] decision_function_shape=ovo, gamma=auto, probability=True, shrinking=True \n",
      "[CV]  decision_function_shape=ovo, gamma=auto, probability=True, shrinking=True, score=0.999, total=  29.3s\n",
      "[CV] decision_function_shape=ovo, gamma=auto, probability=True, shrinking=True \n",
      "[CV]  decision_function_shape=ovo, gamma=auto, probability=True, shrinking=True, score=0.999, total=  29.4s\n",
      "[CV] decision_function_shape=ovo, gamma=auto, probability=True, shrinking=True \n",
      "[CV]  decision_function_shape=ovo, gamma=auto, probability=True, shrinking=True, score=0.999, total=  29.2s\n",
      "[CV] decision_function_shape=ovo, gamma=auto, probability=True, shrinking=False \n",
      "[CV]  decision_function_shape=ovo, gamma=auto, probability=True, shrinking=False, score=0.999, total=  33.1s\n",
      "[CV] decision_function_shape=ovo, gamma=auto, probability=True, shrinking=False \n",
      "[CV]  decision_function_shape=ovo, gamma=auto, probability=True, shrinking=False, score=0.999, total=  28.9s\n",
      "[CV] decision_function_shape=ovo, gamma=auto, probability=True, shrinking=False \n",
      "[CV]  decision_function_shape=ovo, gamma=auto, probability=True, shrinking=False, score=0.999, total=  31.5s\n",
      "[CV] decision_function_shape=ovo, gamma=auto, probability=True, shrinking=False \n",
      "[CV]  decision_function_shape=ovo, gamma=auto, probability=True, shrinking=False, score=0.999, total=  30.7s\n",
      "[CV] decision_function_shape=ovo, gamma=auto, probability=True, shrinking=False \n",
      "[CV]  decision_function_shape=ovo, gamma=auto, probability=True, shrinking=False, score=0.999, total=  31.3s\n",
      "[CV] decision_function_shape=ovo, gamma=auto, probability=False, shrinking=True \n",
      "[CV]  decision_function_shape=ovo, gamma=auto, probability=False, shrinking=True, score=0.999, total=   3.7s\n",
      "[CV] decision_function_shape=ovo, gamma=auto, probability=False, shrinking=True \n",
      "[CV]  decision_function_shape=ovo, gamma=auto, probability=False, shrinking=True, score=0.999, total=   3.0s\n",
      "[CV] decision_function_shape=ovo, gamma=auto, probability=False, shrinking=True \n",
      "[CV]  decision_function_shape=ovo, gamma=auto, probability=False, shrinking=True, score=0.999, total=   3.2s\n",
      "[CV] decision_function_shape=ovo, gamma=auto, probability=False, shrinking=True \n",
      "[CV]  decision_function_shape=ovo, gamma=auto, probability=False, shrinking=True, score=0.999, total=   3.1s\n",
      "[CV] decision_function_shape=ovo, gamma=auto, probability=False, shrinking=True \n",
      "[CV]  decision_function_shape=ovo, gamma=auto, probability=False, shrinking=True, score=0.999, total=   3.1s\n",
      "[CV] decision_function_shape=ovo, gamma=auto, probability=False, shrinking=False \n",
      "[CV]  decision_function_shape=ovo, gamma=auto, probability=False, shrinking=False, score=0.999, total=   4.3s\n",
      "[CV] decision_function_shape=ovo, gamma=auto, probability=False, shrinking=False \n",
      "[CV]  decision_function_shape=ovo, gamma=auto, probability=False, shrinking=False, score=0.999, total=   3.5s\n",
      "[CV] decision_function_shape=ovo, gamma=auto, probability=False, shrinking=False \n",
      "[CV]  decision_function_shape=ovo, gamma=auto, probability=False, shrinking=False, score=0.999, total=   3.9s\n",
      "[CV] decision_function_shape=ovo, gamma=auto, probability=False, shrinking=False \n",
      "[CV]  decision_function_shape=ovo, gamma=auto, probability=False, shrinking=False, score=0.999, total=   3.7s\n",
      "[CV] decision_function_shape=ovo, gamma=auto, probability=False, shrinking=False \n",
      "[CV]  decision_function_shape=ovo, gamma=auto, probability=False, shrinking=False, score=0.999, total=   3.8s\n",
      "[CV] decision_function_shape=ovr, gamma=scale, probability=True, shrinking=True \n",
      "[CV]  decision_function_shape=ovr, gamma=scale, probability=True, shrinking=True, score=0.999, total=  31.1s\n",
      "[CV] decision_function_shape=ovr, gamma=scale, probability=True, shrinking=True \n",
      "[CV]  decision_function_shape=ovr, gamma=scale, probability=True, shrinking=True, score=0.999, total=  28.1s\n",
      "[CV] decision_function_shape=ovr, gamma=scale, probability=True, shrinking=True \n",
      "[CV]  decision_function_shape=ovr, gamma=scale, probability=True, shrinking=True, score=0.999, total=  29.1s\n",
      "[CV] decision_function_shape=ovr, gamma=scale, probability=True, shrinking=True \n",
      "[CV]  decision_function_shape=ovr, gamma=scale, probability=True, shrinking=True, score=0.999, total=  29.0s\n",
      "[CV] decision_function_shape=ovr, gamma=scale, probability=True, shrinking=True \n",
      "[CV]  decision_function_shape=ovr, gamma=scale, probability=True, shrinking=True, score=0.999, total=  29.2s\n",
      "[CV] decision_function_shape=ovr, gamma=scale, probability=True, shrinking=False \n"
     ]
    },
    {
     "name": "stdout",
     "output_type": "stream",
     "text": [
      "[CV]  decision_function_shape=ovr, gamma=scale, probability=True, shrinking=False, score=0.999, total=  32.4s\n",
      "[CV] decision_function_shape=ovr, gamma=scale, probability=True, shrinking=False \n",
      "[CV]  decision_function_shape=ovr, gamma=scale, probability=True, shrinking=False, score=0.999, total=  30.3s\n",
      "[CV] decision_function_shape=ovr, gamma=scale, probability=True, shrinking=False \n",
      "[CV]  decision_function_shape=ovr, gamma=scale, probability=True, shrinking=False, score=0.999, total=  30.7s\n",
      "[CV] decision_function_shape=ovr, gamma=scale, probability=True, shrinking=False \n",
      "[CV]  decision_function_shape=ovr, gamma=scale, probability=True, shrinking=False, score=0.999, total=  31.3s\n",
      "[CV] decision_function_shape=ovr, gamma=scale, probability=True, shrinking=False \n",
      "[CV]  decision_function_shape=ovr, gamma=scale, probability=True, shrinking=False, score=0.999, total=  31.4s\n",
      "[CV] decision_function_shape=ovr, gamma=scale, probability=False, shrinking=True \n",
      "[CV]  decision_function_shape=ovr, gamma=scale, probability=False, shrinking=True, score=0.999, total=   3.7s\n",
      "[CV] decision_function_shape=ovr, gamma=scale, probability=False, shrinking=True \n",
      "[CV]  decision_function_shape=ovr, gamma=scale, probability=False, shrinking=True, score=0.999, total=   3.0s\n",
      "[CV] decision_function_shape=ovr, gamma=scale, probability=False, shrinking=True \n",
      "[CV]  decision_function_shape=ovr, gamma=scale, probability=False, shrinking=True, score=0.999, total=   3.2s\n",
      "[CV] decision_function_shape=ovr, gamma=scale, probability=False, shrinking=True \n",
      "[CV]  decision_function_shape=ovr, gamma=scale, probability=False, shrinking=True, score=0.999, total=   3.1s\n",
      "[CV] decision_function_shape=ovr, gamma=scale, probability=False, shrinking=True \n",
      "[CV]  decision_function_shape=ovr, gamma=scale, probability=False, shrinking=True, score=0.999, total=   3.1s\n",
      "[CV] decision_function_shape=ovr, gamma=scale, probability=False, shrinking=False \n",
      "[CV]  decision_function_shape=ovr, gamma=scale, probability=False, shrinking=False, score=0.999, total=   4.3s\n",
      "[CV] decision_function_shape=ovr, gamma=scale, probability=False, shrinking=False \n",
      "[CV]  decision_function_shape=ovr, gamma=scale, probability=False, shrinking=False, score=0.999, total=   3.5s\n",
      "[CV] decision_function_shape=ovr, gamma=scale, probability=False, shrinking=False \n",
      "[CV]  decision_function_shape=ovr, gamma=scale, probability=False, shrinking=False, score=0.999, total=   3.9s\n",
      "[CV] decision_function_shape=ovr, gamma=scale, probability=False, shrinking=False \n",
      "[CV]  decision_function_shape=ovr, gamma=scale, probability=False, shrinking=False, score=0.999, total=   3.7s\n",
      "[CV] decision_function_shape=ovr, gamma=scale, probability=False, shrinking=False \n",
      "[CV]  decision_function_shape=ovr, gamma=scale, probability=False, shrinking=False, score=0.999, total=   3.9s\n",
      "[CV] decision_function_shape=ovr, gamma=auto, probability=True, shrinking=True \n",
      "[CV]  decision_function_shape=ovr, gamma=auto, probability=True, shrinking=True, score=0.999, total=  31.1s\n",
      "[CV] decision_function_shape=ovr, gamma=auto, probability=True, shrinking=True \n",
      "[CV]  decision_function_shape=ovr, gamma=auto, probability=True, shrinking=True, score=0.999, total=  28.2s\n",
      "[CV] decision_function_shape=ovr, gamma=auto, probability=True, shrinking=True \n",
      "[CV]  decision_function_shape=ovr, gamma=auto, probability=True, shrinking=True, score=0.999, total=  29.4s\n",
      "[CV] decision_function_shape=ovr, gamma=auto, probability=True, shrinking=True \n",
      "[CV]  decision_function_shape=ovr, gamma=auto, probability=True, shrinking=True, score=0.999, total=  29.1s\n",
      "[CV] decision_function_shape=ovr, gamma=auto, probability=True, shrinking=True \n",
      "[CV]  decision_function_shape=ovr, gamma=auto, probability=True, shrinking=True, score=0.999, total=  29.4s\n",
      "[CV] decision_function_shape=ovr, gamma=auto, probability=True, shrinking=False \n",
      "[CV]  decision_function_shape=ovr, gamma=auto, probability=True, shrinking=False, score=0.999, total=  33.0s\n",
      "[CV] decision_function_shape=ovr, gamma=auto, probability=True, shrinking=False \n",
      "[CV]  decision_function_shape=ovr, gamma=auto, probability=True, shrinking=False, score=0.999, total=  29.5s\n",
      "[CV] decision_function_shape=ovr, gamma=auto, probability=True, shrinking=False \n",
      "[CV]  decision_function_shape=ovr, gamma=auto, probability=True, shrinking=False, score=0.999, total=  30.8s\n",
      "[CV] decision_function_shape=ovr, gamma=auto, probability=True, shrinking=False \n",
      "[CV]  decision_function_shape=ovr, gamma=auto, probability=True, shrinking=False, score=0.999, total=  30.8s\n",
      "[CV] decision_function_shape=ovr, gamma=auto, probability=True, shrinking=False \n",
      "[CV]  decision_function_shape=ovr, gamma=auto, probability=True, shrinking=False, score=0.999, total=  31.6s\n",
      "[CV] decision_function_shape=ovr, gamma=auto, probability=False, shrinking=True \n",
      "[CV]  decision_function_shape=ovr, gamma=auto, probability=False, shrinking=True, score=0.999, total=   3.7s\n",
      "[CV] decision_function_shape=ovr, gamma=auto, probability=False, shrinking=True \n",
      "[CV]  decision_function_shape=ovr, gamma=auto, probability=False, shrinking=True, score=0.999, total=   3.0s\n",
      "[CV] decision_function_shape=ovr, gamma=auto, probability=False, shrinking=True \n",
      "[CV]  decision_function_shape=ovr, gamma=auto, probability=False, shrinking=True, score=0.999, total=   3.2s\n",
      "[CV] decision_function_shape=ovr, gamma=auto, probability=False, shrinking=True \n",
      "[CV]  decision_function_shape=ovr, gamma=auto, probability=False, shrinking=True, score=0.999, total=   3.1s\n",
      "[CV] decision_function_shape=ovr, gamma=auto, probability=False, shrinking=True \n",
      "[CV]  decision_function_shape=ovr, gamma=auto, probability=False, shrinking=True, score=0.999, total=   3.1s\n",
      "[CV] decision_function_shape=ovr, gamma=auto, probability=False, shrinking=False \n",
      "[CV]  decision_function_shape=ovr, gamma=auto, probability=False, shrinking=False, score=0.999, total=   4.5s\n",
      "[CV] decision_function_shape=ovr, gamma=auto, probability=False, shrinking=False \n",
      "[CV]  decision_function_shape=ovr, gamma=auto, probability=False, shrinking=False, score=0.999, total=   3.5s\n",
      "[CV] decision_function_shape=ovr, gamma=auto, probability=False, shrinking=False \n",
      "[CV]  decision_function_shape=ovr, gamma=auto, probability=False, shrinking=False, score=0.999, total=   3.9s\n",
      "[CV] decision_function_shape=ovr, gamma=auto, probability=False, shrinking=False \n",
      "[CV]  decision_function_shape=ovr, gamma=auto, probability=False, shrinking=False, score=0.999, total=   3.7s\n",
      "[CV] decision_function_shape=ovr, gamma=auto, probability=False, shrinking=False \n",
      "[CV]  decision_function_shape=ovr, gamma=auto, probability=False, shrinking=False, score=0.999, total=   3.8s\n"
     ]
    },
    {
     "name": "stderr",
     "output_type": "stream",
     "text": [
      "[Parallel(n_jobs=1)]: Done  80 out of  80 | elapsed: 23.3min finished\n"
     ]
    },
    {
     "data": {
      "text/plain": [
       "GridSearchCV(estimator=SVC(kernel='linear', probability=True),\n",
       "             param_grid={'decision_function_shape': ['ovo', 'ovr'],\n",
       "                         'gamma': ['scale', 'auto'],\n",
       "                         'probability': [True, False],\n",
       "                         'shrinking': [True, False]},\n",
       "             verbose=3)"
      ]
     },
     "execution_count": 22,
     "metadata": {},
     "output_type": "execute_result"
    }
   ],
   "source": [
    "# Train the model with GridSearch\n",
    "svmModelGrid.fit(X_train_scaled, y_train.flatten())"
   ]
  },
  {
   "cell_type": "code",
   "execution_count": 23,
   "metadata": {},
   "outputs": [
    {
     "name": "stdout",
     "output_type": "stream",
     "text": [
      "{'decision_function_shape': 'ovo', 'gamma': 'scale', 'probability': True, 'shrinking': True}\n",
      "0.9993960815523982\n"
     ]
    }
   ],
   "source": [
    "print(svmModelGrid.best_params_)\n",
    "print(svmModelGrid.best_score_)"
   ]
  },
  {
   "cell_type": "code",
   "execution_count": 25,
   "metadata": {},
   "outputs": [],
   "source": [
    "# Make predictions with the hyperparameter tuned model\n",
    "svmModelGridPredictions = svmModelGrid.predict(X_test_scaled)"
   ]
  },
  {
   "cell_type": "code",
   "execution_count": 26,
   "metadata": {},
   "outputs": [
    {
     "name": "stdout",
     "output_type": "stream",
     "text": [
      "                precision    recall  f1-score   support\n",
      "\n",
      "Non Fraudulent       1.00      1.00      1.00     71089\n",
      "    Fraudulent       0.80      0.79      0.79       113\n",
      "\n",
      "      accuracy                           1.00     71202\n",
      "     macro avg       0.90      0.89      0.90     71202\n",
      "  weighted avg       1.00      1.00      1.00     71202\n",
      "\n"
     ]
    }
   ],
   "source": [
    "# Print classification report\n",
    "print(classification_report(y_test.flatten(), svmModelGridPredictions,\n",
    "                            target_names=[\"Non Fraudulent\", \"Fraudulent\"]))"
   ]
  },
  {
   "cell_type": "code",
   "execution_count": 44,
   "metadata": {},
   "outputs": [
    {
     "data": {
      "text/plain": [
       "SVC(decision_function_shape='ovo', probability=True)"
      ]
     },
     "execution_count": 44,
     "metadata": {},
     "output_type": "execute_result"
    }
   ],
   "source": [
    "hypertunedsvmModel = SVC(decision_function_shape = 'ovo', \n",
    "                         gamma = 'scale', \n",
    "                         probability = True, \n",
    "                         shrinking = True)\n",
    "hypertunedsvmModel"
   ]
  },
  {
   "cell_type": "code",
   "execution_count": 45,
   "metadata": {},
   "outputs": [
    {
     "data": {
      "text/plain": [
       "SVC(decision_function_shape='ovo', probability=True)"
      ]
     },
     "execution_count": 45,
     "metadata": {},
     "output_type": "execute_result"
    }
   ],
   "source": [
    "hypertunedsvmModel.fit(X_train_scaled, y_train.flatten())"
   ]
  },
  {
   "cell_type": "code",
   "execution_count": 46,
   "metadata": {},
   "outputs": [
    {
     "name": "stdout",
     "output_type": "stream",
     "text": [
      "Training Data Score: 0.9994054446291051\n",
      "Testing Data Score: 0.9992696834358585\n"
     ]
    }
   ],
   "source": [
    "print(f\"Training Data Score: {hypertunedsvmModel.score(X_train_scaled, y_train)}\")\n",
    "print(f\"Testing Data Score: {hypertunedsvmModel.score(X_test_scaled, y_test)}\")"
   ]
  },
  {
   "cell_type": "code",
   "execution_count": 47,
   "metadata": {},
   "outputs": [],
   "source": [
    "hypertunedsvmModelPredictions = hypertunedsvmModel.predict(X_test_scaled)"
   ]
  },
  {
   "cell_type": "code",
   "execution_count": 48,
   "metadata": {},
   "outputs": [],
   "source": [
    "hypertunedsvmModelPredictProba = hypertunedsvmModel.predict_proba(X_test_scaled)[:,1]"
   ]
  },
  {
   "cell_type": "code",
   "execution_count": 49,
   "metadata": {},
   "outputs": [
    {
     "name": "stdout",
     "output_type": "stream",
     "text": [
      "                precision    recall  f1-score   support\n",
      "\n",
      "Non Fraudulent       1.00      1.00      1.00     71089\n",
      "    Fraudulent       0.75      0.81      0.78       113\n",
      "\n",
      "      accuracy                           1.00     71202\n",
      "     macro avg       0.88      0.90      0.89     71202\n",
      "  weighted avg       1.00      1.00      1.00     71202\n",
      "\n"
     ]
    }
   ],
   "source": [
    "# Calculate classification report\n",
    "print(classification_report(y_test.flatten(), hypertunedsvmModelPredictions,\n",
    "                            target_names=[\"Non Fraudulent\", \"Fraudulent\"]))"
   ]
  },
  {
   "cell_type": "code",
   "execution_count": 50,
   "metadata": {},
   "outputs": [
    {
     "name": "stdout",
     "output_type": "stream",
     "text": [
      "Support Vector Machine Classifier\n",
      "=================================\n",
      "Accuracy:  0.9992696834358585\n",
      "Precision:  0.7520661157024794\n",
      "Recall:  0.8053097345132744\n",
      "F1-Score:  0.7777777777777778\n",
      "AUC score:  0.902443864147858\n",
      "                precision    recall  f1-score   support\n",
      "\n",
      "Non Fraudulent       1.00      1.00      1.00     71089\n",
      "    Fraudulent       0.75      0.81      0.78       113\n",
      "\n",
      "      accuracy                           1.00     71202\n",
      "     macro avg       0.88      0.90      0.89     71202\n",
      "  weighted avg       1.00      1.00      1.00     71202\n",
      "\n"
     ]
    },
    {
     "data": {
      "image/png": "[encoded data removed]",
      "text/plain": [
       "<Figure size 432x288 with 1 Axes>"
      ]
     },
     "metadata": {
      "needs_background": "light"
     },
     "output_type": "display_data"
    },
    {
     "data": {
      "image/png": "[encoded data removed]",
      "text/plain": [
       "<Figure size 432x432 with 2 Axes>"
      ]
     },
     "metadata": {
      "needs_background": "light"
     },
     "output_type": "display_data"
    }
   ],
   "source": [
    "print(\"Support Vector Machine Classifier\")\n",
    "print(\"=================================\")\n",
    "print(\"Accuracy: \",accuracy_score(y_test.flatten(), hypertunedsvmModelPredictions)) \n",
    "print(\"Precision: \",precision_score(y_test.flatten(), hypertunedsvmModelPredictions))\n",
    "print(\"Recall: \",recall_score(y_test.flatten(), hypertunedsvmModelPredictions))\n",
    "print(\"F1-Score: \",f1_score(y_test.flatten(), hypertunedsvmModelPredictions))\n",
    "print(\"AUC score: \",roc_auc_score(y_test.flatten(), hypertunedsvmModelPredictions))\n",
    "print(classification_report(y_test.flatten(), hypertunedsvmModelPredictions,\n",
    "                            target_names=[\"Non Fraudulent\", \"Fraudulent\"]))\n",
    "\n",
    "p, r, t = precision_recall_curve(y_test.flatten(), hypertunedsvmModelPredictProba)\n",
    "plt.plot(p, r)\n",
    "plt.xlabel('Recall')\n",
    "plt.ylabel('Precision')\n",
    "plt.title('Precision Recall Curve - Support Vector Machine Classifier')\n",
    "\n",
    "confusionMatrix = confusion_matrix(y_test.flatten(), hypertunedsvmModelPredictions) \n",
    "plt.figure(figsize =(6, 6)) \n",
    "sns.heatmap(confusionMatrix, xticklabels = ['Non Fraudulent', 'Fraudulent'],  \n",
    "            yticklabels = ['Non Fraudulent', 'Fraudulent'], annot = True, fmt =\"d\"); \n",
    "plt.title(\"Confusion matrix - Support Vector Machine Classifier\") \n",
    "plt.ylabel('Actual Class') \n",
    "plt.xlabel('Predicted class') \n",
    "plt.show() "
   ]
  },
  {
   "cell_type": "markdown",
   "metadata": {},
   "source": [
    "# Feature Selection"
   ]
  },
  {
   "cell_type": "markdown",
   "metadata": {},
   "source": [
    "## Choosing Top features"
   ]
  },
  {
   "cell_type": "code",
   "execution_count": 52,
   "metadata": {},
   "outputs": [
    {
     "data": {
      "text/html": [
       "<div>\n",
       "<style scoped>\n",
       "    .dataframe tbody tr th:only-of-type {\n",
       "        vertical-align: middle;\n",
       "    }\n",
       "\n",
       "    .dataframe tbody tr th {\n",
       "        vertical-align: top;\n",
       "    }\n",
       "\n",
       "    .dataframe thead th {\n",
       "        text-align: right;\n",
       "    }\n",
       "</style>\n",
       "<table border=\"1\" class=\"dataframe\">\n",
       "  <thead>\n",
       "    <tr style=\"text-align: right;\">\n",
       "      <th></th>\n",
       "      <th>V17</th>\n",
       "      <th>V14</th>\n",
       "      <th>V12</th>\n",
       "      <th>V10</th>\n",
       "      <th>V7</th>\n",
       "      <th>V3</th>\n",
       "      <th>V16</th>\n",
       "      <th>V4</th>\n",
       "      <th>V11</th>\n",
       "    </tr>\n",
       "  </thead>\n",
       "  <tbody>\n",
       "    <tr>\n",
       "      <th>0</th>\n",
       "      <td>0.207971</td>\n",
       "      <td>-0.311169</td>\n",
       "      <td>-0.617801</td>\n",
       "      <td>0.090794</td>\n",
       "      <td>0.239599</td>\n",
       "      <td>2.536347</td>\n",
       "      <td>-0.470401</td>\n",
       "      <td>1.378155</td>\n",
       "      <td>-0.5516</td>\n",
       "    </tr>\n",
       "  </tbody>\n",
       "</table>\n",
       "</div>"
      ],
      "text/plain": [
       "        V17       V14       V12       V10        V7        V3       V16  \\\n",
       "0  0.207971 -0.311169 -0.617801  0.090794  0.239599  2.536347 -0.470401   \n",
       "\n",
       "         V4     V11  \n",
       "0  1.378155 -0.5516  "
      ]
     },
     "execution_count": 52,
     "metadata": {},
     "output_type": "execute_result"
    }
   ],
   "source": [
    "# Set top features. This will be used as x values.\n",
    "top_features = df[[ \n",
    "'V17', 'V14', 'V12', 'V10', 'V7', 'V3', 'V16', 'V4', 'V11']]\n",
    "\n",
    "top_features.head(1)"
   ]
  },
  {
   "cell_type": "markdown",
   "metadata": {},
   "source": [
    "### Create a Train Test Split\n",
    "\n",
    "Use `Class` for the y values"
   ]
  },
  {
   "cell_type": "code",
   "execution_count": 53,
   "metadata": {},
   "outputs": [
    {
     "name": "stdout",
     "output_type": "stream",
     "text": [
      "Shape:  (284807, 9) (284807, 1)\n"
     ]
    }
   ],
   "source": [
    "# Assign the data to X and y\n",
    "# Note: Sklearn requires a two-dimensional array of values\n",
    "# so we use reshape to create this\n",
    "\n",
    "top_X = top_features\n",
    "top_y = df[['Class']].values.reshape(-1, 1)\n",
    "\n",
    "print(\"Shape: \", top_X.shape, top_y.shape)"
   ]
  },
  {
   "cell_type": "code",
   "execution_count": 54,
   "metadata": {},
   "outputs": [],
   "source": [
    "top_X_train, top_X_test, top_y_train, top_y_test = train_test_split(top_X, top_y, random_state=42)"
   ]
  },
  {
   "cell_type": "code",
   "execution_count": 55,
   "metadata": {},
   "outputs": [
    {
     "name": "stdout",
     "output_type": "stream",
     "text": [
      "(213605, 9) (71202, 9) (213605, 1) (71202, 1)\n"
     ]
    }
   ],
   "source": [
    "print(top_X_train.shape,top_X_test.shape,top_y_train.shape, top_y_test.shape)"
   ]
  },
  {
   "cell_type": "markdown",
   "metadata": {},
   "source": [
    "### Pre-processing\n",
    "\n",
    "Scale the data using the MinMaxScaler"
   ]
  },
  {
   "cell_type": "code",
   "execution_count": 56,
   "metadata": {},
   "outputs": [],
   "source": [
    "top_X_minmax = MinMaxScaler().fit(top_X_train)\n",
    "\n",
    "top_X_train_scaled = top_X_minmax.transform(top_X_train)\n",
    "top_X_test_scaled = top_X_minmax.transform(top_X_test)"
   ]
  },
  {
   "cell_type": "markdown",
   "metadata": {},
   "source": [
    "# SVM Model with Top features\n",
    "\n",
    "### Train the Model"
   ]
  },
  {
   "cell_type": "code",
   "execution_count": 63,
   "metadata": {},
   "outputs": [
    {
     "data": {
      "text/plain": [
       "SVC(probability=True)"
      ]
     },
     "execution_count": 63,
     "metadata": {},
     "output_type": "execute_result"
    }
   ],
   "source": [
    "top_sfmModel = SVC(probability=True)\n",
    "top_sfmModel"
   ]
  },
  {
   "cell_type": "code",
   "execution_count": 64,
   "metadata": {},
   "outputs": [
    {
     "data": {
      "text/plain": [
       "SVC(probability=True)"
      ]
     },
     "execution_count": 64,
     "metadata": {},
     "output_type": "execute_result"
    }
   ],
   "source": [
    "top_sfmModel.fit(top_X_train_scaled, top_y_train.flatten())"
   ]
  },
  {
   "cell_type": "code",
   "execution_count": 65,
   "metadata": {},
   "outputs": [
    {
     "name": "stdout",
     "output_type": "stream",
     "text": [
      "Training Data Score: 0.9994101261674586\n",
      "Testing Data Score: 0.9992977725344794\n"
     ]
    }
   ],
   "source": [
    "print(f\"Training Data Score: {top_sfmModel.score(top_X_train_scaled, top_y_train)}\")\n",
    "print(f\"Testing Data Score: {top_sfmModel.score(top_X_test_scaled, top_y_test)}\")"
   ]
  },
  {
   "cell_type": "code",
   "execution_count": 66,
   "metadata": {},
   "outputs": [],
   "source": [
    "# Make predictions\n",
    "top_sfmPredictions = top_sfmModel.predict(top_X_test_scaled)"
   ]
  },
  {
   "cell_type": "code",
   "execution_count": 67,
   "metadata": {},
   "outputs": [],
   "source": [
    "top_sfmPredictProba = top_sfmModel.predict_proba(top_X_test_scaled)[:,1]"
   ]
  },
  {
   "cell_type": "code",
   "execution_count": 68,
   "metadata": {},
   "outputs": [
    {
     "name": "stdout",
     "output_type": "stream",
     "text": [
      "                precision    recall  f1-score   support\n",
      "\n",
      "Non Fraudulent       1.00      1.00      1.00     71089\n",
      "    Fraudulent       0.76      0.81      0.78       113\n",
      "\n",
      "      accuracy                           1.00     71202\n",
      "     macro avg       0.88      0.90      0.89     71202\n",
      "  weighted avg       1.00      1.00      1.00     71202\n",
      "\n",
      "Accuracy: 0.9992977725344794\n"
     ]
    }
   ],
   "source": [
    "print(classification_report(top_y_test.flatten(), top_sfmPredictions,\n",
    "                            target_names=[\"Non Fraudulent\", \"Fraudulent\"]))\n",
    "print(\"Accuracy:\", accuracy_score(top_y_test.flatten(), top_sfmPredictions))"
   ]
  },
  {
   "cell_type": "code",
   "execution_count": 71,
   "metadata": {},
   "outputs": [
    {
     "name": "stdout",
     "output_type": "stream",
     "text": [
      "SVM Classifier\n",
      "==============\n",
      "Accuracy:  0.9992977725344794\n",
      "Precision:  0.7647058823529411\n",
      "Recall:  0.8053097345132744\n",
      "F1-Score:  0.7844827586206896\n",
      "AUC score:  0.9024579310217768\n",
      "                precision    recall  f1-score   support\n",
      "\n",
      "Non Fraudulent       1.00      1.00      1.00     71089\n",
      "    Fraudulent       0.76      0.81      0.78       113\n",
      "\n",
      "      accuracy                           1.00     71202\n",
      "     macro avg       0.88      0.90      0.89     71202\n",
      "  weighted avg       1.00      1.00      1.00     71202\n",
      "\n"
     ]
    },
    {
     "data": {
      "image/png": "[encoded data removed]",
      "text/plain": [
       "<Figure size 432x288 with 1 Axes>"
      ]
     },
     "metadata": {
      "needs_background": "light"
     },
     "output_type": "display_data"
    },
    {
     "data": {
      "image/png": "[encoded data removed]",
      "text/plain": [
       "<Figure size 432x432 with 2 Axes>"
      ]
     },
     "metadata": {
      "needs_background": "light"
     },
     "output_type": "display_data"
    }
   ],
   "source": [
    "print(\"SVM Classifier\")\n",
    "print(\"==============\")\n",
    "print(\"Accuracy: \",accuracy_score(top_y_test.flatten(), top_sfmPredictions)) \n",
    "print(\"Precision: \",precision_score(top_y_test.flatten(), top_sfmPredictions))\n",
    "print(\"Recall: \",recall_score(top_y_test.flatten(), top_sfmPredictions))\n",
    "print(\"F1-Score: \",f1_score(top_y_test.flatten(), top_sfmPredictions))\n",
    "print(\"AUC score: \",roc_auc_score(top_y_test.flatten(), top_sfmPredictions))\n",
    "print(classification_report(top_y_test.flatten(), top_sfmPredictions,\n",
    "                            target_names=[\"Non Fraudulent\", \"Fraudulent\"]))\n",
    "\n",
    "p, r, t = precision_recall_curve(top_y_test.flatten(), top_sfmPredictProba)\n",
    "plt.plot(p, r)\n",
    "plt.xlabel('Recall')\n",
    "plt.ylabel('Precision')\n",
    "plt.title('Precision Recall Curve - SVM Classifier')\n",
    "\n",
    "top_14confusionMatrix = confusion_matrix(top_y_test.flatten(), top_sfmPredictions) \n",
    "plt.figure(figsize =(6, 6)) \n",
    "sns.heatmap(top_14confusionMatrix, xticklabels = ['Non Fraudulent', 'Fraudulent'],  \n",
    "            yticklabels = ['Non Fraudulent', 'Fraudulent'], annot = True, fmt =\"d\"); \n",
    "plt.title(\"Confusion matrix - SVM Classifier\") \n",
    "plt.ylabel('Actual Class') \n",
    "plt.xlabel('Predicted class') \n",
    "plt.show() "
   ]
  },
  {
   "cell_type": "markdown",
   "metadata": {},
   "source": [
    "### Hyperparameter Tuning\n",
    "\n",
    "Use `GridSearchCV` to tune the model's parameters"
   ]
  },
  {
   "cell_type": "code",
   "execution_count": 70,
   "metadata": {},
   "outputs": [
    {
     "data": {
      "text/plain": [
       "dict_keys(['C', 'break_ties', 'cache_size', 'class_weight', 'coef0', 'decision_function_shape', 'degree', 'gamma', 'kernel', 'max_iter', 'probability', 'random_state', 'shrinking', 'tol', 'verbose'])"
      ]
     },
     "execution_count": 70,
     "metadata": {},
     "output_type": "execute_result"
    }
   ],
   "source": [
    "top_sfmModel.get_params().keys()"
   ]
  },
  {
   "cell_type": "code",
   "execution_count": 72,
   "metadata": {},
   "outputs": [],
   "source": [
    "# Create the GridSearchCV model\n",
    "# Create the GridSearch estimator along with a parameter object containing the values to adjust\n",
    "top_sfmParamGrid = {\n",
    "                        'gamma': ['scale','auto'],\n",
    "                     'shrinking':[True, False],\n",
    "                     'probability': [True, False],\n",
    "                         'decision_function_shape': ['ovo', 'ovr']\n",
    "                         }\n",
    "top_sfmGrid = GridSearchCV(top_sfmModel, top_sfmParamGrid, verbose=3)"
   ]
  },
  {
   "cell_type": "code",
   "execution_count": 73,
   "metadata": {},
   "outputs": [
    {
     "name": "stdout",
     "output_type": "stream",
     "text": [
      "Fitting 5 folds for each of 16 candidates, totalling 80 fits\n",
      "[CV] decision_function_shape=ovo, gamma=scale, probability=True, shrinking=True \n"
     ]
    },
    {
     "name": "stderr",
     "output_type": "stream",
     "text": [
      "[Parallel(n_jobs=1)]: Using backend SequentialBackend with 1 concurrent workers.\n"
     ]
    },
    {
     "name": "stdout",
     "output_type": "stream",
     "text": [
      "[CV]  decision_function_shape=ovo, gamma=scale, probability=True, shrinking=True, score=0.999, total=  22.9s\n",
      "[CV] decision_function_shape=ovo, gamma=scale, probability=True, shrinking=True \n"
     ]
    },
    {
     "name": "stderr",
     "output_type": "stream",
     "text": [
      "[Parallel(n_jobs=1)]: Done   1 out of   1 | elapsed:   22.8s remaining:    0.0s\n"
     ]
    },
    {
     "name": "stdout",
     "output_type": "stream",
     "text": [
      "[CV]  decision_function_shape=ovo, gamma=scale, probability=True, shrinking=True, score=0.999, total=  21.6s\n",
      "[CV] decision_function_shape=ovo, gamma=scale, probability=True, shrinking=True \n"
     ]
    },
    {
     "name": "stderr",
     "output_type": "stream",
     "text": [
      "[Parallel(n_jobs=1)]: Done   2 out of   2 | elapsed:   44.4s remaining:    0.0s\n"
     ]
    },
    {
     "name": "stdout",
     "output_type": "stream",
     "text": [
      "[CV]  decision_function_shape=ovo, gamma=scale, probability=True, shrinking=True, score=0.999, total=  20.8s\n",
      "[CV] decision_function_shape=ovo, gamma=scale, probability=True, shrinking=True \n",
      "[CV]  decision_function_shape=ovo, gamma=scale, probability=True, shrinking=True, score=0.999, total=  22.7s\n",
      "[CV] decision_function_shape=ovo, gamma=scale, probability=True, shrinking=True \n",
      "[CV]  decision_function_shape=ovo, gamma=scale, probability=True, shrinking=True, score=0.999, total=  22.2s\n",
      "[CV] decision_function_shape=ovo, gamma=scale, probability=True, shrinking=False \n",
      "[CV]  decision_function_shape=ovo, gamma=scale, probability=True, shrinking=False, score=0.999, total=  22.2s\n",
      "[CV] decision_function_shape=ovo, gamma=scale, probability=True, shrinking=False \n",
      "[CV]  decision_function_shape=ovo, gamma=scale, probability=True, shrinking=False, score=0.999, total=  21.4s\n",
      "[CV] decision_function_shape=ovo, gamma=scale, probability=True, shrinking=False \n",
      "[CV]  decision_function_shape=ovo, gamma=scale, probability=True, shrinking=False, score=0.999, total=  20.8s\n",
      "[CV] decision_function_shape=ovo, gamma=scale, probability=True, shrinking=False \n",
      "[CV]  decision_function_shape=ovo, gamma=scale, probability=True, shrinking=False, score=0.999, total=  22.2s\n",
      "[CV] decision_function_shape=ovo, gamma=scale, probability=True, shrinking=False \n",
      "[CV]  decision_function_shape=ovo, gamma=scale, probability=True, shrinking=False, score=0.999, total=  22.5s\n",
      "[CV] decision_function_shape=ovo, gamma=scale, probability=False, shrinking=True \n",
      "[CV]  decision_function_shape=ovo, gamma=scale, probability=False, shrinking=True, score=0.999, total=   2.1s\n",
      "[CV] decision_function_shape=ovo, gamma=scale, probability=False, shrinking=True \n",
      "[CV]  decision_function_shape=ovo, gamma=scale, probability=False, shrinking=True, score=0.999, total=   1.9s\n",
      "[CV] decision_function_shape=ovo, gamma=scale, probability=False, shrinking=True \n",
      "[CV]  decision_function_shape=ovo, gamma=scale, probability=False, shrinking=True, score=0.999, total=   1.9s\n",
      "[CV] decision_function_shape=ovo, gamma=scale, probability=False, shrinking=True \n",
      "[CV]  decision_function_shape=ovo, gamma=scale, probability=False, shrinking=True, score=0.999, total=   2.0s\n",
      "[CV] decision_function_shape=ovo, gamma=scale, probability=False, shrinking=True \n",
      "[CV]  decision_function_shape=ovo, gamma=scale, probability=False, shrinking=True, score=0.999, total=   1.9s\n",
      "[CV] decision_function_shape=ovo, gamma=scale, probability=False, shrinking=False \n",
      "[CV]  decision_function_shape=ovo, gamma=scale, probability=False, shrinking=False, score=0.999, total=   2.1s\n",
      "[CV] decision_function_shape=ovo, gamma=scale, probability=False, shrinking=False \n",
      "[CV]  decision_function_shape=ovo, gamma=scale, probability=False, shrinking=False, score=0.999, total=   2.1s\n",
      "[CV] decision_function_shape=ovo, gamma=scale, probability=False, shrinking=False \n",
      "[CV]  decision_function_shape=ovo, gamma=scale, probability=False, shrinking=False, score=0.999, total=   2.0s\n",
      "[CV] decision_function_shape=ovo, gamma=scale, probability=False, shrinking=False \n",
      "[CV]  decision_function_shape=ovo, gamma=scale, probability=False, shrinking=False, score=0.999, total=   2.0s\n",
      "[CV] decision_function_shape=ovo, gamma=scale, probability=False, shrinking=False \n",
      "[CV]  decision_function_shape=ovo, gamma=scale, probability=False, shrinking=False, score=0.999, total=   2.0s\n",
      "[CV] decision_function_shape=ovo, gamma=auto, probability=True, shrinking=True \n",
      "[CV]  decision_function_shape=ovo, gamma=auto, probability=True, shrinking=True, score=0.999, total=  29.4s\n",
      "[CV] decision_function_shape=ovo, gamma=auto, probability=True, shrinking=True \n",
      "[CV]  decision_function_shape=ovo, gamma=auto, probability=True, shrinking=True, score=0.999, total=  28.2s\n",
      "[CV] decision_function_shape=ovo, gamma=auto, probability=True, shrinking=True \n",
      "[CV]  decision_function_shape=ovo, gamma=auto, probability=True, shrinking=True, score=0.999, total=  28.0s\n",
      "[CV] decision_function_shape=ovo, gamma=auto, probability=True, shrinking=True \n",
      "[CV]  decision_function_shape=ovo, gamma=auto, probability=True, shrinking=True, score=0.999, total=  27.5s\n",
      "[CV] decision_function_shape=ovo, gamma=auto, probability=True, shrinking=True \n",
      "[CV]  decision_function_shape=ovo, gamma=auto, probability=True, shrinking=True, score=0.999, total=  29.5s\n",
      "[CV] decision_function_shape=ovo, gamma=auto, probability=True, shrinking=False \n",
      "[CV]  decision_function_shape=ovo, gamma=auto, probability=True, shrinking=False, score=0.999, total=  29.6s\n",
      "[CV] decision_function_shape=ovo, gamma=auto, probability=True, shrinking=False \n",
      "[CV]  decision_function_shape=ovo, gamma=auto, probability=True, shrinking=False, score=0.999, total=  31.9s\n",
      "[CV] decision_function_shape=ovo, gamma=auto, probability=True, shrinking=False \n",
      "[CV]  decision_function_shape=ovo, gamma=auto, probability=True, shrinking=False, score=0.999, total=  27.3s\n",
      "[CV] decision_function_shape=ovo, gamma=auto, probability=True, shrinking=False \n",
      "[CV]  decision_function_shape=ovo, gamma=auto, probability=True, shrinking=False, score=0.999, total=  26.6s\n",
      "[CV] decision_function_shape=ovo, gamma=auto, probability=True, shrinking=False \n",
      "[CV]  decision_function_shape=ovo, gamma=auto, probability=True, shrinking=False, score=0.999, total=  26.5s\n",
      "[CV] decision_function_shape=ovo, gamma=auto, probability=False, shrinking=True \n",
      "[CV]  decision_function_shape=ovo, gamma=auto, probability=False, shrinking=True, score=0.999, total=   2.4s\n",
      "[CV] decision_function_shape=ovo, gamma=auto, probability=False, shrinking=True \n",
      "[CV]  decision_function_shape=ovo, gamma=auto, probability=False, shrinking=True, score=0.999, total=   2.3s\n",
      "[CV] decision_function_shape=ovo, gamma=auto, probability=False, shrinking=True \n",
      "[CV]  decision_function_shape=ovo, gamma=auto, probability=False, shrinking=True, score=0.999, total=   2.3s\n",
      "[CV] decision_function_shape=ovo, gamma=auto, probability=False, shrinking=True \n",
      "[CV]  decision_function_shape=ovo, gamma=auto, probability=False, shrinking=True, score=0.999, total=   2.3s\n",
      "[CV] decision_function_shape=ovo, gamma=auto, probability=False, shrinking=True \n",
      "[CV]  decision_function_shape=ovo, gamma=auto, probability=False, shrinking=True, score=0.999, total=   2.4s\n",
      "[CV] decision_function_shape=ovo, gamma=auto, probability=False, shrinking=False \n",
      "[CV]  decision_function_shape=ovo, gamma=auto, probability=False, shrinking=False, score=0.999, total=   3.7s\n",
      "[CV] decision_function_shape=ovo, gamma=auto, probability=False, shrinking=False \n",
      "[CV]  decision_function_shape=ovo, gamma=auto, probability=False, shrinking=False, score=0.999, total=   3.1s\n",
      "[CV] decision_function_shape=ovo, gamma=auto, probability=False, shrinking=False \n",
      "[CV]  decision_function_shape=ovo, gamma=auto, probability=False, shrinking=False, score=0.999, total=   2.9s\n",
      "[CV] decision_function_shape=ovo, gamma=auto, probability=False, shrinking=False \n",
      "[CV]  decision_function_shape=ovo, gamma=auto, probability=False, shrinking=False, score=0.999, total=   2.3s\n",
      "[CV] decision_function_shape=ovo, gamma=auto, probability=False, shrinking=False \n",
      "[CV]  decision_function_shape=ovo, gamma=auto, probability=False, shrinking=False, score=0.999, total=   2.8s\n",
      "[CV] decision_function_shape=ovr, gamma=scale, probability=True, shrinking=True \n",
      "[CV]  decision_function_shape=ovr, gamma=scale, probability=True, shrinking=True, score=0.999, total=  24.6s\n",
      "[CV] decision_function_shape=ovr, gamma=scale, probability=True, shrinking=True \n",
      "[CV]  decision_function_shape=ovr, gamma=scale, probability=True, shrinking=True, score=0.999, total=  24.9s\n",
      "[CV] decision_function_shape=ovr, gamma=scale, probability=True, shrinking=True \n",
      "[CV]  decision_function_shape=ovr, gamma=scale, probability=True, shrinking=True, score=0.999, total=  25.0s\n",
      "[CV] decision_function_shape=ovr, gamma=scale, probability=True, shrinking=True \n",
      "[CV]  decision_function_shape=ovr, gamma=scale, probability=True, shrinking=True, score=0.999, total=  29.7s\n",
      "[CV] decision_function_shape=ovr, gamma=scale, probability=True, shrinking=True \n",
      "[CV]  decision_function_shape=ovr, gamma=scale, probability=True, shrinking=True, score=0.999, total=  20.5s\n",
      "[CV] decision_function_shape=ovr, gamma=scale, probability=True, shrinking=False \n"
     ]
    },
    {
     "name": "stdout",
     "output_type": "stream",
     "text": [
      "[CV]  decision_function_shape=ovr, gamma=scale, probability=True, shrinking=False, score=0.999, total=  21.3s\n",
      "[CV] decision_function_shape=ovr, gamma=scale, probability=True, shrinking=False \n",
      "[CV]  decision_function_shape=ovr, gamma=scale, probability=True, shrinking=False, score=0.999, total=  20.0s\n",
      "[CV] decision_function_shape=ovr, gamma=scale, probability=True, shrinking=False \n",
      "[CV]  decision_function_shape=ovr, gamma=scale, probability=True, shrinking=False, score=0.999, total=  20.1s\n",
      "[CV] decision_function_shape=ovr, gamma=scale, probability=True, shrinking=False \n",
      "[CV]  decision_function_shape=ovr, gamma=scale, probability=True, shrinking=False, score=0.999, total=  21.0s\n",
      "[CV] decision_function_shape=ovr, gamma=scale, probability=True, shrinking=False \n",
      "[CV]  decision_function_shape=ovr, gamma=scale, probability=True, shrinking=False, score=0.999, total=  20.8s\n",
      "[CV] decision_function_shape=ovr, gamma=scale, probability=False, shrinking=True \n",
      "[CV]  decision_function_shape=ovr, gamma=scale, probability=False, shrinking=True, score=0.999, total=   2.0s\n",
      "[CV] decision_function_shape=ovr, gamma=scale, probability=False, shrinking=True \n",
      "[CV]  decision_function_shape=ovr, gamma=scale, probability=False, shrinking=True, score=0.999, total=   1.8s\n",
      "[CV] decision_function_shape=ovr, gamma=scale, probability=False, shrinking=True \n",
      "[CV]  decision_function_shape=ovr, gamma=scale, probability=False, shrinking=True, score=0.999, total=   1.8s\n",
      "[CV] decision_function_shape=ovr, gamma=scale, probability=False, shrinking=True \n",
      "[CV]  decision_function_shape=ovr, gamma=scale, probability=False, shrinking=True, score=0.999, total=   2.2s\n",
      "[CV] decision_function_shape=ovr, gamma=scale, probability=False, shrinking=True \n",
      "[CV]  decision_function_shape=ovr, gamma=scale, probability=False, shrinking=True, score=0.999, total=   1.9s\n",
      "[CV] decision_function_shape=ovr, gamma=scale, probability=False, shrinking=False \n",
      "[CV]  decision_function_shape=ovr, gamma=scale, probability=False, shrinking=False, score=0.999, total=   2.1s\n",
      "[CV] decision_function_shape=ovr, gamma=scale, probability=False, shrinking=False \n",
      "[CV]  decision_function_shape=ovr, gamma=scale, probability=False, shrinking=False, score=0.999, total=   1.8s\n",
      "[CV] decision_function_shape=ovr, gamma=scale, probability=False, shrinking=False \n",
      "[CV]  decision_function_shape=ovr, gamma=scale, probability=False, shrinking=False, score=0.999, total=   1.8s\n",
      "[CV] decision_function_shape=ovr, gamma=scale, probability=False, shrinking=False \n",
      "[CV]  decision_function_shape=ovr, gamma=scale, probability=False, shrinking=False, score=0.999, total=   2.0s\n",
      "[CV] decision_function_shape=ovr, gamma=scale, probability=False, shrinking=False \n",
      "[CV]  decision_function_shape=ovr, gamma=scale, probability=False, shrinking=False, score=0.999, total=   2.0s\n",
      "[CV] decision_function_shape=ovr, gamma=auto, probability=True, shrinking=True \n",
      "[CV]  decision_function_shape=ovr, gamma=auto, probability=True, shrinking=True, score=0.999, total=  28.5s\n",
      "[CV] decision_function_shape=ovr, gamma=auto, probability=True, shrinking=True \n",
      "[CV]  decision_function_shape=ovr, gamma=auto, probability=True, shrinking=True, score=0.999, total=  28.2s\n",
      "[CV] decision_function_shape=ovr, gamma=auto, probability=True, shrinking=True \n",
      "[CV]  decision_function_shape=ovr, gamma=auto, probability=True, shrinking=True, score=0.999, total=  27.0s\n",
      "[CV] decision_function_shape=ovr, gamma=auto, probability=True, shrinking=True \n",
      "[CV]  decision_function_shape=ovr, gamma=auto, probability=True, shrinking=True, score=0.999, total=  28.9s\n",
      "[CV] decision_function_shape=ovr, gamma=auto, probability=True, shrinking=True \n",
      "[CV]  decision_function_shape=ovr, gamma=auto, probability=True, shrinking=True, score=0.999, total=  27.7s\n",
      "[CV] decision_function_shape=ovr, gamma=auto, probability=True, shrinking=False \n",
      "[CV]  decision_function_shape=ovr, gamma=auto, probability=True, shrinking=False, score=0.999, total=  27.9s\n",
      "[CV] decision_function_shape=ovr, gamma=auto, probability=True, shrinking=False \n",
      "[CV]  decision_function_shape=ovr, gamma=auto, probability=True, shrinking=False, score=0.999, total=  26.6s\n",
      "[CV] decision_function_shape=ovr, gamma=auto, probability=True, shrinking=False \n",
      "[CV]  decision_function_shape=ovr, gamma=auto, probability=True, shrinking=False, score=0.999, total=  26.5s\n",
      "[CV] decision_function_shape=ovr, gamma=auto, probability=True, shrinking=False \n",
      "[CV]  decision_function_shape=ovr, gamma=auto, probability=True, shrinking=False, score=0.999, total=  26.3s\n",
      "[CV] decision_function_shape=ovr, gamma=auto, probability=True, shrinking=False \n",
      "[CV]  decision_function_shape=ovr, gamma=auto, probability=True, shrinking=False, score=0.999, total=  26.7s\n",
      "[CV] decision_function_shape=ovr, gamma=auto, probability=False, shrinking=True \n",
      "[CV]  decision_function_shape=ovr, gamma=auto, probability=False, shrinking=True, score=0.999, total=   2.5s\n",
      "[CV] decision_function_shape=ovr, gamma=auto, probability=False, shrinking=True \n",
      "[CV]  decision_function_shape=ovr, gamma=auto, probability=False, shrinking=True, score=0.999, total=   2.3s\n",
      "[CV] decision_function_shape=ovr, gamma=auto, probability=False, shrinking=True \n",
      "[CV]  decision_function_shape=ovr, gamma=auto, probability=False, shrinking=True, score=0.999, total=   2.3s\n",
      "[CV] decision_function_shape=ovr, gamma=auto, probability=False, shrinking=True \n",
      "[CV]  decision_function_shape=ovr, gamma=auto, probability=False, shrinking=True, score=0.999, total=   2.3s\n",
      "[CV] decision_function_shape=ovr, gamma=auto, probability=False, shrinking=True \n",
      "[CV]  decision_function_shape=ovr, gamma=auto, probability=False, shrinking=True, score=0.999, total=   2.3s\n",
      "[CV] decision_function_shape=ovr, gamma=auto, probability=False, shrinking=False \n",
      "[CV]  decision_function_shape=ovr, gamma=auto, probability=False, shrinking=False, score=0.999, total=   2.6s\n",
      "[CV] decision_function_shape=ovr, gamma=auto, probability=False, shrinking=False \n",
      "[CV]  decision_function_shape=ovr, gamma=auto, probability=False, shrinking=False, score=0.999, total=   2.3s\n",
      "[CV] decision_function_shape=ovr, gamma=auto, probability=False, shrinking=False \n",
      "[CV]  decision_function_shape=ovr, gamma=auto, probability=False, shrinking=False, score=0.999, total=   2.3s\n",
      "[CV] decision_function_shape=ovr, gamma=auto, probability=False, shrinking=False \n",
      "[CV]  decision_function_shape=ovr, gamma=auto, probability=False, shrinking=False, score=0.999, total=   2.3s\n",
      "[CV] decision_function_shape=ovr, gamma=auto, probability=False, shrinking=False \n",
      "[CV]  decision_function_shape=ovr, gamma=auto, probability=False, shrinking=False, score=0.999, total=   2.3s\n"
     ]
    },
    {
     "name": "stderr",
     "output_type": "stream",
     "text": [
      "[Parallel(n_jobs=1)]: Done  80 out of  80 | elapsed: 18.3min finished\n"
     ]
    },
    {
     "data": {
      "text/plain": [
       "GridSearchCV(estimator=SVC(probability=True),\n",
       "             param_grid={'decision_function_shape': ['ovo', 'ovr'],\n",
       "                         'gamma': ['scale', 'auto'],\n",
       "                         'probability': [True, False],\n",
       "                         'shrinking': [True, False]},\n",
       "             verbose=3)"
      ]
     },
     "execution_count": 73,
     "metadata": {},
     "output_type": "execute_result"
    }
   ],
   "source": [
    "# Train the model with GridSearch\n",
    "top_sfmGrid.fit(top_X_train_scaled, top_y_train.flatten())"
   ]
  },
  {
   "cell_type": "code",
   "execution_count": 74,
   "metadata": {},
   "outputs": [
    {
     "name": "stdout",
     "output_type": "stream",
     "text": [
      "{'decision_function_shape': 'ovo', 'gamma': 'scale', 'probability': True, 'shrinking': True}\n",
      "0.9994101261674586\n"
     ]
    }
   ],
   "source": [
    "print(top_sfmGrid.best_params_)\n",
    "print(top_sfmGrid.best_score_)"
   ]
  },
  {
   "cell_type": "code",
   "execution_count": 75,
   "metadata": {},
   "outputs": [],
   "source": [
    "# Make predictions with the hyperparameter tuned model\n",
    "top_sfmGridPredictions = top_sfmGrid.predict(top_X_test_scaled)"
   ]
  },
  {
   "cell_type": "code",
   "execution_count": 76,
   "metadata": {},
   "outputs": [
    {
     "name": "stdout",
     "output_type": "stream",
     "text": [
      "                precision    recall  f1-score   support\n",
      "\n",
      "Non Fraudulent       1.00      1.00      1.00     71089\n",
      "    Fraudulent       0.76      0.81      0.78       113\n",
      "\n",
      "      accuracy                           1.00     71202\n",
      "     macro avg       0.88      0.90      0.89     71202\n",
      "  weighted avg       1.00      1.00      1.00     71202\n",
      "\n"
     ]
    }
   ],
   "source": [
    "print(classification_report(top_y_test.flatten(), top_sfmGridPredictions,\n",
    "                            target_names=[\"Non Fraudulent\", \"Fraudulent\"]))"
   ]
  },
  {
   "cell_type": "code",
   "execution_count": 78,
   "metadata": {},
   "outputs": [
    {
     "data": {
      "text/plain": [
       "SVC(decision_function_shape='ovo', probability=True)"
      ]
     },
     "execution_count": 78,
     "metadata": {},
     "output_type": "execute_result"
    }
   ],
   "source": [
    "top_hypertunedSvmModel = SVC(gamma = 'scale',\n",
    "                             shrinking = True,\n",
    "                             probability = True,\n",
    "                             decision_function_shape= 'ovo')\n",
    "top_hypertunedSvmModel"
   ]
  },
  {
   "cell_type": "code",
   "execution_count": 79,
   "metadata": {},
   "outputs": [
    {
     "data": {
      "text/plain": [
       "SVC(decision_function_shape='ovo', probability=True)"
      ]
     },
     "execution_count": 79,
     "metadata": {},
     "output_type": "execute_result"
    }
   ],
   "source": [
    "top_hypertunedSvmModel.fit(top_X_train_scaled, top_y_train.flatten())"
   ]
  },
  {
   "cell_type": "code",
   "execution_count": 80,
   "metadata": {},
   "outputs": [
    {
     "name": "stdout",
     "output_type": "stream",
     "text": [
      "Training Data Score: 0.9994101261674586\n",
      "Testing Data Score: 0.9992977725344794\n"
     ]
    }
   ],
   "source": [
    "print(f\"Training Data Score: {top_hypertunedSvmModel.score(top_X_train_scaled, top_y_train)}\")\n",
    "print(f\"Testing Data Score: {top_hypertunedSvmModel.score(top_X_test_scaled, top_y_test)}\")"
   ]
  },
  {
   "cell_type": "code",
   "execution_count": 81,
   "metadata": {},
   "outputs": [],
   "source": [
    "top_hypertunedSvmModelPredictions = top_hypertunedSvmModel.predict(top_X_test_scaled)"
   ]
  },
  {
   "cell_type": "code",
   "execution_count": 82,
   "metadata": {},
   "outputs": [],
   "source": [
    "top_hypertunedSvmModelPredictProba = top_hypertunedSvmModel.predict_proba(top_X_test_scaled)[:,1]"
   ]
  },
  {
   "cell_type": "code",
   "execution_count": 83,
   "metadata": {},
   "outputs": [
    {
     "name": "stdout",
     "output_type": "stream",
     "text": [
      "                precision    recall  f1-score   support\n",
      "\n",
      "Non Fraudulent       1.00      1.00      1.00     71089\n",
      "    Fraudulent       0.76      0.81      0.78       113\n",
      "\n",
      "      accuracy                           1.00     71202\n",
      "     macro avg       0.88      0.90      0.89     71202\n",
      "  weighted avg       1.00      1.00      1.00     71202\n",
      "\n"
     ]
    }
   ],
   "source": [
    "print(classification_report(top_y_test.flatten(), top_hypertunedSvmModelPredictions,\n",
    "                            target_names=[\"Non Fraudulent\", \"Fraudulent\"]))"
   ]
  },
  {
   "cell_type": "code",
   "execution_count": 84,
   "metadata": {},
   "outputs": [
    {
     "name": "stdout",
     "output_type": "stream",
     "text": [
      "SVM Classifier\n",
      "========================\n",
      "Accuracy:  0.9992977725344794\n",
      "Precision:  0.7647058823529411\n",
      "Recall:  0.8053097345132744\n",
      "F1-Score:  0.7844827586206896\n",
      "AUC score:  0.9024579310217768\n",
      "                precision    recall  f1-score   support\n",
      "\n",
      "Non Fraudulent       1.00      1.00      1.00     71089\n",
      "    Fraudulent       0.76      0.81      0.78       113\n",
      "\n",
      "      accuracy                           1.00     71202\n",
      "     macro avg       0.88      0.90      0.89     71202\n",
      "  weighted avg       1.00      1.00      1.00     71202\n",
      "\n"
     ]
    },
    {
     "data": {
      "image/png": "[encoded data removed]",
      "text/plain": [
       "<Figure size 432x288 with 1 Axes>"
      ]
     },
     "metadata": {
      "needs_background": "light"
     },
     "output_type": "display_data"
    },
    {
     "data": {
      "image/png": "[encoded data removed]",
      "text/plain": [
       "<Figure size 432x432 with 2 Axes>"
      ]
     },
     "metadata": {
      "needs_background": "light"
     },
     "output_type": "display_data"
    }
   ],
   "source": [
    "print(\"SVM Classifier\")\n",
    "print(\"========================\")\n",
    "print(\"Accuracy: \",accuracy_score(top_y_test.flatten(), top_hypertunedSvmModelPredictions)) \n",
    "print(\"Precision: \",precision_score(top_y_test.flatten(), top_hypertunedSvmModelPredictions))\n",
    "print(\"Recall: \",recall_score(top_y_test.flatten(), top_hypertunedSvmModelPredictions))\n",
    "print(\"F1-Score: \",f1_score(top_y_test.flatten(), top_hypertunedSvmModelPredictions))\n",
    "print(\"AUC score: \",roc_auc_score(top_y_test.flatten(), top_hypertunedSvmModelPredictions))\n",
    "print(classification_report(top_y_test.flatten(), top_hypertunedSvmModelPredictions,\n",
    "                            target_names=[\"Non Fraudulent\", \"Fraudulent\"]))\n",
    "\n",
    "p, r, t = precision_recall_curve(top_y_test.flatten(), top_hypertunedSvmModelPredictProba)\n",
    "plt.plot(p, r)\n",
    "plt.xlabel('Recall')\n",
    "plt.ylabel('Precision')\n",
    "plt.title('Precision Recall Curve - SVM Classifier')\n",
    "\n",
    "top_14confusionMatrix = confusion_matrix(top_y_test.flatten(), top_hypertunedSvmModelPredictions) \n",
    "plt.figure(figsize =(6, 6)) \n",
    "sns.heatmap(top_14confusionMatrix, xticklabels = ['Non Fraudulent', 'Fraudulent'],  \n",
    "            yticklabels = ['Non Fraudulent', 'Fraudulent'], annot = True, fmt =\"d\"); \n",
    "plt.title(\"Confusion matrix - SVM Classifier\") \n",
    "plt.ylabel('Actual Class') \n",
    "plt.xlabel('Predicted class') \n",
    "plt.show() "
   ]
  },
  {
   "cell_type": "markdown",
   "metadata": {},
   "source": [
    "# Save the Model"
   ]
  },
  {
   "cell_type": "code",
   "execution_count": 85,
   "metadata": {},
   "outputs": [
    {
     "data": {
      "text/plain": [
       "['SVMClassifierModel.sav']"
      ]
     },
     "execution_count": 85,
     "metadata": {},
     "output_type": "execute_result"
    }
   ],
   "source": [
    "filename = 'SVMClassifierModel.sav'\n",
    "joblib.dump(top_sfmModel, filename)"
   ]
  },
  {
   "cell_type": "code",
   "execution_count": null,
   "metadata": {},
   "outputs": [],
   "source": []
  }
 ],
 "metadata": {
  "kernelspec": {
   "display_name": "Python 3",
   "language": "python",
   "name": "python3"
  },
  "language_info": {
   "codemirror_mode": {
    "name": "ipython",
    "version": 3
   },
   "file_extension": ".py",
   "mimetype": "text/x-python",
   "name": "python",
   "nbconvert_exporter": "python",
   "pygments_lexer": "ipython3",
   "version": "3.6.10"
  }
 },
 "nbformat": 4,
 "nbformat_minor": 5
}
