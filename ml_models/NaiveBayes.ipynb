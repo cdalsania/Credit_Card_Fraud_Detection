{
 "cells": [
  {
   "cell_type": "markdown",
   "id": "supposed-threshold",
   "metadata": {},
   "source": [
    "# Import Dependencies"
   ]
  },
  {
   "cell_type": "code",
   "execution_count": 1,
   "id": "egyptian-elizabeth",
   "metadata": {},
   "outputs": [],
   "source": [
    "import pandas as pd\n",
    "import numpy as np\n",
    "\n",
    "from config import CSV_FILE_URL\n",
    "import joblib\n",
    "\n",
    "from sklearn.model_selection import train_test_split\n",
    "from sklearn.preprocessing import MinMaxScaler\n",
    "from sklearn.model_selection import GridSearchCV\n",
    "\n",
    "from sklearn.metrics import classification_report, accuracy_score, precision_score, recall_score, f1_score\n",
    "from sklearn.metrics import precision_recall_curve, roc_auc_score, confusion_matrix\n",
    "import seaborn as sns\n",
    "import matplotlib.pyplot as plt\n",
    "%matplotlib inline\n",
    "\n",
    "from sklearn.naive_bayes import MultinomialNB\n",
    "from sklearn.naive_bayes import GaussianNB\n",
    "from sklearn.naive_bayes import BernoulliNB"
   ]
  },
  {
   "cell_type": "markdown",
   "id": "anticipated-tongue",
   "metadata": {},
   "source": [
    "# Read the CSV"
   ]
  },
  {
   "cell_type": "code",
   "execution_count": 2,
   "id": "forbidden-design",
   "metadata": {},
   "outputs": [
    {
     "data": {
      "text/plain": [
       "(284807, 31)"
      ]
     },
     "execution_count": 2,
     "metadata": {},
     "output_type": "execute_result"
    }
   ],
   "source": [
    "# Read the CSV file into a dataframe\n",
    "df = pd.read_csv(CSV_FILE_URL)\n",
    "df.shape"
   ]
  },
  {
   "cell_type": "markdown",
   "id": "young-despite",
   "metadata": {},
   "source": [
    "# Data Cleaning\n",
    "\n",
    "Checking to see if there are any null values in the dataset. "
   ]
  },
  {
   "cell_type": "code",
   "execution_count": 3,
   "id": "patient-gospel",
   "metadata": {},
   "outputs": [
    {
     "data": {
      "text/plain": [
       "(284807, 31)"
      ]
     },
     "execution_count": 3,
     "metadata": {},
     "output_type": "execute_result"
    }
   ],
   "source": [
    "# Drop the null columns where all values are null\n",
    "df = df.dropna(axis='columns', how='all')\n",
    "\n",
    "# Drop the null rows\n",
    "df = df.dropna()\n",
    "df.shape"
   ]
  },
  {
   "cell_type": "markdown",
   "id": "loved-abraham",
   "metadata": {},
   "source": [
    "It could be seen that there are **no null values** in the dataset."
   ]
  },
  {
   "cell_type": "markdown",
   "id": "democratic-family",
   "metadata": {},
   "source": [
    "# Data Exploration\n",
    "\n",
    "Checking Data distribution w.r.t Target feature"
   ]
  },
  {
   "cell_type": "code",
   "execution_count": 4,
   "id": "answering-round",
   "metadata": {},
   "outputs": [
    {
     "data": {
      "text/html": [
       "<div>\n",
       "<style scoped>\n",
       "    .dataframe tbody tr th:only-of-type {\n",
       "        vertical-align: middle;\n",
       "    }\n",
       "\n",
       "    .dataframe tbody tr th {\n",
       "        vertical-align: top;\n",
       "    }\n",
       "\n",
       "    .dataframe thead th {\n",
       "        text-align: right;\n",
       "    }\n",
       "</style>\n",
       "<table border=\"1\" class=\"dataframe\">\n",
       "  <thead>\n",
       "    <tr style=\"text-align: right;\">\n",
       "      <th></th>\n",
       "      <th>Time</th>\n",
       "      <th>V1</th>\n",
       "      <th>V2</th>\n",
       "      <th>V3</th>\n",
       "      <th>V4</th>\n",
       "      <th>V5</th>\n",
       "      <th>V6</th>\n",
       "      <th>V7</th>\n",
       "      <th>V8</th>\n",
       "      <th>V9</th>\n",
       "      <th>...</th>\n",
       "      <th>V20</th>\n",
       "      <th>V21</th>\n",
       "      <th>V22</th>\n",
       "      <th>V23</th>\n",
       "      <th>V24</th>\n",
       "      <th>V25</th>\n",
       "      <th>V26</th>\n",
       "      <th>V27</th>\n",
       "      <th>V28</th>\n",
       "      <th>Amount</th>\n",
       "    </tr>\n",
       "    <tr>\n",
       "      <th>Class</th>\n",
       "      <th></th>\n",
       "      <th></th>\n",
       "      <th></th>\n",
       "      <th></th>\n",
       "      <th></th>\n",
       "      <th></th>\n",
       "      <th></th>\n",
       "      <th></th>\n",
       "      <th></th>\n",
       "      <th></th>\n",
       "      <th></th>\n",
       "      <th></th>\n",
       "      <th></th>\n",
       "      <th></th>\n",
       "      <th></th>\n",
       "      <th></th>\n",
       "      <th></th>\n",
       "      <th></th>\n",
       "      <th></th>\n",
       "      <th></th>\n",
       "      <th></th>\n",
       "    </tr>\n",
       "  </thead>\n",
       "  <tbody>\n",
       "    <tr>\n",
       "      <th>0</th>\n",
       "      <td>284315</td>\n",
       "      <td>284315</td>\n",
       "      <td>284315</td>\n",
       "      <td>284315</td>\n",
       "      <td>284315</td>\n",
       "      <td>284315</td>\n",
       "      <td>284315</td>\n",
       "      <td>284315</td>\n",
       "      <td>284315</td>\n",
       "      <td>284315</td>\n",
       "      <td>...</td>\n",
       "      <td>284315</td>\n",
       "      <td>284315</td>\n",
       "      <td>284315</td>\n",
       "      <td>284315</td>\n",
       "      <td>284315</td>\n",
       "      <td>284315</td>\n",
       "      <td>284315</td>\n",
       "      <td>284315</td>\n",
       "      <td>284315</td>\n",
       "      <td>284315</td>\n",
       "    </tr>\n",
       "    <tr>\n",
       "      <th>1</th>\n",
       "      <td>492</td>\n",
       "      <td>492</td>\n",
       "      <td>492</td>\n",
       "      <td>492</td>\n",
       "      <td>492</td>\n",
       "      <td>492</td>\n",
       "      <td>492</td>\n",
       "      <td>492</td>\n",
       "      <td>492</td>\n",
       "      <td>492</td>\n",
       "      <td>...</td>\n",
       "      <td>492</td>\n",
       "      <td>492</td>\n",
       "      <td>492</td>\n",
       "      <td>492</td>\n",
       "      <td>492</td>\n",
       "      <td>492</td>\n",
       "      <td>492</td>\n",
       "      <td>492</td>\n",
       "      <td>492</td>\n",
       "      <td>492</td>\n",
       "    </tr>\n",
       "  </tbody>\n",
       "</table>\n",
       "<p>2 rows × 30 columns</p>\n",
       "</div>"
      ],
      "text/plain": [
       "         Time      V1      V2      V3      V4      V5      V6      V7      V8  \\\n",
       "Class                                                                           \n",
       "0      284315  284315  284315  284315  284315  284315  284315  284315  284315   \n",
       "1         492     492     492     492     492     492     492     492     492   \n",
       "\n",
       "           V9  ...     V20     V21     V22     V23     V24     V25     V26  \\\n",
       "Class          ...                                                           \n",
       "0      284315  ...  284315  284315  284315  284315  284315  284315  284315   \n",
       "1         492  ...     492     492     492     492     492     492     492   \n",
       "\n",
       "          V27     V28  Amount  \n",
       "Class                          \n",
       "0      284315  284315  284315  \n",
       "1         492     492     492  \n",
       "\n",
       "[2 rows x 30 columns]"
      ]
     },
     "execution_count": 4,
     "metadata": {},
     "output_type": "execute_result"
    }
   ],
   "source": [
    "df.groupby('Class').count()"
   ]
  },
  {
   "cell_type": "code",
   "execution_count": 5,
   "id": "straight-timer",
   "metadata": {},
   "outputs": [
    {
     "data": {
      "text/plain": [
       "<matplotlib.axes._subplots.AxesSubplot at 0x1d6dec21128>"
      ]
     },
     "execution_count": 5,
     "metadata": {},
     "output_type": "execute_result"
    },
    {
     "data": {
      "image/png": "[encoded data removed]",
      "text/plain": [
       "<Figure size 432x288 with 1 Axes>"
      ]
     },
     "metadata": {
      "needs_background": "light"
     },
     "output_type": "display_data"
    }
   ],
   "source": [
    "grouped_df = df[['Class','Time']].groupby('Class').count()\n",
    "grouped_df = grouped_df.rename(columns={\"Time\":\"Count\"})\n",
    "grouped_df.plot(kind=\"bar\")"
   ]
  },
  {
   "cell_type": "markdown",
   "id": "determined-attack",
   "metadata": {},
   "source": [
    "It is evident from the above plot that data is **highly imbalanced**. The dataset has only 492 fraudulent transactions out of a total of 284,807 transactions, which is a mere **0.17%**."
   ]
  },
  {
   "cell_type": "markdown",
   "id": "martial-turkish",
   "metadata": {},
   "source": [
    "# Defining features\n",
    "\n",
    "Defining the predictor features and the target feature."
   ]
  },
  {
   "cell_type": "code",
   "execution_count": 6,
   "id": "isolated-associate",
   "metadata": {},
   "outputs": [
    {
     "data": {
      "text/plain": [
       "Index(['Time', 'V1', 'V2', 'V3', 'V4', 'V5', 'V6', 'V7', 'V8', 'V9', 'V10',\n",
       "       'V11', 'V12', 'V13', 'V14', 'V15', 'V16', 'V17', 'V18', 'V19', 'V20',\n",
       "       'V21', 'V22', 'V23', 'V24', 'V25', 'V26', 'V27', 'V28', 'Amount',\n",
       "       'Class'],\n",
       "      dtype='object')"
      ]
     },
     "execution_count": 6,
     "metadata": {},
     "output_type": "execute_result"
    }
   ],
   "source": [
    "df.columns"
   ]
  },
  {
   "cell_type": "code",
   "execution_count": 7,
   "id": "prescribed-intranet",
   "metadata": {},
   "outputs": [
    {
     "data": {
      "text/plain": [
       "(284807, 30)"
      ]
     },
     "execution_count": 7,
     "metadata": {},
     "output_type": "execute_result"
    }
   ],
   "source": [
    "# Selecting predictor features. This will be used as x values.\n",
    "selected_features = df[['Time', 'V1', 'V2', 'V3', 'V4', 'V5', 'V6', 'V7', 'V8', 'V9', 'V10',\n",
    "       'V11', 'V12', 'V13', 'V14', 'V15', 'V16', 'V17', 'V18', 'V19', 'V20',\n",
    "       'V21', 'V22', 'V23', 'V24', 'V25', 'V26', 'V27', 'V28', 'Amount']]\n",
    "selected_features.shape"
   ]
  },
  {
   "cell_type": "code",
   "execution_count": 8,
   "id": "distributed-crazy",
   "metadata": {},
   "outputs": [
    {
     "name": "stdout",
     "output_type": "stream",
     "text": [
      "Shape:  (284807, 30) (284807, 1)\n"
     ]
    }
   ],
   "source": [
    "# Defining predictor and target features to X and y respectively.\n",
    "# Note: Sklearn requires a two-dimensional array of values\n",
    "# so we use reshape to create this\n",
    "\n",
    "X = selected_features\n",
    "y = df[['Class']].values.reshape(-1, 1)\n",
    "\n",
    "print(\"Shape: \", X.shape, y.shape)"
   ]
  },
  {
   "cell_type": "markdown",
   "id": "catholic-hardware",
   "metadata": {},
   "source": [
    "# Create a Train Test Split\n",
    "\n",
    "Using `Class` for the y values (target feature)"
   ]
  },
  {
   "cell_type": "code",
   "execution_count": 9,
   "id": "advanced-bridges",
   "metadata": {},
   "outputs": [],
   "source": [
    "# Using sklearn's `train_test_split` to split the data into training and testing datasets\n",
    "\n",
    "X_train, X_test, y_train, y_test = train_test_split(X, y, random_state=42)"
   ]
  },
  {
   "cell_type": "code",
   "execution_count": 11,
   "id": "foreign-emerald",
   "metadata": {},
   "outputs": [
    {
     "name": "stdout",
     "output_type": "stream",
     "text": [
      "Shape:  (213605, 30) (213605, 1) (71202, 30) (71202, 1)\n"
     ]
    }
   ],
   "source": [
    "print(\"Shape: \", X_train.shape, y_train.shape, X_test.shape, y_test.shape)"
   ]
  },
  {
   "cell_type": "markdown",
   "id": "prostate-voice",
   "metadata": {},
   "source": [
    "# Data Pre-processing\n",
    "\n",
    "Scale the data using the MinMaxScaler"
   ]
  },
  {
   "cell_type": "code",
   "execution_count": 12,
   "id": "affiliated-taxation",
   "metadata": {},
   "outputs": [],
   "source": [
    "X_minmax = MinMaxScaler().fit(X_train)\n",
    "\n",
    "X_train_scaled = X_minmax.transform(X_train)\n",
    "X_test_scaled = X_minmax.transform(X_test)"
   ]
  },
  {
   "cell_type": "markdown",
   "id": "working-sunset",
   "metadata": {},
   "source": [
    "# Multinomial Naive Bayes Model\n",
    "\n",
    "### Train the Model"
   ]
  },
  {
   "cell_type": "code",
   "execution_count": 13,
   "id": "unknown-sudan",
   "metadata": {},
   "outputs": [
    {
     "data": {
      "text/plain": [
       "MultinomialNB()"
      ]
     },
     "execution_count": 13,
     "metadata": {},
     "output_type": "execute_result"
    }
   ],
   "source": [
    "multinomialModel = MultinomialNB()\n",
    "multinomialModel"
   ]
  },
  {
   "cell_type": "code",
   "execution_count": 14,
   "id": "native-underwear",
   "metadata": {},
   "outputs": [
    {
     "data": {
      "text/plain": [
       "MultinomialNB()"
      ]
     },
     "execution_count": 14,
     "metadata": {},
     "output_type": "execute_result"
    }
   ],
   "source": [
    "multinomialModel.fit(X_train_scaled, y_train.flatten())"
   ]
  },
  {
   "cell_type": "code",
   "execution_count": 15,
   "id": "national-consistency",
   "metadata": {},
   "outputs": [
    {
     "name": "stdout",
     "output_type": "stream",
     "text": [
      "Training Data Score: 0.9982256969640224\n",
      "Testing Data Score: 0.9984129659279234\n"
     ]
    }
   ],
   "source": [
    "print(f\"Training Data Score: {multinomialModel.score(X_train_scaled, y_train)}\")\n",
    "print(f\"Testing Data Score: {multinomialModel.score(X_test_scaled, y_test)}\")"
   ]
  },
  {
   "cell_type": "code",
   "execution_count": 16,
   "id": "after-condition",
   "metadata": {},
   "outputs": [],
   "source": [
    "# Make predictions\n",
    "multinomialPredictions = multinomialModel.predict(X_test_scaled)"
   ]
  },
  {
   "cell_type": "code",
   "execution_count": 17,
   "id": "satisfied-shopper",
   "metadata": {},
   "outputs": [
    {
     "name": "stdout",
     "output_type": "stream",
     "text": [
      "                precision    recall  f1-score   support\n",
      "\n",
      "Non Fraudulent       1.00      1.00      1.00     71089\n",
      "    Fraudulent       0.00      0.00      0.00       113\n",
      "\n",
      "      accuracy                           1.00     71202\n",
      "     macro avg       0.50      0.50      0.50     71202\n",
      "  weighted avg       1.00      1.00      1.00     71202\n",
      "\n"
     ]
    },
    {
     "name": "stderr",
     "output_type": "stream",
     "text": [
      "C:\\Users\\ushaa\\anaconda3\\envs\\PythonData\\lib\\site-packages\\sklearn\\metrics\\_classification.py:1221: UndefinedMetricWarning: Precision and F-score are ill-defined and being set to 0.0 in labels with no predicted samples. Use `zero_division` parameter to control this behavior.\n",
      "  _warn_prf(average, modifier, msg_start, len(result))\n"
     ]
    }
   ],
   "source": [
    "# Print classification report\n",
    "print(classification_report(y_test.flatten(), multinomialPredictions,\n",
    "                            target_names=[\"Non Fraudulent\", \"Fraudulent\"]))"
   ]
  },
  {
   "cell_type": "markdown",
   "id": "unauthorized-elimination",
   "metadata": {},
   "source": [
    "### Hyperparameter Tuning\n",
    "\n",
    "Use `GridSearchCV` to tune the model's parameters"
   ]
  },
  {
   "cell_type": "code",
   "execution_count": 18,
   "id": "velvet-default",
   "metadata": {},
   "outputs": [
    {
     "data": {
      "text/plain": [
       "dict_keys(['alpha', 'class_prior', 'fit_prior'])"
      ]
     },
     "execution_count": 18,
     "metadata": {},
     "output_type": "execute_result"
    }
   ],
   "source": [
    "multinomialModel.get_params().keys()"
   ]
  },
  {
   "cell_type": "code",
   "execution_count": 19,
   "id": "satellite-station",
   "metadata": {},
   "outputs": [],
   "source": [
    "# Create the GridSearchCV model\n",
    "# Create the GridSearch estimator along with a parameter object containing the values to adjust\n",
    "\n",
    "multinomialParamGrid = {'alpha': [0, 1, 2, 3],\n",
    "                        'fit_prior': ['false','true']}\n",
    "multinomialGrid = GridSearchCV(multinomialModel, multinomialParamGrid, verbose=3)"
   ]
  },
  {
   "cell_type": "code",
   "execution_count": 20,
   "id": "described-furniture",
   "metadata": {},
   "outputs": [
    {
     "name": "stdout",
     "output_type": "stream",
     "text": [
      "Fitting 5 folds for each of 8 candidates, totalling 40 fits\n",
      "[CV] alpha=0, fit_prior=false ........................................\n"
     ]
    },
    {
     "name": "stderr",
     "output_type": "stream",
     "text": [
      "[Parallel(n_jobs=1)]: Using backend SequentialBackend with 1 concurrent workers.\n",
      "C:\\Users\\ushaa\\anaconda3\\envs\\PythonData\\lib\\site-packages\\sklearn\\naive_bayes.py:512: UserWarning: alpha too small will result in numeric errors, setting alpha = 1.0e-10\n",
      "  'setting alpha = %.1e' % _ALPHA_MIN)\n",
      "[Parallel(n_jobs=1)]: Done   1 out of   1 | elapsed:    0.0s remaining:    0.0s\n",
      "C:\\Users\\ushaa\\anaconda3\\envs\\PythonData\\lib\\site-packages\\sklearn\\naive_bayes.py:512: UserWarning: alpha too small will result in numeric errors, setting alpha = 1.0e-10\n",
      "  'setting alpha = %.1e' % _ALPHA_MIN)\n",
      "[Parallel(n_jobs=1)]: Done   2 out of   2 | elapsed:    0.0s remaining:    0.0s\n",
      "C:\\Users\\ushaa\\anaconda3\\envs\\PythonData\\lib\\site-packages\\sklearn\\naive_bayes.py:512: UserWarning: alpha too small will result in numeric errors, setting alpha = 1.0e-10\n",
      "  'setting alpha = %.1e' % _ALPHA_MIN)\n"
     ]
    },
    {
     "name": "stdout",
     "output_type": "stream",
     "text": [
      "[CV] ............ alpha=0, fit_prior=false, score=0.998, total=   0.1s\n",
      "[CV] alpha=0, fit_prior=false ........................................\n",
      "[CV] ............ alpha=0, fit_prior=false, score=0.998, total=   0.1s\n",
      "[CV] alpha=0, fit_prior=false ........................................\n",
      "[CV] ............ alpha=0, fit_prior=false, score=0.998, total=   0.1s\n",
      "[CV] alpha=0, fit_prior=false ........................................\n",
      "[CV] ............ alpha=0, fit_prior=false, score=0.998, total=   0.1s\n",
      "[CV] alpha=0, fit_prior=false ........................................\n"
     ]
    },
    {
     "name": "stderr",
     "output_type": "stream",
     "text": [
      "C:\\Users\\ushaa\\anaconda3\\envs\\PythonData\\lib\\site-packages\\sklearn\\naive_bayes.py:512: UserWarning: alpha too small will result in numeric errors, setting alpha = 1.0e-10\n",
      "  'setting alpha = %.1e' % _ALPHA_MIN)\n",
      "C:\\Users\\ushaa\\anaconda3\\envs\\PythonData\\lib\\site-packages\\sklearn\\naive_bayes.py:512: UserWarning: alpha too small will result in numeric errors, setting alpha = 1.0e-10\n",
      "  'setting alpha = %.1e' % _ALPHA_MIN)\n",
      "C:\\Users\\ushaa\\anaconda3\\envs\\PythonData\\lib\\site-packages\\sklearn\\naive_bayes.py:512: UserWarning: alpha too small will result in numeric errors, setting alpha = 1.0e-10\n",
      "  'setting alpha = %.1e' % _ALPHA_MIN)\n",
      "C:\\Users\\ushaa\\anaconda3\\envs\\PythonData\\lib\\site-packages\\sklearn\\naive_bayes.py:512: UserWarning: alpha too small will result in numeric errors, setting alpha = 1.0e-10\n",
      "  'setting alpha = %.1e' % _ALPHA_MIN)\n"
     ]
    },
    {
     "name": "stdout",
     "output_type": "stream",
     "text": [
      "[CV] ............ alpha=0, fit_prior=false, score=0.998, total=   0.1s\n",
      "[CV] alpha=0, fit_prior=true .........................................\n",
      "[CV] ............. alpha=0, fit_prior=true, score=0.998, total=   0.1s\n",
      "[CV] alpha=0, fit_prior=true .........................................\n",
      "[CV] ............. alpha=0, fit_prior=true, score=0.998, total=   0.1s\n",
      "[CV] alpha=0, fit_prior=true .........................................\n"
     ]
    },
    {
     "name": "stderr",
     "output_type": "stream",
     "text": [
      "C:\\Users\\ushaa\\anaconda3\\envs\\PythonData\\lib\\site-packages\\sklearn\\naive_bayes.py:512: UserWarning: alpha too small will result in numeric errors, setting alpha = 1.0e-10\n",
      "  'setting alpha = %.1e' % _ALPHA_MIN)\n",
      "C:\\Users\\ushaa\\anaconda3\\envs\\PythonData\\lib\\site-packages\\sklearn\\naive_bayes.py:512: UserWarning: alpha too small will result in numeric errors, setting alpha = 1.0e-10\n",
      "  'setting alpha = %.1e' % _ALPHA_MIN)\n",
      "C:\\Users\\ushaa\\anaconda3\\envs\\PythonData\\lib\\site-packages\\sklearn\\naive_bayes.py:512: UserWarning: alpha too small will result in numeric errors, setting alpha = 1.0e-10\n",
      "  'setting alpha = %.1e' % _ALPHA_MIN)\n"
     ]
    },
    {
     "name": "stdout",
     "output_type": "stream",
     "text": [
      "[CV] ............. alpha=0, fit_prior=true, score=0.998, total=   0.1s\n",
      "[CV] alpha=0, fit_prior=true .........................................\n",
      "[CV] ............. alpha=0, fit_prior=true, score=0.998, total=   0.1s\n",
      "[CV] alpha=0, fit_prior=true .........................................\n",
      "[CV] ............. alpha=0, fit_prior=true, score=0.998, total=   0.1s\n",
      "[CV] alpha=1, fit_prior=false ........................................\n",
      "[CV] ............ alpha=1, fit_prior=false, score=0.998, total=   0.1s\n",
      "[CV] alpha=1, fit_prior=false ........................................\n",
      "[CV] ............ alpha=1, fit_prior=false, score=0.998, total=   0.1s\n",
      "[CV] alpha=1, fit_prior=false ........................................\n",
      "[CV] ............ alpha=1, fit_prior=false, score=0.998, total=   0.1s\n",
      "[CV] alpha=1, fit_prior=false ........................................\n",
      "[CV] ............ alpha=1, fit_prior=false, score=0.998, total=   0.0s\n",
      "[CV] alpha=1, fit_prior=false ........................................\n",
      "[CV] ............ alpha=1, fit_prior=false, score=0.998, total=   0.1s\n",
      "[CV] alpha=1, fit_prior=true .........................................\n",
      "[CV] ............. alpha=1, fit_prior=true, score=0.998, total=   0.1s\n",
      "[CV] alpha=1, fit_prior=true .........................................\n",
      "[CV] ............. alpha=1, fit_prior=true, score=0.998, total=   0.1s\n",
      "[CV] alpha=1, fit_prior=true .........................................\n",
      "[CV] ............. alpha=1, fit_prior=true, score=0.998, total=   0.1s\n",
      "[CV] alpha=1, fit_prior=true .........................................\n",
      "[CV] ............. alpha=1, fit_prior=true, score=0.998, total=   0.1s\n",
      "[CV] alpha=1, fit_prior=true .........................................\n",
      "[CV] ............. alpha=1, fit_prior=true, score=0.998, total=   0.1s\n",
      "[CV] alpha=2, fit_prior=false ........................................\n",
      "[CV] ............ alpha=2, fit_prior=false, score=0.998, total=   0.1s\n",
      "[CV] alpha=2, fit_prior=false ........................................\n",
      "[CV] ............ alpha=2, fit_prior=false, score=0.998, total=   0.1s\n",
      "[CV] alpha=2, fit_prior=false ........................................\n",
      "[CV] ............ alpha=2, fit_prior=false, score=0.998, total=   0.1s\n",
      "[CV] alpha=2, fit_prior=false ........................................\n",
      "[CV] ............ alpha=2, fit_prior=false, score=0.998, total=   0.0s\n",
      "[CV] alpha=2, fit_prior=false ........................................\n",
      "[CV] ............ alpha=2, fit_prior=false, score=0.998, total=   0.1s\n",
      "[CV] alpha=2, fit_prior=true .........................................\n",
      "[CV] ............. alpha=2, fit_prior=true, score=0.998, total=   0.1s\n",
      "[CV] alpha=2, fit_prior=true .........................................\n",
      "[CV] ............. alpha=2, fit_prior=true, score=0.998, total=   0.1s\n",
      "[CV] alpha=2, fit_prior=true .........................................\n",
      "[CV] ............. alpha=2, fit_prior=true, score=0.998, total=   0.1s\n",
      "[CV] alpha=2, fit_prior=true .........................................\n",
      "[CV] ............. alpha=2, fit_prior=true, score=0.998, total=   0.1s\n",
      "[CV] alpha=2, fit_prior=true .........................................\n",
      "[CV] ............. alpha=2, fit_prior=true, score=0.998, total=   0.1s\n",
      "[CV] alpha=3, fit_prior=false ........................................\n",
      "[CV] ............ alpha=3, fit_prior=false, score=0.998, total=   0.1s\n",
      "[CV] alpha=3, fit_prior=false ........................................\n",
      "[CV] ............ alpha=3, fit_prior=false, score=0.998, total=   0.1s\n",
      "[CV] alpha=3, fit_prior=false ........................................\n",
      "[CV] ............ alpha=3, fit_prior=false, score=0.998, total=   0.1s\n",
      "[CV] alpha=3, fit_prior=false ........................................\n",
      "[CV] ............ alpha=3, fit_prior=false, score=0.998, total=   0.1s\n",
      "[CV] alpha=3, fit_prior=false ........................................\n",
      "[CV] ............ alpha=3, fit_prior=false, score=0.998, total=   0.1s\n",
      "[CV] alpha=3, fit_prior=true .........................................\n",
      "[CV] ............. alpha=3, fit_prior=true, score=0.998, total=   0.1s\n",
      "[CV] alpha=3, fit_prior=true .........................................\n",
      "[CV] ............. alpha=3, fit_prior=true, score=0.998, total=   0.1s\n",
      "[CV] alpha=3, fit_prior=true .........................................\n",
      "[CV] ............. alpha=3, fit_prior=true, score=0.998, total=   0.1s\n",
      "[CV] alpha=3, fit_prior=true .........................................\n",
      "[CV] ............. alpha=3, fit_prior=true, score=0.998, total=   0.1s\n",
      "[CV] alpha=3, fit_prior=true .........................................\n",
      "[CV] ............. alpha=3, fit_prior=true, score=0.998, total=   0.1s\n"
     ]
    },
    {
     "name": "stderr",
     "output_type": "stream",
     "text": [
      "[Parallel(n_jobs=1)]: Done  40 out of  40 | elapsed:    2.3s finished\n",
      "C:\\Users\\ushaa\\anaconda3\\envs\\PythonData\\lib\\site-packages\\sklearn\\naive_bayes.py:512: UserWarning: alpha too small will result in numeric errors, setting alpha = 1.0e-10\n",
      "  'setting alpha = %.1e' % _ALPHA_MIN)\n"
     ]
    },
    {
     "data": {
      "text/plain": [
       "GridSearchCV(estimator=MultinomialNB(),\n",
       "             param_grid={'alpha': [0, 1, 2, 3], 'fit_prior': ['false', 'true']},\n",
       "             verbose=3)"
      ]
     },
     "execution_count": 20,
     "metadata": {},
     "output_type": "execute_result"
    }
   ],
   "source": [
    "# Train the model with GridSearch\n",
    "multinomialGrid.fit(X_train_scaled, y_train.flatten())"
   ]
  },
  {
   "cell_type": "code",
   "execution_count": 21,
   "id": "developed-lawsuit",
   "metadata": {},
   "outputs": [
    {
     "name": "stdout",
     "output_type": "stream",
     "text": [
      "{'alpha': 0, 'fit_prior': 'false'}\n",
      "0.9982256969640224\n"
     ]
    }
   ],
   "source": [
    "print(multinomialGrid.best_params_)\n",
    "print(multinomialGrid.best_score_)"
   ]
  },
  {
   "cell_type": "code",
   "execution_count": 22,
   "id": "reflected-infrastructure",
   "metadata": {},
   "outputs": [],
   "source": [
    "# Make predictions with the hyperparameter tuned model\n",
    "multinomialGridPredictions = multinomialGrid.predict(X_test_scaled)"
   ]
  },
  {
   "cell_type": "code",
   "execution_count": 23,
   "id": "solved-browser",
   "metadata": {},
   "outputs": [
    {
     "name": "stdout",
     "output_type": "stream",
     "text": [
      "                precision    recall  f1-score   support\n",
      "\n",
      "Non Fraudulent       1.00      1.00      1.00     71089\n",
      "    Fraudulent       0.00      0.00      0.00       113\n",
      "\n",
      "      accuracy                           1.00     71202\n",
      "     macro avg       0.50      0.50      0.50     71202\n",
      "  weighted avg       1.00      1.00      1.00     71202\n",
      "\n"
     ]
    },
    {
     "name": "stderr",
     "output_type": "stream",
     "text": [
      "C:\\Users\\ushaa\\anaconda3\\envs\\PythonData\\lib\\site-packages\\sklearn\\metrics\\_classification.py:1221: UndefinedMetricWarning: Precision and F-score are ill-defined and being set to 0.0 in labels with no predicted samples. Use `zero_division` parameter to control this behavior.\n",
      "  _warn_prf(average, modifier, msg_start, len(result))\n"
     ]
    }
   ],
   "source": [
    "# Print classification report\n",
    "print(classification_report(y_test.flatten(), multinomialGridPredictions,\n",
    "                            target_names=[\"Non Fraudulent\", \"Fraudulent\"]))"
   ]
  },
  {
   "cell_type": "code",
   "execution_count": 24,
   "id": "convenient-garden",
   "metadata": {},
   "outputs": [
    {
     "data": {
      "text/plain": [
       "MultinomialNB(alpha=0, fit_prior=False)"
      ]
     },
     "execution_count": 24,
     "metadata": {},
     "output_type": "execute_result"
    }
   ],
   "source": [
    "# Create hyperparameter tuned model with the suggested best params\n",
    "hypertunedMultinomialModel = MultinomialNB(alpha=0, fit_prior=False)\n",
    "hypertunedMultinomialModel"
   ]
  },
  {
   "cell_type": "code",
   "execution_count": 25,
   "id": "developmental-vienna",
   "metadata": {},
   "outputs": [
    {
     "name": "stderr",
     "output_type": "stream",
     "text": [
      "C:\\Users\\ushaa\\anaconda3\\envs\\PythonData\\lib\\site-packages\\sklearn\\naive_bayes.py:512: UserWarning: alpha too small will result in numeric errors, setting alpha = 1.0e-10\n",
      "  'setting alpha = %.1e' % _ALPHA_MIN)\n"
     ]
    },
    {
     "data": {
      "text/plain": [
       "MultinomialNB(alpha=0, fit_prior=False)"
      ]
     },
     "execution_count": 25,
     "metadata": {},
     "output_type": "execute_result"
    }
   ],
   "source": [
    "hypertunedMultinomialModel.fit(X_train_scaled, y_train.flatten())"
   ]
  },
  {
   "cell_type": "code",
   "execution_count": 26,
   "id": "romantic-installation",
   "metadata": {},
   "outputs": [
    {
     "name": "stdout",
     "output_type": "stream",
     "text": [
      "Training Data Score: 0.999218183094965\n",
      "Testing Data Score: 0.9991292379427544\n"
     ]
    }
   ],
   "source": [
    "print(f\"Training Data Score: {hypertunedMultinomialModel.score(X_train_scaled, y_train)}\")\n",
    "print(f\"Testing Data Score: {hypertunedMultinomialModel.score(X_test_scaled, y_test)}\")"
   ]
  },
  {
   "cell_type": "code",
   "execution_count": 27,
   "id": "contrary-celebrity",
   "metadata": {},
   "outputs": [],
   "source": [
    "hypertunedMultinomialModelPredictions = hypertunedMultinomialModel.predict(X_test_scaled)"
   ]
  },
  {
   "cell_type": "code",
   "execution_count": 28,
   "id": "retired-madonna",
   "metadata": {},
   "outputs": [],
   "source": [
    "hypertunedMultinomialModelPredictProba = hypertunedMultinomialModel.predict_proba(X_test_scaled)[:,1]"
   ]
  },
  {
   "cell_type": "code",
   "execution_count": 29,
   "id": "banner-county",
   "metadata": {},
   "outputs": [
    {
     "name": "stdout",
     "output_type": "stream",
     "text": [
      "                precision    recall  f1-score   support\n",
      "\n",
      "Non Fraudulent       1.00      1.00      1.00     71089\n",
      "    Fraudulent       0.73      0.71      0.72       113\n",
      "\n",
      "      accuracy                           1.00     71202\n",
      "     macro avg       0.87      0.85      0.86     71202\n",
      "  weighted avg       1.00      1.00      1.00     71202\n",
      "\n"
     ]
    }
   ],
   "source": [
    "# Print classification report\n",
    "print(classification_report(y_test.flatten(), hypertunedMultinomialModelPredictions,\n",
    "                            target_names=[\"Non Fraudulent\", \"Fraudulent\"]))"
   ]
  },
  {
   "cell_type": "markdown",
   "id": "seasonal-macedonia",
   "metadata": {},
   "source": [
    "# Gaussian Naive Bayes Model\n",
    "\n",
    "### Train the Model"
   ]
  },
  {
   "cell_type": "code",
   "execution_count": 30,
   "id": "thermal-timber",
   "metadata": {},
   "outputs": [
    {
     "data": {
      "text/plain": [
       "GaussianNB()"
      ]
     },
     "execution_count": 30,
     "metadata": {},
     "output_type": "execute_result"
    }
   ],
   "source": [
    "gaussianModel = GaussianNB()\n",
    "gaussianModel"
   ]
  },
  {
   "cell_type": "code",
   "execution_count": 31,
   "id": "electrical-florist",
   "metadata": {},
   "outputs": [
    {
     "data": {
      "text/plain": [
       "GaussianNB()"
      ]
     },
     "execution_count": 31,
     "metadata": {},
     "output_type": "execute_result"
    }
   ],
   "source": [
    "gaussianModel.fit(X_train_scaled, y_train.flatten())"
   ]
  },
  {
   "cell_type": "code",
   "execution_count": 32,
   "id": "comparative-adoption",
   "metadata": {},
   "outputs": [
    {
     "name": "stdout",
     "output_type": "stream",
     "text": [
      "Training Data Score: 0.9784181081903514\n",
      "Testing Data Score: 0.9782309485688604\n"
     ]
    }
   ],
   "source": [
    "print(f\"Training Data Score: {gaussianModel.score(X_train_scaled, y_train)}\")\n",
    "print(f\"Testing Data Score: {gaussianModel.score(X_test_scaled, y_test)}\")"
   ]
  },
  {
   "cell_type": "code",
   "execution_count": 33,
   "id": "ranging-demand",
   "metadata": {},
   "outputs": [],
   "source": [
    "# Make predictions\n",
    "gaussianPredictions = gaussianModel.predict(X_test_scaled)"
   ]
  },
  {
   "cell_type": "code",
   "execution_count": 34,
   "id": "cardiac-update",
   "metadata": {},
   "outputs": [
    {
     "name": "stdout",
     "output_type": "stream",
     "text": [
      "                precision    recall  f1-score   support\n",
      "\n",
      "Non Fraudulent       1.00      0.98      0.99     71089\n",
      "    Fraudulent       0.06      0.82      0.11       113\n",
      "\n",
      "      accuracy                           0.98     71202\n",
      "     macro avg       0.53      0.90      0.55     71202\n",
      "  weighted avg       1.00      0.98      0.99     71202\n",
      "\n"
     ]
    }
   ],
   "source": [
    "# Print classification report\n",
    "print(classification_report(y_test.flatten(), gaussianPredictions,\n",
    "                            target_names=[\"Non Fraudulent\", \"Fraudulent\"]))"
   ]
  },
  {
   "cell_type": "markdown",
   "id": "arranged-weight",
   "metadata": {},
   "source": [
    "### Hyperparameter Tuning\n",
    "\n",
    "Use `GridSearchCV` to tune the model's parameters"
   ]
  },
  {
   "cell_type": "code",
   "execution_count": 35,
   "id": "informative-token",
   "metadata": {},
   "outputs": [
    {
     "data": {
      "text/plain": [
       "dict_keys(['priors', 'var_smoothing'])"
      ]
     },
     "execution_count": 35,
     "metadata": {},
     "output_type": "execute_result"
    }
   ],
   "source": [
    "gaussianModel.get_params().keys()"
   ]
  },
  {
   "cell_type": "code",
   "execution_count": 36,
   "id": "ethical-turkish",
   "metadata": {},
   "outputs": [],
   "source": [
    "# Create the GridSearchCV model\n",
    "# Create the GridSearch estimator along with a parameter object containing the values to adjust\n",
    "gaussianParamGrid = {'var_smoothing': [1e-9, 1e-8, 1e-7, 1e-6, 1e-5, 1e-4, 1e-3, 1e-2, 1e-1, 1]}\n",
    "gaussianGrid = GridSearchCV(gaussianModel, gaussianParamGrid, verbose=3)"
   ]
  },
  {
   "cell_type": "code",
   "execution_count": 37,
   "id": "cooked-catch",
   "metadata": {},
   "outputs": [
    {
     "name": "stdout",
     "output_type": "stream",
     "text": [
      "Fitting 5 folds for each of 10 candidates, totalling 50 fits\n",
      "[CV] var_smoothing=1e-09 .............................................\n",
      "[CV] ................. var_smoothing=1e-09, score=0.978, total=   0.2s\n",
      "[CV] var_smoothing=1e-09 .............................................\n"
     ]
    },
    {
     "name": "stderr",
     "output_type": "stream",
     "text": [
      "[Parallel(n_jobs=1)]: Using backend SequentialBackend with 1 concurrent workers.\n",
      "[Parallel(n_jobs=1)]: Done   1 out of   1 | elapsed:    0.1s remaining:    0.0s\n"
     ]
    },
    {
     "name": "stdout",
     "output_type": "stream",
     "text": [
      "[CV] ................. var_smoothing=1e-09, score=0.979, total=   0.1s\n",
      "[CV] var_smoothing=1e-09 .............................................\n",
      "[CV] ................. var_smoothing=1e-09, score=0.980, total=   0.1s\n",
      "[CV] var_smoothing=1e-09 .............................................\n"
     ]
    },
    {
     "name": "stderr",
     "output_type": "stream",
     "text": [
      "[Parallel(n_jobs=1)]: Done   2 out of   2 | elapsed:    0.2s remaining:    0.0s\n"
     ]
    },
    {
     "name": "stdout",
     "output_type": "stream",
     "text": [
      "[CV] ................. var_smoothing=1e-09, score=0.978, total=   0.1s\n",
      "[CV] var_smoothing=1e-09 .............................................\n",
      "[CV] ................. var_smoothing=1e-09, score=0.978, total=   0.1s\n",
      "[CV] var_smoothing=1e-08 .............................................\n",
      "[CV] ................. var_smoothing=1e-08, score=0.978, total=   0.2s\n",
      "[CV] var_smoothing=1e-08 .............................................\n",
      "[CV] ................. var_smoothing=1e-08, score=0.979, total=   0.1s\n",
      "[CV] var_smoothing=1e-08 .............................................\n",
      "[CV] ................. var_smoothing=1e-08, score=0.980, total=   0.1s\n",
      "[CV] var_smoothing=1e-08 .............................................\n",
      "[CV] ................. var_smoothing=1e-08, score=0.978, total=   0.2s\n",
      "[CV] var_smoothing=1e-08 .............................................\n",
      "[CV] ................. var_smoothing=1e-08, score=0.978, total=   0.1s\n",
      "[CV] var_smoothing=1e-07 .............................................\n",
      "[CV] ................. var_smoothing=1e-07, score=0.978, total=   0.1s\n",
      "[CV] var_smoothing=1e-07 .............................................\n",
      "[CV] ................. var_smoothing=1e-07, score=0.979, total=   0.2s\n",
      "[CV] var_smoothing=1e-07 .............................................\n",
      "[CV] ................. var_smoothing=1e-07, score=0.980, total=   0.1s\n",
      "[CV] var_smoothing=1e-07 .............................................\n",
      "[CV] ................. var_smoothing=1e-07, score=0.978, total=   0.2s\n",
      "[CV] var_smoothing=1e-07 .............................................\n",
      "[CV] ................. var_smoothing=1e-07, score=0.978, total=   0.1s\n",
      "[CV] var_smoothing=1e-06 .............................................\n",
      "[CV] ................. var_smoothing=1e-06, score=0.978, total=   0.2s\n",
      "[CV] var_smoothing=1e-06 .............................................\n",
      "[CV] ................. var_smoothing=1e-06, score=0.979, total=   0.2s\n",
      "[CV] var_smoothing=1e-06 .............................................\n",
      "[CV] ................. var_smoothing=1e-06, score=0.980, total=   0.2s\n",
      "[CV] var_smoothing=1e-06 .............................................\n",
      "[CV] ................. var_smoothing=1e-06, score=0.978, total=   0.2s\n",
      "[CV] var_smoothing=1e-06 .............................................\n",
      "[CV] ................. var_smoothing=1e-06, score=0.978, total=   0.2s\n",
      "[CV] var_smoothing=1e-05 .............................................\n",
      "[CV] ................. var_smoothing=1e-05, score=0.978, total=   0.1s\n",
      "[CV] var_smoothing=1e-05 .............................................\n",
      "[CV] ................. var_smoothing=1e-05, score=0.979, total=   0.2s\n",
      "[CV] var_smoothing=1e-05 .............................................\n",
      "[CV] ................. var_smoothing=1e-05, score=0.980, total=   0.2s\n",
      "[CV] var_smoothing=1e-05 .............................................\n",
      "[CV] ................. var_smoothing=1e-05, score=0.978, total=   0.2s\n",
      "[CV] var_smoothing=1e-05 .............................................\n",
      "[CV] ................. var_smoothing=1e-05, score=0.978, total=   0.2s\n",
      "[CV] var_smoothing=0.0001 ............................................\n",
      "[CV] ................ var_smoothing=0.0001, score=0.979, total=   0.2s\n",
      "[CV] var_smoothing=0.0001 ............................................\n",
      "[CV] ................ var_smoothing=0.0001, score=0.980, total=   0.1s\n",
      "[CV] var_smoothing=0.0001 ............................................\n",
      "[CV] ................ var_smoothing=0.0001, score=0.981, total=   0.2s\n",
      "[CV] var_smoothing=0.0001 ............................................\n",
      "[CV] ................ var_smoothing=0.0001, score=0.979, total=   0.2s\n",
      "[CV] var_smoothing=0.0001 ............................................\n",
      "[CV] ................ var_smoothing=0.0001, score=0.979, total=   0.2s\n",
      "[CV] var_smoothing=0.001 .............................................\n",
      "[CV] ................. var_smoothing=0.001, score=0.984, total=   0.1s\n",
      "[CV] var_smoothing=0.001 .............................................\n",
      "[CV] ................. var_smoothing=0.001, score=0.985, total=   0.2s\n",
      "[CV] var_smoothing=0.001 .............................................\n",
      "[CV] ................. var_smoothing=0.001, score=0.986, total=   0.1s\n",
      "[CV] var_smoothing=0.001 .............................................\n",
      "[CV] ................. var_smoothing=0.001, score=0.985, total=   0.2s\n",
      "[CV] var_smoothing=0.001 .............................................\n",
      "[CV] ................. var_smoothing=0.001, score=0.984, total=   0.1s\n",
      "[CV] var_smoothing=0.01 ..............................................\n",
      "[CV] .................. var_smoothing=0.01, score=0.995, total=   0.1s\n",
      "[CV] var_smoothing=0.01 ..............................................\n",
      "[CV] .................. var_smoothing=0.01, score=0.994, total=   0.1s\n",
      "[CV] var_smoothing=0.01 ..............................................\n",
      "[CV] .................. var_smoothing=0.01, score=0.995, total=   0.1s\n",
      "[CV] var_smoothing=0.01 ..............................................\n",
      "[CV] .................. var_smoothing=0.01, score=0.995, total=   0.1s\n",
      "[CV] var_smoothing=0.01 ..............................................\n",
      "[CV] .................. var_smoothing=0.01, score=0.995, total=   0.1s\n",
      "[CV] var_smoothing=0.1 ...............................................\n",
      "[CV] ................... var_smoothing=0.1, score=0.999, total=   0.1s\n",
      "[CV] var_smoothing=0.1 ...............................................\n",
      "[CV] ................... var_smoothing=0.1, score=0.999, total=   0.1s\n",
      "[CV] var_smoothing=0.1 ...............................................\n",
      "[CV] ................... var_smoothing=0.1, score=0.999, total=   0.1s\n",
      "[CV] var_smoothing=0.1 ...............................................\n",
      "[CV] ................... var_smoothing=0.1, score=0.999, total=   0.1s\n",
      "[CV] var_smoothing=0.1 ...............................................\n",
      "[CV] ................... var_smoothing=0.1, score=0.999, total=   0.1s\n",
      "[CV] var_smoothing=1 .................................................\n",
      "[CV] ..................... var_smoothing=1, score=0.999, total=   0.1s\n",
      "[CV] var_smoothing=1 .................................................\n",
      "[CV] ..................... var_smoothing=1, score=0.998, total=   0.1s\n",
      "[CV] var_smoothing=1 .................................................\n",
      "[CV] ..................... var_smoothing=1, score=0.998, total=   0.1s\n",
      "[CV] var_smoothing=1 .................................................\n",
      "[CV] ..................... var_smoothing=1, score=0.998, total=   0.2s\n",
      "[CV] var_smoothing=1 .................................................\n",
      "[CV] ..................... var_smoothing=1, score=0.999, total=   0.2s\n"
     ]
    },
    {
     "name": "stderr",
     "output_type": "stream",
     "text": [
      "[Parallel(n_jobs=1)]: Done  50 out of  50 | elapsed:    7.7s finished\n"
     ]
    },
    {
     "data": {
      "text/plain": [
       "GridSearchCV(estimator=GaussianNB(),\n",
       "             param_grid={'var_smoothing': [1e-09, 1e-08, 1e-07, 1e-06, 1e-05,\n",
       "                                           0.0001, 0.001, 0.01, 0.1, 1]},\n",
       "             verbose=3)"
      ]
     },
     "execution_count": 37,
     "metadata": {},
     "output_type": "execute_result"
    }
   ],
   "source": [
    "# Train the model with GridSearch\n",
    "gaussianGrid.fit(X_train_scaled, y_train.flatten())"
   ]
  },
  {
   "cell_type": "code",
   "execution_count": 38,
   "id": "through-english",
   "metadata": {},
   "outputs": [
    {
     "name": "stdout",
     "output_type": "stream",
     "text": [
      "{'var_smoothing': 0.1}\n",
      "0.9988857938718663\n"
     ]
    }
   ],
   "source": [
    "print(gaussianGrid.best_params_)\n",
    "print(gaussianGrid.best_score_)"
   ]
  },
  {
   "cell_type": "code",
   "execution_count": 39,
   "id": "identified-spring",
   "metadata": {},
   "outputs": [],
   "source": [
    "# Make predictions with the hyperparameter tuned model\n",
    "gaussianGridPredictions = gaussianGrid.predict(X_test_scaled)"
   ]
  },
  {
   "cell_type": "code",
   "execution_count": 40,
   "id": "functioning-monte",
   "metadata": {},
   "outputs": [
    {
     "name": "stdout",
     "output_type": "stream",
     "text": [
      "                precision    recall  f1-score   support\n",
      "\n",
      "Non Fraudulent       1.00      1.00      1.00     71089\n",
      "    Fraudulent       0.70      0.53      0.60       113\n",
      "\n",
      "      accuracy                           1.00     71202\n",
      "     macro avg       0.85      0.77      0.80     71202\n",
      "  weighted avg       1.00      1.00      1.00     71202\n",
      "\n"
     ]
    }
   ],
   "source": [
    "# Print classification report\n",
    "print(classification_report(y_test.flatten(), gaussianGridPredictions,\n",
    "                            target_names=[\"Non Fraudulent\", \"Fraudulent\"]))"
   ]
  },
  {
   "cell_type": "code",
   "execution_count": 41,
   "id": "comfortable-heading",
   "metadata": {},
   "outputs": [
    {
     "data": {
      "text/plain": [
       "GaussianNB(var_smoothing=0.1)"
      ]
     },
     "execution_count": 41,
     "metadata": {},
     "output_type": "execute_result"
    }
   ],
   "source": [
    "# Create the hyperparameter tuned model with the suggested best params \n",
    "hypertunedGaussianNBModel = GaussianNB(var_smoothing = 0.1)\n",
    "hypertunedGaussianNBModel"
   ]
  },
  {
   "cell_type": "code",
   "execution_count": 42,
   "id": "hired-patio",
   "metadata": {},
   "outputs": [
    {
     "data": {
      "text/plain": [
       "GaussianNB(var_smoothing=0.1)"
      ]
     },
     "execution_count": 42,
     "metadata": {},
     "output_type": "execute_result"
    }
   ],
   "source": [
    "hypertunedGaussianNBModel.fit(X_train_scaled, y_train.flatten())"
   ]
  },
  {
   "cell_type": "code",
   "execution_count": 43,
   "id": "widespread-pierre",
   "metadata": {},
   "outputs": [
    {
     "name": "stdout",
     "output_type": "stream",
     "text": [
      "Training Data Score: 0.9988951569485733\n",
      "Testing Data Score: 0.9988904806044774\n"
     ]
    }
   ],
   "source": [
    "print(f\"Training Data Score: {hypertunedGaussianNBModel.score(X_train_scaled, y_train)}\")\n",
    "print(f\"Testing Data Score: {hypertunedGaussianNBModel.score(X_test_scaled, y_test)}\")"
   ]
  },
  {
   "cell_type": "code",
   "execution_count": 44,
   "id": "chinese-checklist",
   "metadata": {},
   "outputs": [],
   "source": [
    "hypertunedGaussianNBModelPredictions = hypertunedGaussianNBModel.predict(X_test_scaled)"
   ]
  },
  {
   "cell_type": "code",
   "execution_count": 45,
   "id": "narrative-cooperation",
   "metadata": {},
   "outputs": [],
   "source": [
    "hypertunedGaussianNBModelPredictProba = hypertunedGaussianNBModel.predict_proba(X_test_scaled)[:,1]"
   ]
  },
  {
   "cell_type": "code",
   "execution_count": 46,
   "id": "seasonal-pattern",
   "metadata": {},
   "outputs": [
    {
     "name": "stdout",
     "output_type": "stream",
     "text": [
      "                precision    recall  f1-score   support\n",
      "\n",
      "Non Fraudulent       1.00      1.00      1.00     71089\n",
      "    Fraudulent       0.70      0.53      0.60       113\n",
      "\n",
      "      accuracy                           1.00     71202\n",
      "     macro avg       0.85      0.77      0.80     71202\n",
      "  weighted avg       1.00      1.00      1.00     71202\n",
      "\n"
     ]
    }
   ],
   "source": [
    "# Print classification report\n",
    "print(classification_report(y_test.flatten(), hypertunedGaussianNBModelPredictions,\n",
    "                            target_names=[\"Non Fraudulent\", \"Fraudulent\"]))"
   ]
  },
  {
   "cell_type": "markdown",
   "id": "cheap-karen",
   "metadata": {},
   "source": [
    "# Bernoulli Naive Bayes Model\n",
    "\n",
    "### Train the Model"
   ]
  },
  {
   "cell_type": "code",
   "execution_count": 47,
   "id": "systematic-barbados",
   "metadata": {},
   "outputs": [
    {
     "data": {
      "text/plain": [
       "BernoulliNB()"
      ]
     },
     "execution_count": 47,
     "metadata": {},
     "output_type": "execute_result"
    }
   ],
   "source": [
    "bernoulliModel = BernoulliNB()\n",
    "bernoulliModel"
   ]
  },
  {
   "cell_type": "code",
   "execution_count": 48,
   "id": "republican-sequence",
   "metadata": {},
   "outputs": [
    {
     "data": {
      "text/plain": [
       "BernoulliNB()"
      ]
     },
     "execution_count": 48,
     "metadata": {},
     "output_type": "execute_result"
    }
   ],
   "source": [
    "bernoulliModel.fit(X_train_scaled, y_train.flatten())"
   ]
  },
  {
   "cell_type": "code",
   "execution_count": 49,
   "id": "nutritional-conflict",
   "metadata": {},
   "outputs": [
    {
     "name": "stdout",
     "output_type": "stream",
     "text": [
      "Training Data Score: 0.9982303785023758\n",
      "Testing Data Score: 0.9984270104772338\n"
     ]
    }
   ],
   "source": [
    "print(f\"Training Data Score: {bernoulliModel.score(X_train_scaled, y_train)}\")\n",
    "print(f\"Testing Data Score: {bernoulliModel.score(X_test_scaled, y_test)}\")"
   ]
  },
  {
   "cell_type": "code",
   "execution_count": 50,
   "id": "naughty-colleague",
   "metadata": {},
   "outputs": [],
   "source": [
    "# Make predictions with the model\n",
    "bernoulliPredictions = bernoulliModel.predict(X_test_scaled)"
   ]
  },
  {
   "cell_type": "code",
   "execution_count": 51,
   "id": "deluxe-syria",
   "metadata": {},
   "outputs": [],
   "source": [
    "bernoulliPredictProba = bernoulliModel.predict_proba(X_test_scaled)[:,1]"
   ]
  },
  {
   "cell_type": "code",
   "execution_count": 52,
   "id": "confidential-coral",
   "metadata": {},
   "outputs": [
    {
     "name": "stdout",
     "output_type": "stream",
     "text": [
      "                precision    recall  f1-score   support\n",
      "\n",
      "Non Fraudulent       1.00      1.00      1.00     71089\n",
      "    Fraudulent       1.00      0.01      0.02       113\n",
      "\n",
      "      accuracy                           1.00     71202\n",
      "     macro avg       1.00      0.50      0.51     71202\n",
      "  weighted avg       1.00      1.00      1.00     71202\n",
      "\n"
     ]
    }
   ],
   "source": [
    "# Print classification report\n",
    "print(classification_report(y_test.flatten(), bernoulliPredictions,\n",
    "                            target_names=[\"Non Fraudulent\", \"Fraudulent\"]))"
   ]
  },
  {
   "cell_type": "markdown",
   "id": "native-software",
   "metadata": {},
   "source": [
    "# Compare the Metrics of the models"
   ]
  },
  {
   "cell_type": "code",
   "execution_count": 53,
   "id": "radio-observation",
   "metadata": {},
   "outputs": [
    {
     "name": "stdout",
     "output_type": "stream",
     "text": [
      "Bernoulli Naive Bayes\n",
      "======================\n",
      "Accuracy:  0.9984270104772338\n",
      "Precision:  1.0\n",
      "Recall:  0.008849557522123894\n",
      "F1-Score:  0.017543859649122806\n",
      "AUC score:  0.504424778761062\n",
      "                precision    recall  f1-score   support\n",
      "\n",
      "Non Fraudulent       1.00      1.00      1.00     71089\n",
      "    Fraudulent       1.00      0.01      0.02       113\n",
      "\n",
      "      accuracy                           1.00     71202\n",
      "     macro avg       1.00      0.50      0.51     71202\n",
      "  weighted avg       1.00      1.00      1.00     71202\n",
      "\n"
     ]
    },
    {
     "data": {
      "image/png": "[encoded data removed]",
      "text/plain": [
       "<Figure size 432x288 with 1 Axes>"
      ]
     },
     "metadata": {
      "needs_background": "light"
     },
     "output_type": "display_data"
    },
    {
     "data": {
      "image/png": "[encoded data removed]",
      "text/plain": [
       "<Figure size 432x432 with 2 Axes>"
      ]
     },
     "metadata": {
      "needs_background": "light"
     },
     "output_type": "display_data"
    }
   ],
   "source": [
    "print(\"Bernoulli Naive Bayes\")\n",
    "print(\"======================\")\n",
    "print(\"Accuracy: \",accuracy_score(y_test.flatten(), bernoulliPredictions)) \n",
    "print(\"Precision: \",precision_score(y_test.flatten(), bernoulliPredictions))\n",
    "print(\"Recall: \",recall_score(y_test.flatten(), bernoulliPredictions))\n",
    "print(\"F1-Score: \",f1_score(y_test.flatten(), bernoulliPredictions))\n",
    "print(\"AUC score: \",roc_auc_score(y_test.flatten(), bernoulliPredictions))\n",
    "print(classification_report(y_test.flatten(), bernoulliPredictions,\n",
    "                            target_names=[\"Non Fraudulent\", \"Fraudulent\"]))\n",
    "\n",
    "p, r, t = precision_recall_curve(y_test.flatten(), bernoulliPredictProba)\n",
    "plt.plot(p, r)\n",
    "plt.xlabel('Recall')\n",
    "plt.ylabel('Precision')\n",
    "plt.title('Precision Recall Curve - Bernoulli Naive Bayes')\n",
    "\n",
    "confusionMatrix = confusion_matrix(y_test.flatten(), bernoulliPredictions) \n",
    "plt.figure(figsize =(6, 6)) \n",
    "sns.heatmap(confusionMatrix, xticklabels = ['Non Fraudulent', 'Fraudulent'],  \n",
    "            yticklabels = ['Non Fraudulent', 'Fraudulent'], annot = True, fmt =\"d\"); \n",
    "plt.title(\"Confusion matrix - Bernoulli Naive Bayes\") \n",
    "plt.ylabel('Actual Class') \n",
    "plt.xlabel('Predicted class') \n",
    "plt.show()"
   ]
  },
  {
   "cell_type": "code",
   "execution_count": 54,
   "id": "played-thesis",
   "metadata": {},
   "outputs": [
    {
     "name": "stdout",
     "output_type": "stream",
     "text": [
      "Gaussian Naive Bayes\n",
      "====================\n",
      "Accuracy:  0.9988904806044774\n",
      "Precision:  0.6976744186046512\n",
      "Recall:  0.5309734513274337\n",
      "F1-Score:  0.6030150753768845\n",
      "AUC score:  0.7653038563027749\n",
      "                precision    recall  f1-score   support\n",
      "\n",
      "Non Fraudulent       1.00      1.00      1.00     71089\n",
      "    Fraudulent       0.70      0.53      0.60       113\n",
      "\n",
      "      accuracy                           1.00     71202\n",
      "     macro avg       0.85      0.77      0.80     71202\n",
      "  weighted avg       1.00      1.00      1.00     71202\n",
      "\n"
     ]
    },
    {
     "data": {
      "image/png": "[encoded data removed]",
      "text/plain": [
       "<Figure size 432x288 with 1 Axes>"
      ]
     },
     "metadata": {
      "needs_background": "light"
     },
     "output_type": "display_data"
    },
    {
     "data": {
      "image/png": "[encoded data removed]",
      "text/plain": [
       "<Figure size 432x432 with 2 Axes>"
      ]
     },
     "metadata": {
      "needs_background": "light"
     },
     "output_type": "display_data"
    }
   ],
   "source": [
    "print(\"Gaussian Naive Bayes\")\n",
    "print(\"====================\")\n",
    "print(\"Accuracy: \",accuracy_score(y_test.flatten(), hypertunedGaussianNBModelPredictions)) \n",
    "print(\"Precision: \",precision_score(y_test.flatten(), hypertunedGaussianNBModelPredictions))\n",
    "print(\"Recall: \",recall_score(y_test.flatten(), hypertunedGaussianNBModelPredictions))\n",
    "print(\"F1-Score: \",f1_score(y_test.flatten(), hypertunedGaussianNBModelPredictions))\n",
    "print(\"AUC score: \",roc_auc_score(y_test.flatten(), hypertunedGaussianNBModelPredictions))\n",
    "print(classification_report(y_test.flatten(), hypertunedGaussianNBModelPredictions,\n",
    "                            target_names=[\"Non Fraudulent\", \"Fraudulent\"]))\n",
    "\n",
    "p, r, t = precision_recall_curve(y_test.flatten(), hypertunedGaussianNBModelPredictProba)\n",
    "plt.plot(p, r)\n",
    "plt.xlabel('Recall')\n",
    "plt.ylabel('Precision')\n",
    "plt.title('Precision Recall Curve - Gaussian Naive Bayes')\n",
    "\n",
    "confusionMatrix = confusion_matrix(y_test.flatten(), hypertunedGaussianNBModelPredictions) \n",
    "plt.figure(figsize =(6, 6)) \n",
    "sns.heatmap(confusionMatrix, xticklabels = ['Non Fraudulent', 'Fraudulent'],  \n",
    "            yticklabels = ['Non Fraudulent', 'Fraudulent'], annot = True, fmt =\"d\"); \n",
    "plt.title(\"Confusion matrix - Gaussian Naive Bayes\") \n",
    "plt.ylabel('Actual Class') \n",
    "plt.xlabel('Predicted class') \n",
    "plt.show() "
   ]
  },
  {
   "cell_type": "code",
   "execution_count": 55,
   "id": "received-block",
   "metadata": {},
   "outputs": [
    {
     "name": "stdout",
     "output_type": "stream",
     "text": [
      "Multinomial Naive Bayes\n",
      "=======================\n",
      "Accuracy:  0.9991292379427544\n",
      "Precision:  0.7339449541284404\n",
      "Recall:  0.7079646017699115\n",
      "F1-Score:  0.7207207207207207\n",
      "AUC score:  0.853778331213136\n",
      "                precision    recall  f1-score   support\n",
      "\n",
      "Non Fraudulent       1.00      1.00      1.00     71089\n",
      "    Fraudulent       0.73      0.71      0.72       113\n",
      "\n",
      "      accuracy                           1.00     71202\n",
      "     macro avg       0.87      0.85      0.86     71202\n",
      "  weighted avg       1.00      1.00      1.00     71202\n",
      "\n"
     ]
    },
    {
     "data": {
      "image/png": "[encoded data removed]",
      "text/plain": [
       "<Figure size 432x288 with 1 Axes>"
      ]
     },
     "metadata": {
      "needs_background": "light"
     },
     "output_type": "display_data"
    },
    {
     "data": {
      "image/png": "[encoded data removed]",
      "text/plain": [
       "<Figure size 432x432 with 2 Axes>"
      ]
     },
     "metadata": {
      "needs_background": "light"
     },
     "output_type": "display_data"
    }
   ],
   "source": [
    "print(\"Multinomial Naive Bayes\")\n",
    "print(\"=======================\")\n",
    "print(\"Accuracy: \",accuracy_score(y_test.flatten(), hypertunedMultinomialModelPredictions)) \n",
    "print(\"Precision: \",precision_score(y_test.flatten(), hypertunedMultinomialModelPredictions))\n",
    "print(\"Recall: \",recall_score(y_test.flatten(), hypertunedMultinomialModelPredictions))\n",
    "print(\"F1-Score: \",f1_score(y_test.flatten(), hypertunedMultinomialModelPredictions))\n",
    "print(\"AUC score: \",roc_auc_score(y_test.flatten(), hypertunedMultinomialModelPredictions))\n",
    "print(classification_report(y_test.flatten(), hypertunedMultinomialModelPredictions,\n",
    "                            target_names=[\"Non Fraudulent\", \"Fraudulent\"]))\n",
    "\n",
    "p, r, t = precision_recall_curve(y_test.flatten(), hypertunedMultinomialModelPredictProba)\n",
    "plt.plot(p, r)\n",
    "plt.xlabel('Recall')\n",
    "plt.ylabel('Precision')\n",
    "plt.title('Precision Recall Curve - Multinomial Naive Bayes')\n",
    "\n",
    "confusionMatrix = confusion_matrix(y_test.flatten(), hypertunedMultinomialModelPredictions) \n",
    "plt.figure(figsize =(6, 6)) \n",
    "sns.heatmap(confusionMatrix, xticklabels = ['Non Fraudulent', 'Fraudulent'],  \n",
    "            yticklabels = ['Non Fraudulent', 'Fraudulent'], annot = True, fmt =\"d\"); \n",
    "plt.title(\"Confusion matrix - Multinomial Naive Bayes\") \n",
    "plt.ylabel('Actual Class') \n",
    "plt.xlabel('Predicted class') \n",
    "plt.show() "
   ]
  },
  {
   "cell_type": "markdown",
   "id": "single-blend",
   "metadata": {},
   "source": [
    "# Save the Model"
   ]
  },
  {
   "cell_type": "code",
   "execution_count": 56,
   "id": "joint-burns",
   "metadata": {},
   "outputs": [
    {
     "data": {
      "text/plain": [
       "['MultinomialNaiveBayesModel.sav']"
      ]
     },
     "execution_count": 56,
     "metadata": {},
     "output_type": "execute_result"
    }
   ],
   "source": [
    "filename = 'MultinomialNaiveBayesModel.sav'\n",
    "joblib.dump(hypertunedMultinomialModel, filename)"
   ]
  },
  {
   "cell_type": "code",
   "execution_count": null,
   "id": "hydraulic-habitat",
   "metadata": {},
   "outputs": [],
   "source": []
  }
 ],
 "metadata": {
  "kernelspec": {
   "display_name": "Python [conda env:PythonData] *",
   "language": "python",
   "name": "conda-env-PythonData-py"
  },
  "language_info": {
   "codemirror_mode": {
    "name": "ipython",
    "version": 3
   },
   "file_extension": ".py",
   "mimetype": "text/x-python",
   "name": "python",
   "nbconvert_exporter": "python",
   "pygments_lexer": "ipython3",
   "version": "3.6.12"
  }
 },
 "nbformat": 4,
 "nbformat_minor": 5
}
