{
 "cells": [
  {
   "cell_type": "markdown",
   "metadata": {},
   "source": [
    "# Random Forest"
   ]
  },
  {
   "cell_type": "markdown",
   "metadata": {},
   "source": [
    "# Import Dependencies"
   ]
  },
  {
   "cell_type": "code",
   "execution_count": 1,
   "metadata": {},
   "outputs": [],
   "source": [
    "import pandas as pd\n",
    "import numpy as np\n",
    "\n",
    "from config import CSV_FILE_URL\n",
    "import joblib\n",
    "\n",
    "from sklearn.model_selection import train_test_split\n",
    "from sklearn.preprocessing import MinMaxScaler\n",
    "from sklearn.model_selection import GridSearchCV\n",
    "\n",
    "from sklearn.metrics import classification_report, accuracy_score, precision_score, recall_score, f1_score\n",
    "from sklearn.metrics import precision_recall_curve, roc_auc_score, confusion_matrix\n",
    "import seaborn as sns\n",
    "import matplotlib.pyplot as plt\n",
    "%matplotlib inline\n",
    "\n",
    "from sklearn.ensemble import RandomForestClassifier"
   ]
  },
  {
   "cell_type": "markdown",
   "metadata": {},
   "source": [
    "# Read the CSV"
   ]
  },
  {
   "cell_type": "code",
   "execution_count": 2,
   "metadata": {},
   "outputs": [
    {
     "data": {
      "text/plain": [
       "(284807, 31)"
      ]
     },
     "execution_count": 2,
     "metadata": {},
     "output_type": "execute_result"
    }
   ],
   "source": [
    "# Read the CSV file into a dataframe\n",
    "df = pd.read_csv(CSV_FILE_URL)\n",
    "df.shape"
   ]
  },
  {
   "cell_type": "markdown",
   "metadata": {},
   "source": [
    "# Data Cleaning¶\n",
    "Checking to see if there are any null values in the dataset."
   ]
  },
  {
   "cell_type": "code",
   "execution_count": 3,
   "metadata": {},
   "outputs": [
    {
     "data": {
      "text/plain": [
       "(284807, 31)"
      ]
     },
     "execution_count": 3,
     "metadata": {},
     "output_type": "execute_result"
    }
   ],
   "source": [
    "# Drop the null columns where all values are null\n",
    "df = df.dropna(axis='columns', how='all')\n",
    "\n",
    "# Drop the null rows\n",
    "df = df.dropna()\n",
    "df.shape"
   ]
  },
  {
   "cell_type": "markdown",
   "metadata": {},
   "source": [
    "It could be seen that there are no null values in the dataset.\n",
    "\n",
    "# Data Exploration\n",
    "\n",
    "Checking Data distribution w.r.t Target feature"
   ]
  },
  {
   "cell_type": "code",
   "execution_count": 4,
   "metadata": {},
   "outputs": [
    {
     "data": {
      "text/html": [
       "<div>\n",
       "<style scoped>\n",
       "    .dataframe tbody tr th:only-of-type {\n",
       "        vertical-align: middle;\n",
       "    }\n",
       "\n",
       "    .dataframe tbody tr th {\n",
       "        vertical-align: top;\n",
       "    }\n",
       "\n",
       "    .dataframe thead th {\n",
       "        text-align: right;\n",
       "    }\n",
       "</style>\n",
       "<table border=\"1\" class=\"dataframe\">\n",
       "  <thead>\n",
       "    <tr style=\"text-align: right;\">\n",
       "      <th></th>\n",
       "      <th>Time</th>\n",
       "      <th>V1</th>\n",
       "      <th>V2</th>\n",
       "      <th>V3</th>\n",
       "      <th>V4</th>\n",
       "      <th>V5</th>\n",
       "      <th>V6</th>\n",
       "      <th>V7</th>\n",
       "      <th>V8</th>\n",
       "      <th>V9</th>\n",
       "      <th>...</th>\n",
       "      <th>V20</th>\n",
       "      <th>V21</th>\n",
       "      <th>V22</th>\n",
       "      <th>V23</th>\n",
       "      <th>V24</th>\n",
       "      <th>V25</th>\n",
       "      <th>V26</th>\n",
       "      <th>V27</th>\n",
       "      <th>V28</th>\n",
       "      <th>Amount</th>\n",
       "    </tr>\n",
       "    <tr>\n",
       "      <th>Class</th>\n",
       "      <th></th>\n",
       "      <th></th>\n",
       "      <th></th>\n",
       "      <th></th>\n",
       "      <th></th>\n",
       "      <th></th>\n",
       "      <th></th>\n",
       "      <th></th>\n",
       "      <th></th>\n",
       "      <th></th>\n",
       "      <th></th>\n",
       "      <th></th>\n",
       "      <th></th>\n",
       "      <th></th>\n",
       "      <th></th>\n",
       "      <th></th>\n",
       "      <th></th>\n",
       "      <th></th>\n",
       "      <th></th>\n",
       "      <th></th>\n",
       "      <th></th>\n",
       "    </tr>\n",
       "  </thead>\n",
       "  <tbody>\n",
       "    <tr>\n",
       "      <th>0</th>\n",
       "      <td>284315</td>\n",
       "      <td>284315</td>\n",
       "      <td>284315</td>\n",
       "      <td>284315</td>\n",
       "      <td>284315</td>\n",
       "      <td>284315</td>\n",
       "      <td>284315</td>\n",
       "      <td>284315</td>\n",
       "      <td>284315</td>\n",
       "      <td>284315</td>\n",
       "      <td>...</td>\n",
       "      <td>284315</td>\n",
       "      <td>284315</td>\n",
       "      <td>284315</td>\n",
       "      <td>284315</td>\n",
       "      <td>284315</td>\n",
       "      <td>284315</td>\n",
       "      <td>284315</td>\n",
       "      <td>284315</td>\n",
       "      <td>284315</td>\n",
       "      <td>284315</td>\n",
       "    </tr>\n",
       "    <tr>\n",
       "      <th>1</th>\n",
       "      <td>492</td>\n",
       "      <td>492</td>\n",
       "      <td>492</td>\n",
       "      <td>492</td>\n",
       "      <td>492</td>\n",
       "      <td>492</td>\n",
       "      <td>492</td>\n",
       "      <td>492</td>\n",
       "      <td>492</td>\n",
       "      <td>492</td>\n",
       "      <td>...</td>\n",
       "      <td>492</td>\n",
       "      <td>492</td>\n",
       "      <td>492</td>\n",
       "      <td>492</td>\n",
       "      <td>492</td>\n",
       "      <td>492</td>\n",
       "      <td>492</td>\n",
       "      <td>492</td>\n",
       "      <td>492</td>\n",
       "      <td>492</td>\n",
       "    </tr>\n",
       "  </tbody>\n",
       "</table>\n",
       "<p>2 rows × 30 columns</p>\n",
       "</div>"
      ],
      "text/plain": [
       "         Time      V1      V2      V3      V4      V5      V6      V7      V8  \\\n",
       "Class                                                                           \n",
       "0      284315  284315  284315  284315  284315  284315  284315  284315  284315   \n",
       "1         492     492     492     492     492     492     492     492     492   \n",
       "\n",
       "           V9  ...     V20     V21     V22     V23     V24     V25     V26  \\\n",
       "Class          ...                                                           \n",
       "0      284315  ...  284315  284315  284315  284315  284315  284315  284315   \n",
       "1         492  ...     492     492     492     492     492     492     492   \n",
       "\n",
       "          V27     V28  Amount  \n",
       "Class                          \n",
       "0      284315  284315  284315  \n",
       "1         492     492     492  \n",
       "\n",
       "[2 rows x 30 columns]"
      ]
     },
     "execution_count": 4,
     "metadata": {},
     "output_type": "execute_result"
    }
   ],
   "source": [
    "df.groupby('Class').count()"
   ]
  },
  {
   "cell_type": "code",
   "execution_count": 5,
   "metadata": {},
   "outputs": [
    {
     "data": {
      "text/plain": [
       "<matplotlib.axes._subplots.AxesSubplot at 0x1b9dd077b00>"
      ]
     },
     "execution_count": 5,
     "metadata": {},
     "output_type": "execute_result"
    },
    {
     "data": {
      "image/png": "[encoded data removed]",
      "text/plain": [
       "<Figure size 432x288 with 1 Axes>"
      ]
     },
     "metadata": {
      "needs_background": "light"
     },
     "output_type": "display_data"
    }
   ],
   "source": [
    "grouped_df = df[['Class','Time']].groupby('Class').count()\n",
    "grouped_df = grouped_df.rename(columns={\"Time\":\"Count\"})\n",
    "grouped_df.plot(kind=\"bar\")"
   ]
  },
  {
   "cell_type": "markdown",
   "metadata": {},
   "source": [
    "It is evident from the above plot that data is **highly imbalanced**. The dataset has only 492 fraudulent transactions out of a total of 284807 transactions, which is a mere 0.17%.\n",
    "\n",
    "# Defining features\n",
    "\n",
    "Defining the predictor features and the target feature."
   ]
  },
  {
   "cell_type": "code",
   "execution_count": 6,
   "metadata": {},
   "outputs": [
    {
     "data": {
      "text/plain": [
       "Index(['Time', 'V1', 'V2', 'V3', 'V4', 'V5', 'V6', 'V7', 'V8', 'V9', 'V10',\n",
       "       'V11', 'V12', 'V13', 'V14', 'V15', 'V16', 'V17', 'V18', 'V19', 'V20',\n",
       "       'V21', 'V22', 'V23', 'V24', 'V25', 'V26', 'V27', 'V28', 'Amount',\n",
       "       'Class'],\n",
       "      dtype='object')"
      ]
     },
     "execution_count": 6,
     "metadata": {},
     "output_type": "execute_result"
    }
   ],
   "source": [
    "df.columns"
   ]
  },
  {
   "cell_type": "code",
   "execution_count": 7,
   "metadata": {},
   "outputs": [
    {
     "data": {
      "text/plain": [
       "(284807, 30)"
      ]
     },
     "execution_count": 7,
     "metadata": {},
     "output_type": "execute_result"
    }
   ],
   "source": [
    "# Selecting predictor features. This will be used as x values.\n",
    "selected_features = df[['Time', 'V1', 'V2', 'V3', 'V4', 'V5', 'V6', 'V7', 'V8', 'V9', 'V10',\n",
    "       'V11', 'V12', 'V13', 'V14', 'V15', 'V16', 'V17', 'V18', 'V19', 'V20',\n",
    "       'V21', 'V22', 'V23', 'V24', 'V25', 'V26', 'V27', 'V28', 'Amount']]\n",
    "selected_features.shape"
   ]
  },
  {
   "cell_type": "code",
   "execution_count": 8,
   "metadata": {},
   "outputs": [
    {
     "name": "stdout",
     "output_type": "stream",
     "text": [
      "Shape:  (284807, 30) (284807, 1)\n"
     ]
    }
   ],
   "source": [
    "# Defining predictor and target features to X and y respectively.\n",
    "# Note: Sklearn requires a two-dimensional array of values\n",
    "# so we use reshape to create this\n",
    "\n",
    "X = selected_features\n",
    "y = df[['Class']].values.reshape(-1, 1)\n",
    "\n",
    "print(\"Shape: \", X.shape, y.shape)"
   ]
  },
  {
   "cell_type": "markdown",
   "metadata": {},
   "source": [
    "# Create a Train Test Split¶\n",
    "\n",
    "Using Class for the y values (target feature)"
   ]
  },
  {
   "cell_type": "code",
   "execution_count": 9,
   "metadata": {},
   "outputs": [],
   "source": [
    "# Using sklearn's `train_test_split` to split the data into training and testing datasets\n",
    "\n",
    "X_train, X_test, y_train, y_test = train_test_split(X, y, random_state=42)"
   ]
  },
  {
   "cell_type": "code",
   "execution_count": 10,
   "metadata": {},
   "outputs": [
    {
     "name": "stdout",
     "output_type": "stream",
     "text": [
      "Shape:  (213605, 30) (213605, 1) (71202, 30) (71202, 1)\n"
     ]
    }
   ],
   "source": [
    "print(\"Shape: \", X_train.shape, y_train.shape, X_test.shape, y_test.shape)"
   ]
  },
  {
   "cell_type": "markdown",
   "metadata": {},
   "source": [
    "# Data Pre-processing\n",
    "\n",
    "Scale the data using the MinMaxScaler"
   ]
  },
  {
   "cell_type": "code",
   "execution_count": 11,
   "metadata": {},
   "outputs": [],
   "source": [
    "X_minmax = MinMaxScaler().fit(X_train)\n",
    "\n",
    "X_train_scaled = X_minmax.transform(X_train)\n",
    "X_test_scaled = X_minmax.transform(X_test)"
   ]
  },
  {
   "cell_type": "markdown",
   "metadata": {},
   "source": [
    "# Random Forest Classifier Model¶\n",
    "\n",
    "### Train the Model"
   ]
  },
  {
   "cell_type": "code",
   "execution_count": 12,
   "metadata": {},
   "outputs": [
    {
     "data": {
      "text/plain": [
       "RandomForestClassifier(n_estimators=200)"
      ]
     },
     "execution_count": 12,
     "metadata": {},
     "output_type": "execute_result"
    }
   ],
   "source": [
    "randomTreeModel = RandomForestClassifier(n_estimators=200)\n",
    "randomTreeModel"
   ]
  },
  {
   "cell_type": "code",
   "execution_count": 13,
   "metadata": {},
   "outputs": [
    {
     "data": {
      "text/plain": [
       "RandomForestClassifier(n_estimators=200)"
      ]
     },
     "execution_count": 13,
     "metadata": {},
     "output_type": "execute_result"
    }
   ],
   "source": [
    "randomTreeModel.fit(X_train_scaled, y_train.flatten())"
   ]
  },
  {
   "cell_type": "code",
   "execution_count": 14,
   "metadata": {},
   "outputs": [
    {
     "name": "stdout",
     "output_type": "stream",
     "text": [
      "Training Data Score: 1.0\n",
      "Testing Data Score: 0.9995646189713772\n"
     ]
    }
   ],
   "source": [
    "print(f\"Training Data Score: {randomTreeModel.score(X_train_scaled, y_train)}\")\n",
    "print(f\"Testing Data Score: {randomTreeModel.score(X_test_scaled, y_test)}\")"
   ]
  },
  {
   "cell_type": "code",
   "execution_count": 15,
   "metadata": {},
   "outputs": [],
   "source": [
    "# Make predictions with the model\n",
    "randomTreePredictions = randomTreeModel.predict(X_test_scaled)"
   ]
  },
  {
   "cell_type": "code",
   "execution_count": 16,
   "metadata": {},
   "outputs": [],
   "source": [
    "randomTreePredictProba = randomTreeModel.predict_proba(X_test_scaled)[:,1]"
   ]
  },
  {
   "cell_type": "code",
   "execution_count": 17,
   "metadata": {},
   "outputs": [
    {
     "name": "stdout",
     "output_type": "stream",
     "text": [
      "Random Forest Classifier\n",
      "========================\n",
      "Accuracy:  0.9995646189713772\n",
      "Precision:  0.9270833333333334\n",
      "Recall:  0.7876106194690266\n",
      "F1-Score:  0.8516746411483254\n",
      "AUC score:  0.8937560756757982\n",
      "                precision    recall  f1-score   support\n",
      "\n",
      "Non Fraudulent       1.00      1.00      1.00     71089\n",
      "    Fraudulent       0.93      0.79      0.85       113\n",
      "\n",
      "      accuracy                           1.00     71202\n",
      "     macro avg       0.96      0.89      0.93     71202\n",
      "  weighted avg       1.00      1.00      1.00     71202\n",
      "\n"
     ]
    },
    {
     "data": {
      "image/png": "[encoded data removed]",
      "text/plain": [
       "<Figure size 432x288 with 1 Axes>"
      ]
     },
     "metadata": {
      "needs_background": "light"
     },
     "output_type": "display_data"
    },
    {
     "data": {
      "image/png": "[encoded data removed]",
      "text/plain": [
       "<Figure size 432x432 with 2 Axes>"
      ]
     },
     "metadata": {
      "needs_background": "light"
     },
     "output_type": "display_data"
    }
   ],
   "source": [
    "print(\"Random Forest Classifier\")\n",
    "print(\"========================\")\n",
    "print(\"Accuracy: \",accuracy_score(y_test.flatten(), randomTreePredictions)) \n",
    "print(\"Precision: \",precision_score(y_test.flatten(), randomTreePredictions))\n",
    "print(\"Recall: \",recall_score(y_test.flatten(), randomTreePredictions))\n",
    "print(\"F1-Score: \",f1_score(y_test.flatten(), randomTreePredictions))\n",
    "print(\"AUC score: \",roc_auc_score(y_test.flatten(), randomTreePredictions))\n",
    "print(classification_report(y_test.flatten(), randomTreePredictions,\n",
    "                            target_names=[\"Non Fraudulent\", \"Fraudulent\"]))\n",
    "p, r, t = precision_recall_curve(y_test.flatten(), randomTreePredictProba)\n",
    "plt.plot(p, r)\n",
    "plt.xlabel('Recall')\n",
    "plt.ylabel('Precision')\n",
    "plt.title('Precision Recall Curve - Random Forest Classifier')\n",
    "confusionMatrix = confusion_matrix(y_test.flatten(), randomTreePredictions) \n",
    "plt.figure(figsize =(6, 6)) \n",
    "sns.heatmap(confusionMatrix, xticklabels = ['Non Fraudulent', 'Fraudulent'],  \n",
    "            yticklabels = ['Non Fraudulent', 'Fraudulent'], annot = True, fmt =\"d\"); \n",
    "plt.title(\"Confusion matrix - Random Forest Classifier\") \n",
    "plt.ylabel('Actual Class') \n",
    "plt.xlabel('Predicted class') \n",
    "plt.show()"
   ]
  },
  {
   "cell_type": "markdown",
   "metadata": {},
   "source": [
    "# Hyperparameter Tuning¶\n",
    "Use GridSearchCV to tune the model's parameters"
   ]
  },
  {
   "cell_type": "code",
   "execution_count": 18,
   "metadata": {},
   "outputs": [
    {
     "data": {
      "text/plain": [
       "dict_keys(['bootstrap', 'ccp_alpha', 'class_weight', 'criterion', 'max_depth', 'max_features', 'max_leaf_nodes', 'max_samples', 'min_impurity_decrease', 'min_impurity_split', 'min_samples_leaf', 'min_samples_split', 'min_weight_fraction_leaf', 'n_estimators', 'n_jobs', 'oob_score', 'random_state', 'verbose', 'warm_start'])"
      ]
     },
     "execution_count": 18,
     "metadata": {},
     "output_type": "execute_result"
    }
   ],
   "source": [
    "randomTreeModel.get_params().keys()"
   ]
  },
  {
   "cell_type": "code",
   "execution_count": 27,
   "metadata": {},
   "outputs": [],
   "source": [
    "# Create the GridSearchCV model\n",
    "# Create the GridSearch estimator along with a parameter object containing the values to adjust\n",
    "randomTreeParamGrid = {'n_estimators': [100, 200],\n",
    "                       'criterion': ['gini','entropy'],\n",
    "                       'max_features': ['auto','sqrt','log2',None],\n",
    "                      }\n",
    "randomTreeGrid = GridSearchCV(randomTreeModel, randomTreeParamGrid, verbose=3)"
   ]
  },
  {
   "cell_type": "code",
   "execution_count": 28,
   "metadata": {},
   "outputs": [
    {
     "name": "stdout",
     "output_type": "stream",
     "text": [
      "Fitting 5 folds for each of 16 candidates, totalling 80 fits\n",
      "[CV] criterion=gini, max_features=auto, n_estimators=100 .............\n"
     ]
    },
    {
     "name": "stderr",
     "output_type": "stream",
     "text": [
      "[Parallel(n_jobs=1)]: Using backend SequentialBackend with 1 concurrent workers.\n"
     ]
    },
    {
     "name": "stdout",
     "output_type": "stream",
     "text": [
      "[CV]  criterion=gini, max_features=auto, n_estimators=100, score=1.000, total= 1.9min\n",
      "[CV] criterion=gini, max_features=auto, n_estimators=100 .............\n"
     ]
    },
    {
     "name": "stderr",
     "output_type": "stream",
     "text": [
      "[Parallel(n_jobs=1)]: Done   1 out of   1 | elapsed:  1.9min remaining:    0.0s\n"
     ]
    },
    {
     "name": "stdout",
     "output_type": "stream",
     "text": [
      "[CV]  criterion=gini, max_features=auto, n_estimators=100, score=1.000, total= 2.0min\n",
      "[CV] criterion=gini, max_features=auto, n_estimators=100 .............\n"
     ]
    },
    {
     "name": "stderr",
     "output_type": "stream",
     "text": [
      "[Parallel(n_jobs=1)]: Done   2 out of   2 | elapsed:  3.9min remaining:    0.0s\n"
     ]
    },
    {
     "name": "stdout",
     "output_type": "stream",
     "text": [
      "[CV]  criterion=gini, max_features=auto, n_estimators=100, score=0.999, total= 2.2min\n",
      "[CV] criterion=gini, max_features=auto, n_estimators=100 .............\n",
      "[CV]  criterion=gini, max_features=auto, n_estimators=100, score=1.000, total= 2.4min\n",
      "[CV] criterion=gini, max_features=auto, n_estimators=100 .............\n",
      "[CV]  criterion=gini, max_features=auto, n_estimators=100, score=1.000, total= 2.2min\n",
      "[CV] criterion=gini, max_features=auto, n_estimators=200 .............\n",
      "[CV]  criterion=gini, max_features=auto, n_estimators=200, score=1.000, total= 4.3min\n",
      "[CV] criterion=gini, max_features=auto, n_estimators=200 .............\n",
      "[CV]  criterion=gini, max_features=auto, n_estimators=200, score=0.999, total= 4.1min\n",
      "[CV] criterion=gini, max_features=auto, n_estimators=200 .............\n",
      "[CV]  criterion=gini, max_features=auto, n_estimators=200, score=0.999, total= 4.0min\n",
      "[CV] criterion=gini, max_features=auto, n_estimators=200 .............\n",
      "[CV]  criterion=gini, max_features=auto, n_estimators=200, score=1.000, total= 4.6min\n",
      "[CV] criterion=gini, max_features=auto, n_estimators=200 .............\n",
      "[CV]  criterion=gini, max_features=auto, n_estimators=200, score=1.000, total= 4.2min\n",
      "[CV] criterion=gini, max_features=sqrt, n_estimators=100 .............\n",
      "[CV]  criterion=gini, max_features=sqrt, n_estimators=100, score=1.000, total= 2.0min\n",
      "[CV] criterion=gini, max_features=sqrt, n_estimators=100 .............\n",
      "[CV]  criterion=gini, max_features=sqrt, n_estimators=100, score=0.999, total= 1.8min\n",
      "[CV] criterion=gini, max_features=sqrt, n_estimators=100 .............\n",
      "[CV]  criterion=gini, max_features=sqrt, n_estimators=100, score=0.999, total= 1.8min\n",
      "[CV] criterion=gini, max_features=sqrt, n_estimators=100 .............\n",
      "[CV]  criterion=gini, max_features=sqrt, n_estimators=100, score=1.000, total= 2.0min\n",
      "[CV] criterion=gini, max_features=sqrt, n_estimators=100 .............\n",
      "[CV]  criterion=gini, max_features=sqrt, n_estimators=100, score=1.000, total= 2.1min\n",
      "[CV] criterion=gini, max_features=sqrt, n_estimators=200 .............\n",
      "[CV]  criterion=gini, max_features=sqrt, n_estimators=200, score=1.000, total= 3.8min\n",
      "[CV] criterion=gini, max_features=sqrt, n_estimators=200 .............\n",
      "[CV]  criterion=gini, max_features=sqrt, n_estimators=200, score=0.999, total= 3.5min\n",
      "[CV] criterion=gini, max_features=sqrt, n_estimators=200 .............\n",
      "[CV]  criterion=gini, max_features=sqrt, n_estimators=200, score=0.999, total= 3.7min\n",
      "[CV] criterion=gini, max_features=sqrt, n_estimators=200 .............\n",
      "[CV]  criterion=gini, max_features=sqrt, n_estimators=200, score=1.000, total= 4.1min\n",
      "[CV] criterion=gini, max_features=sqrt, n_estimators=200 .............\n",
      "[CV]  criterion=gini, max_features=sqrt, n_estimators=200, score=1.000, total= 3.8min\n",
      "[CV] criterion=gini, max_features=log2, n_estimators=100 .............\n",
      "[CV]  criterion=gini, max_features=log2, n_estimators=100, score=0.999, total= 1.8min\n",
      "[CV] criterion=gini, max_features=log2, n_estimators=100 .............\n",
      "[CV]  criterion=gini, max_features=log2, n_estimators=100, score=0.999, total= 1.5min\n",
      "[CV] criterion=gini, max_features=log2, n_estimators=100 .............\n",
      "[CV]  criterion=gini, max_features=log2, n_estimators=100, score=0.999, total= 1.5min\n",
      "[CV] criterion=gini, max_features=log2, n_estimators=100 .............\n",
      "[CV]  criterion=gini, max_features=log2, n_estimators=100, score=1.000, total= 1.5min\n",
      "[CV] criterion=gini, max_features=log2, n_estimators=100 .............\n",
      "[CV]  criterion=gini, max_features=log2, n_estimators=100, score=1.000, total= 1.5min\n",
      "[CV] criterion=gini, max_features=log2, n_estimators=200 .............\n",
      "[CV]  criterion=gini, max_features=log2, n_estimators=200, score=1.000, total= 3.1min\n",
      "[CV] criterion=gini, max_features=log2, n_estimators=200 .............\n",
      "[CV]  criterion=gini, max_features=log2, n_estimators=200, score=0.999, total= 2.7min\n",
      "[CV] criterion=gini, max_features=log2, n_estimators=200 .............\n",
      "[CV]  criterion=gini, max_features=log2, n_estimators=200, score=0.999, total= 2.7min\n",
      "[CV] criterion=gini, max_features=log2, n_estimators=200 .............\n",
      "[CV]  criterion=gini, max_features=log2, n_estimators=200, score=1.000, total= 3.0min\n",
      "[CV] criterion=gini, max_features=log2, n_estimators=200 .............\n",
      "[CV]  criterion=gini, max_features=log2, n_estimators=200, score=1.000, total= 3.0min\n",
      "[CV] criterion=gini, max_features=None, n_estimators=100 .............\n",
      "[CV]  criterion=gini, max_features=None, n_estimators=100, score=1.000, total=11.1min\n",
      "[CV] criterion=gini, max_features=None, n_estimators=100 .............\n",
      "[CV]  criterion=gini, max_features=None, n_estimators=100, score=1.000, total= 9.5min\n",
      "[CV] criterion=gini, max_features=None, n_estimators=100 .............\n",
      "[CV]  criterion=gini, max_features=None, n_estimators=100, score=0.999, total= 9.1min\n",
      "[CV] criterion=gini, max_features=None, n_estimators=100 .............\n",
      "[CV]  criterion=gini, max_features=None, n_estimators=100, score=1.000, total=10.6min\n",
      "[CV] criterion=gini, max_features=None, n_estimators=100 .............\n",
      "[CV]  criterion=gini, max_features=None, n_estimators=100, score=1.000, total= 9.4min\n",
      "[CV] criterion=gini, max_features=None, n_estimators=200 .............\n",
      "[CV]  criterion=gini, max_features=None, n_estimators=200, score=1.000, total=21.2min\n",
      "[CV] criterion=gini, max_features=None, n_estimators=200 .............\n",
      "[CV]  criterion=gini, max_features=None, n_estimators=200, score=1.000, total=18.6min\n",
      "[CV] criterion=gini, max_features=None, n_estimators=200 .............\n",
      "[CV]  criterion=gini, max_features=None, n_estimators=200, score=0.999, total=18.1min\n",
      "[CV] criterion=gini, max_features=None, n_estimators=200 .............\n",
      "[CV]  criterion=gini, max_features=None, n_estimators=200, score=1.000, total=20.9min\n",
      "[CV] criterion=gini, max_features=None, n_estimators=200 .............\n",
      "[CV]  criterion=gini, max_features=None, n_estimators=200, score=1.000, total=18.7min\n",
      "[CV] criterion=entropy, max_features=auto, n_estimators=100 ..........\n",
      "[CV]  criterion=entropy, max_features=auto, n_estimators=100, score=1.000, total= 1.3min\n",
      "[CV] criterion=entropy, max_features=auto, n_estimators=100 ..........\n",
      "[CV]  criterion=entropy, max_features=auto, n_estimators=100, score=0.999, total= 1.2min\n",
      "[CV] criterion=entropy, max_features=auto, n_estimators=100 ..........\n",
      "[CV]  criterion=entropy, max_features=auto, n_estimators=100, score=1.000, total= 1.2min\n",
      "[CV] criterion=entropy, max_features=auto, n_estimators=100 ..........\n",
      "[CV]  criterion=entropy, max_features=auto, n_estimators=100, score=1.000, total= 1.3min\n",
      "[CV] criterion=entropy, max_features=auto, n_estimators=100 ..........\n",
      "[CV]  criterion=entropy, max_features=auto, n_estimators=100, score=1.000, total= 1.2min\n",
      "[CV] criterion=entropy, max_features=auto, n_estimators=200 ..........\n",
      "[CV]  criterion=entropy, max_features=auto, n_estimators=200, score=1.000, total= 2.5min\n",
      "[CV] criterion=entropy, max_features=auto, n_estimators=200 ..........\n",
      "[CV]  criterion=entropy, max_features=auto, n_estimators=200, score=0.999, total= 2.5min\n",
      "[CV] criterion=entropy, max_features=auto, n_estimators=200 ..........\n",
      "[CV]  criterion=entropy, max_features=auto, n_estimators=200, score=0.999, total= 2.4min\n",
      "[CV] criterion=entropy, max_features=auto, n_estimators=200 ..........\n",
      "[CV]  criterion=entropy, max_features=auto, n_estimators=200, score=1.000, total= 2.5min\n",
      "[CV] criterion=entropy, max_features=auto, n_estimators=200 ..........\n",
      "[CV]  criterion=entropy, max_features=auto, n_estimators=200, score=1.000, total= 2.4min\n",
      "[CV] criterion=entropy, max_features=sqrt, n_estimators=100 ..........\n",
      "[CV]  criterion=entropy, max_features=sqrt, n_estimators=100, score=1.000, total= 1.3min\n",
      "[CV] criterion=entropy, max_features=sqrt, n_estimators=100 ..........\n",
      "[CV]  criterion=entropy, max_features=sqrt, n_estimators=100, score=0.999, total= 1.2min\n",
      "[CV] criterion=entropy, max_features=sqrt, n_estimators=100 ..........\n",
      "[CV]  criterion=entropy, max_features=sqrt, n_estimators=100, score=0.999, total= 1.2min\n",
      "[CV] criterion=entropy, max_features=sqrt, n_estimators=100 ..........\n",
      "[CV]  criterion=entropy, max_features=sqrt, n_estimators=100, score=1.000, total= 1.3min\n",
      "[CV] criterion=entropy, max_features=sqrt, n_estimators=100 ..........\n"
     ]
    },
    {
     "name": "stdout",
     "output_type": "stream",
     "text": [
      "[CV]  criterion=entropy, max_features=sqrt, n_estimators=100, score=1.000, total= 1.2min\n",
      "[CV] criterion=entropy, max_features=sqrt, n_estimators=200 ..........\n",
      "[CV]  criterion=entropy, max_features=sqrt, n_estimators=200, score=1.000, total= 2.5min\n",
      "[CV] criterion=entropy, max_features=sqrt, n_estimators=200 ..........\n",
      "[CV]  criterion=entropy, max_features=sqrt, n_estimators=200, score=0.999, total= 2.4min\n",
      "[CV] criterion=entropy, max_features=sqrt, n_estimators=200 ..........\n",
      "[CV]  criterion=entropy, max_features=sqrt, n_estimators=200, score=1.000, total= 2.4min\n",
      "[CV] criterion=entropy, max_features=sqrt, n_estimators=200 ..........\n",
      "[CV]  criterion=entropy, max_features=sqrt, n_estimators=200, score=1.000, total= 2.6min\n",
      "[CV] criterion=entropy, max_features=sqrt, n_estimators=200 ..........\n",
      "[CV]  criterion=entropy, max_features=sqrt, n_estimators=200, score=1.000, total= 2.4min\n",
      "[CV] criterion=entropy, max_features=log2, n_estimators=100 ..........\n",
      "[CV]  criterion=entropy, max_features=log2, n_estimators=100, score=1.000, total= 1.0min\n",
      "[CV] criterion=entropy, max_features=log2, n_estimators=100 ..........\n",
      "[CV]  criterion=entropy, max_features=log2, n_estimators=100, score=0.999, total= 1.0min\n",
      "[CV] criterion=entropy, max_features=log2, n_estimators=100 ..........\n",
      "[CV]  criterion=entropy, max_features=log2, n_estimators=100, score=0.999, total= 1.0min\n",
      "[CV] criterion=entropy, max_features=log2, n_estimators=100 ..........\n",
      "[CV]  criterion=entropy, max_features=log2, n_estimators=100, score=1.000, total= 1.1min\n",
      "[CV] criterion=entropy, max_features=log2, n_estimators=100 ..........\n",
      "[CV]  criterion=entropy, max_features=log2, n_estimators=100, score=1.000, total= 1.0min\n",
      "[CV] criterion=entropy, max_features=log2, n_estimators=200 ..........\n",
      "[CV]  criterion=entropy, max_features=log2, n_estimators=200, score=1.000, total= 2.1min\n",
      "[CV] criterion=entropy, max_features=log2, n_estimators=200 ..........\n",
      "[CV]  criterion=entropy, max_features=log2, n_estimators=200, score=0.999, total= 2.0min\n",
      "[CV] criterion=entropy, max_features=log2, n_estimators=200 ..........\n",
      "[CV]  criterion=entropy, max_features=log2, n_estimators=200, score=0.999, total= 2.0min\n",
      "[CV] criterion=entropy, max_features=log2, n_estimators=200 ..........\n",
      "[CV]  criterion=entropy, max_features=log2, n_estimators=200, score=1.000, total= 2.1min\n",
      "[CV] criterion=entropy, max_features=log2, n_estimators=200 ..........\n",
      "[CV]  criterion=entropy, max_features=log2, n_estimators=200, score=1.000, total= 2.0min\n",
      "[CV] criterion=entropy, max_features=None, n_estimators=100 ..........\n",
      "[CV]  criterion=entropy, max_features=None, n_estimators=100, score=1.000, total= 6.1min\n",
      "[CV] criterion=entropy, max_features=None, n_estimators=100 ..........\n",
      "[CV]  criterion=entropy, max_features=None, n_estimators=100, score=0.999, total= 5.7min\n",
      "[CV] criterion=entropy, max_features=None, n_estimators=100 ..........\n",
      "[CV]  criterion=entropy, max_features=None, n_estimators=100, score=1.000, total= 5.5min\n",
      "[CV] criterion=entropy, max_features=None, n_estimators=100 ..........\n",
      "[CV]  criterion=entropy, max_features=None, n_estimators=100, score=1.000, total= 5.8min\n",
      "[CV] criterion=entropy, max_features=None, n_estimators=100 ..........\n",
      "[CV]  criterion=entropy, max_features=None, n_estimators=100, score=1.000, total= 5.5min\n",
      "[CV] criterion=entropy, max_features=None, n_estimators=200 ..........\n",
      "[CV]  criterion=entropy, max_features=None, n_estimators=200, score=1.000, total=12.3min\n",
      "[CV] criterion=entropy, max_features=None, n_estimators=200 ..........\n",
      "[CV]  criterion=entropy, max_features=None, n_estimators=200, score=0.999, total=11.7min\n",
      "[CV] criterion=entropy, max_features=None, n_estimators=200 ..........\n",
      "[CV]  criterion=entropy, max_features=None, n_estimators=200, score=0.999, total=11.9min\n",
      "[CV] criterion=entropy, max_features=None, n_estimators=200 ..........\n",
      "[CV]  criterion=entropy, max_features=None, n_estimators=200, score=1.000, total=11.6min\n",
      "[CV] criterion=entropy, max_features=None, n_estimators=200 ..........\n",
      "[CV]  criterion=entropy, max_features=None, n_estimators=200, score=1.000, total=11.2min\n"
     ]
    },
    {
     "name": "stderr",
     "output_type": "stream",
     "text": [
      "[Parallel(n_jobs=1)]: Done  80 out of  80 | elapsed: 370.0min finished\n"
     ]
    },
    {
     "data": {
      "text/plain": [
       "GridSearchCV(estimator=RandomForestClassifier(n_estimators=200),\n",
       "             param_grid={'criterion': ['gini', 'entropy'],\n",
       "                         'max_features': ['auto', 'sqrt', 'log2', None],\n",
       "                         'n_estimators': [100, 200]},\n",
       "             verbose=3)"
      ]
     },
     "execution_count": 28,
     "metadata": {},
     "output_type": "execute_result"
    }
   ],
   "source": [
    "# Train the model with GridSearch\n",
    "randomTreeGrid.fit(X_train_scaled, y_train.flatten())"
   ]
  },
  {
   "cell_type": "code",
   "execution_count": 29,
   "metadata": {},
   "outputs": [
    {
     "name": "stdout",
     "output_type": "stream",
     "text": [
      "{'criterion': 'entropy', 'max_features': 'auto', 'n_estimators': 100}\n",
      "0.9995552538564171\n"
     ]
    }
   ],
   "source": [
    "print(randomTreeGrid.best_params_)\n",
    "print(randomTreeGrid.best_score_)"
   ]
  },
  {
   "cell_type": "code",
   "execution_count": 32,
   "metadata": {},
   "outputs": [],
   "source": [
    "# Make predictions with the hyperparameter tuned model\n",
    "randomTreeGridPredictions = randomTreeGrid.predict(X_test_scaled)\n",
    "randomTreeGridPredictProba = randomTreeGrid.predict_proba(X_test_scaled)[:,1]"
   ]
  },
  {
   "cell_type": "code",
   "execution_count": 33,
   "metadata": {},
   "outputs": [
    {
     "name": "stdout",
     "output_type": "stream",
     "text": [
      "                precision    recall  f1-score   support\n",
      "\n",
      "Non Fraudulent       1.00      1.00      1.00     71089\n",
      "    Fraudulent       0.95      0.78      0.85       113\n",
      "\n",
      "      accuracy                           1.00     71202\n",
      "     macro avg       0.97      0.89      0.93     71202\n",
      "  weighted avg       1.00      1.00      1.00     71202\n",
      "\n"
     ]
    }
   ],
   "source": [
    "# Print classification report\n",
    "print(classification_report(y_test.flatten(), randomTreeGridPredictions,\n",
    "                            target_names=[\"Non Fraudulent\", \"Fraudulent\"]))"
   ]
  },
  {
   "cell_type": "code",
   "execution_count": 34,
   "metadata": {},
   "outputs": [
    {
     "name": "stdout",
     "output_type": "stream",
     "text": [
      "Random Forest Classifier\n",
      "========================\n",
      "Accuracy:  0.9995786635206876\n",
      "Precision:  0.946236559139785\n",
      "Recall:  0.7787610619469026\n",
      "F1-Score:  0.854368932038835\n",
      "AUC score:  0.8893453637886547\n",
      "                precision    recall  f1-score   support\n",
      "\n",
      "Non Fraudulent       1.00      1.00      1.00     71089\n",
      "    Fraudulent       0.95      0.78      0.85       113\n",
      "\n",
      "      accuracy                           1.00     71202\n",
      "     macro avg       0.97      0.89      0.93     71202\n",
      "  weighted avg       1.00      1.00      1.00     71202\n",
      "\n"
     ]
    },
    {
     "data": {
      "image/png": "[encoded data removed]",
      "text/plain": [
       "<Figure size 432x288 with 1 Axes>"
      ]
     },
     "metadata": {
      "needs_background": "light"
     },
     "output_type": "display_data"
    },
    {
     "data": {
      "image/png": "[encoded data removed]",
      "text/plain": [
       "<Figure size 432x432 with 2 Axes>"
      ]
     },
     "metadata": {
      "needs_background": "light"
     },
     "output_type": "display_data"
    }
   ],
   "source": [
    "print(\"Random Forest Classifier\")\n",
    "print(\"========================\")\n",
    "print(\"Accuracy: \",accuracy_score(y_test.flatten(), randomTreeGridPredictions)) \n",
    "print(\"Precision: \",precision_score(y_test.flatten(), randomTreeGridPredictions))\n",
    "print(\"Recall: \",recall_score(y_test.flatten(), randomTreeGridPredictions))\n",
    "print(\"F1-Score: \",f1_score(y_test.flatten(), randomTreeGridPredictions))\n",
    "print(\"AUC score: \",roc_auc_score(y_test.flatten(), randomTreeGridPredictions))\n",
    "print(classification_report(y_test.flatten(), randomTreeGridPredictions,\n",
    "                            target_names=[\"Non Fraudulent\", \"Fraudulent\"]))\n",
    "p, r, t = precision_recall_curve(y_test.flatten(), randomTreeGridPredictProba)\n",
    "plt.plot(p, r)\n",
    "plt.xlabel('Recall')\n",
    "plt.ylabel('Precision')\n",
    "plt.title('Precision Recall Curve - Random Forest Classifier')\n",
    "confusionMatrix = confusion_matrix(y_test.flatten(), randomTreeGridPredictions) \n",
    "plt.figure(figsize =(6, 6)) \n",
    "sns.heatmap(confusionMatrix, xticklabels = ['Non Fraudulent', 'Fraudulent'],  \n",
    "            yticklabels = ['Non Fraudulent', 'Fraudulent'], annot = True, fmt =\"d\"); \n",
    "plt.title(\"Confusion matrix - Random Forest Classifier\") \n",
    "plt.ylabel('Actual Class') \n",
    "plt.xlabel('Predicted class') \n",
    "plt.show()"
   ]
  },
  {
   "cell_type": "markdown",
   "metadata": {},
   "source": [
    "# Feature Selection"
   ]
  },
  {
   "cell_type": "code",
   "execution_count": 36,
   "metadata": {},
   "outputs": [
    {
     "data": {
      "text/plain": [
       "[(0.2107178941150608, 'V17'),\n",
       " (0.12041150081095829, 'V12'),\n",
       " (0.11522489887145057, 'V14'),\n",
       " (0.08181395015930679, 'V10'),\n",
       " (0.0661349452097022, 'V11'),\n",
       " (0.060614265248656596, 'V16'),\n",
       " (0.030009283652137314, 'V9'),\n",
       " (0.027118166398424827, 'V4'),\n",
       " (0.025099915495132387, 'V7'),\n",
       " (0.023995196282617, 'V18'),\n",
       " (0.016429713999359382, 'V26'),\n",
       " (0.01607087437012219, 'V3'),\n",
       " (0.015365843621133593, 'V1'),\n",
       " (0.014838171473302847, 'V5'),\n",
       " (0.013950776249500698, 'V21'),\n",
       " (0.013120374336278308, 'V6'),\n",
       " (0.012531685785787594, 'V19'),\n",
       " (0.012282927388736901, 'V2'),\n",
       " (0.012183961064436165, 'V15'),\n",
       " (0.012054839858392683, 'V8'),\n",
       " (0.012018667536457245, 'V20'),\n",
       " (0.011244456106992335, 'V27'),\n",
       " (0.010768415236565613, 'V28'),\n",
       " (0.01030474131344009, 'Amount'),\n",
       " (0.010293801677358948, 'V24'),\n",
       " (0.010249141733258077, 'V13'),\n",
       " (0.010240854782277724, 'Time'),\n",
       " (0.009032896917317868, 'V22'),\n",
       " (0.008368911508760063, 'V25'),\n",
       " (0.007508928797075038, 'V23')]"
      ]
     },
     "execution_count": 36,
     "metadata": {},
     "output_type": "execute_result"
    }
   ],
   "source": [
    "feature_names = selected_features.columns\n",
    "sorted(zip(randomTreeModel.feature_importances_, feature_names), reverse=True)"
   ]
  },
  {
   "cell_type": "markdown",
   "metadata": {},
   "source": [
    "# Choosing Top features"
   ]
  },
  {
   "cell_type": "code",
   "execution_count": 37,
   "metadata": {},
   "outputs": [
    {
     "data": {
      "text/html": [
       "<div>\n",
       "<style scoped>\n",
       "    .dataframe tbody tr th:only-of-type {\n",
       "        vertical-align: middle;\n",
       "    }\n",
       "\n",
       "    .dataframe tbody tr th {\n",
       "        vertical-align: top;\n",
       "    }\n",
       "\n",
       "    .dataframe thead th {\n",
       "        text-align: right;\n",
       "    }\n",
       "</style>\n",
       "<table border=\"1\" class=\"dataframe\">\n",
       "  <thead>\n",
       "    <tr style=\"text-align: right;\">\n",
       "      <th></th>\n",
       "      <th>V17</th>\n",
       "      <th>V14</th>\n",
       "      <th>V12</th>\n",
       "      <th>V10</th>\n",
       "      <th>V11</th>\n",
       "      <th>V16</th>\n",
       "      <th>V9</th>\n",
       "    </tr>\n",
       "  </thead>\n",
       "  <tbody>\n",
       "    <tr>\n",
       "      <th>0</th>\n",
       "      <td>0.207971</td>\n",
       "      <td>-0.311169</td>\n",
       "      <td>-0.617801</td>\n",
       "      <td>0.090794</td>\n",
       "      <td>-0.5516</td>\n",
       "      <td>-0.470401</td>\n",
       "      <td>0.363787</td>\n",
       "    </tr>\n",
       "  </tbody>\n",
       "</table>\n",
       "</div>"
      ],
      "text/plain": [
       "        V17       V14       V12       V10     V11       V16        V9\n",
       "0  0.207971 -0.311169 -0.617801  0.090794 -0.5516 -0.470401  0.363787"
      ]
     },
     "execution_count": 37,
     "metadata": {},
     "output_type": "execute_result"
    }
   ],
   "source": [
    "# Set top features. This will be used as x values.\n",
    "top_features = df[[ \n",
    "'V17',\n",
    "'V14',\n",
    "'V12',\n",
    "'V10',\n",
    "'V11',\n",
    "'V16',\n",
    "'V9',\n",
    "]]\n",
    "\n",
    "top_features.head(1)"
   ]
  },
  {
   "cell_type": "markdown",
   "metadata": {},
   "source": [
    "# Create a Train Test Split¶\n",
    "Use Class for the y values"
   ]
  },
  {
   "cell_type": "code",
   "execution_count": 38,
   "metadata": {},
   "outputs": [
    {
     "name": "stdout",
     "output_type": "stream",
     "text": [
      "Shape:  (284807, 7) (284807, 1)\n"
     ]
    }
   ],
   "source": [
    "# Assign the data to X and y\n",
    "# Note: Sklearn requires a two-dimensional array of values\n",
    "# so we use reshape to create this\n",
    "\n",
    "top_X = top_features\n",
    "top_y = df[['Class']].values.reshape(-1, 1)\n",
    "\n",
    "print(\"Shape: \", top_X.shape, top_y.shape)"
   ]
  },
  {
   "cell_type": "code",
   "execution_count": 39,
   "metadata": {},
   "outputs": [],
   "source": [
    "top_X_train, top_X_test, top_y_train, top_y_test = train_test_split(top_X, top_y, random_state=42)"
   ]
  },
  {
   "cell_type": "code",
   "execution_count": 40,
   "metadata": {},
   "outputs": [
    {
     "name": "stdout",
     "output_type": "stream",
     "text": [
      "(213605, 7) (71202, 7) (213605, 1) (71202, 1)\n"
     ]
    }
   ],
   "source": [
    "print(top_X_train.shape,top_X_test.shape,top_y_train.shape, top_y_test.shape)"
   ]
  },
  {
   "cell_type": "markdown",
   "metadata": {},
   "source": [
    "# Pre-processing\n",
    "Scale the data using the MinMaxScaler"
   ]
  },
  {
   "cell_type": "code",
   "execution_count": 41,
   "metadata": {},
   "outputs": [],
   "source": [
    "top_X_minmax = MinMaxScaler().fit(top_X_train)\n",
    "\n",
    "top_X_train_scaled = top_X_minmax.transform(top_X_train)\n",
    "top_X_test_scaled = top_X_minmax.transform(top_X_test)"
   ]
  },
  {
   "cell_type": "code",
   "execution_count": 42,
   "metadata": {},
   "outputs": [],
   "source": [
    "X_scaler = MinMaxScaler().fit(X_train)\n",
    "\n",
    "X_train_scaler = X_scaler.transform(X_train)\n",
    "X_test_scaler = X_scaler.transform(X_test)"
   ]
  },
  {
   "cell_type": "markdown",
   "metadata": {},
   "source": [
    "# Random Forest Model with Top features¶\n",
    "\n",
    "### Train the Model"
   ]
  },
  {
   "cell_type": "code",
   "execution_count": 44,
   "metadata": {},
   "outputs": [
    {
     "data": {
      "text/plain": [
       "RandomForestClassifier()"
      ]
     },
     "execution_count": 44,
     "metadata": {},
     "output_type": "execute_result"
    }
   ],
   "source": [
    "top_randomTreeModel = RandomForestClassifier()\n",
    "top_randomTreeModel"
   ]
  },
  {
   "cell_type": "code",
   "execution_count": 45,
   "metadata": {},
   "outputs": [
    {
     "data": {
      "text/plain": [
       "RandomForestClassifier()"
      ]
     },
     "execution_count": 45,
     "metadata": {},
     "output_type": "execute_result"
    }
   ],
   "source": [
    "top_randomTreeModel.fit(top_X_train_scaled, top_y_train.flatten())"
   ]
  },
  {
   "cell_type": "code",
   "execution_count": 47,
   "metadata": {},
   "outputs": [],
   "source": [
    "# Make predictions\n",
    "top_randomTreePredictions = top_randomTreeModel.predict(top_X_test_scaled)"
   ]
  },
  {
   "cell_type": "code",
   "execution_count": 48,
   "metadata": {},
   "outputs": [],
   "source": [
    "top_randomTreePredictProba = top_randomTreeModel.predict_proba(top_X_test_scaled)[:,1]"
   ]
  },
  {
   "cell_type": "code",
   "execution_count": 49,
   "metadata": {},
   "outputs": [
    {
     "name": "stdout",
     "output_type": "stream",
     "text": [
      "                precision    recall  f1-score   support\n",
      "\n",
      "Non Fraudulent       1.00      1.00      1.00     71089\n",
      "    Fraudulent       0.91      0.79      0.84       113\n",
      "\n",
      "      accuracy                           1.00     71202\n",
      "     macro avg       0.95      0.89      0.92     71202\n",
      "  weighted avg       1.00      1.00      1.00     71202\n",
      "\n",
      "Accuracy: 0.9995365298727564\n"
     ]
    }
   ],
   "source": [
    "print(classification_report(top_y_test.flatten(), top_randomTreePredictions,\n",
    "                            target_names=[\"Non Fraudulent\", \"Fraudulent\"]))\n",
    "print(\"Accuracy:\", accuracy_score(top_y_test.flatten(), top_randomTreePredictions))"
   ]
  },
  {
   "cell_type": "code",
   "execution_count": 73,
   "metadata": {},
   "outputs": [
    {
     "name": "stdout",
     "output_type": "stream",
     "text": [
      "Random Forest Classifier\n",
      "========================\n",
      "Accuracy:  0.9995365298727564\n",
      "Precision:  0.9081632653061225\n",
      "Recall:  0.7876106194690266\n",
      "F1-Score:  0.8436018957345971\n",
      "AUC score:  0.8937420088018796\n",
      "                precision    recall  f1-score   support\n",
      "\n",
      "Non Fraudulent       1.00      1.00      1.00     71089\n",
      "    Fraudulent       0.91      0.79      0.84       113\n",
      "\n",
      "      accuracy                           1.00     71202\n",
      "     macro avg       0.95      0.89      0.92     71202\n",
      "  weighted avg       1.00      1.00      1.00     71202\n",
      "\n"
     ]
    },
    {
     "data": {
      "image/png": "[encoded data removed]",
      "text/plain": [
       "<Figure size 432x288 with 1 Axes>"
      ]
     },
     "metadata": {
      "needs_background": "light"
     },
     "output_type": "display_data"
    },
    {
     "data": {
      "image/png": "[encoded data removed]",
      "text/plain": [
       "<Figure size 432x432 with 2 Axes>"
      ]
     },
     "metadata": {
      "needs_background": "light"
     },
     "output_type": "display_data"
    }
   ],
   "source": [
    "print(\"Random Forest Classifier\")\n",
    "print(\"========================\")\n",
    "print(\"Accuracy: \",accuracy_score(y_test.flatten(), top_randomTreePredictions)) \n",
    "print(\"Precision: \",precision_score(y_test.flatten(), top_randomTreePredictions))\n",
    "print(\"Recall: \",recall_score(y_test.flatten(), top_randomTreePredictions))\n",
    "print(\"F1-Score: \",f1_score(y_test.flatten(), top_randomTreePredictions))\n",
    "print(\"AUC score: \",roc_auc_score(y_test.flatten(), top_randomTreePredictions))\n",
    "print(classification_report(y_test.flatten(), top_randomTreePredictions,\n",
    "                            target_names=[\"Non Fraudulent\", \"Fraudulent\"]))\n",
    "\n",
    "p, r, t = precision_recall_curve(y_test.flatten(), top_randomTreePredictProba)\n",
    "plt.plot(p, r)\n",
    "plt.xlabel('Recall')\n",
    "plt.ylabel('Precision')\n",
    "plt.title('Precision Recall Curve - Random Forest Classifier')\n",
    "\n",
    "confusionMatrix = confusion_matrix(y_test.flatten(), top_randomTreePredictions) \n",
    "plt.figure(figsize =(6, 6)) \n",
    "sns.heatmap(confusionMatrix, xticklabels = ['Non Fraudulent', 'Fraudulent'],  \n",
    "            yticklabels = ['Non Fraudulent', 'Fraudulent'], annot = True, fmt =\"d\"); \n",
    "plt.title(\"Confusion matrix - Random Forest Classifier\") \n",
    "plt.ylabel('Actual Class') \n",
    "plt.xlabel('Predicted class') \n",
    "plt.show()"
   ]
  },
  {
   "cell_type": "markdown",
   "metadata": {},
   "source": [
    "# Hyperparameter Tuning\n",
    "Use GridSearchCV to tune the model's parameters"
   ]
  },
  {
   "cell_type": "code",
   "execution_count": 51,
   "metadata": {},
   "outputs": [
    {
     "data": {
      "text/plain": [
       "dict_keys(['bootstrap', 'ccp_alpha', 'class_weight', 'criterion', 'max_depth', 'max_features', 'max_leaf_nodes', 'max_samples', 'min_impurity_decrease', 'min_impurity_split', 'min_samples_leaf', 'min_samples_split', 'min_weight_fraction_leaf', 'n_estimators', 'n_jobs', 'oob_score', 'random_state', 'verbose', 'warm_start'])"
      ]
     },
     "execution_count": 51,
     "metadata": {},
     "output_type": "execute_result"
    }
   ],
   "source": [
    "top_randomTreeModel.get_params().keys()"
   ]
  },
  {
   "cell_type": "code",
   "execution_count": 53,
   "metadata": {},
   "outputs": [],
   "source": [
    "# Create the GridSearchCV model\n",
    "# Create the GridSearch estimator along with a parameter object containing the values to adjust\n",
    "top_randomTreeParamGrid = {'n_estimators': [100, 200],\n",
    "                           'criterion': ['gini','entropy'],\n",
    "                           'class_weight': [\"balanced\",\"balanced_subsample\", None],\n",
    "                           'max_features': ['auto','sqrt','log2',None],\n",
    "                          }\n",
    "top_randomTreeGrid = GridSearchCV(top_randomTreeModel, top_randomTreeParamGrid, verbose=3)"
   ]
  },
  {
   "cell_type": "code",
   "execution_count": 54,
   "metadata": {},
   "outputs": [
    {
     "name": "stdout",
     "output_type": "stream",
     "text": [
      "Fitting 5 folds for each of 48 candidates, totalling 240 fits\n",
      "[CV] class_weight=balanced, criterion=gini, max_features=auto, n_estimators=100 \n"
     ]
    },
    {
     "name": "stderr",
     "output_type": "stream",
     "text": [
      "[Parallel(n_jobs=1)]: Using backend SequentialBackend with 1 concurrent workers.\n"
     ]
    },
    {
     "name": "stdout",
     "output_type": "stream",
     "text": [
      "[CV]  class_weight=balanced, criterion=gini, max_features=auto, n_estimators=100, score=1.000, total=  24.5s\n",
      "[CV] class_weight=balanced, criterion=gini, max_features=auto, n_estimators=100 \n"
     ]
    },
    {
     "name": "stderr",
     "output_type": "stream",
     "text": [
      "[Parallel(n_jobs=1)]: Done   1 out of   1 | elapsed:   24.4s remaining:    0.0s\n"
     ]
    },
    {
     "name": "stdout",
     "output_type": "stream",
     "text": [
      "[CV]  class_weight=balanced, criterion=gini, max_features=auto, n_estimators=100, score=0.999, total=  25.5s\n",
      "[CV] class_weight=balanced, criterion=gini, max_features=auto, n_estimators=100 \n"
     ]
    },
    {
     "name": "stderr",
     "output_type": "stream",
     "text": [
      "[Parallel(n_jobs=1)]: Done   2 out of   2 | elapsed:   49.9s remaining:    0.0s\n"
     ]
    },
    {
     "name": "stdout",
     "output_type": "stream",
     "text": [
      "[CV]  class_weight=balanced, criterion=gini, max_features=auto, n_estimators=100, score=0.999, total=  25.0s\n",
      "[CV] class_weight=balanced, criterion=gini, max_features=auto, n_estimators=100 \n",
      "[CV]  class_weight=balanced, criterion=gini, max_features=auto, n_estimators=100, score=1.000, total=  25.9s\n",
      "[CV] class_weight=balanced, criterion=gini, max_features=auto, n_estimators=100 \n",
      "[CV]  class_weight=balanced, criterion=gini, max_features=auto, n_estimators=100, score=0.999, total=  24.8s\n",
      "[CV] class_weight=balanced, criterion=gini, max_features=auto, n_estimators=200 \n",
      "[CV]  class_weight=balanced, criterion=gini, max_features=auto, n_estimators=200, score=1.000, total=  49.9s\n",
      "[CV] class_weight=balanced, criterion=gini, max_features=auto, n_estimators=200 \n",
      "[CV]  class_weight=balanced, criterion=gini, max_features=auto, n_estimators=200, score=0.999, total=  51.6s\n",
      "[CV] class_weight=balanced, criterion=gini, max_features=auto, n_estimators=200 \n",
      "[CV]  class_weight=balanced, criterion=gini, max_features=auto, n_estimators=200, score=0.999, total=  50.7s\n",
      "[CV] class_weight=balanced, criterion=gini, max_features=auto, n_estimators=200 \n",
      "[CV]  class_weight=balanced, criterion=gini, max_features=auto, n_estimators=200, score=1.000, total=  54.6s\n",
      "[CV] class_weight=balanced, criterion=gini, max_features=auto, n_estimators=200 \n",
      "[CV]  class_weight=balanced, criterion=gini, max_features=auto, n_estimators=200, score=1.000, total=  50.6s\n",
      "[CV] class_weight=balanced, criterion=gini, max_features=sqrt, n_estimators=100 \n",
      "[CV]  class_weight=balanced, criterion=gini, max_features=sqrt, n_estimators=100, score=1.000, total=  24.6s\n",
      "[CV] class_weight=balanced, criterion=gini, max_features=sqrt, n_estimators=100 \n",
      "[CV]  class_weight=balanced, criterion=gini, max_features=sqrt, n_estimators=100, score=0.999, total=  25.0s\n",
      "[CV] class_weight=balanced, criterion=gini, max_features=sqrt, n_estimators=100 \n",
      "[CV]  class_weight=balanced, criterion=gini, max_features=sqrt, n_estimators=100, score=1.000, total=  25.2s\n",
      "[CV] class_weight=balanced, criterion=gini, max_features=sqrt, n_estimators=100 \n",
      "[CV]  class_weight=balanced, criterion=gini, max_features=sqrt, n_estimators=100, score=1.000, total=  26.6s\n",
      "[CV] class_weight=balanced, criterion=gini, max_features=sqrt, n_estimators=100 \n",
      "[CV]  class_weight=balanced, criterion=gini, max_features=sqrt, n_estimators=100, score=1.000, total=  24.8s\n",
      "[CV] class_weight=balanced, criterion=gini, max_features=sqrt, n_estimators=200 \n",
      "[CV]  class_weight=balanced, criterion=gini, max_features=sqrt, n_estimators=200, score=1.000, total=  50.4s\n",
      "[CV] class_weight=balanced, criterion=gini, max_features=sqrt, n_estimators=200 \n",
      "[CV]  class_weight=balanced, criterion=gini, max_features=sqrt, n_estimators=200, score=0.999, total=  50.0s\n",
      "[CV] class_weight=balanced, criterion=gini, max_features=sqrt, n_estimators=200 \n",
      "[CV]  class_weight=balanced, criterion=gini, max_features=sqrt, n_estimators=200, score=0.999, total=  48.8s\n",
      "[CV] class_weight=balanced, criterion=gini, max_features=sqrt, n_estimators=200 \n",
      "[CV]  class_weight=balanced, criterion=gini, max_features=sqrt, n_estimators=200, score=1.000, total=  53.2s\n",
      "[CV] class_weight=balanced, criterion=gini, max_features=sqrt, n_estimators=200 \n",
      "[CV]  class_weight=balanced, criterion=gini, max_features=sqrt, n_estimators=200, score=1.000, total=  49.2s\n",
      "[CV] class_weight=balanced, criterion=gini, max_features=log2, n_estimators=100 \n",
      "[CV]  class_weight=balanced, criterion=gini, max_features=log2, n_estimators=100, score=1.000, total=  25.7s\n",
      "[CV] class_weight=balanced, criterion=gini, max_features=log2, n_estimators=100 \n",
      "[CV]  class_weight=balanced, criterion=gini, max_features=log2, n_estimators=100, score=0.999, total=  26.2s\n",
      "[CV] class_weight=balanced, criterion=gini, max_features=log2, n_estimators=100 \n",
      "[CV]  class_weight=balanced, criterion=gini, max_features=log2, n_estimators=100, score=0.999, total=  25.1s\n",
      "[CV] class_weight=balanced, criterion=gini, max_features=log2, n_estimators=100 \n",
      "[CV]  class_weight=balanced, criterion=gini, max_features=log2, n_estimators=100, score=1.000, total=  27.0s\n",
      "[CV] class_weight=balanced, criterion=gini, max_features=log2, n_estimators=100 \n",
      "[CV]  class_weight=balanced, criterion=gini, max_features=log2, n_estimators=100, score=1.000, total=  25.9s\n",
      "[CV] class_weight=balanced, criterion=gini, max_features=log2, n_estimators=200 \n",
      "[CV]  class_weight=balanced, criterion=gini, max_features=log2, n_estimators=200, score=1.000, total=  51.5s\n",
      "[CV] class_weight=balanced, criterion=gini, max_features=log2, n_estimators=200 \n",
      "[CV]  class_weight=balanced, criterion=gini, max_features=log2, n_estimators=200, score=0.999, total=  51.0s\n",
      "[CV] class_weight=balanced, criterion=gini, max_features=log2, n_estimators=200 \n",
      "[CV]  class_weight=balanced, criterion=gini, max_features=log2, n_estimators=200, score=0.999, total=  49.0s\n",
      "[CV] class_weight=balanced, criterion=gini, max_features=log2, n_estimators=200 \n",
      "[CV]  class_weight=balanced, criterion=gini, max_features=log2, n_estimators=200, score=1.000, total=  52.7s\n",
      "[CV] class_weight=balanced, criterion=gini, max_features=log2, n_estimators=200 \n",
      "[CV]  class_weight=balanced, criterion=gini, max_features=log2, n_estimators=200, score=1.000, total=  50.4s\n",
      "[CV] class_weight=balanced, criterion=gini, max_features=None, n_estimators=100 \n",
      "[CV]  class_weight=balanced, criterion=gini, max_features=None, n_estimators=100, score=1.000, total= 1.2min\n",
      "[CV] class_weight=balanced, criterion=gini, max_features=None, n_estimators=100 \n",
      "[CV]  class_weight=balanced, criterion=gini, max_features=None, n_estimators=100, score=0.999, total= 1.3min\n",
      "[CV] class_weight=balanced, criterion=gini, max_features=None, n_estimators=100 \n",
      "[CV]  class_weight=balanced, criterion=gini, max_features=None, n_estimators=100, score=0.999, total= 1.2min\n",
      "[CV] class_weight=balanced, criterion=gini, max_features=None, n_estimators=100 \n",
      "[CV]  class_weight=balanced, criterion=gini, max_features=None, n_estimators=100, score=1.000, total= 1.4min\n",
      "[CV] class_weight=balanced, criterion=gini, max_features=None, n_estimators=100 \n",
      "[CV]  class_weight=balanced, criterion=gini, max_features=None, n_estimators=100, score=1.000, total= 2.6min\n",
      "[CV] class_weight=balanced, criterion=gini, max_features=None, n_estimators=200 \n",
      "[CV]  class_weight=balanced, criterion=gini, max_features=None, n_estimators=200, score=1.000, total= 6.7min\n",
      "[CV] class_weight=balanced, criterion=gini, max_features=None, n_estimators=200 \n",
      "[CV]  class_weight=balanced, criterion=gini, max_features=None, n_estimators=200, score=1.000, total= 2.8min\n",
      "[CV] class_weight=balanced, criterion=gini, max_features=None, n_estimators=200 \n",
      "[CV]  class_weight=balanced, criterion=gini, max_features=None, n_estimators=200, score=0.999, total= 3.2min\n",
      "[CV] class_weight=balanced, criterion=gini, max_features=None, n_estimators=200 \n",
      "[CV]  class_weight=balanced, criterion=gini, max_features=None, n_estimators=200, score=1.000, total= 3.0min\n",
      "[CV] class_weight=balanced, criterion=gini, max_features=None, n_estimators=200 \n",
      "[CV]  class_weight=balanced, criterion=gini, max_features=None, n_estimators=200, score=1.000, total= 2.8min\n",
      "[CV] class_weight=balanced, criterion=entropy, max_features=auto, n_estimators=100 \n",
      "[CV]  class_weight=balanced, criterion=entropy, max_features=auto, n_estimators=100, score=1.000, total=  34.2s\n",
      "[CV] class_weight=balanced, criterion=entropy, max_features=auto, n_estimators=100 \n",
      "[CV]  class_weight=balanced, criterion=entropy, max_features=auto, n_estimators=100, score=0.999, total=  33.7s\n",
      "[CV] class_weight=balanced, criterion=entropy, max_features=auto, n_estimators=100 \n",
      "[CV]  class_weight=balanced, criterion=entropy, max_features=auto, n_estimators=100, score=0.999, total=  32.6s\n",
      "[CV] class_weight=balanced, criterion=entropy, max_features=auto, n_estimators=100 \n",
      "[CV]  class_weight=balanced, criterion=entropy, max_features=auto, n_estimators=100, score=1.000, total=  32.9s\n",
      "[CV] class_weight=balanced, criterion=entropy, max_features=auto, n_estimators=100 \n",
      "[CV]  class_weight=balanced, criterion=entropy, max_features=auto, n_estimators=100, score=1.000, total=  30.2s\n",
      "[CV] class_weight=balanced, criterion=entropy, max_features=auto, n_estimators=200 \n"
     ]
    },
    {
     "name": "stdout",
     "output_type": "stream",
     "text": [
      "[CV]  class_weight=balanced, criterion=entropy, max_features=auto, n_estimators=200, score=1.000, total= 1.0min\n",
      "[CV] class_weight=balanced, criterion=entropy, max_features=auto, n_estimators=200 \n",
      "[CV]  class_weight=balanced, criterion=entropy, max_features=auto, n_estimators=200, score=0.999, total= 1.0min\n",
      "[CV] class_weight=balanced, criterion=entropy, max_features=auto, n_estimators=200 \n",
      "[CV]  class_weight=balanced, criterion=entropy, max_features=auto, n_estimators=200, score=0.999, total= 1.0min\n",
      "[CV] class_weight=balanced, criterion=entropy, max_features=auto, n_estimators=200 \n",
      "[CV]  class_weight=balanced, criterion=entropy, max_features=auto, n_estimators=200, score=1.000, total= 1.1min\n",
      "[CV] class_weight=balanced, criterion=entropy, max_features=auto, n_estimators=200 \n",
      "[CV]  class_weight=balanced, criterion=entropy, max_features=auto, n_estimators=200, score=1.000, total= 1.0min\n",
      "[CV] class_weight=balanced, criterion=entropy, max_features=sqrt, n_estimators=100 \n",
      "[CV]  class_weight=balanced, criterion=entropy, max_features=sqrt, n_estimators=100, score=1.000, total=  30.9s\n",
      "[CV] class_weight=balanced, criterion=entropy, max_features=sqrt, n_estimators=100 \n",
      "[CV]  class_weight=balanced, criterion=entropy, max_features=sqrt, n_estimators=100, score=0.999, total=  31.3s\n",
      "[CV] class_weight=balanced, criterion=entropy, max_features=sqrt, n_estimators=100 \n",
      "[CV]  class_weight=balanced, criterion=entropy, max_features=sqrt, n_estimators=100, score=0.999, total=  32.2s\n",
      "[CV] class_weight=balanced, criterion=entropy, max_features=sqrt, n_estimators=100 \n",
      "[CV]  class_weight=balanced, criterion=entropy, max_features=sqrt, n_estimators=100, score=1.000, total=  34.2s\n",
      "[CV] class_weight=balanced, criterion=entropy, max_features=sqrt, n_estimators=100 \n",
      "[CV]  class_weight=balanced, criterion=entropy, max_features=sqrt, n_estimators=100, score=1.000, total=  30.8s\n",
      "[CV] class_weight=balanced, criterion=entropy, max_features=sqrt, n_estimators=200 \n",
      "[CV]  class_weight=balanced, criterion=entropy, max_features=sqrt, n_estimators=200, score=1.000, total= 1.0min\n",
      "[CV] class_weight=balanced, criterion=entropy, max_features=sqrt, n_estimators=200 \n",
      "[CV]  class_weight=balanced, criterion=entropy, max_features=sqrt, n_estimators=200, score=0.999, total= 1.0min\n",
      "[CV] class_weight=balanced, criterion=entropy, max_features=sqrt, n_estimators=200 \n",
      "[CV]  class_weight=balanced, criterion=entropy, max_features=sqrt, n_estimators=200, score=0.999, total= 1.0min\n",
      "[CV] class_weight=balanced, criterion=entropy, max_features=sqrt, n_estimators=200 \n",
      "[CV]  class_weight=balanced, criterion=entropy, max_features=sqrt, n_estimators=200, score=1.000, total= 1.1min\n",
      "[CV] class_weight=balanced, criterion=entropy, max_features=sqrt, n_estimators=200 \n",
      "[CV]  class_weight=balanced, criterion=entropy, max_features=sqrt, n_estimators=200, score=1.000, total= 1.0min\n",
      "[CV] class_weight=balanced, criterion=entropy, max_features=log2, n_estimators=100 \n",
      "[CV]  class_weight=balanced, criterion=entropy, max_features=log2, n_estimators=100, score=1.000, total=  30.7s\n",
      "[CV] class_weight=balanced, criterion=entropy, max_features=log2, n_estimators=100 \n",
      "[CV]  class_weight=balanced, criterion=entropy, max_features=log2, n_estimators=100, score=0.999, total=  30.7s\n",
      "[CV] class_weight=balanced, criterion=entropy, max_features=log2, n_estimators=100 \n",
      "[CV]  class_weight=balanced, criterion=entropy, max_features=log2, n_estimators=100, score=0.999, total=  30.3s\n",
      "[CV] class_weight=balanced, criterion=entropy, max_features=log2, n_estimators=100 \n",
      "[CV]  class_weight=balanced, criterion=entropy, max_features=log2, n_estimators=100, score=1.000, total=  32.6s\n",
      "[CV] class_weight=balanced, criterion=entropy, max_features=log2, n_estimators=100 \n",
      "[CV]  class_weight=balanced, criterion=entropy, max_features=log2, n_estimators=100, score=1.000, total=  33.4s\n",
      "[CV] class_weight=balanced, criterion=entropy, max_features=log2, n_estimators=200 \n",
      "[CV]  class_weight=balanced, criterion=entropy, max_features=log2, n_estimators=200, score=1.000, total= 1.3min\n",
      "[CV] class_weight=balanced, criterion=entropy, max_features=log2, n_estimators=200 \n",
      "[CV]  class_weight=balanced, criterion=entropy, max_features=log2, n_estimators=200, score=0.999, total= 1.2min\n",
      "[CV] class_weight=balanced, criterion=entropy, max_features=log2, n_estimators=200 \n",
      "[CV]  class_weight=balanced, criterion=entropy, max_features=log2, n_estimators=200, score=0.999, total= 1.2min\n",
      "[CV] class_weight=balanced, criterion=entropy, max_features=log2, n_estimators=200 \n",
      "[CV]  class_weight=balanced, criterion=entropy, max_features=log2, n_estimators=200, score=1.000, total= 1.2min\n",
      "[CV] class_weight=balanced, criterion=entropy, max_features=log2, n_estimators=200 \n",
      "[CV]  class_weight=balanced, criterion=entropy, max_features=log2, n_estimators=200, score=1.000, total= 1.2min\n",
      "[CV] class_weight=balanced, criterion=entropy, max_features=None, n_estimators=100 \n",
      "[CV]  class_weight=balanced, criterion=entropy, max_features=None, n_estimators=100, score=1.000, total= 1.7min\n",
      "[CV] class_weight=balanced, criterion=entropy, max_features=None, n_estimators=100 \n",
      "[CV]  class_weight=balanced, criterion=entropy, max_features=None, n_estimators=100, score=1.000, total= 1.8min\n",
      "[CV] class_weight=balanced, criterion=entropy, max_features=None, n_estimators=100 \n",
      "[CV]  class_weight=balanced, criterion=entropy, max_features=None, n_estimators=100, score=0.999, total= 1.7min\n",
      "[CV] class_weight=balanced, criterion=entropy, max_features=None, n_estimators=100 \n",
      "[CV]  class_weight=balanced, criterion=entropy, max_features=None, n_estimators=100, score=1.000, total= 2.0min\n",
      "[CV] class_weight=balanced, criterion=entropy, max_features=None, n_estimators=100 \n",
      "[CV]  class_weight=balanced, criterion=entropy, max_features=None, n_estimators=100, score=1.000, total= 1.6min\n",
      "[CV] class_weight=balanced, criterion=entropy, max_features=None, n_estimators=200 \n",
      "[CV]  class_weight=balanced, criterion=entropy, max_features=None, n_estimators=200, score=1.000, total= 3.1min\n",
      "[CV] class_weight=balanced, criterion=entropy, max_features=None, n_estimators=200 \n",
      "[CV]  class_weight=balanced, criterion=entropy, max_features=None, n_estimators=200, score=0.999, total= 3.5min\n",
      "[CV] class_weight=balanced, criterion=entropy, max_features=None, n_estimators=200 \n",
      "[CV]  class_weight=balanced, criterion=entropy, max_features=None, n_estimators=200, score=0.999, total= 2.9min\n",
      "[CV] class_weight=balanced, criterion=entropy, max_features=None, n_estimators=200 \n",
      "[CV]  class_weight=balanced, criterion=entropy, max_features=None, n_estimators=200, score=1.000, total= 3.1min\n",
      "[CV] class_weight=balanced, criterion=entropy, max_features=None, n_estimators=200 \n",
      "[CV]  class_weight=balanced, criterion=entropy, max_features=None, n_estimators=200, score=1.000, total= 2.9min\n",
      "[CV] class_weight=balanced_subsample, criterion=gini, max_features=auto, n_estimators=100 \n",
      "[CV]  class_weight=balanced_subsample, criterion=gini, max_features=auto, n_estimators=100, score=1.000, total=  28.8s\n",
      "[CV] class_weight=balanced_subsample, criterion=gini, max_features=auto, n_estimators=100 \n",
      "[CV]  class_weight=balanced_subsample, criterion=gini, max_features=auto, n_estimators=100, score=0.999, total=  28.5s\n",
      "[CV] class_weight=balanced_subsample, criterion=gini, max_features=auto, n_estimators=100 \n",
      "[CV]  class_weight=balanced_subsample, criterion=gini, max_features=auto, n_estimators=100, score=0.999, total=  27.1s\n",
      "[CV] class_weight=balanced_subsample, criterion=gini, max_features=auto, n_estimators=100 \n",
      "[CV]  class_weight=balanced_subsample, criterion=gini, max_features=auto, n_estimators=100, score=1.000, total=  29.0s\n",
      "[CV] class_weight=balanced_subsample, criterion=gini, max_features=auto, n_estimators=100 \n",
      "[CV]  class_weight=balanced_subsample, criterion=gini, max_features=auto, n_estimators=100, score=1.000, total=  28.4s\n",
      "[CV] class_weight=balanced_subsample, criterion=gini, max_features=auto, n_estimators=200 \n",
      "[CV]  class_weight=balanced_subsample, criterion=gini, max_features=auto, n_estimators=200, score=1.000, total=  57.7s\n",
      "[CV] class_weight=balanced_subsample, criterion=gini, max_features=auto, n_estimators=200 \n",
      "[CV]  class_weight=balanced_subsample, criterion=gini, max_features=auto, n_estimators=200, score=0.999, total=  56.1s\n",
      "[CV] class_weight=balanced_subsample, criterion=gini, max_features=auto, n_estimators=200 \n"
     ]
    },
    {
     "name": "stdout",
     "output_type": "stream",
     "text": [
      "[CV]  class_weight=balanced_subsample, criterion=gini, max_features=auto, n_estimators=200, score=0.999, total=  55.0s\n",
      "[CV] class_weight=balanced_subsample, criterion=gini, max_features=auto, n_estimators=200 \n",
      "[CV]  class_weight=balanced_subsample, criterion=gini, max_features=auto, n_estimators=200, score=1.000, total=  59.4s\n",
      "[CV] class_weight=balanced_subsample, criterion=gini, max_features=auto, n_estimators=200 \n",
      "[CV]  class_weight=balanced_subsample, criterion=gini, max_features=auto, n_estimators=200, score=1.000, total=  55.3s\n",
      "[CV] class_weight=balanced_subsample, criterion=gini, max_features=sqrt, n_estimators=100 \n",
      "[CV]  class_weight=balanced_subsample, criterion=gini, max_features=sqrt, n_estimators=100, score=1.000, total=  29.1s\n",
      "[CV] class_weight=balanced_subsample, criterion=gini, max_features=sqrt, n_estimators=100 \n",
      "[CV]  class_weight=balanced_subsample, criterion=gini, max_features=sqrt, n_estimators=100, score=1.000, total=  28.2s\n",
      "[CV] class_weight=balanced_subsample, criterion=gini, max_features=sqrt, n_estimators=100 \n",
      "[CV]  class_weight=balanced_subsample, criterion=gini, max_features=sqrt, n_estimators=100, score=0.999, total=  27.9s\n",
      "[CV] class_weight=balanced_subsample, criterion=gini, max_features=sqrt, n_estimators=100 \n",
      "[CV]  class_weight=balanced_subsample, criterion=gini, max_features=sqrt, n_estimators=100, score=1.000, total=  29.2s\n",
      "[CV] class_weight=balanced_subsample, criterion=gini, max_features=sqrt, n_estimators=100 \n",
      "[CV]  class_weight=balanced_subsample, criterion=gini, max_features=sqrt, n_estimators=100, score=0.999, total=  27.5s\n",
      "[CV] class_weight=balanced_subsample, criterion=gini, max_features=sqrt, n_estimators=200 \n",
      "[CV]  class_weight=balanced_subsample, criterion=gini, max_features=sqrt, n_estimators=200, score=1.000, total=  57.2s\n",
      "[CV] class_weight=balanced_subsample, criterion=gini, max_features=sqrt, n_estimators=200 \n",
      "[CV]  class_weight=balanced_subsample, criterion=gini, max_features=sqrt, n_estimators=200, score=0.999, total=  57.1s\n",
      "[CV] class_weight=balanced_subsample, criterion=gini, max_features=sqrt, n_estimators=200 \n",
      "[CV]  class_weight=balanced_subsample, criterion=gini, max_features=sqrt, n_estimators=200, score=0.999, total=  55.1s\n",
      "[CV] class_weight=balanced_subsample, criterion=gini, max_features=sqrt, n_estimators=200 \n",
      "[CV]  class_weight=balanced_subsample, criterion=gini, max_features=sqrt, n_estimators=200, score=1.000, total=  58.1s\n",
      "[CV] class_weight=balanced_subsample, criterion=gini, max_features=sqrt, n_estimators=200 \n",
      "[CV]  class_weight=balanced_subsample, criterion=gini, max_features=sqrt, n_estimators=200, score=1.000, total=  59.4s\n",
      "[CV] class_weight=balanced_subsample, criterion=gini, max_features=log2, n_estimators=100 \n",
      "[CV]  class_weight=balanced_subsample, criterion=gini, max_features=log2, n_estimators=100, score=1.000, total=  31.6s\n",
      "[CV] class_weight=balanced_subsample, criterion=gini, max_features=log2, n_estimators=100 \n",
      "[CV]  class_weight=balanced_subsample, criterion=gini, max_features=log2, n_estimators=100, score=0.999, total=  31.0s\n",
      "[CV] class_weight=balanced_subsample, criterion=gini, max_features=log2, n_estimators=100 \n",
      "[CV]  class_weight=balanced_subsample, criterion=gini, max_features=log2, n_estimators=100, score=0.999, total=  30.0s\n",
      "[CV] class_weight=balanced_subsample, criterion=gini, max_features=log2, n_estimators=100 \n",
      "[CV]  class_weight=balanced_subsample, criterion=gini, max_features=log2, n_estimators=100, score=1.000, total=  31.4s\n",
      "[CV] class_weight=balanced_subsample, criterion=gini, max_features=log2, n_estimators=100 \n",
      "[CV]  class_weight=balanced_subsample, criterion=gini, max_features=log2, n_estimators=100, score=1.000, total=  32.4s\n",
      "[CV] class_weight=balanced_subsample, criterion=gini, max_features=log2, n_estimators=200 \n",
      "[CV]  class_weight=balanced_subsample, criterion=gini, max_features=log2, n_estimators=200, score=1.000, total= 1.0min\n",
      "[CV] class_weight=balanced_subsample, criterion=gini, max_features=log2, n_estimators=200 \n",
      "[CV]  class_weight=balanced_subsample, criterion=gini, max_features=log2, n_estimators=200, score=0.999, total=  57.4s\n",
      "[CV] class_weight=balanced_subsample, criterion=gini, max_features=log2, n_estimators=200 \n",
      "[CV]  class_weight=balanced_subsample, criterion=gini, max_features=log2, n_estimators=200, score=0.999, total=  55.4s\n",
      "[CV] class_weight=balanced_subsample, criterion=gini, max_features=log2, n_estimators=200 \n",
      "[CV]  class_weight=balanced_subsample, criterion=gini, max_features=log2, n_estimators=200, score=1.000, total=  59.7s\n",
      "[CV] class_weight=balanced_subsample, criterion=gini, max_features=log2, n_estimators=200 \n",
      "[CV]  class_weight=balanced_subsample, criterion=gini, max_features=log2, n_estimators=200, score=1.000, total=  57.7s\n",
      "[CV] class_weight=balanced_subsample, criterion=gini, max_features=None, n_estimators=100 \n",
      "[CV]  class_weight=balanced_subsample, criterion=gini, max_features=None, n_estimators=100, score=1.000, total= 1.3min\n",
      "[CV] class_weight=balanced_subsample, criterion=gini, max_features=None, n_estimators=100 \n",
      "[CV]  class_weight=balanced_subsample, criterion=gini, max_features=None, n_estimators=100, score=1.000, total= 1.4min\n",
      "[CV] class_weight=balanced_subsample, criterion=gini, max_features=None, n_estimators=100 \n",
      "[CV]  class_weight=balanced_subsample, criterion=gini, max_features=None, n_estimators=100, score=0.999, total= 1.3min\n",
      "[CV] class_weight=balanced_subsample, criterion=gini, max_features=None, n_estimators=100 \n",
      "[CV]  class_weight=balanced_subsample, criterion=gini, max_features=None, n_estimators=100, score=0.999, total= 1.4min\n",
      "[CV] class_weight=balanced_subsample, criterion=gini, max_features=None, n_estimators=100 \n",
      "[CV]  class_weight=balanced_subsample, criterion=gini, max_features=None, n_estimators=100, score=1.000, total= 1.3min\n",
      "[CV] class_weight=balanced_subsample, criterion=gini, max_features=None, n_estimators=200 \n",
      "[CV]  class_weight=balanced_subsample, criterion=gini, max_features=None, n_estimators=200, score=1.000, total= 2.7min\n",
      "[CV] class_weight=balanced_subsample, criterion=gini, max_features=None, n_estimators=200 \n",
      "[CV]  class_weight=balanced_subsample, criterion=gini, max_features=None, n_estimators=200, score=1.000, total= 2.8min\n",
      "[CV] class_weight=balanced_subsample, criterion=gini, max_features=None, n_estimators=200 \n",
      "[CV]  class_weight=balanced_subsample, criterion=gini, max_features=None, n_estimators=200, score=0.999, total= 2.5min\n",
      "[CV] class_weight=balanced_subsample, criterion=gini, max_features=None, n_estimators=200 \n",
      "[CV]  class_weight=balanced_subsample, criterion=gini, max_features=None, n_estimators=200, score=1.000, total= 2.8min\n",
      "[CV] class_weight=balanced_subsample, criterion=gini, max_features=None, n_estimators=200 \n",
      "[CV]  class_weight=balanced_subsample, criterion=gini, max_features=None, n_estimators=200, score=1.000, total= 2.6min\n",
      "[CV] class_weight=balanced_subsample, criterion=entropy, max_features=auto, n_estimators=100 \n",
      "[CV]  class_weight=balanced_subsample, criterion=entropy, max_features=auto, n_estimators=100, score=1.000, total=  33.3s\n",
      "[CV] class_weight=balanced_subsample, criterion=entropy, max_features=auto, n_estimators=100 \n",
      "[CV]  class_weight=balanced_subsample, criterion=entropy, max_features=auto, n_estimators=100, score=0.999, total=  32.7s\n",
      "[CV] class_weight=balanced_subsample, criterion=entropy, max_features=auto, n_estimators=100 \n",
      "[CV]  class_weight=balanced_subsample, criterion=entropy, max_features=auto, n_estimators=100, score=0.999, total=  32.3s\n",
      "[CV] class_weight=balanced_subsample, criterion=entropy, max_features=auto, n_estimators=100 \n",
      "[CV]  class_weight=balanced_subsample, criterion=entropy, max_features=auto, n_estimators=100, score=1.000, total=  35.4s\n",
      "[CV] class_weight=balanced_subsample, criterion=entropy, max_features=auto, n_estimators=100 \n",
      "[CV]  class_weight=balanced_subsample, criterion=entropy, max_features=auto, n_estimators=100, score=1.000, total=  32.9s\n",
      "[CV] class_weight=balanced_subsample, criterion=entropy, max_features=auto, n_estimators=200 \n",
      "[CV]  class_weight=balanced_subsample, criterion=entropy, max_features=auto, n_estimators=200, score=1.000, total= 1.1min\n",
      "[CV] class_weight=balanced_subsample, criterion=entropy, max_features=auto, n_estimators=200 \n"
     ]
    },
    {
     "name": "stdout",
     "output_type": "stream",
     "text": [
      "[CV]  class_weight=balanced_subsample, criterion=entropy, max_features=auto, n_estimators=200, score=0.999, total= 1.1min\n",
      "[CV] class_weight=balanced_subsample, criterion=entropy, max_features=auto, n_estimators=200 \n",
      "[CV]  class_weight=balanced_subsample, criterion=entropy, max_features=auto, n_estimators=200, score=0.999, total= 1.1min\n",
      "[CV] class_weight=balanced_subsample, criterion=entropy, max_features=auto, n_estimators=200 \n",
      "[CV]  class_weight=balanced_subsample, criterion=entropy, max_features=auto, n_estimators=200, score=1.000, total= 1.2min\n",
      "[CV] class_weight=balanced_subsample, criterion=entropy, max_features=auto, n_estimators=200 \n",
      "[CV]  class_weight=balanced_subsample, criterion=entropy, max_features=auto, n_estimators=200, score=1.000, total= 1.1min\n",
      "[CV] class_weight=balanced_subsample, criterion=entropy, max_features=sqrt, n_estimators=100 \n",
      "[CV]  class_weight=balanced_subsample, criterion=entropy, max_features=sqrt, n_estimators=100, score=1.000, total=  33.7s\n",
      "[CV] class_weight=balanced_subsample, criterion=entropy, max_features=sqrt, n_estimators=100 \n",
      "[CV]  class_weight=balanced_subsample, criterion=entropy, max_features=sqrt, n_estimators=100, score=0.999, total=  37.0s\n",
      "[CV] class_weight=balanced_subsample, criterion=entropy, max_features=sqrt, n_estimators=100 \n",
      "[CV]  class_weight=balanced_subsample, criterion=entropy, max_features=sqrt, n_estimators=100, score=0.999, total=  32.7s\n",
      "[CV] class_weight=balanced_subsample, criterion=entropy, max_features=sqrt, n_estimators=100 \n",
      "[CV]  class_weight=balanced_subsample, criterion=entropy, max_features=sqrt, n_estimators=100, score=1.000, total=  34.8s\n",
      "[CV] class_weight=balanced_subsample, criterion=entropy, max_features=sqrt, n_estimators=100 \n",
      "[CV]  class_weight=balanced_subsample, criterion=entropy, max_features=sqrt, n_estimators=100, score=1.000, total=  32.9s\n",
      "[CV] class_weight=balanced_subsample, criterion=entropy, max_features=sqrt, n_estimators=200 \n",
      "[CV]  class_weight=balanced_subsample, criterion=entropy, max_features=sqrt, n_estimators=200, score=1.000, total= 1.1min\n",
      "[CV] class_weight=balanced_subsample, criterion=entropy, max_features=sqrt, n_estimators=200 \n",
      "[CV]  class_weight=balanced_subsample, criterion=entropy, max_features=sqrt, n_estimators=200, score=0.999, total= 1.1min\n",
      "[CV] class_weight=balanced_subsample, criterion=entropy, max_features=sqrt, n_estimators=200 \n",
      "[CV]  class_weight=balanced_subsample, criterion=entropy, max_features=sqrt, n_estimators=200, score=0.999, total= 1.1min\n",
      "[CV] class_weight=balanced_subsample, criterion=entropy, max_features=sqrt, n_estimators=200 \n",
      "[CV]  class_weight=balanced_subsample, criterion=entropy, max_features=sqrt, n_estimators=200, score=1.000, total= 1.2min\n",
      "[CV] class_weight=balanced_subsample, criterion=entropy, max_features=sqrt, n_estimators=200 \n",
      "[CV]  class_weight=balanced_subsample, criterion=entropy, max_features=sqrt, n_estimators=200, score=1.000, total= 1.1min\n",
      "[CV] class_weight=balanced_subsample, criterion=entropy, max_features=log2, n_estimators=100 \n",
      "[CV]  class_weight=balanced_subsample, criterion=entropy, max_features=log2, n_estimators=100, score=1.000, total=  33.7s\n",
      "[CV] class_weight=balanced_subsample, criterion=entropy, max_features=log2, n_estimators=100 \n",
      "[CV]  class_weight=balanced_subsample, criterion=entropy, max_features=log2, n_estimators=100, score=0.999, total=  33.3s\n",
      "[CV] class_weight=balanced_subsample, criterion=entropy, max_features=log2, n_estimators=100 \n",
      "[CV]  class_weight=balanced_subsample, criterion=entropy, max_features=log2, n_estimators=100, score=1.000, total=  32.6s\n",
      "[CV] class_weight=balanced_subsample, criterion=entropy, max_features=log2, n_estimators=100 \n",
      "[CV]  class_weight=balanced_subsample, criterion=entropy, max_features=log2, n_estimators=100, score=1.000, total=  37.5s\n",
      "[CV] class_weight=balanced_subsample, criterion=entropy, max_features=log2, n_estimators=100 \n",
      "[CV]  class_weight=balanced_subsample, criterion=entropy, max_features=log2, n_estimators=100, score=1.000, total=  34.0s\n",
      "[CV] class_weight=balanced_subsample, criterion=entropy, max_features=log2, n_estimators=200 \n",
      "[CV]  class_weight=balanced_subsample, criterion=entropy, max_features=log2, n_estimators=200, score=1.000, total= 1.1min\n",
      "[CV] class_weight=balanced_subsample, criterion=entropy, max_features=log2, n_estimators=200 \n",
      "[CV]  class_weight=balanced_subsample, criterion=entropy, max_features=log2, n_estimators=200, score=0.999, total= 1.1min\n",
      "[CV] class_weight=balanced_subsample, criterion=entropy, max_features=log2, n_estimators=200 \n",
      "[CV]  class_weight=balanced_subsample, criterion=entropy, max_features=log2, n_estimators=200, score=0.999, total= 1.1min\n",
      "[CV] class_weight=balanced_subsample, criterion=entropy, max_features=log2, n_estimators=200 \n",
      "[CV]  class_weight=balanced_subsample, criterion=entropy, max_features=log2, n_estimators=200, score=1.000, total= 1.2min\n",
      "[CV] class_weight=balanced_subsample, criterion=entropy, max_features=log2, n_estimators=200 \n",
      "[CV]  class_weight=balanced_subsample, criterion=entropy, max_features=log2, n_estimators=200, score=1.000, total= 1.1min\n",
      "[CV] class_weight=balanced_subsample, criterion=entropy, max_features=None, n_estimators=100 \n",
      "[CV]  class_weight=balanced_subsample, criterion=entropy, max_features=None, n_estimators=100, score=1.000, total= 1.5min\n",
      "[CV] class_weight=balanced_subsample, criterion=entropy, max_features=None, n_estimators=100 \n",
      "[CV]  class_weight=balanced_subsample, criterion=entropy, max_features=None, n_estimators=100, score=1.000, total= 1.5min\n",
      "[CV] class_weight=balanced_subsample, criterion=entropy, max_features=None, n_estimators=100 \n",
      "[CV]  class_weight=balanced_subsample, criterion=entropy, max_features=None, n_estimators=100, score=0.999, total= 1.4min\n",
      "[CV] class_weight=balanced_subsample, criterion=entropy, max_features=None, n_estimators=100 \n",
      "[CV]  class_weight=balanced_subsample, criterion=entropy, max_features=None, n_estimators=100, score=1.000, total= 1.5min\n",
      "[CV] class_weight=balanced_subsample, criterion=entropy, max_features=None, n_estimators=100 \n",
      "[CV]  class_weight=balanced_subsample, criterion=entropy, max_features=None, n_estimators=100, score=1.000, total= 1.4min\n",
      "[CV] class_weight=balanced_subsample, criterion=entropy, max_features=None, n_estimators=200 \n",
      "[CV]  class_weight=balanced_subsample, criterion=entropy, max_features=None, n_estimators=200, score=1.000, total= 2.9min\n",
      "[CV] class_weight=balanced_subsample, criterion=entropy, max_features=None, n_estimators=200 \n",
      "[CV]  class_weight=balanced_subsample, criterion=entropy, max_features=None, n_estimators=200, score=0.999, total= 3.0min\n",
      "[CV] class_weight=balanced_subsample, criterion=entropy, max_features=None, n_estimators=200 \n",
      "[CV]  class_weight=balanced_subsample, criterion=entropy, max_features=None, n_estimators=200, score=0.999, total= 2.8min\n",
      "[CV] class_weight=balanced_subsample, criterion=entropy, max_features=None, n_estimators=200 \n",
      "[CV]  class_weight=balanced_subsample, criterion=entropy, max_features=None, n_estimators=200, score=1.000, total= 3.2min\n",
      "[CV] class_weight=balanced_subsample, criterion=entropy, max_features=None, n_estimators=200 \n",
      "[CV]  class_weight=balanced_subsample, criterion=entropy, max_features=None, n_estimators=200, score=1.000, total= 2.9min\n",
      "[CV] class_weight=None, criterion=gini, max_features=auto, n_estimators=100 \n",
      "[CV]  class_weight=None, criterion=gini, max_features=auto, n_estimators=100, score=1.000, total=  42.9s\n",
      "[CV] class_weight=None, criterion=gini, max_features=auto, n_estimators=100 \n",
      "[CV]  class_weight=None, criterion=gini, max_features=auto, n_estimators=100, score=0.999, total=  40.9s\n",
      "[CV] class_weight=None, criterion=gini, max_features=auto, n_estimators=100 \n",
      "[CV]  class_weight=None, criterion=gini, max_features=auto, n_estimators=100, score=0.999, total=  41.4s\n",
      "[CV] class_weight=None, criterion=gini, max_features=auto, n_estimators=100 \n",
      "[CV]  class_weight=None, criterion=gini, max_features=auto, n_estimators=100, score=1.000, total=  44.2s\n",
      "[CV] class_weight=None, criterion=gini, max_features=auto, n_estimators=100 \n",
      "[CV]  class_weight=None, criterion=gini, max_features=auto, n_estimators=100, score=1.000, total=  40.4s\n",
      "[CV] class_weight=None, criterion=gini, max_features=auto, n_estimators=200 \n"
     ]
    },
    {
     "name": "stdout",
     "output_type": "stream",
     "text": [
      "[CV]  class_weight=None, criterion=gini, max_features=auto, n_estimators=200, score=1.000, total= 1.4min\n",
      "[CV] class_weight=None, criterion=gini, max_features=auto, n_estimators=200 \n",
      "[CV]  class_weight=None, criterion=gini, max_features=auto, n_estimators=200, score=1.000, total= 1.4min\n",
      "[CV] class_weight=None, criterion=gini, max_features=auto, n_estimators=200 \n",
      "[CV]  class_weight=None, criterion=gini, max_features=auto, n_estimators=200, score=0.999, total= 1.4min\n",
      "[CV] class_weight=None, criterion=gini, max_features=auto, n_estimators=200 \n",
      "[CV]  class_weight=None, criterion=gini, max_features=auto, n_estimators=200, score=1.000, total= 1.5min\n",
      "[CV] class_weight=None, criterion=gini, max_features=auto, n_estimators=200 \n",
      "[CV]  class_weight=None, criterion=gini, max_features=auto, n_estimators=200, score=1.000, total= 1.4min\n",
      "[CV] class_weight=None, criterion=gini, max_features=sqrt, n_estimators=100 \n",
      "[CV]  class_weight=None, criterion=gini, max_features=sqrt, n_estimators=100, score=1.000, total=  43.1s\n",
      "[CV] class_weight=None, criterion=gini, max_features=sqrt, n_estimators=100 \n",
      "[CV]  class_weight=None, criterion=gini, max_features=sqrt, n_estimators=100, score=1.000, total=  43.4s\n",
      "[CV] class_weight=None, criterion=gini, max_features=sqrt, n_estimators=100 \n",
      "[CV]  class_weight=None, criterion=gini, max_features=sqrt, n_estimators=100, score=0.999, total=  41.3s\n",
      "[CV] class_weight=None, criterion=gini, max_features=sqrt, n_estimators=100 \n",
      "[CV]  class_weight=None, criterion=gini, max_features=sqrt, n_estimators=100, score=1.000, total=  43.1s\n",
      "[CV] class_weight=None, criterion=gini, max_features=sqrt, n_estimators=100 \n",
      "[CV]  class_weight=None, criterion=gini, max_features=sqrt, n_estimators=100, score=1.000, total=  42.2s\n",
      "[CV] class_weight=None, criterion=gini, max_features=sqrt, n_estimators=200 \n",
      "[CV]  class_weight=None, criterion=gini, max_features=sqrt, n_estimators=200, score=1.000, total= 1.4min\n",
      "[CV] class_weight=None, criterion=gini, max_features=sqrt, n_estimators=200 \n",
      "[CV]  class_weight=None, criterion=gini, max_features=sqrt, n_estimators=200, score=1.000, total= 1.4min\n",
      "[CV] class_weight=None, criterion=gini, max_features=sqrt, n_estimators=200 \n",
      "[CV]  class_weight=None, criterion=gini, max_features=sqrt, n_estimators=200, score=0.999, total= 1.3min\n",
      "[CV] class_weight=None, criterion=gini, max_features=sqrt, n_estimators=200 \n",
      "[CV]  class_weight=None, criterion=gini, max_features=sqrt, n_estimators=200, score=1.000, total= 1.5min\n",
      "[CV] class_weight=None, criterion=gini, max_features=sqrt, n_estimators=200 \n",
      "[CV]  class_weight=None, criterion=gini, max_features=sqrt, n_estimators=200, score=1.000, total= 1.4min\n",
      "[CV] class_weight=None, criterion=gini, max_features=log2, n_estimators=100 \n",
      "[CV]  class_weight=None, criterion=gini, max_features=log2, n_estimators=100, score=1.000, total=  47.0s\n",
      "[CV] class_weight=None, criterion=gini, max_features=log2, n_estimators=100 \n",
      "[CV]  class_weight=None, criterion=gini, max_features=log2, n_estimators=100, score=1.000, total=  43.0s\n",
      "[CV] class_weight=None, criterion=gini, max_features=log2, n_estimators=100 \n",
      "[CV]  class_weight=None, criterion=gini, max_features=log2, n_estimators=100, score=0.999, total=  41.0s\n",
      "[CV] class_weight=None, criterion=gini, max_features=log2, n_estimators=100 \n",
      "[CV]  class_weight=None, criterion=gini, max_features=log2, n_estimators=100, score=1.000, total=  43.6s\n",
      "[CV] class_weight=None, criterion=gini, max_features=log2, n_estimators=100 \n",
      "[CV]  class_weight=None, criterion=gini, max_features=log2, n_estimators=100, score=1.000, total=  41.9s\n",
      "[CV] class_weight=None, criterion=gini, max_features=log2, n_estimators=200 \n",
      "[CV]  class_weight=None, criterion=gini, max_features=log2, n_estimators=200, score=1.000, total= 1.4min\n",
      "[CV] class_weight=None, criterion=gini, max_features=log2, n_estimators=200 \n",
      "[CV]  class_weight=None, criterion=gini, max_features=log2, n_estimators=200, score=1.000, total= 1.4min\n",
      "[CV] class_weight=None, criterion=gini, max_features=log2, n_estimators=200 \n",
      "[CV]  class_weight=None, criterion=gini, max_features=log2, n_estimators=200, score=0.999, total= 1.4min\n",
      "[CV] class_weight=None, criterion=gini, max_features=log2, n_estimators=200 \n",
      "[CV]  class_weight=None, criterion=gini, max_features=log2, n_estimators=200, score=1.000, total= 1.4min\n",
      "[CV] class_weight=None, criterion=gini, max_features=log2, n_estimators=200 \n",
      "[CV]  class_weight=None, criterion=gini, max_features=log2, n_estimators=200, score=1.000, total= 1.4min\n",
      "[CV] class_weight=None, criterion=gini, max_features=None, n_estimators=100 \n",
      "[CV]  class_weight=None, criterion=gini, max_features=None, n_estimators=100, score=1.000, total= 2.3min\n",
      "[CV] class_weight=None, criterion=gini, max_features=None, n_estimators=100 \n",
      "[CV]  class_weight=None, criterion=gini, max_features=None, n_estimators=100, score=1.000, total= 2.1min\n",
      "[CV] class_weight=None, criterion=gini, max_features=None, n_estimators=100 \n",
      "[CV]  class_weight=None, criterion=gini, max_features=None, n_estimators=100, score=0.999, total= 2.0min\n",
      "[CV] class_weight=None, criterion=gini, max_features=None, n_estimators=100 \n",
      "[CV]  class_weight=None, criterion=gini, max_features=None, n_estimators=100, score=0.999, total= 2.2min\n",
      "[CV] class_weight=None, criterion=gini, max_features=None, n_estimators=100 \n",
      "[CV]  class_weight=None, criterion=gini, max_features=None, n_estimators=100, score=1.000, total= 2.1min\n",
      "[CV] class_weight=None, criterion=gini, max_features=None, n_estimators=200 \n",
      "[CV]  class_weight=None, criterion=gini, max_features=None, n_estimators=200, score=1.000, total= 4.4min\n",
      "[CV] class_weight=None, criterion=gini, max_features=None, n_estimators=200 \n",
      "[CV]  class_weight=None, criterion=gini, max_features=None, n_estimators=200, score=0.999, total= 4.1min\n",
      "[CV] class_weight=None, criterion=gini, max_features=None, n_estimators=200 \n",
      "[CV]  class_weight=None, criterion=gini, max_features=None, n_estimators=200, score=0.999, total= 3.9min\n",
      "[CV] class_weight=None, criterion=gini, max_features=None, n_estimators=200 \n",
      "[CV]  class_weight=None, criterion=gini, max_features=None, n_estimators=200, score=0.999, total= 4.4min\n",
      "[CV] class_weight=None, criterion=gini, max_features=None, n_estimators=200 \n",
      "[CV]  class_weight=None, criterion=gini, max_features=None, n_estimators=200, score=1.000, total= 4.0min\n",
      "[CV] class_weight=None, criterion=entropy, max_features=auto, n_estimators=100 \n",
      "[CV]  class_weight=None, criterion=entropy, max_features=auto, n_estimators=100, score=1.000, total=  36.5s\n",
      "[CV] class_weight=None, criterion=entropy, max_features=auto, n_estimators=100 \n",
      "[CV]  class_weight=None, criterion=entropy, max_features=auto, n_estimators=100, score=1.000, total=  37.0s\n",
      "[CV] class_weight=None, criterion=entropy, max_features=auto, n_estimators=100 \n",
      "[CV]  class_weight=None, criterion=entropy, max_features=auto, n_estimators=100, score=0.999, total=  35.3s\n",
      "[CV] class_weight=None, criterion=entropy, max_features=auto, n_estimators=100 \n",
      "[CV]  class_weight=None, criterion=entropy, max_features=auto, n_estimators=100, score=1.000, total=  38.7s\n",
      "[CV] class_weight=None, criterion=entropy, max_features=auto, n_estimators=100 \n",
      "[CV]  class_weight=None, criterion=entropy, max_features=auto, n_estimators=100, score=1.000, total=  38.2s\n",
      "[CV] class_weight=None, criterion=entropy, max_features=auto, n_estimators=200 \n",
      "[CV]  class_weight=None, criterion=entropy, max_features=auto, n_estimators=200, score=1.000, total= 1.2min\n",
      "[CV] class_weight=None, criterion=entropy, max_features=auto, n_estimators=200 \n",
      "[CV]  class_weight=None, criterion=entropy, max_features=auto, n_estimators=200, score=1.000, total= 1.2min\n",
      "[CV] class_weight=None, criterion=entropy, max_features=auto, n_estimators=200 \n",
      "[CV]  class_weight=None, criterion=entropy, max_features=auto, n_estimators=200, score=0.999, total= 1.2min\n",
      "[CV] class_weight=None, criterion=entropy, max_features=auto, n_estimators=200 \n",
      "[CV]  class_weight=None, criterion=entropy, max_features=auto, n_estimators=200, score=1.000, total= 1.3min\n",
      "[CV] class_weight=None, criterion=entropy, max_features=auto, n_estimators=200 \n",
      "[CV]  class_weight=None, criterion=entropy, max_features=auto, n_estimators=200, score=1.000, total= 1.3min\n",
      "[CV] class_weight=None, criterion=entropy, max_features=sqrt, n_estimators=100 \n"
     ]
    },
    {
     "name": "stdout",
     "output_type": "stream",
     "text": [
      "[CV]  class_weight=None, criterion=entropy, max_features=sqrt, n_estimators=100, score=1.000, total=  39.8s\n",
      "[CV] class_weight=None, criterion=entropy, max_features=sqrt, n_estimators=100 \n",
      "[CV]  class_weight=None, criterion=entropy, max_features=sqrt, n_estimators=100, score=1.000, total=  37.6s\n",
      "[CV] class_weight=None, criterion=entropy, max_features=sqrt, n_estimators=100 \n",
      "[CV]  class_weight=None, criterion=entropy, max_features=sqrt, n_estimators=100, score=0.999, total=  39.6s\n",
      "[CV] class_weight=None, criterion=entropy, max_features=sqrt, n_estimators=100 \n",
      "[CV]  class_weight=None, criterion=entropy, max_features=sqrt, n_estimators=100, score=0.999, total=  41.4s\n",
      "[CV] class_weight=None, criterion=entropy, max_features=sqrt, n_estimators=100 \n",
      "[CV]  class_weight=None, criterion=entropy, max_features=sqrt, n_estimators=100, score=1.000, total=  37.1s\n",
      "[CV] class_weight=None, criterion=entropy, max_features=sqrt, n_estimators=200 \n",
      "[CV]  class_weight=None, criterion=entropy, max_features=sqrt, n_estimators=200, score=1.000, total= 1.3min\n",
      "[CV] class_weight=None, criterion=entropy, max_features=sqrt, n_estimators=200 \n",
      "[CV]  class_weight=None, criterion=entropy, max_features=sqrt, n_estimators=200, score=1.000, total= 1.2min\n",
      "[CV] class_weight=None, criterion=entropy, max_features=sqrt, n_estimators=200 \n",
      "[CV]  class_weight=None, criterion=entropy, max_features=sqrt, n_estimators=200, score=0.999, total= 1.3min\n",
      "[CV] class_weight=None, criterion=entropy, max_features=sqrt, n_estimators=200 \n",
      "[CV]  class_weight=None, criterion=entropy, max_features=sqrt, n_estimators=200, score=1.000, total= 1.4min\n",
      "[CV] class_weight=None, criterion=entropy, max_features=sqrt, n_estimators=200 \n",
      "[CV]  class_weight=None, criterion=entropy, max_features=sqrt, n_estimators=200, score=1.000, total= 1.3min\n",
      "[CV] class_weight=None, criterion=entropy, max_features=log2, n_estimators=100 \n",
      "[CV]  class_weight=None, criterion=entropy, max_features=log2, n_estimators=100, score=1.000, total=  37.6s\n",
      "[CV] class_weight=None, criterion=entropy, max_features=log2, n_estimators=100 \n",
      "[CV]  class_weight=None, criterion=entropy, max_features=log2, n_estimators=100, score=1.000, total=  37.9s\n",
      "[CV] class_weight=None, criterion=entropy, max_features=log2, n_estimators=100 \n",
      "[CV]  class_weight=None, criterion=entropy, max_features=log2, n_estimators=100, score=0.999, total=  39.1s\n",
      "[CV] class_weight=None, criterion=entropy, max_features=log2, n_estimators=100 \n",
      "[CV]  class_weight=None, criterion=entropy, max_features=log2, n_estimators=100, score=1.000, total=  39.3s\n",
      "[CV] class_weight=None, criterion=entropy, max_features=log2, n_estimators=100 \n",
      "[CV]  class_weight=None, criterion=entropy, max_features=log2, n_estimators=100, score=1.000, total=  37.2s\n",
      "[CV] class_weight=None, criterion=entropy, max_features=log2, n_estimators=200 \n",
      "[CV]  class_weight=None, criterion=entropy, max_features=log2, n_estimators=200, score=1.000, total= 1.3min\n",
      "[CV] class_weight=None, criterion=entropy, max_features=log2, n_estimators=200 \n",
      "[CV]  class_weight=None, criterion=entropy, max_features=log2, n_estimators=200, score=1.000, total= 1.2min\n",
      "[CV] class_weight=None, criterion=entropy, max_features=log2, n_estimators=200 \n",
      "[CV]  class_weight=None, criterion=entropy, max_features=log2, n_estimators=200, score=0.999, total= 1.2min\n",
      "[CV] class_weight=None, criterion=entropy, max_features=log2, n_estimators=200 \n",
      "[CV]  class_weight=None, criterion=entropy, max_features=log2, n_estimators=200, score=1.000, total= 1.3min\n",
      "[CV] class_weight=None, criterion=entropy, max_features=log2, n_estimators=200 \n",
      "[CV]  class_weight=None, criterion=entropy, max_features=log2, n_estimators=200, score=1.000, total= 1.2min\n",
      "[CV] class_weight=None, criterion=entropy, max_features=None, n_estimators=100 \n",
      "[CV]  class_weight=None, criterion=entropy, max_features=None, n_estimators=100, score=1.000, total= 1.8min\n",
      "[CV] class_weight=None, criterion=entropy, max_features=None, n_estimators=100 \n",
      "[CV]  class_weight=None, criterion=entropy, max_features=None, n_estimators=100, score=0.999, total= 1.7min\n",
      "[CV] class_weight=None, criterion=entropy, max_features=None, n_estimators=100 \n",
      "[CV]  class_weight=None, criterion=entropy, max_features=None, n_estimators=100, score=0.999, total= 1.6min\n",
      "[CV] class_weight=None, criterion=entropy, max_features=None, n_estimators=100 \n",
      "[CV]  class_weight=None, criterion=entropy, max_features=None, n_estimators=100, score=1.000, total= 2.0min\n",
      "[CV] class_weight=None, criterion=entropy, max_features=None, n_estimators=100 \n",
      "[CV]  class_weight=None, criterion=entropy, max_features=None, n_estimators=100, score=1.000, total= 1.8min\n",
      "[CV] class_weight=None, criterion=entropy, max_features=None, n_estimators=200 \n",
      "[CV]  class_weight=None, criterion=entropy, max_features=None, n_estimators=200, score=1.000, total= 4.0min\n",
      "[CV] class_weight=None, criterion=entropy, max_features=None, n_estimators=200 \n",
      "[CV]  class_weight=None, criterion=entropy, max_features=None, n_estimators=200, score=0.999, total= 3.8min\n",
      "[CV] class_weight=None, criterion=entropy, max_features=None, n_estimators=200 \n",
      "[CV]  class_weight=None, criterion=entropy, max_features=None, n_estimators=200, score=0.999, total= 3.5min\n",
      "[CV] class_weight=None, criterion=entropy, max_features=None, n_estimators=200 \n",
      "[CV]  class_weight=None, criterion=entropy, max_features=None, n_estimators=200, score=1.000, total= 3.9min\n",
      "[CV] class_weight=None, criterion=entropy, max_features=None, n_estimators=200 \n",
      "[CV]  class_weight=None, criterion=entropy, max_features=None, n_estimators=200, score=1.000, total= 3.7min\n"
     ]
    },
    {
     "name": "stderr",
     "output_type": "stream",
     "text": [
      "[Parallel(n_jobs=1)]: Done 240 out of 240 | elapsed: 302.9min finished\n"
     ]
    },
    {
     "data": {
      "text/plain": [
       "GridSearchCV(estimator=RandomForestClassifier(),\n",
       "             param_grid={'class_weight': ['balanced', 'balanced_subsample',\n",
       "                                          None],\n",
       "                         'criterion': ['gini', 'entropy'],\n",
       "                         'max_features': ['auto', 'sqrt', 'log2', None],\n",
       "                         'n_estimators': [100, 200]},\n",
       "             verbose=3)"
      ]
     },
     "execution_count": 54,
     "metadata": {},
     "output_type": "execute_result"
    }
   ],
   "source": [
    "# Train the model with GridSearch\n",
    "top_randomTreeGrid.fit(top_X_train_scaled, top_y_train.flatten())"
   ]
  },
  {
   "cell_type": "code",
   "execution_count": 55,
   "metadata": {},
   "outputs": [
    {
     "name": "stdout",
     "output_type": "stream",
     "text": [
      "{'class_weight': None, 'criterion': 'entropy', 'max_features': 'sqrt', 'n_estimators': 200}\n",
      "0.9995505723180637\n"
     ]
    }
   ],
   "source": [
    "print(top_randomTreeGrid.best_params_)\n",
    "print(top_randomTreeGrid.best_score_)"
   ]
  },
  {
   "cell_type": "code",
   "execution_count": 56,
   "metadata": {},
   "outputs": [],
   "source": [
    "# Make predictions with the hyperparameter tuned model\n",
    "top_randomTreeGridPredictions = top_randomTreeGrid.predict(top_X_test_scaled)"
   ]
  },
  {
   "cell_type": "code",
   "execution_count": 57,
   "metadata": {},
   "outputs": [
    {
     "name": "stdout",
     "output_type": "stream",
     "text": [
      "                precision    recall  f1-score   support\n",
      "\n",
      "Non Fraudulent       1.00      1.00      1.00     71089\n",
      "    Fraudulent       0.90      0.79      0.84       113\n",
      "\n",
      "      accuracy                           1.00     71202\n",
      "     macro avg       0.95      0.89      0.92     71202\n",
      "  weighted avg       1.00      1.00      1.00     71202\n",
      "\n"
     ]
    }
   ],
   "source": [
    "print(classification_report(top_y_test.flatten(), top_randomTreeGridPredictions,\n",
    "                            target_names=[\"Non Fraudulent\", \"Fraudulent\"]))"
   ]
  },
  {
   "cell_type": "code",
   "execution_count": 61,
   "metadata": {},
   "outputs": [
    {
     "data": {
      "text/plain": [
       "RandomForestClassifier(criterion='entropy', max_features='sqrt',\n",
       "                       n_estimators=200)"
      ]
     },
     "execution_count": 61,
     "metadata": {},
     "output_type": "execute_result"
    }
   ],
   "source": [
    "top_hypertunedrandomTreeModel = RandomForestClassifier(criterion = 'entropy', \n",
    "                                                       max_features = 'sqrt', \n",
    "                                                       n_estimators = 200, \n",
    "                                                       class_weight = None)\n",
    "top_hypertunedrandomTreeModel"
   ]
  },
  {
   "cell_type": "code",
   "execution_count": 62,
   "metadata": {},
   "outputs": [
    {
     "data": {
      "text/plain": [
       "RandomForestClassifier(criterion='entropy', max_features='sqrt',\n",
       "                       n_estimators=200)"
      ]
     },
     "execution_count": 62,
     "metadata": {},
     "output_type": "execute_result"
    }
   ],
   "source": [
    "top_hypertunedrandomTreeModel.fit(top_X_train_scaled, top_y_train.flatten())"
   ]
  },
  {
   "cell_type": "code",
   "execution_count": 63,
   "metadata": {},
   "outputs": [
    {
     "name": "stdout",
     "output_type": "stream",
     "text": [
      "Training Data Score: 1.0\n",
      "Testing Data Score: 0.9995365298727564\n"
     ]
    }
   ],
   "source": [
    "print(f\"Training Data Score: {top_hypertunedrandomTreeModel.score(top_X_train_scaled, top_y_train)}\")\n",
    "print(f\"Testing Data Score: {top_hypertunedrandomTreeModel.score(top_X_test_scaled, top_y_test)}\")"
   ]
  },
  {
   "cell_type": "code",
   "execution_count": 64,
   "metadata": {},
   "outputs": [],
   "source": [
    "top_hypertunedrandomTreeModelPredictions = top_hypertunedrandomTreeModel.predict(top_X_test_scaled)"
   ]
  },
  {
   "cell_type": "code",
   "execution_count": 65,
   "metadata": {},
   "outputs": [],
   "source": [
    "top_hypertunedrandomTreeModelPredictProba = top_hypertunedrandomTreeModel.predict_proba(top_X_test_scaled)[:,1]"
   ]
  },
  {
   "cell_type": "code",
   "execution_count": 66,
   "metadata": {},
   "outputs": [
    {
     "name": "stdout",
     "output_type": "stream",
     "text": [
      "                precision    recall  f1-score   support\n",
      "\n",
      "Non Fraudulent       1.00      1.00      1.00     71089\n",
      "    Fraudulent       0.91      0.79      0.84       113\n",
      "\n",
      "      accuracy                           1.00     71202\n",
      "     macro avg       0.95      0.89      0.92     71202\n",
      "  weighted avg       1.00      1.00      1.00     71202\n",
      "\n"
     ]
    }
   ],
   "source": [
    "print(classification_report(top_y_test.flatten(), top_hypertunedrandomTreeModelPredictions,\n",
    "                            target_names=[\"Non Fraudulent\", \"Fraudulent\"]))"
   ]
  },
  {
   "cell_type": "code",
   "execution_count": 67,
   "metadata": {},
   "outputs": [
    {
     "name": "stdout",
     "output_type": "stream",
     "text": [
      "Random Forest Classifier\n",
      "========================\n",
      "Accuracy:  0.9995365298727564\n",
      "Precision:  0.9081632653061225\n",
      "Recall:  0.7876106194690266\n",
      "F1-Score:  0.8436018957345971\n",
      "AUC score:  0.8937420088018796\n",
      "                precision    recall  f1-score   support\n",
      "\n",
      "Non Fraudulent       1.00      1.00      1.00     71089\n",
      "    Fraudulent       0.91      0.79      0.84       113\n",
      "\n",
      "      accuracy                           1.00     71202\n",
      "     macro avg       0.95      0.89      0.92     71202\n",
      "  weighted avg       1.00      1.00      1.00     71202\n",
      "\n"
     ]
    },
    {
     "data": {
      "image/png": "[encoded data removed]",
      "text/plain": [
       "<Figure size 432x288 with 1 Axes>"
      ]
     },
     "metadata": {
      "needs_background": "light"
     },
     "output_type": "display_data"
    },
    {
     "data": {
      "image/png": "[encoded data removed]",
      "text/plain": [
       "<Figure size 432x432 with 2 Axes>"
      ]
     },
     "metadata": {
      "needs_background": "light"
     },
     "output_type": "display_data"
    }
   ],
   "source": [
    "print(\"Random Forest Classifier\")\n",
    "print(\"========================\")\n",
    "print(\"Accuracy: \",accuracy_score(y_test.flatten(), top_hypertunedrandomTreeModelPredictions)) \n",
    "print(\"Precision: \",precision_score(y_test.flatten(), top_hypertunedrandomTreeModelPredictions))\n",
    "print(\"Recall: \",recall_score(y_test.flatten(), top_hypertunedrandomTreeModelPredictions))\n",
    "print(\"F1-Score: \",f1_score(y_test.flatten(), top_hypertunedrandomTreeModelPredictions))\n",
    "print(\"AUC score: \",roc_auc_score(y_test.flatten(), top_hypertunedrandomTreeModelPredictions))\n",
    "print(classification_report(y_test.flatten(), top_hypertunedrandomTreeModelPredictions,\n",
    "                            target_names=[\"Non Fraudulent\", \"Fraudulent\"]))\n",
    "p, r, t = precision_recall_curve(y_test.flatten(), top_hypertunedrandomTreeModelPredictProba)\n",
    "plt.plot(p, r)\n",
    "plt.xlabel('Recall')\n",
    "plt.ylabel('Precision')\n",
    "plt.title('Precision Recall Curve - Random Forest Classifier')\n",
    "confusionMatrix = confusion_matrix(y_test.flatten(), top_hypertunedrandomTreeModelPredictions) \n",
    "plt.figure(figsize =(6, 6)) \n",
    "sns.heatmap(confusionMatrix, xticklabels = ['Non Fraudulent', 'Fraudulent'],  \n",
    "            yticklabels = ['Non Fraudulent', 'Fraudulent'], annot = True, fmt =\"d\"); \n",
    "plt.title(\"Confusion matrix - Random Forest Classifier\") \n",
    "plt.ylabel('Actual Class') \n",
    "plt.xlabel('Predicted class') \n",
    "plt.show()"
   ]
  },
  {
   "cell_type": "code",
   "execution_count": 72,
   "metadata": {},
   "outputs": [
    {
     "data": {
      "image/png": "[encoded data removed]",
      "text/plain": [
       "<Figure size 864x864 with 1 Axes>"
      ]
     },
     "metadata": {
      "needs_background": "light"
     },
     "output_type": "display_data"
    }
   ],
   "source": [
    "plt.figure(figsize =(12, 12)) \n",
    "p, r, t = precision_recall_curve(y_test.flatten(), randomTreePredictProba)\n",
    "plt.plot(p, r, label=\"All features\")\n",
    "p, r, t = precision_recall_curve(y_test.flatten(), randomTreeGridPredictProba)\n",
    "plt.plot(p, r, label=\"After Hyperparameter Tuning\")\n",
    "p, r, t = precision_recall_curve(y_test.flatten(), top_randomTreePredictProba)\n",
    "plt.plot(p, r, label=\"After feature selection\")\n",
    "p, r, t = precision_recall_curve(y_test.flatten(), top_hypertunedrandomTreeModelPredictProba)\n",
    "plt.plot(p, r, label=\"After Hyperparameter Tuning & Feature Selection\")\n",
    "plt.xlabel('Recall')\n",
    "plt.ylabel('Precision')\n",
    "plt.title('Precision Recall Curve - Random Forest Classifier')\n",
    "plt.legend()\n",
    "plt.show()"
   ]
  },
  {
   "cell_type": "markdown",
   "metadata": {},
   "source": [
    "# Save the Model¶"
   ]
  },
  {
   "cell_type": "code",
   "execution_count": 68,
   "metadata": {},
   "outputs": [
    {
     "data": {
      "text/plain": [
       "['RandomForestClassifierModel.sav']"
      ]
     },
     "execution_count": 68,
     "metadata": {},
     "output_type": "execute_result"
    }
   ],
   "source": [
    "filename = 'RandomForestClassifierModel.sav'\n",
    "joblib.dump(top_randomTreeModel, filename)"
   ]
  }
 ],
 "metadata": {
  "kernelspec": {
   "display_name": "Python [conda env:PythonData] *",
   "language": "python",
   "name": "conda-env-PythonData-py"
  }
 },
 "nbformat": 4,
 "nbformat_minor": 4
}
