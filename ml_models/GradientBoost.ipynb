{
 "cells": [
  {
   "cell_type": "markdown",
   "metadata": {},
   "source": [
    "# Import Dependencies"
   ]
  },
  {
   "cell_type": "code",
   "execution_count": 1,
   "metadata": {},
   "outputs": [],
   "source": [
    "import pandas as pd\n",
    "import numpy as np\n",
    "\n",
    "from config import CSV_FILE_URL\n",
    "import joblib\n",
    "\n",
    "from sklearn.model_selection import train_test_split\n",
    "from sklearn.preprocessing import MinMaxScaler\n",
    "from sklearn.model_selection import GridSearchCV\n",
    "\n",
    "from sklearn.metrics import classification_report, accuracy_score, precision_score, recall_score, f1_score\n",
    "from sklearn.metrics import precision_recall_curve, roc_auc_score, confusion_matrix\n",
    "import seaborn as sns\n",
    "import matplotlib.pyplot as plt\n",
    "%matplotlib inline\n",
    "\n",
    "from sklearn.ensemble import GradientBoostingClassifier"
   ]
  },
  {
   "cell_type": "markdown",
   "metadata": {},
   "source": [
    "# Read in CSV"
   ]
  },
  {
   "cell_type": "code",
   "execution_count": 2,
   "metadata": {},
   "outputs": [
    {
     "data": {
      "text/html": [
       "<div>\n",
       "<style scoped>\n",
       "    .dataframe tbody tr th:only-of-type {\n",
       "        vertical-align: middle;\n",
       "    }\n",
       "\n",
       "    .dataframe tbody tr th {\n",
       "        vertical-align: top;\n",
       "    }\n",
       "\n",
       "    .dataframe thead th {\n",
       "        text-align: right;\n",
       "    }\n",
       "</style>\n",
       "<table border=\"1\" class=\"dataframe\">\n",
       "  <thead>\n",
       "    <tr style=\"text-align: right;\">\n",
       "      <th></th>\n",
       "      <th>Time</th>\n",
       "      <th>V1</th>\n",
       "      <th>V2</th>\n",
       "      <th>V3</th>\n",
       "      <th>V4</th>\n",
       "      <th>V5</th>\n",
       "      <th>V6</th>\n",
       "      <th>V7</th>\n",
       "      <th>V8</th>\n",
       "      <th>V9</th>\n",
       "      <th>...</th>\n",
       "      <th>V21</th>\n",
       "      <th>V22</th>\n",
       "      <th>V23</th>\n",
       "      <th>V24</th>\n",
       "      <th>V25</th>\n",
       "      <th>V26</th>\n",
       "      <th>V27</th>\n",
       "      <th>V28</th>\n",
       "      <th>Amount</th>\n",
       "      <th>Class</th>\n",
       "    </tr>\n",
       "  </thead>\n",
       "  <tbody>\n",
       "    <tr>\n",
       "      <th>0</th>\n",
       "      <td>0.0</td>\n",
       "      <td>-1.359807</td>\n",
       "      <td>-0.072781</td>\n",
       "      <td>2.536347</td>\n",
       "      <td>1.378155</td>\n",
       "      <td>-0.338321</td>\n",
       "      <td>0.462388</td>\n",
       "      <td>0.239599</td>\n",
       "      <td>0.098698</td>\n",
       "      <td>0.363787</td>\n",
       "      <td>...</td>\n",
       "      <td>-0.018307</td>\n",
       "      <td>0.277838</td>\n",
       "      <td>-0.110474</td>\n",
       "      <td>0.066928</td>\n",
       "      <td>0.128539</td>\n",
       "      <td>-0.189115</td>\n",
       "      <td>0.133558</td>\n",
       "      <td>-0.021053</td>\n",
       "      <td>149.62</td>\n",
       "      <td>0</td>\n",
       "    </tr>\n",
       "    <tr>\n",
       "      <th>1</th>\n",
       "      <td>0.0</td>\n",
       "      <td>1.191857</td>\n",
       "      <td>0.266151</td>\n",
       "      <td>0.166480</td>\n",
       "      <td>0.448154</td>\n",
       "      <td>0.060018</td>\n",
       "      <td>-0.082361</td>\n",
       "      <td>-0.078803</td>\n",
       "      <td>0.085102</td>\n",
       "      <td>-0.255425</td>\n",
       "      <td>...</td>\n",
       "      <td>-0.225775</td>\n",
       "      <td>-0.638672</td>\n",
       "      <td>0.101288</td>\n",
       "      <td>-0.339846</td>\n",
       "      <td>0.167170</td>\n",
       "      <td>0.125895</td>\n",
       "      <td>-0.008983</td>\n",
       "      <td>0.014724</td>\n",
       "      <td>2.69</td>\n",
       "      <td>0</td>\n",
       "    </tr>\n",
       "    <tr>\n",
       "      <th>2</th>\n",
       "      <td>1.0</td>\n",
       "      <td>-1.358354</td>\n",
       "      <td>-1.340163</td>\n",
       "      <td>1.773209</td>\n",
       "      <td>0.379780</td>\n",
       "      <td>-0.503198</td>\n",
       "      <td>1.800499</td>\n",
       "      <td>0.791461</td>\n",
       "      <td>0.247676</td>\n",
       "      <td>-1.514654</td>\n",
       "      <td>...</td>\n",
       "      <td>0.247998</td>\n",
       "      <td>0.771679</td>\n",
       "      <td>0.909412</td>\n",
       "      <td>-0.689281</td>\n",
       "      <td>-0.327642</td>\n",
       "      <td>-0.139097</td>\n",
       "      <td>-0.055353</td>\n",
       "      <td>-0.059752</td>\n",
       "      <td>378.66</td>\n",
       "      <td>0</td>\n",
       "    </tr>\n",
       "    <tr>\n",
       "      <th>3</th>\n",
       "      <td>1.0</td>\n",
       "      <td>-0.966272</td>\n",
       "      <td>-0.185226</td>\n",
       "      <td>1.792993</td>\n",
       "      <td>-0.863291</td>\n",
       "      <td>-0.010309</td>\n",
       "      <td>1.247203</td>\n",
       "      <td>0.237609</td>\n",
       "      <td>0.377436</td>\n",
       "      <td>-1.387024</td>\n",
       "      <td>...</td>\n",
       "      <td>-0.108300</td>\n",
       "      <td>0.005274</td>\n",
       "      <td>-0.190321</td>\n",
       "      <td>-1.175575</td>\n",
       "      <td>0.647376</td>\n",
       "      <td>-0.221929</td>\n",
       "      <td>0.062723</td>\n",
       "      <td>0.061458</td>\n",
       "      <td>123.50</td>\n",
       "      <td>0</td>\n",
       "    </tr>\n",
       "    <tr>\n",
       "      <th>4</th>\n",
       "      <td>2.0</td>\n",
       "      <td>-1.158233</td>\n",
       "      <td>0.877737</td>\n",
       "      <td>1.548718</td>\n",
       "      <td>0.403034</td>\n",
       "      <td>-0.407193</td>\n",
       "      <td>0.095921</td>\n",
       "      <td>0.592941</td>\n",
       "      <td>-0.270533</td>\n",
       "      <td>0.817739</td>\n",
       "      <td>...</td>\n",
       "      <td>-0.009431</td>\n",
       "      <td>0.798278</td>\n",
       "      <td>-0.137458</td>\n",
       "      <td>0.141267</td>\n",
       "      <td>-0.206010</td>\n",
       "      <td>0.502292</td>\n",
       "      <td>0.219422</td>\n",
       "      <td>0.215153</td>\n",
       "      <td>69.99</td>\n",
       "      <td>0</td>\n",
       "    </tr>\n",
       "  </tbody>\n",
       "</table>\n",
       "<p>5 rows × 31 columns</p>\n",
       "</div>"
      ],
      "text/plain": [
       "   Time        V1        V2        V3        V4        V5        V6        V7  \\\n",
       "0   0.0 -1.359807 -0.072781  2.536347  1.378155 -0.338321  0.462388  0.239599   \n",
       "1   0.0  1.191857  0.266151  0.166480  0.448154  0.060018 -0.082361 -0.078803   \n",
       "2   1.0 -1.358354 -1.340163  1.773209  0.379780 -0.503198  1.800499  0.791461   \n",
       "3   1.0 -0.966272 -0.185226  1.792993 -0.863291 -0.010309  1.247203  0.237609   \n",
       "4   2.0 -1.158233  0.877737  1.548718  0.403034 -0.407193  0.095921  0.592941   \n",
       "\n",
       "         V8        V9  ...       V21       V22       V23       V24       V25  \\\n",
       "0  0.098698  0.363787  ... -0.018307  0.277838 -0.110474  0.066928  0.128539   \n",
       "1  0.085102 -0.255425  ... -0.225775 -0.638672  0.101288 -0.339846  0.167170   \n",
       "2  0.247676 -1.514654  ...  0.247998  0.771679  0.909412 -0.689281 -0.327642   \n",
       "3  0.377436 -1.387024  ... -0.108300  0.005274 -0.190321 -1.175575  0.647376   \n",
       "4 -0.270533  0.817739  ... -0.009431  0.798278 -0.137458  0.141267 -0.206010   \n",
       "\n",
       "        V26       V27       V28  Amount  Class  \n",
       "0 -0.189115  0.133558 -0.021053  149.62      0  \n",
       "1  0.125895 -0.008983  0.014724    2.69      0  \n",
       "2 -0.139097 -0.055353 -0.059752  378.66      0  \n",
       "3 -0.221929  0.062723  0.061458  123.50      0  \n",
       "4  0.502292  0.219422  0.215153   69.99      0  \n",
       "\n",
       "[5 rows x 31 columns]"
      ]
     },
     "execution_count": 2,
     "metadata": {},
     "output_type": "execute_result"
    }
   ],
   "source": [
    "df = pd.read_csv(CSV_FILE_URL)\n",
    "df.head()"
   ]
  },
  {
   "cell_type": "markdown",
   "metadata": {},
   "source": [
    "# Clean the Data"
   ]
  },
  {
   "cell_type": "code",
   "execution_count": 3,
   "metadata": {},
   "outputs": [
    {
     "data": {
      "text/plain": [
       "(284807, 31)"
      ]
     },
     "execution_count": 3,
     "metadata": {},
     "output_type": "execute_result"
    }
   ],
   "source": [
    "# Drop the null columns \n",
    "df = df.dropna(axis='columns', how='all')\n",
    "\n",
    "# Drop the null rows\n",
    "df = df.dropna()\n",
    "df.shape"
   ]
  },
  {
   "cell_type": "markdown",
   "metadata": {},
   "source": [
    "There are no null values"
   ]
  },
  {
   "cell_type": "markdown",
   "metadata": {},
   "source": [
    "# Data Exploration"
   ]
  },
  {
   "cell_type": "code",
   "execution_count": 4,
   "metadata": {},
   "outputs": [
    {
     "data": {
      "text/html": [
       "<div>\n",
       "<style scoped>\n",
       "    .dataframe tbody tr th:only-of-type {\n",
       "        vertical-align: middle;\n",
       "    }\n",
       "\n",
       "    .dataframe tbody tr th {\n",
       "        vertical-align: top;\n",
       "    }\n",
       "\n",
       "    .dataframe thead th {\n",
       "        text-align: right;\n",
       "    }\n",
       "</style>\n",
       "<table border=\"1\" class=\"dataframe\">\n",
       "  <thead>\n",
       "    <tr style=\"text-align: right;\">\n",
       "      <th></th>\n",
       "      <th>Time</th>\n",
       "      <th>V1</th>\n",
       "      <th>V2</th>\n",
       "      <th>V3</th>\n",
       "      <th>V4</th>\n",
       "      <th>V5</th>\n",
       "      <th>V6</th>\n",
       "      <th>V7</th>\n",
       "      <th>V8</th>\n",
       "      <th>V9</th>\n",
       "      <th>...</th>\n",
       "      <th>V20</th>\n",
       "      <th>V21</th>\n",
       "      <th>V22</th>\n",
       "      <th>V23</th>\n",
       "      <th>V24</th>\n",
       "      <th>V25</th>\n",
       "      <th>V26</th>\n",
       "      <th>V27</th>\n",
       "      <th>V28</th>\n",
       "      <th>Amount</th>\n",
       "    </tr>\n",
       "    <tr>\n",
       "      <th>Class</th>\n",
       "      <th></th>\n",
       "      <th></th>\n",
       "      <th></th>\n",
       "      <th></th>\n",
       "      <th></th>\n",
       "      <th></th>\n",
       "      <th></th>\n",
       "      <th></th>\n",
       "      <th></th>\n",
       "      <th></th>\n",
       "      <th></th>\n",
       "      <th></th>\n",
       "      <th></th>\n",
       "      <th></th>\n",
       "      <th></th>\n",
       "      <th></th>\n",
       "      <th></th>\n",
       "      <th></th>\n",
       "      <th></th>\n",
       "      <th></th>\n",
       "      <th></th>\n",
       "    </tr>\n",
       "  </thead>\n",
       "  <tbody>\n",
       "    <tr>\n",
       "      <th>0</th>\n",
       "      <td>284315</td>\n",
       "      <td>284315</td>\n",
       "      <td>284315</td>\n",
       "      <td>284315</td>\n",
       "      <td>284315</td>\n",
       "      <td>284315</td>\n",
       "      <td>284315</td>\n",
       "      <td>284315</td>\n",
       "      <td>284315</td>\n",
       "      <td>284315</td>\n",
       "      <td>...</td>\n",
       "      <td>284315</td>\n",
       "      <td>284315</td>\n",
       "      <td>284315</td>\n",
       "      <td>284315</td>\n",
       "      <td>284315</td>\n",
       "      <td>284315</td>\n",
       "      <td>284315</td>\n",
       "      <td>284315</td>\n",
       "      <td>284315</td>\n",
       "      <td>284315</td>\n",
       "    </tr>\n",
       "    <tr>\n",
       "      <th>1</th>\n",
       "      <td>492</td>\n",
       "      <td>492</td>\n",
       "      <td>492</td>\n",
       "      <td>492</td>\n",
       "      <td>492</td>\n",
       "      <td>492</td>\n",
       "      <td>492</td>\n",
       "      <td>492</td>\n",
       "      <td>492</td>\n",
       "      <td>492</td>\n",
       "      <td>...</td>\n",
       "      <td>492</td>\n",
       "      <td>492</td>\n",
       "      <td>492</td>\n",
       "      <td>492</td>\n",
       "      <td>492</td>\n",
       "      <td>492</td>\n",
       "      <td>492</td>\n",
       "      <td>492</td>\n",
       "      <td>492</td>\n",
       "      <td>492</td>\n",
       "    </tr>\n",
       "  </tbody>\n",
       "</table>\n",
       "<p>2 rows × 30 columns</p>\n",
       "</div>"
      ],
      "text/plain": [
       "         Time      V1      V2      V3      V4      V5      V6      V7      V8  \\\n",
       "Class                                                                           \n",
       "0      284315  284315  284315  284315  284315  284315  284315  284315  284315   \n",
       "1         492     492     492     492     492     492     492     492     492   \n",
       "\n",
       "           V9  ...     V20     V21     V22     V23     V24     V25     V26  \\\n",
       "Class          ...                                                           \n",
       "0      284315  ...  284315  284315  284315  284315  284315  284315  284315   \n",
       "1         492  ...     492     492     492     492     492     492     492   \n",
       "\n",
       "          V27     V28  Amount  \n",
       "Class                          \n",
       "0      284315  284315  284315  \n",
       "1         492     492     492  \n",
       "\n",
       "[2 rows x 30 columns]"
      ]
     },
     "execution_count": 4,
     "metadata": {},
     "output_type": "execute_result"
    }
   ],
   "source": [
    "df.groupby('Class').count()"
   ]
  },
  {
   "cell_type": "code",
   "execution_count": 5,
   "metadata": {},
   "outputs": [
    {
     "data": {
      "text/plain": [
       "<matplotlib.axes._subplots.AxesSubplot at 0x20f3f6ea3a0>"
      ]
     },
     "execution_count": 5,
     "metadata": {},
     "output_type": "execute_result"
    },
    {
     "data": {
      "image/png": "[encoded data removed]",
      "text/plain": [
       "<Figure size 432x288 with 1 Axes>"
      ]
     },
     "metadata": {
      "needs_background": "light"
     },
     "output_type": "display_data"
    }
   ],
   "source": [
    "grouped_df = df[['Class', 'Time']].groupby('Class').count()\n",
    "grouped_df = grouped_df.rename(columns={'Time':\"Count\"})\n",
    "grouped_df.plot(kind='bar')"
   ]
  },
  {
   "cell_type": "markdown",
   "metadata": {},
   "source": [
    "We can see from the plot above that the data is highly imbalanced. There are only 492 fraudulent out of 284,315 transactions, or 0.17%.\n",
    "\n"
   ]
  },
  {
   "cell_type": "markdown",
   "metadata": {},
   "source": [
    "# Defining Features"
   ]
  },
  {
   "cell_type": "code",
   "execution_count": 6,
   "metadata": {},
   "outputs": [
    {
     "data": {
      "text/plain": [
       "Index(['Time', 'V1', 'V2', 'V3', 'V4', 'V5', 'V6', 'V7', 'V8', 'V9', 'V10',\n",
       "       'V11', 'V12', 'V13', 'V14', 'V15', 'V16', 'V17', 'V18', 'V19', 'V20',\n",
       "       'V21', 'V22', 'V23', 'V24', 'V25', 'V26', 'V27', 'V28', 'Amount',\n",
       "       'Class'],\n",
       "      dtype='object')"
      ]
     },
     "execution_count": 6,
     "metadata": {},
     "output_type": "execute_result"
    }
   ],
   "source": [
    "df.columns"
   ]
  },
  {
   "cell_type": "code",
   "execution_count": 7,
   "metadata": {},
   "outputs": [
    {
     "data": {
      "text/plain": [
       "(284807, 30)"
      ]
     },
     "execution_count": 7,
     "metadata": {},
     "output_type": "execute_result"
    }
   ],
   "source": [
    "selected_features = df[['Time', 'V1', 'V2', 'V3', 'V4', 'V5', 'V6', 'V7', 'V8', 'V9', 'V10',\n",
    "       'V11', 'V12', 'V13', 'V14', 'V15', 'V16', 'V17', 'V18', 'V19', 'V20',\n",
    "       'V21', 'V22', 'V23', 'V24', 'V25', 'V26', 'V27', 'V28', 'Amount']]\n",
    "selected_features.shape"
   ]
  },
  {
   "cell_type": "code",
   "execution_count": 8,
   "metadata": {},
   "outputs": [
    {
     "name": "stdout",
     "output_type": "stream",
     "text": [
      "Shape:  (284807, 30) (284807, 1)\n"
     ]
    }
   ],
   "source": [
    "# Defining predictor and target features to X and y respectively.\n",
    "# Note: Sklearn requires a two-dimensional array of values\n",
    "# so we use reshape to create this\n",
    "\n",
    "X = selected_features\n",
    "y = df[['Class']].values.reshape(-1,1)\n",
    "\n",
    "print(\"Shape: \", X.shape, y.shape)"
   ]
  },
  {
   "cell_type": "markdown",
   "metadata": {},
   "source": [
    "# Create a Train Test Split"
   ]
  },
  {
   "cell_type": "code",
   "execution_count": 9,
   "metadata": {},
   "outputs": [
    {
     "name": "stdout",
     "output_type": "stream",
     "text": [
      "Shape:  (213605, 30) (213605, 1) (71202, 30) (71202, 1)\n"
     ]
    }
   ],
   "source": [
    "# Using sklearn's 'train_test_split' to split the data into training and testing datasets\n",
    "X_train, X_test, y_train, y_test = train_test_split(X,y, random_state= 42)\n",
    "print(\"Shape: \", X_train.shape, y_train.shape, X_test.shape, y_test.shape)"
   ]
  },
  {
   "cell_type": "markdown",
   "metadata": {},
   "source": [
    "# Data Pre-processing"
   ]
  },
  {
   "cell_type": "code",
   "execution_count": 10,
   "metadata": {},
   "outputs": [],
   "source": [
    "# Scale the data\n",
    "X_minmax = MinMaxScaler().fit(X_train)\n",
    "\n",
    "X_train_scaled = X_minmax.transform(X_train)\n",
    "X_test_scaled = X_minmax.transform(X_test)"
   ]
  },
  {
   "cell_type": "markdown",
   "metadata": {},
   "source": [
    "# Train the Model"
   ]
  },
  {
   "cell_type": "code",
   "execution_count": 11,
   "metadata": {},
   "outputs": [
    {
     "data": {
      "text/plain": [
       "GradientBoostingClassifier()"
      ]
     },
     "execution_count": 11,
     "metadata": {},
     "output_type": "execute_result"
    }
   ],
   "source": [
    "gradientBoostedTree = GradientBoostingClassifier()\n",
    "gradientBoostedTree"
   ]
  },
  {
   "cell_type": "code",
   "execution_count": 12,
   "metadata": {},
   "outputs": [
    {
     "data": {
      "text/plain": [
       "GradientBoostingClassifier()"
      ]
     },
     "execution_count": 12,
     "metadata": {},
     "output_type": "execute_result"
    }
   ],
   "source": [
    "gradientBoostedTree.fit(X_train_scaled, y_train.flatten())"
   ]
  },
  {
   "cell_type": "code",
   "execution_count": 13,
   "metadata": {},
   "outputs": [
    {
     "name": "stdout",
     "output_type": "stream",
     "text": [
      "Training Data Score: 0.9985814938788886\n",
      "Testing Data Score: 0.9984410550265442\n"
     ]
    }
   ],
   "source": [
    "print(f\"Training Data Score: {gradientBoostedTree.score(X_train_scaled, y_train)}\")\n",
    "print(f\"Testing Data Score: {gradientBoostedTree.score(X_test_scaled, y_test)}\")"
   ]
  },
  {
   "cell_type": "code",
   "execution_count": 14,
   "metadata": {},
   "outputs": [],
   "source": [
    "# Make predictions with the model\n",
    "gradientBoostedPredictions = gradientBoostedTree.predict(X_test_scaled)"
   ]
  },
  {
   "cell_type": "code",
   "execution_count": 15,
   "metadata": {},
   "outputs": [],
   "source": [
    "gradientBoostedPredictProba = gradientBoostedTree.predict_proba(X_test_scaled)[:,1]"
   ]
  },
  {
   "cell_type": "code",
   "execution_count": 16,
   "metadata": {},
   "outputs": [
    {
     "name": "stdout",
     "output_type": "stream",
     "text": [
      "                precision    recall  f1-score   support\n",
      "\n",
      "Non Fraudulent       1.00      1.00      1.00     71089\n",
      "    Fraudulent       0.52      0.20      0.29       113\n",
      "\n",
      "      accuracy                           1.00     71202\n",
      "     macro avg       0.76      0.60      0.65     71202\n",
      "  weighted avg       1.00      1.00      1.00     71202\n",
      "\n",
      "Accuracy: 0.9984410550265442\n"
     ]
    }
   ],
   "source": [
    "# Print classification report\n",
    "print(classification_report(y_test.flatten(), gradientBoostedPredictions,\n",
    "                            target_names=[\"Non Fraudulent\", \"Fraudulent\"]))\n",
    "print(\"Accuracy:\", accuracy_score(y_test.flatten(), gradientBoostedPredictions))"
   ]
  },
  {
   "cell_type": "code",
   "execution_count": 17,
   "metadata": {},
   "outputs": [
    {
     "name": "stdout",
     "output_type": "stream",
     "text": [
      "Gradient Boosting Classifier\n",
      "========================\n",
      "Accuracy:  0.9984410550265442\n",
      "Precision:  0.5227272727272727\n",
      "Recall:  0.20353982300884957\n",
      "F1-Score:  0.2929936305732484\n",
      "AUC score:  0.6016222093282794\n",
      "                precision    recall  f1-score   support\n",
      "\n",
      "Non Fraudulent       1.00      1.00      1.00     71089\n",
      "    Fraudulent       0.52      0.20      0.29       113\n",
      "\n",
      "      accuracy                           1.00     71202\n",
      "     macro avg       0.76      0.60      0.65     71202\n",
      "  weighted avg       1.00      1.00      1.00     71202\n",
      "\n"
     ]
    },
    {
     "data": {
      "image/png": "[encoded data removed]",
      "text/plain": [
       "<Figure size 432x288 with 1 Axes>"
      ]
     },
     "metadata": {
      "needs_background": "light"
     },
     "output_type": "display_data"
    },
    {
     "data": {
      "image/png": "[encoded data removed]",
      "text/plain": [
       "<Figure size 432x432 with 2 Axes>"
      ]
     },
     "metadata": {
      "needs_background": "light"
     },
     "output_type": "display_data"
    }
   ],
   "source": [
    "print(\"Gradient Boosting Classifier\")\n",
    "print(\"========================\")\n",
    "print(\"Accuracy: \",accuracy_score(y_test.flatten(), gradientBoostedPredictions)) \n",
    "print(\"Precision: \",precision_score(y_test.flatten(), gradientBoostedPredictions))\n",
    "print(\"Recall: \",recall_score(y_test.flatten(), gradientBoostedPredictions))\n",
    "print(\"F1-Score: \",f1_score(y_test.flatten(), gradientBoostedPredictions))\n",
    "print(\"AUC score: \",roc_auc_score(y_test.flatten(), gradientBoostedPredictions))\n",
    "print(classification_report(y_test.flatten(), gradientBoostedPredictions,\n",
    "                            target_names=[\"Non Fraudulent\", \"Fraudulent\"]))\n",
    "\n",
    "p, r, t = precision_recall_curve(y_test.flatten(), gradientBoostedPredictProba)\n",
    "plt.plot(p, r)\n",
    "plt.xlabel('Recall')\n",
    "plt.ylabel('Precision')\n",
    "plt.title('Precision Recall Curve - Gradient Boost')\n",
    "\n",
    "confusionMatrix = confusion_matrix(y_test.flatten(), gradientBoostedPredictions) \n",
    "plt.figure(figsize =(6, 6)) \n",
    "sns.heatmap(confusionMatrix, xticklabels = ['Non Fraudulent', 'Fraudulent'],  \n",
    "            yticklabels = ['Non Fraudulent', 'Fraudulent'], annot = True, fmt =\"d\"); \n",
    "plt.title(\"Confusion matrix - Gradient Boost\") \n",
    "plt.ylabel('Actual Class') \n",
    "plt.xlabel('Predicted class') \n",
    "plt.show()"
   ]
  },
  {
   "cell_type": "markdown",
   "metadata": {},
   "source": [
    "# Hyperparameter tuning"
   ]
  },
  {
   "cell_type": "code",
   "execution_count": 18,
   "metadata": {},
   "outputs": [
    {
     "data": {
      "text/plain": [
       "dict_keys(['ccp_alpha', 'criterion', 'init', 'learning_rate', 'loss', 'max_depth', 'max_features', 'max_leaf_nodes', 'min_impurity_decrease', 'min_impurity_split', 'min_samples_leaf', 'min_samples_split', 'min_weight_fraction_leaf', 'n_estimators', 'n_iter_no_change', 'presort', 'random_state', 'subsample', 'tol', 'validation_fraction', 'verbose', 'warm_start'])"
      ]
     },
     "execution_count": 18,
     "metadata": {},
     "output_type": "execute_result"
    }
   ],
   "source": [
    "gradientBoostedTree.get_params().keys()"
   ]
  },
  {
   "cell_type": "code",
   "execution_count": 21,
   "metadata": {},
   "outputs": [],
   "source": [
    "gradientBoostedParamGrid = {#'loss': ['deviance', 'exponential'],\n",
    "                           'n_estimators': [100, 200, 300, 400],\n",
    "                           'max_depth': [1,2]}\n",
    "gradientBoostedGrid = GridSearchCV(gradientBoostedTree, gradientBoostedParamGrid, verbose=3)"
   ]
  },
  {
   "cell_type": "code",
   "execution_count": 22,
   "metadata": {},
   "outputs": [
    {
     "name": "stdout",
     "output_type": "stream",
     "text": [
      "Fitting 5 folds for each of 8 candidates, totalling 40 fits\n",
      "[CV] max_depth=1, n_estimators=100 ...................................\n"
     ]
    },
    {
     "name": "stderr",
     "output_type": "stream",
     "text": [
      "[Parallel(n_jobs=1)]: Using backend SequentialBackend with 1 concurrent workers.\n"
     ]
    },
    {
     "name": "stdout",
     "output_type": "stream",
     "text": [
      "[CV] ....... max_depth=1, n_estimators=100, score=0.999, total= 3.5min\n",
      "[CV] max_depth=1, n_estimators=100 ...................................\n"
     ]
    },
    {
     "name": "stderr",
     "output_type": "stream",
     "text": [
      "[Parallel(n_jobs=1)]: Done   1 out of   1 | elapsed:  3.5min remaining:    0.0s\n"
     ]
    },
    {
     "name": "stdout",
     "output_type": "stream",
     "text": [
      "[CV] ....... max_depth=1, n_estimators=100, score=0.999, total= 3.4min\n",
      "[CV] max_depth=1, n_estimators=100 ...................................\n"
     ]
    },
    {
     "name": "stderr",
     "output_type": "stream",
     "text": [
      "[Parallel(n_jobs=1)]: Done   2 out of   2 | elapsed:  6.9min remaining:    0.0s\n"
     ]
    },
    {
     "name": "stdout",
     "output_type": "stream",
     "text": [
      "[CV] ....... max_depth=1, n_estimators=100, score=0.999, total= 3.0min\n",
      "[CV] max_depth=1, n_estimators=100 ...................................\n",
      "[CV] ....... max_depth=1, n_estimators=100, score=0.999, total= 2.9min\n",
      "[CV] max_depth=1, n_estimators=100 ...................................\n",
      "[CV] ....... max_depth=1, n_estimators=100, score=0.999, total= 8.1min\n",
      "[CV] max_depth=1, n_estimators=200 ...................................\n",
      "[CV] ....... max_depth=1, n_estimators=200, score=0.999, total= 2.6min\n",
      "[CV] max_depth=1, n_estimators=200 ...................................\n",
      "[CV] ....... max_depth=1, n_estimators=200, score=0.999, total= 2.6min\n",
      "[CV] max_depth=1, n_estimators=200 ...................................\n",
      "[CV] ....... max_depth=1, n_estimators=200, score=0.999, total= 2.6min\n",
      "[CV] max_depth=1, n_estimators=200 ...................................\n",
      "[CV] ....... max_depth=1, n_estimators=200, score=0.999, total=43.2min\n",
      "[CV] max_depth=1, n_estimators=200 ...................................\n",
      "[CV] ....... max_depth=1, n_estimators=200, score=0.999, total= 3.1min\n",
      "[CV] max_depth=1, n_estimators=300 ...................................\n",
      "[CV] ....... max_depth=1, n_estimators=300, score=0.999, total= 4.7min\n",
      "[CV] max_depth=1, n_estimators=300 ...................................\n",
      "[CV] ....... max_depth=1, n_estimators=300, score=0.999, total= 4.8min\n",
      "[CV] max_depth=1, n_estimators=300 ...................................\n",
      "[CV] ....... max_depth=1, n_estimators=300, score=0.999, total= 5.9min\n",
      "[CV] max_depth=1, n_estimators=300 ...................................\n",
      "[CV] ....... max_depth=1, n_estimators=300, score=0.999, total= 3.9min\n",
      "[CV] max_depth=1, n_estimators=300 ...................................\n",
      "[CV] ....... max_depth=1, n_estimators=300, score=0.999, total=20.2min\n",
      "[CV] max_depth=1, n_estimators=400 ...................................\n",
      "[CV] ....... max_depth=1, n_estimators=400, score=0.999, total= 7.8min\n",
      "[CV] max_depth=1, n_estimators=400 ...................................\n",
      "[CV] ....... max_depth=1, n_estimators=400, score=0.999, total= 9.4min\n",
      "[CV] max_depth=1, n_estimators=400 ...................................\n",
      "[CV] ....... max_depth=1, n_estimators=400, score=0.999, total= 6.4min\n",
      "[CV] max_depth=1, n_estimators=400 ...................................\n",
      "[CV] ....... max_depth=1, n_estimators=400, score=0.999, total= 6.4min\n",
      "[CV] max_depth=1, n_estimators=400 ...................................\n",
      "[CV] ....... max_depth=1, n_estimators=400, score=0.999, total= 6.3min\n",
      "[CV] max_depth=2, n_estimators=100 ...................................\n",
      "[CV] ....... max_depth=2, n_estimators=100, score=0.999, total= 5.0min\n",
      "[CV] max_depth=2, n_estimators=100 ...................................\n",
      "[CV] ....... max_depth=2, n_estimators=100, score=0.998, total= 3.2min\n",
      "[CV] max_depth=2, n_estimators=100 ...................................\n",
      "[CV] ....... max_depth=2, n_estimators=100, score=0.999, total= 3.2min\n",
      "[CV] max_depth=2, n_estimators=100 ...................................\n",
      "[CV] ...... max_depth=2, n_estimators=100, score=0.999, total=228.7min\n",
      "[CV] max_depth=2, n_estimators=100 ...................................\n",
      "[CV] ....... max_depth=2, n_estimators=100, score=0.999, total= 2.5min\n",
      "[CV] max_depth=2, n_estimators=200 ...................................\n",
      "[CV] ....... max_depth=2, n_estimators=200, score=0.998, total= 5.1min\n",
      "[CV] max_depth=2, n_estimators=200 ...................................\n",
      "[CV] ...... max_depth=2, n_estimators=200, score=0.998, total=279.1min\n",
      "[CV] max_depth=2, n_estimators=200 ...................................\n",
      "[CV] ....... max_depth=2, n_estimators=200, score=0.999, total= 5.2min\n",
      "[CV] max_depth=2, n_estimators=200 ...................................\n",
      "[CV] ....... max_depth=2, n_estimators=200, score=0.999, total= 4.9min\n",
      "[CV] max_depth=2, n_estimators=200 ...................................\n",
      "[CV] ....... max_depth=2, n_estimators=200, score=0.999, total= 5.1min\n",
      "[CV] max_depth=2, n_estimators=300 ...................................\n",
      "[CV] ...... max_depth=2, n_estimators=300, score=0.998, total=124.9min\n",
      "[CV] max_depth=2, n_estimators=300 ...................................\n",
      "[CV] ....... max_depth=2, n_estimators=300, score=0.998, total= 8.0min\n",
      "[CV] max_depth=2, n_estimators=300 ...................................\n",
      "[CV] ....... max_depth=2, n_estimators=300, score=0.998, total= 7.8min\n",
      "[CV] max_depth=2, n_estimators=300 ...................................\n",
      "[CV] ....... max_depth=2, n_estimators=300, score=0.999, total= 7.8min\n",
      "[CV] max_depth=2, n_estimators=300 ...................................\n",
      "[CV] ....... max_depth=2, n_estimators=300, score=0.999, total= 8.0min\n",
      "[CV] max_depth=2, n_estimators=400 ...................................\n",
      "[CV] ....... max_depth=2, n_estimators=400, score=0.998, total=10.4min\n",
      "[CV] max_depth=2, n_estimators=400 ...................................\n",
      "[CV] ....... max_depth=2, n_estimators=400, score=0.998, total=26.4min\n",
      "[CV] max_depth=2, n_estimators=400 ...................................\n",
      "[CV] ....... max_depth=2, n_estimators=400, score=0.999, total=70.5min\n",
      "[CV] max_depth=2, n_estimators=400 ...................................\n",
      "[CV] ....... max_depth=2, n_estimators=400, score=0.999, total=10.0min\n",
      "[CV] max_depth=2, n_estimators=400 ...................................\n",
      "[CV] ....... max_depth=2, n_estimators=400, score=0.999, total=12.8min\n"
     ]
    },
    {
     "name": "stderr",
     "output_type": "stream",
     "text": [
      "[Parallel(n_jobs=1)]: Done  40 out of  40 | elapsed: 979.4min finished\n"
     ]
    },
    {
     "data": {
      "text/plain": [
       "GridSearchCV(estimator=GradientBoostingClassifier(),\n",
       "             param_grid={'max_depth': [1, 2],\n",
       "                         'n_estimators': [100, 200, 300, 400]},\n",
       "             verbose=3)"
      ]
     },
     "execution_count": 22,
     "metadata": {},
     "output_type": "execute_result"
    }
   ],
   "source": [
    "# Train the model with GridSearch\n",
    "gradientBoostedGrid.fit(X_train_scaled, y_train.flatten())"
   ]
  },
  {
   "cell_type": "code",
   "execution_count": 23,
   "metadata": {},
   "outputs": [
    {
     "name": "stdout",
     "output_type": "stream",
     "text": [
      "{'max_depth': 1, 'n_estimators': 100}\n",
      "0.9990964630977739\n"
     ]
    }
   ],
   "source": [
    "print(gradientBoostedGrid.best_params_)\n",
    "print(gradientBoostedGrid.best_score_)"
   ]
  },
  {
   "cell_type": "code",
   "execution_count": 25,
   "metadata": {},
   "outputs": [],
   "source": [
    "# Make predictions with hyperparameter tuned model\n",
    "GradientBoostGridPredictions = gradientBoostedGrid.predict(X_test_scaled)"
   ]
  },
  {
   "cell_type": "code",
   "execution_count": 26,
   "metadata": {},
   "outputs": [
    {
     "name": "stdout",
     "output_type": "stream",
     "text": [
      "                precision    recall  f1-score   support\n",
      "\n",
      "Non Fraudulent       1.00      1.00      1.00     71089\n",
      "    Fraudulent       0.69      0.72      0.70       113\n",
      "\n",
      "      accuracy                           1.00     71202\n",
      "     macro avg       0.84      0.86      0.85     71202\n",
      "  weighted avg       1.00      1.00      1.00     71202\n",
      "\n"
     ]
    }
   ],
   "source": [
    "# Print Classification Report\n",
    "print(classification_report(y_test.flatten(), GradientBoostGridPredictions,\n",
    "                           target_names=[\"Non Fraudulent\", \"Fraudulent\"]))"
   ]
  },
  {
   "cell_type": "code",
   "execution_count": 28,
   "metadata": {},
   "outputs": [
    {
     "data": {
      "text/plain": [
       "GradientBoostingClassifier(max_depth=1)"
      ]
     },
     "execution_count": 28,
     "metadata": {},
     "output_type": "execute_result"
    }
   ],
   "source": [
    "hypertunedGradientBoostModel = GradientBoostingClassifier(max_depth = 1, n_estimators =100)\n",
    "hypertunedGradientBoostModel"
   ]
  },
  {
   "cell_type": "code",
   "execution_count": 29,
   "metadata": {},
   "outputs": [
    {
     "data": {
      "text/plain": [
       "GradientBoostingClassifier(max_depth=1)"
      ]
     },
     "execution_count": 29,
     "metadata": {},
     "output_type": "execute_result"
    }
   ],
   "source": [
    "hypertunedGradientBoostModel.fit(X_train_scaled, y_train.flatten())"
   ]
  },
  {
   "cell_type": "code",
   "execution_count": 30,
   "metadata": {},
   "outputs": [
    {
     "name": "stdout",
     "output_type": "stream",
     "text": [
      "Training Data Score: 0.9991105077128344\n",
      "Testing Data Score: 0.9990309260975815\n"
     ]
    }
   ],
   "source": [
    "print(f\"Training Data Score: {hypertunedGradientBoostModel.score(X_train_scaled, y_train)}\")\n",
    "print(f\"Testing Data Score: {hypertunedGradientBoostModel.score(X_test_scaled, y_test)}\")"
   ]
  },
  {
   "cell_type": "code",
   "execution_count": 31,
   "metadata": {},
   "outputs": [],
   "source": [
    "hypertunedGradientBoostModelPredictions = hypertunedGradientBoostModel.predict(X_test_scaled)"
   ]
  },
  {
   "cell_type": "code",
   "execution_count": 32,
   "metadata": {},
   "outputs": [],
   "source": [
    "hypertunedGradientBoostPredictProba = hypertunedGradientBoostModel.predict_proba(X_test_scaled)[:,1]"
   ]
  },
  {
   "cell_type": "code",
   "execution_count": 33,
   "metadata": {},
   "outputs": [
    {
     "name": "stdout",
     "output_type": "stream",
     "text": [
      "                precision    recall  f1-score   support\n",
      "\n",
      "Non Fraudulent       1.00      1.00      1.00     71089\n",
      "    Fraudulent       0.69      0.72      0.70       113\n",
      "\n",
      "      accuracy                           1.00     71202\n",
      "     macro avg       0.84      0.86      0.85     71202\n",
      "  weighted avg       1.00      1.00      1.00     71202\n",
      "\n"
     ]
    }
   ],
   "source": [
    "# Calculate classification report\n",
    "print(classification_report(y_test.flatten(), hypertunedGradientBoostModelPredictions,\n",
    "                            target_names=[\"Non Fraudulent\", \"Fraudulent\"]))"
   ]
  },
  {
   "cell_type": "code",
   "execution_count": 34,
   "metadata": {},
   "outputs": [
    {
     "name": "stdout",
     "output_type": "stream",
     "text": [
      "Gradient Boosting Classifier\n",
      "========================\n",
      "Accuracy:  0.9990309260975815\n",
      "Precision:  0.6864406779661016\n",
      "Recall:  0.7168141592920354\n",
      "F1-Score:  0.7012987012987013\n",
      "AUC score:  0.8581468424785234\n",
      "                precision    recall  f1-score   support\n",
      "\n",
      "Non Fraudulent       1.00      1.00      1.00     71089\n",
      "    Fraudulent       0.69      0.72      0.70       113\n",
      "\n",
      "      accuracy                           1.00     71202\n",
      "     macro avg       0.84      0.86      0.85     71202\n",
      "  weighted avg       1.00      1.00      1.00     71202\n",
      "\n"
     ]
    },
    {
     "data": {
      "image/png": "[encoded data removed]",
      "text/plain": [
       "<Figure size 432x288 with 1 Axes>"
      ]
     },
     "metadata": {
      "needs_background": "light"
     },
     "output_type": "display_data"
    },
    {
     "data": {
      "image/png": "[encoded data removed]",
      "text/plain": [
       "<Figure size 432x432 with 2 Axes>"
      ]
     },
     "metadata": {
      "needs_background": "light"
     },
     "output_type": "display_data"
    }
   ],
   "source": [
    "print(\"Gradient Boosting Classifier\")\n",
    "print(\"========================\")\n",
    "print(\"Accuracy: \",accuracy_score(y_test.flatten(), hypertunedGradientBoostModelPredictions)) \n",
    "print(\"Precision: \",precision_score(y_test.flatten(), hypertunedGradientBoostModelPredictions))\n",
    "print(\"Recall: \",recall_score(y_test.flatten(), hypertunedGradientBoostModelPredictions))\n",
    "print(\"F1-Score: \",f1_score(y_test.flatten(), hypertunedGradientBoostModelPredictions))\n",
    "print(\"AUC score: \",roc_auc_score(y_test.flatten(), hypertunedGradientBoostModelPredictions))\n",
    "print(classification_report(y_test.flatten(), hypertunedGradientBoostModelPredictions,\n",
    "                            target_names=[\"Non Fraudulent\", \"Fraudulent\"]))\n",
    "\n",
    "p, r, t = precision_recall_curve(y_test.flatten(), hypertunedGradientBoostPredictProba)\n",
    "plt.plot(p, r)\n",
    "plt.xlabel('Recall')\n",
    "plt.ylabel('Precision')\n",
    "plt.title('Precision Recall Curve - Gradient Boosting Classifier')\n",
    "\n",
    "confusionMatrix = confusion_matrix(y_test.flatten(), hypertunedGradientBoostModelPredictions) \n",
    "plt.figure(figsize =(6, 6)) \n",
    "sns.heatmap(confusionMatrix, xticklabels = ['Non Fraudulent', 'Fraudulent'],  \n",
    "            yticklabels = ['Non Fraudulent', 'Fraudulent'], annot = True, fmt =\"d\"); \n",
    "plt.title(\"Confusion matrix - Gradient Boosting Classifier\") \n",
    "plt.ylabel('Actual Class') \n",
    "plt.xlabel('Predicted class') \n",
    "plt.show()"
   ]
  },
  {
   "cell_type": "markdown",
   "metadata": {},
   "source": [
    "# Feature Selection"
   ]
  },
  {
   "cell_type": "code",
   "execution_count": 35,
   "metadata": {},
   "outputs": [
    {
     "data": {
      "text/plain": [
       "[(1.0, 'V17'),\n",
       " (0.0, 'V9'),\n",
       " (0.0, 'V8'),\n",
       " (0.0, 'V7'),\n",
       " (0.0, 'V6'),\n",
       " (0.0, 'V5'),\n",
       " (0.0, 'V4'),\n",
       " (0.0, 'V3'),\n",
       " (0.0, 'V28'),\n",
       " (0.0, 'V27'),\n",
       " (0.0, 'V26'),\n",
       " (0.0, 'V25'),\n",
       " (0.0, 'V24'),\n",
       " (0.0, 'V23'),\n",
       " (0.0, 'V22'),\n",
       " (0.0, 'V21'),\n",
       " (0.0, 'V20'),\n",
       " (0.0, 'V2'),\n",
       " (0.0, 'V19'),\n",
       " (0.0, 'V18'),\n",
       " (0.0, 'V16'),\n",
       " (0.0, 'V15'),\n",
       " (0.0, 'V14'),\n",
       " (0.0, 'V13'),\n",
       " (0.0, 'V12'),\n",
       " (0.0, 'V11'),\n",
       " (0.0, 'V10'),\n",
       " (0.0, 'V1'),\n",
       " (0.0, 'Time'),\n",
       " (0.0, 'Amount')]"
      ]
     },
     "execution_count": 35,
     "metadata": {},
     "output_type": "execute_result"
    }
   ],
   "source": [
    "feature_names = selected_features.columns\n",
    "sorted(zip(hypertunedGradientBoostModel.feature_importances_, feature_names), reverse=True)"
   ]
  },
  {
   "cell_type": "code",
   "execution_count": 36,
   "metadata": {},
   "outputs": [],
   "source": [
    "top_features = df[['V17']]"
   ]
  },
  {
   "cell_type": "code",
   "execution_count": 37,
   "metadata": {},
   "outputs": [
    {
     "name": "stdout",
     "output_type": "stream",
     "text": [
      "Shape:  (284807, 1) (284807, 1)\n"
     ]
    }
   ],
   "source": [
    "# Assign the data to X and y\n",
    "# Note: Sklearn requires a two-dimensional array of values\n",
    "# so we use reshape to create this\n",
    "\n",
    "top_X = top_features\n",
    "top_y = df[['Class']].values.reshape(-1, 1)\n",
    "\n",
    "print(\"Shape: \", top_X.shape, top_y.shape)"
   ]
  },
  {
   "cell_type": "code",
   "execution_count": 40,
   "metadata": {},
   "outputs": [
    {
     "name": "stdout",
     "output_type": "stream",
     "text": [
      "(213605, 1) (71202, 1) (213605, 1) (71202, 1)\n"
     ]
    }
   ],
   "source": [
    "top_X_train, top_X_test, top_y_train, top_y_test = train_test_split(top_X, top_y, random_state=42)\n",
    "print(top_X_train.shape,top_X_test.shape,top_y_train.shape, top_y_test.shape)\n"
   ]
  },
  {
   "cell_type": "code",
   "execution_count": 41,
   "metadata": {},
   "outputs": [],
   "source": [
    "top_X_minmax = MinMaxScaler().fit(top_X_train)\n",
    "\n",
    "top_X_train_scaled = top_X_minmax.transform(top_X_train)\n",
    "top_X_test_scaled = top_X_minmax.transform(top_X_test)"
   ]
  },
  {
   "cell_type": "code",
   "execution_count": 42,
   "metadata": {},
   "outputs": [
    {
     "data": {
      "text/plain": [
       "GradientBoostingClassifier()"
      ]
     },
     "execution_count": 42,
     "metadata": {},
     "output_type": "execute_result"
    }
   ],
   "source": [
    "top_GradientBoostModel = GradientBoostingClassifier()\n",
    "top_GradientBoostModel"
   ]
  },
  {
   "cell_type": "code",
   "execution_count": 43,
   "metadata": {},
   "outputs": [
    {
     "data": {
      "text/plain": [
       "GradientBoostingClassifier()"
      ]
     },
     "execution_count": 43,
     "metadata": {},
     "output_type": "execute_result"
    }
   ],
   "source": [
    "top_GradientBoostModel.fit(top_X_train_scaled, top_y_train.flatten())"
   ]
  },
  {
   "cell_type": "code",
   "execution_count": 44,
   "metadata": {},
   "outputs": [
    {
     "name": "stdout",
     "output_type": "stream",
     "text": [
      "Training Data Score: 0.999133915404602\n",
      "Testing Data Score: 0.9990590151962023\n"
     ]
    }
   ],
   "source": [
    "print(f\"Training Data Score: {top_GradientBoostModel.score(top_X_train_scaled, top_y_train)}\")\n",
    "print(f\"Testing Data Score: {top_GradientBoostModel.score(top_X_test_scaled, top_y_test)}\")"
   ]
  },
  {
   "cell_type": "code",
   "execution_count": 46,
   "metadata": {},
   "outputs": [],
   "source": [
    "# Make predictions\n",
    "top_GradientBoostPredictions = top_GradientBoostModel.predict(top_X_test_scaled)"
   ]
  },
  {
   "cell_type": "code",
   "execution_count": 47,
   "metadata": {},
   "outputs": [],
   "source": [
    "top_GradientBoostPredictProba = top_GradientBoostModel.predict_proba(top_X_test_scaled)[:,1]"
   ]
  },
  {
   "cell_type": "code",
   "execution_count": 48,
   "metadata": {},
   "outputs": [
    {
     "name": "stdout",
     "output_type": "stream",
     "text": [
      "                precision    recall  f1-score   support\n",
      "\n",
      "Non Fraudulent       1.00      1.00      1.00     71089\n",
      "    Fraudulent       0.72      0.67      0.69       113\n",
      "\n",
      "      accuracy                           1.00     71202\n",
      "     macro avg       0.86      0.84      0.85     71202\n",
      "  weighted avg       1.00      1.00      1.00     71202\n",
      "\n",
      "Accuracy: 0.9990590151962023\n"
     ]
    }
   ],
   "source": [
    "print(classification_report(top_y_test.flatten(), top_GradientBoostPredictions,\n",
    "                            target_names=[\"Non Fraudulent\", \"Fraudulent\"]))\n",
    "print(\"Accuracy:\", accuracy_score(top_y_test.flatten(), top_GradientBoostPredictions))"
   ]
  },
  {
   "cell_type": "code",
   "execution_count": 51,
   "metadata": {},
   "outputs": [
    {
     "name": "stdout",
     "output_type": "stream",
     "text": [
      "Gradient Boosting Classifier\n",
      "========================\n",
      "Accuracy:  0.9990590151962023\n",
      "Precision:  0.7169811320754716\n",
      "Recall:  0.672566371681416\n",
      "F1-Score:  0.6940639269406392\n",
      "AUC score:  0.8360721827319288\n",
      "                precision    recall  f1-score   support\n",
      "\n",
      "Non Fraudulent       1.00      1.00      1.00     71089\n",
      "    Fraudulent       0.72      0.67      0.69       113\n",
      "\n",
      "      accuracy                           1.00     71202\n",
      "     macro avg       0.86      0.84      0.85     71202\n",
      "  weighted avg       1.00      1.00      1.00     71202\n",
      "\n"
     ]
    },
    {
     "data": {
      "image/png": "[encoded data removed]",
      "text/plain": [
       "<Figure size 432x288 with 1 Axes>"
      ]
     },
     "metadata": {
      "needs_background": "light"
     },
     "output_type": "display_data"
    },
    {
     "data": {
      "image/png": "[encoded data removed]",
      "text/plain": [
       "<Figure size 432x432 with 2 Axes>"
      ]
     },
     "metadata": {
      "needs_background": "light"
     },
     "output_type": "display_data"
    }
   ],
   "source": [
    "print(\"Gradient Boosting Classifier\")\n",
    "print(\"========================\")\n",
    "print(\"Accuracy: \",accuracy_score(y_test.flatten(), top_GradientBoostPredictions)) \n",
    "print(\"Precision: \",precision_score(y_test.flatten(), top_GradientBoostPredictions))\n",
    "print(\"Recall: \",recall_score(y_test.flatten(), top_GradientBoostPredictions))\n",
    "print(\"F1-Score: \",f1_score(y_test.flatten(), top_GradientBoostPredictions))\n",
    "print(\"AUC score: \",roc_auc_score(y_test.flatten(), top_GradientBoostPredictions))\n",
    "print(classification_report(y_test.flatten(), top_GradientBoostPredictions,\n",
    "                            target_names=[\"Non Fraudulent\", \"Fraudulent\"]))\n",
    "\n",
    "p, r, t = precision_recall_curve(y_test.flatten(), top_GradientBoostPredictProba)\n",
    "plt.plot(p, r)\n",
    "plt.xlabel('Recall')\n",
    "plt.ylabel('Precision')\n",
    "plt.title('Precision Recall Curve - Gradient Boosting Classifier')\n",
    "\n",
    "confusionMatrix = confusion_matrix(y_test.flatten(), top_GradientBoostPredictions) \n",
    "plt.figure(figsize =(6, 6)) \n",
    "sns.heatmap(confusionMatrix, xticklabels = ['Non Fraudulent', 'Fraudulent'],  \n",
    "            yticklabels = ['Non Fraudulent', 'Fraudulent'], annot = True, fmt =\"d\"); \n",
    "plt.title(\"Confusion matrix - Gradient Boosting Classifier\") \n",
    "plt.ylabel('Actual Class') \n",
    "plt.xlabel('Predicted class') \n",
    "plt.show()"
   ]
  },
  {
   "cell_type": "markdown",
   "metadata": {},
   "source": [
    "# Hyperparemeter Tuning"
   ]
  },
  {
   "cell_type": "code",
   "execution_count": 53,
   "metadata": {},
   "outputs": [
    {
     "data": {
      "text/plain": [
       "dict_keys(['ccp_alpha', 'criterion', 'init', 'learning_rate', 'loss', 'max_depth', 'max_features', 'max_leaf_nodes', 'min_impurity_decrease', 'min_impurity_split', 'min_samples_leaf', 'min_samples_split', 'min_weight_fraction_leaf', 'n_estimators', 'n_iter_no_change', 'presort', 'random_state', 'subsample', 'tol', 'validation_fraction', 'verbose', 'warm_start'])"
      ]
     },
     "execution_count": 53,
     "metadata": {},
     "output_type": "execute_result"
    }
   ],
   "source": [
    "top_GradientBoostModel.get_params().keys()"
   ]
  },
  {
   "cell_type": "code",
   "execution_count": 54,
   "metadata": {},
   "outputs": [],
   "source": [
    "# Create the GridSearchCV model\n",
    "# Create the GridSearch estimator along with a paramter object containing the values to adjust\n",
    "top_GradientBoostParamGrid = {'n_estimators': [100,200,300,400],\n",
    "                             'max_depth': [1,2,3]}\n",
    "top_GradientBoostGrid = GridSearchCV(top_GradientBoostModel, top_GradientBoostParamGrid, verbose=3)"
   ]
  },
  {
   "cell_type": "code",
   "execution_count": 55,
   "metadata": {},
   "outputs": [
    {
     "name": "stdout",
     "output_type": "stream",
     "text": [
      "Fitting 5 folds for each of 12 candidates, totalling 60 fits\n",
      "[CV] max_depth=1, n_estimators=100 ...................................\n"
     ]
    },
    {
     "name": "stderr",
     "output_type": "stream",
     "text": [
      "[Parallel(n_jobs=1)]: Using backend SequentialBackend with 1 concurrent workers.\n"
     ]
    },
    {
     "name": "stdout",
     "output_type": "stream",
     "text": [
      "[CV] ....... max_depth=1, n_estimators=100, score=0.999, total=   4.3s\n",
      "[CV] max_depth=1, n_estimators=100 ...................................\n"
     ]
    },
    {
     "name": "stderr",
     "output_type": "stream",
     "text": [
      "[Parallel(n_jobs=1)]: Done   1 out of   1 | elapsed:    4.2s remaining:    0.0s\n"
     ]
    },
    {
     "name": "stdout",
     "output_type": "stream",
     "text": [
      "[CV] ....... max_depth=1, n_estimators=100, score=0.999, total=   4.1s\n",
      "[CV] max_depth=1, n_estimators=100 ...................................\n"
     ]
    },
    {
     "name": "stderr",
     "output_type": "stream",
     "text": [
      "[Parallel(n_jobs=1)]: Done   2 out of   2 | elapsed:    8.3s remaining:    0.0s\n"
     ]
    },
    {
     "name": "stdout",
     "output_type": "stream",
     "text": [
      "[CV] ....... max_depth=1, n_estimators=100, score=0.999, total=   4.3s\n",
      "[CV] max_depth=1, n_estimators=100 ...................................\n",
      "[CV] ....... max_depth=1, n_estimators=100, score=0.999, total=   4.2s\n",
      "[CV] max_depth=1, n_estimators=100 ...................................\n",
      "[CV] ....... max_depth=1, n_estimators=100, score=0.999, total=   4.2s\n",
      "[CV] max_depth=1, n_estimators=200 ...................................\n",
      "[CV] ....... max_depth=1, n_estimators=200, score=0.999, total=   8.3s\n",
      "[CV] max_depth=1, n_estimators=200 ...................................\n",
      "[CV] ....... max_depth=1, n_estimators=200, score=0.999, total=   8.3s\n",
      "[CV] max_depth=1, n_estimators=200 ...................................\n",
      "[CV] ....... max_depth=1, n_estimators=200, score=0.999, total=   8.5s\n",
      "[CV] max_depth=1, n_estimators=200 ...................................\n",
      "[CV] ....... max_depth=1, n_estimators=200, score=0.999, total=   8.4s\n",
      "[CV] max_depth=1, n_estimators=200 ...................................\n",
      "[CV] ....... max_depth=1, n_estimators=200, score=0.999, total=   8.5s\n",
      "[CV] max_depth=1, n_estimators=300 ...................................\n",
      "[CV] ....... max_depth=1, n_estimators=300, score=0.999, total=  13.7s\n",
      "[CV] max_depth=1, n_estimators=300 ...................................\n",
      "[CV] ....... max_depth=1, n_estimators=300, score=0.999, total=  13.7s\n",
      "[CV] max_depth=1, n_estimators=300 ...................................\n",
      "[CV] ....... max_depth=1, n_estimators=300, score=0.999, total=  13.5s\n",
      "[CV] max_depth=1, n_estimators=300 ...................................\n",
      "[CV] ....... max_depth=1, n_estimators=300, score=0.999, total=  12.6s\n",
      "[CV] max_depth=1, n_estimators=300 ...................................\n",
      "[CV] ....... max_depth=1, n_estimators=300, score=0.999, total=  12.5s\n",
      "[CV] max_depth=1, n_estimators=400 ...................................\n",
      "[CV] ....... max_depth=1, n_estimators=400, score=0.999, total=  16.7s\n",
      "[CV] max_depth=1, n_estimators=400 ...................................\n",
      "[CV] ....... max_depth=1, n_estimators=400, score=0.999, total=  16.5s\n",
      "[CV] max_depth=1, n_estimators=400 ...................................\n",
      "[CV] ....... max_depth=1, n_estimators=400, score=0.999, total=  16.7s\n",
      "[CV] max_depth=1, n_estimators=400 ...................................\n",
      "[CV] ....... max_depth=1, n_estimators=400, score=0.999, total=  17.2s\n",
      "[CV] max_depth=1, n_estimators=400 ...................................\n",
      "[CV] ....... max_depth=1, n_estimators=400, score=0.999, total=  17.0s\n",
      "[CV] max_depth=2, n_estimators=100 ...................................\n",
      "[CV] ....... max_depth=2, n_estimators=100, score=0.998, total=   7.7s\n",
      "[CV] max_depth=2, n_estimators=100 ...................................\n",
      "[CV] ....... max_depth=2, n_estimators=100, score=0.998, total=   7.6s\n",
      "[CV] max_depth=2, n_estimators=100 ...................................\n",
      "[CV] ....... max_depth=2, n_estimators=100, score=0.998, total=   7.6s\n",
      "[CV] max_depth=2, n_estimators=100 ...................................\n",
      "[CV] ....... max_depth=2, n_estimators=100, score=0.998, total=   7.6s\n",
      "[CV] max_depth=2, n_estimators=100 ...................................\n",
      "[CV] ....... max_depth=2, n_estimators=100, score=0.999, total=   7.6s\n",
      "[CV] max_depth=2, n_estimators=200 ...................................\n",
      "[CV] ....... max_depth=2, n_estimators=200, score=0.998, total=  15.2s\n",
      "[CV] max_depth=2, n_estimators=200 ...................................\n",
      "[CV] ....... max_depth=2, n_estimators=200, score=0.998, total=  15.2s\n",
      "[CV] max_depth=2, n_estimators=200 ...................................\n",
      "[CV] ....... max_depth=2, n_estimators=200, score=0.998, total=  15.1s\n",
      "[CV] max_depth=2, n_estimators=200 ...................................\n",
      "[CV] ....... max_depth=2, n_estimators=200, score=0.998, total=  15.3s\n",
      "[CV] max_depth=2, n_estimators=200 ...................................\n",
      "[CV] ....... max_depth=2, n_estimators=200, score=0.999, total=  15.9s\n",
      "[CV] max_depth=2, n_estimators=300 ...................................\n",
      "[CV] ....... max_depth=2, n_estimators=300, score=0.998, total=  23.9s\n",
      "[CV] max_depth=2, n_estimators=300 ...................................\n",
      "[CV] ....... max_depth=2, n_estimators=300, score=0.998, total=  23.3s\n",
      "[CV] max_depth=2, n_estimators=300 ...................................\n",
      "[CV] ....... max_depth=2, n_estimators=300, score=0.998, total=  22.8s\n",
      "[CV] max_depth=2, n_estimators=300 ...................................\n",
      "[CV] ....... max_depth=2, n_estimators=300, score=0.998, total=  23.7s\n",
      "[CV] max_depth=2, n_estimators=300 ...................................\n",
      "[CV] ....... max_depth=2, n_estimators=300, score=0.999, total=  24.8s\n",
      "[CV] max_depth=2, n_estimators=400 ...................................\n",
      "[CV] ....... max_depth=2, n_estimators=400, score=0.998, total=  30.5s\n",
      "[CV] max_depth=2, n_estimators=400 ...................................\n",
      "[CV] ....... max_depth=2, n_estimators=400, score=0.998, total=  30.4s\n",
      "[CV] max_depth=2, n_estimators=400 ...................................\n",
      "[CV] ....... max_depth=2, n_estimators=400, score=0.998, total=  30.4s\n",
      "[CV] max_depth=2, n_estimators=400 ...................................\n",
      "[CV] ....... max_depth=2, n_estimators=400, score=0.998, total=  31.2s\n",
      "[CV] max_depth=2, n_estimators=400 ...................................\n",
      "[CV] ....... max_depth=2, n_estimators=400, score=0.999, total=  30.4s\n",
      "[CV] max_depth=3, n_estimators=100 ...................................\n",
      "[CV] ....... max_depth=3, n_estimators=100, score=0.998, total=  11.1s\n",
      "[CV] max_depth=3, n_estimators=100 ...................................\n",
      "[CV] ....... max_depth=3, n_estimators=100, score=0.998, total=  11.6s\n",
      "[CV] max_depth=3, n_estimators=100 ...................................\n",
      "[CV] ....... max_depth=3, n_estimators=100, score=0.998, total=  11.4s\n",
      "[CV] max_depth=3, n_estimators=100 ...................................\n",
      "[CV] ....... max_depth=3, n_estimators=100, score=0.999, total=  11.1s\n",
      "[CV] max_depth=3, n_estimators=100 ...................................\n",
      "[CV] ....... max_depth=3, n_estimators=100, score=0.999, total=  11.2s\n",
      "[CV] max_depth=3, n_estimators=200 ...................................\n",
      "[CV] ....... max_depth=3, n_estimators=200, score=0.998, total=  23.1s\n",
      "[CV] max_depth=3, n_estimators=200 ...................................\n",
      "[CV] ....... max_depth=3, n_estimators=200, score=0.998, total=  22.3s\n",
      "[CV] max_depth=3, n_estimators=200 ...................................\n",
      "[CV] ....... max_depth=3, n_estimators=200, score=0.998, total=  22.0s\n",
      "[CV] max_depth=3, n_estimators=200 ...................................\n",
      "[CV] ....... max_depth=3, n_estimators=200, score=0.999, total=  21.8s\n",
      "[CV] max_depth=3, n_estimators=200 ...................................\n",
      "[CV] ....... max_depth=3, n_estimators=200, score=0.999, total=  23.8s\n",
      "[CV] max_depth=3, n_estimators=300 ...................................\n",
      "[CV] ....... max_depth=3, n_estimators=300, score=0.998, total=  37.1s\n",
      "[CV] max_depth=3, n_estimators=300 ...................................\n",
      "[CV] ....... max_depth=3, n_estimators=300, score=0.998, total=  33.6s\n",
      "[CV] max_depth=3, n_estimators=300 ...................................\n",
      "[CV] ....... max_depth=3, n_estimators=300, score=0.998, total=  38.8s\n",
      "[CV] max_depth=3, n_estimators=300 ...................................\n",
      "[CV] ....... max_depth=3, n_estimators=300, score=0.999, total=  35.8s\n",
      "[CV] max_depth=3, n_estimators=300 ...................................\n",
      "[CV] ....... max_depth=3, n_estimators=300, score=0.999, total=  36.1s\n",
      "[CV] max_depth=3, n_estimators=400 ...................................\n",
      "[CV] ....... max_depth=3, n_estimators=400, score=0.998, total=  46.5s\n",
      "[CV] max_depth=3, n_estimators=400 ...................................\n",
      "[CV] ....... max_depth=3, n_estimators=400, score=0.998, total=  46.9s\n",
      "[CV] max_depth=3, n_estimators=400 ...................................\n",
      "[CV] ....... max_depth=3, n_estimators=400, score=0.113, total=  46.3s\n",
      "[CV] max_depth=3, n_estimators=400 ...................................\n",
      "[CV] ....... max_depth=3, n_estimators=400, score=0.999, total=  47.6s\n",
      "[CV] max_depth=3, n_estimators=400 ...................................\n",
      "[CV] ....... max_depth=3, n_estimators=400, score=0.999, total=  56.3s\n"
     ]
    },
    {
     "name": "stderr",
     "output_type": "stream",
     "text": [
      "[Parallel(n_jobs=1)]: Done  60 out of  60 | elapsed: 19.9min finished\n"
     ]
    },
    {
     "data": {
      "text/plain": [
       "GridSearchCV(estimator=GradientBoostingClassifier(),\n",
       "             param_grid={'max_depth': [1, 2, 3],\n",
       "                         'n_estimators': [100, 200, 300, 400]},\n",
       "             verbose=3)"
      ]
     },
     "execution_count": 55,
     "metadata": {},
     "output_type": "execute_result"
    }
   ],
   "source": [
    "# Train the model\n",
    "top_GradientBoostGrid.fit(top_X_train_scaled, top_y_train.flatten())"
   ]
  },
  {
   "cell_type": "code",
   "execution_count": 56,
   "metadata": {},
   "outputs": [
    {
     "name": "stdout",
     "output_type": "stream",
     "text": [
      "{'max_depth': 1, 'n_estimators': 100}\n",
      "0.9990964630977739\n"
     ]
    }
   ],
   "source": [
    "print(top_GradientBoostGrid.best_params_)\n",
    "print(top_GradientBoostGrid.best_score_)"
   ]
  },
  {
   "cell_type": "code",
   "execution_count": 57,
   "metadata": {},
   "outputs": [],
   "source": [
    "# Make predictions with the hyperparameter tuned model\n",
    "top_GradientBoostGridPredictions = top_GradientBoostGrid.predict(top_X_test_scaled)"
   ]
  },
  {
   "cell_type": "code",
   "execution_count": 58,
   "metadata": {},
   "outputs": [
    {
     "name": "stdout",
     "output_type": "stream",
     "text": [
      "                precision    recall  f1-score   support\n",
      "\n",
      "Non Fraudulent       1.00      1.00      1.00     71089\n",
      "    Fraudulent       0.69      0.72      0.70       113\n",
      "\n",
      "      accuracy                           1.00     71202\n",
      "     macro avg       0.84      0.86      0.85     71202\n",
      "  weighted avg       1.00      1.00      1.00     71202\n",
      "\n"
     ]
    }
   ],
   "source": [
    "print(classification_report(top_y_test.flatten(), top_GradientBoostGridPredictions,\n",
    "                            target_names=[\"Non Fraudulent\", \"Fraudulent\"]))"
   ]
  },
  {
   "cell_type": "code",
   "execution_count": 60,
   "metadata": {},
   "outputs": [
    {
     "data": {
      "text/plain": [
       "GradientBoostingClassifier(max_depth=1)"
      ]
     },
     "execution_count": 60,
     "metadata": {},
     "output_type": "execute_result"
    }
   ],
   "source": [
    "top_hypertunedGradientBoostModel = GradientBoostingClassifier(max_depth=1, n_estimators=100)\n",
    "top_hypertunedGradientBoostModel"
   ]
  },
  {
   "cell_type": "code",
   "execution_count": 61,
   "metadata": {},
   "outputs": [
    {
     "data": {
      "text/plain": [
       "GradientBoostingClassifier(max_depth=1)"
      ]
     },
     "execution_count": 61,
     "metadata": {},
     "output_type": "execute_result"
    }
   ],
   "source": [
    "top_hypertunedGradientBoostModel.fit(top_X_train_scaled, top_y_train.flatten())"
   ]
  },
  {
   "cell_type": "code",
   "execution_count": 62,
   "metadata": {},
   "outputs": [
    {
     "name": "stdout",
     "output_type": "stream",
     "text": [
      "Training Data Score: 0.9991105077128344\n",
      "Testing Data Score: 0.9990309260975815\n"
     ]
    }
   ],
   "source": [
    "print(f\"Training Data Score: {top_hypertunedGradientBoostModel.score(top_X_train_scaled, top_y_train)}\")\n",
    "print(f\"Testing Data Score: {top_hypertunedGradientBoostModel.score(top_X_test_scaled, top_y_test)}\")"
   ]
  },
  {
   "cell_type": "code",
   "execution_count": 63,
   "metadata": {},
   "outputs": [],
   "source": [
    "top_hypertunedGradientBoostModelPredictions = top_hypertunedGradientBoostModel.predict(top_X_test_scaled)"
   ]
  },
  {
   "cell_type": "code",
   "execution_count": 64,
   "metadata": {},
   "outputs": [],
   "source": [
    "top_hypertunedGradientBoostModelPredictProba = top_hypertunedGradientBoostModel.predict_proba(top_X_test_scaled)[:,1]"
   ]
  },
  {
   "cell_type": "code",
   "execution_count": 65,
   "metadata": {},
   "outputs": [
    {
     "name": "stdout",
     "output_type": "stream",
     "text": [
      "                precision    recall  f1-score   support\n",
      "\n",
      "Non Fraudulent       1.00      1.00      1.00     71089\n",
      "    Fraudulent       0.69      0.72      0.70       113\n",
      "\n",
      "      accuracy                           1.00     71202\n",
      "     macro avg       0.84      0.86      0.85     71202\n",
      "  weighted avg       1.00      1.00      1.00     71202\n",
      "\n"
     ]
    }
   ],
   "source": [
    "print(classification_report(top_y_test.flatten(), top_hypertunedGradientBoostModelPredictions,\n",
    "                            target_names=[\"Non Fraudulent\", \"Fraudulent\"]))"
   ]
  },
  {
   "cell_type": "code",
   "execution_count": 67,
   "metadata": {},
   "outputs": [
    {
     "name": "stdout",
     "output_type": "stream",
     "text": [
      "Gradient Boosting Classifier\n",
      "========================\n",
      "Accuracy:  0.9990309260975815\n",
      "Precision:  0.6864406779661016\n",
      "Recall:  0.7168141592920354\n",
      "F1-Score:  0.7012987012987013\n",
      "AUC score:  0.8581468424785234\n",
      "                precision    recall  f1-score   support\n",
      "\n",
      "Non Fraudulent       1.00      1.00      1.00     71089\n",
      "    Fraudulent       0.69      0.72      0.70       113\n",
      "\n",
      "      accuracy                           1.00     71202\n",
      "     macro avg       0.84      0.86      0.85     71202\n",
      "  weighted avg       1.00      1.00      1.00     71202\n",
      "\n"
     ]
    },
    {
     "data": {
      "image/png": "[encoded data removed]",
      "text/plain": [
       "<Figure size 432x288 with 1 Axes>"
      ]
     },
     "metadata": {
      "needs_background": "light"
     },
     "output_type": "display_data"
    },
    {
     "data": {
      "image/png": "[encoded data removed]",
      "text/plain": [
       "<Figure size 432x432 with 2 Axes>"
      ]
     },
     "metadata": {
      "needs_background": "light"
     },
     "output_type": "display_data"
    }
   ],
   "source": [
    "\n",
    "print(\"Gradient Boosting Classifier\")\n",
    "print(\"========================\")\n",
    "print(\"Accuracy: \",accuracy_score(top_y_test.flatten(), top_hypertunedGradientBoostModelPredictions)) \n",
    "print(\"Precision: \",precision_score(top_y_test.flatten(), top_hypertunedGradientBoostModelPredictions))\n",
    "print(\"Recall: \",recall_score(top_y_test.flatten(), top_hypertunedGradientBoostModelPredictions))\n",
    "print(\"F1-Score: \",f1_score(top_y_test.flatten(), top_hypertunedGradientBoostModelPredictions))\n",
    "print(\"AUC score: \",roc_auc_score(top_y_test.flatten(), top_hypertunedGradientBoostModelPredictions))\n",
    "print(classification_report(top_y_test.flatten(), top_hypertunedGradientBoostModelPredictions,\n",
    "                            target_names=[\"Non Fraudulent\", \"Fraudulent\"]))\n",
    "\n",
    "p, r, t = precision_recall_curve(top_y_test.flatten(), top_hypertunedGradientBoostModelPredictProba)\n",
    "plt.plot(p, r)\n",
    "plt.xlabel('Recall')\n",
    "plt.ylabel('Precision')\n",
    "plt.title('Precision Recall Curve - Gradient Boosting Classifier')\n",
    "\n",
    "top_14confusionMatrix = confusion_matrix(top_y_test.flatten(), top_hypertunedGradientBoostModelPredictions) \n",
    "plt.figure(figsize =(6, 6)) \n",
    "sns.heatmap(top_14confusionMatrix, xticklabels = ['Non Fraudulent', 'Fraudulent'],  \n",
    "            yticklabels = ['Non Fraudulent', 'Fraudulent'], annot = True, fmt =\"d\"); \n",
    "plt.title(\"Confusion matrix - Gradient Boosting Classifier\") \n",
    "plt.ylabel('Actual Class') \n",
    "plt.xlabel('Predicted class') \n",
    "plt.show()"
   ]
  },
  {
   "cell_type": "markdown",
   "metadata": {},
   "source": [
    "# Save the Model"
   ]
  },
  {
   "cell_type": "code",
   "execution_count": 68,
   "metadata": {},
   "outputs": [
    {
     "data": {
      "text/plain": [
       "['GradientBoostingClassifier.sav']"
      ]
     },
     "execution_count": 68,
     "metadata": {},
     "output_type": "execute_result"
    }
   ],
   "source": [
    "filename = 'GradientBoostingClassifier.sav'\n",
    "joblib.dump(hypertunedGradientBoostModel, filename)"
   ]
  },
  {
   "cell_type": "code",
   "execution_count": null,
   "metadata": {},
   "outputs": [],
   "source": []
  }
 ],
 "metadata": {
  "kernelspec": {
   "display_name": "Python 3",
   "language": "python",
   "name": "python3"
  },
  "language_info": {
   "codemirror_mode": {
    "name": "ipython",
    "version": 3
   },
   "file_extension": ".py",
   "mimetype": "text/x-python",
   "name": "python",
   "nbconvert_exporter": "python",
   "pygments_lexer": "ipython3",
   "version": "3.8.3"
  }
 },
 "nbformat": 4,
 "nbformat_minor": 4
}
